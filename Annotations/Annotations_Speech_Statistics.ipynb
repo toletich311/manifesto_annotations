{
 "cells": [
  {
   "cell_type": "markdown",
   "id": "ddda4407",
   "metadata": {},
   "source": [
    "## Step 1: Load Libraries"
   ]
  },
  {
   "cell_type": "code",
   "execution_count": 1,
   "id": "fbc2ef22",
   "metadata": {},
   "outputs": [
    {
     "name": "stdout",
     "output_type": "stream",
     "text": [
      "Requirement already satisfied: pandas in /Users/chandinitoleti/CGR_GIT/manifesto_annotations/venv/lib/python3.13/site-packages (2.3.0)\n",
      "Requirement already satisfied: krippendorff in /Users/chandinitoleti/CGR_GIT/manifesto_annotations/venv/lib/python3.13/site-packages (0.8.1)\n",
      "Requirement already satisfied: statsmodels in /Users/chandinitoleti/CGR_GIT/manifesto_annotations/venv/lib/python3.13/site-packages (0.14.4)\n",
      "Requirement already satisfied: scikit-learn in /Users/chandinitoleti/CGR_GIT/manifesto_annotations/venv/lib/python3.13/site-packages (1.7.0)\n",
      "Requirement already satisfied: seaborn in /Users/chandinitoleti/CGR_GIT/manifesto_annotations/venv/lib/python3.13/site-packages (0.13.2)\n",
      "Requirement already satisfied: matplotlib in /Users/chandinitoleti/CGR_GIT/manifesto_annotations/venv/lib/python3.13/site-packages (3.10.3)\n",
      "Requirement already satisfied: numpy in /Users/chandinitoleti/CGR_GIT/manifesto_annotations/venv/lib/python3.13/site-packages (2.3.1)\n",
      "Requirement already satisfied: nltk in /Users/chandinitoleti/CGR_GIT/manifesto_annotations/venv/lib/python3.13/site-packages (3.9.1)\n",
      "Requirement already satisfied: python-dateutil>=2.8.2 in /Users/chandinitoleti/CGR_GIT/manifesto_annotations/venv/lib/python3.13/site-packages (from pandas) (2.9.0.post0)\n",
      "Requirement already satisfied: pytz>=2020.1 in /Users/chandinitoleti/CGR_GIT/manifesto_annotations/venv/lib/python3.13/site-packages (from pandas) (2025.2)\n",
      "Requirement already satisfied: tzdata>=2022.7 in /Users/chandinitoleti/CGR_GIT/manifesto_annotations/venv/lib/python3.13/site-packages (from pandas) (2025.2)\n",
      "Requirement already satisfied: scipy!=1.9.2,>=1.8 in /Users/chandinitoleti/CGR_GIT/manifesto_annotations/venv/lib/python3.13/site-packages (from statsmodels) (1.16.0)\n",
      "Requirement already satisfied: patsy>=0.5.6 in /Users/chandinitoleti/CGR_GIT/manifesto_annotations/venv/lib/python3.13/site-packages (from statsmodels) (1.0.1)\n",
      "Requirement already satisfied: packaging>=21.3 in /Users/chandinitoleti/CGR_GIT/manifesto_annotations/venv/lib/python3.13/site-packages (from statsmodels) (25.0)\n",
      "Requirement already satisfied: joblib>=1.2.0 in /Users/chandinitoleti/CGR_GIT/manifesto_annotations/venv/lib/python3.13/site-packages (from scikit-learn) (1.5.1)\n",
      "Requirement already satisfied: threadpoolctl>=3.1.0 in /Users/chandinitoleti/CGR_GIT/manifesto_annotations/venv/lib/python3.13/site-packages (from scikit-learn) (3.6.0)\n",
      "Requirement already satisfied: contourpy>=1.0.1 in /Users/chandinitoleti/CGR_GIT/manifesto_annotations/venv/lib/python3.13/site-packages (from matplotlib) (1.3.2)\n",
      "Requirement already satisfied: cycler>=0.10 in /Users/chandinitoleti/CGR_GIT/manifesto_annotations/venv/lib/python3.13/site-packages (from matplotlib) (0.12.1)\n",
      "Requirement already satisfied: fonttools>=4.22.0 in /Users/chandinitoleti/CGR_GIT/manifesto_annotations/venv/lib/python3.13/site-packages (from matplotlib) (4.58.4)\n",
      "Requirement already satisfied: kiwisolver>=1.3.1 in /Users/chandinitoleti/CGR_GIT/manifesto_annotations/venv/lib/python3.13/site-packages (from matplotlib) (1.4.8)\n",
      "Requirement already satisfied: pillow>=8 in /Users/chandinitoleti/CGR_GIT/manifesto_annotations/venv/lib/python3.13/site-packages (from matplotlib) (11.3.0)\n",
      "Requirement already satisfied: pyparsing>=2.3.1 in /Users/chandinitoleti/CGR_GIT/manifesto_annotations/venv/lib/python3.13/site-packages (from matplotlib) (3.2.3)\n",
      "Requirement already satisfied: click in /Users/chandinitoleti/CGR_GIT/manifesto_annotations/venv/lib/python3.13/site-packages (from nltk) (8.2.1)\n",
      "Requirement already satisfied: regex>=2021.8.3 in /Users/chandinitoleti/CGR_GIT/manifesto_annotations/venv/lib/python3.13/site-packages (from nltk) (2024.11.6)\n",
      "Requirement already satisfied: tqdm in /Users/chandinitoleti/CGR_GIT/manifesto_annotations/venv/lib/python3.13/site-packages (from nltk) (4.67.1)\n",
      "Requirement already satisfied: six>=1.5 in /Users/chandinitoleti/CGR_GIT/manifesto_annotations/venv/lib/python3.13/site-packages (from python-dateutil>=2.8.2->pandas) (1.17.0)\n",
      "\n",
      "\u001b[1m[\u001b[0m\u001b[34;49mnotice\u001b[0m\u001b[1;39;49m]\u001b[0m\u001b[39;49m A new release of pip is available: \u001b[0m\u001b[31;49m24.3.1\u001b[0m\u001b[39;49m -> \u001b[0m\u001b[32;49m25.1.1\u001b[0m\n",
      "\u001b[1m[\u001b[0m\u001b[34;49mnotice\u001b[0m\u001b[1;39;49m]\u001b[0m\u001b[39;49m To update, run: \u001b[0m\u001b[32;49mpip install --upgrade pip\u001b[0m\n"
     ]
    }
   ],
   "source": [
    "# Install all required packages\n",
    "!pip install pandas krippendorff statsmodels scikit-learn seaborn matplotlib numpy nltk"
   ]
  },
  {
   "cell_type": "code",
   "execution_count": 9,
   "id": "836cb4d5",
   "metadata": {},
   "outputs": [],
   "source": [
    "import pandas as pd\n",
    "import krippendorff\n",
    "from statsmodels.stats.inter_rater import fleiss_kappa\n",
    "from sklearn.metrics import cohen_kappa_score\n",
    "import seaborn as sns\n",
    "import matplotlib.pyplot as plt\n",
    "import numpy as np\n",
    "from statsmodels.stats.inter_rater import aggregate_raters, fleiss_kappa\n",
    "import itertools\n",
    "import seaborn as sns\n",
    "from scipy.stats import entropy\n",
    "from sklearn.cluster import KMeans\n",
    "from scipy.special import rel_entr\n",
    "from scipy.stats import entropy\n",
    "import itertools\n",
    "from collections import Counter\n",
    "import pandas as pd\n",
    "import ast \n",
    "from statsmodels.stats.inter_rater import fleiss_kappa\n",
    "from itertools import product\n",
    "from nltk.metrics import agreement\n",
    "from nltk.metrics import masi_distance\n",
    "from collections import defaultdict\n",
    "import json"
   ]
  },
  {
   "cell_type": "code",
   "execution_count": 3,
   "id": "9190785c",
   "metadata": {},
   "outputs": [
    {
     "data": {
      "application/vnd.microsoft.datawrangler.viewer.v0+json": {
       "columns": [
        {
         "name": "index",
         "rawType": "int64",
         "type": "integer"
        },
        {
         "name": "HITId",
         "rawType": "object",
         "type": "string"
        },
        {
         "name": "HITTypeId",
         "rawType": "object",
         "type": "string"
        },
        {
         "name": "Title",
         "rawType": "object",
         "type": "string"
        },
        {
         "name": "Description",
         "rawType": "object",
         "type": "string"
        },
        {
         "name": "Keywords",
         "rawType": "object",
         "type": "string"
        },
        {
         "name": "Reward",
         "rawType": "object",
         "type": "string"
        },
        {
         "name": "CreationTime",
         "rawType": "object",
         "type": "string"
        },
        {
         "name": "MaxAssignments",
         "rawType": "int64",
         "type": "integer"
        },
        {
         "name": "RequesterAnnotation",
         "rawType": "object",
         "type": "string"
        },
        {
         "name": "AssignmentDurationInSeconds",
         "rawType": "int64",
         "type": "integer"
        },
        {
         "name": "AutoApprovalDelayInSeconds",
         "rawType": "int64",
         "type": "integer"
        },
        {
         "name": "Expiration",
         "rawType": "object",
         "type": "string"
        },
        {
         "name": "NumberOfSimilarHITs",
         "rawType": "float64",
         "type": "float"
        },
        {
         "name": "LifetimeInSeconds",
         "rawType": "float64",
         "type": "float"
        },
        {
         "name": "AssignmentId",
         "rawType": "object",
         "type": "string"
        },
        {
         "name": "WorkerId",
         "rawType": "object",
         "type": "string"
        },
        {
         "name": "AssignmentStatus",
         "rawType": "object",
         "type": "string"
        },
        {
         "name": "AcceptTime",
         "rawType": "object",
         "type": "string"
        },
        {
         "name": "SubmitTime",
         "rawType": "object",
         "type": "string"
        },
        {
         "name": "AutoApprovalTime",
         "rawType": "object",
         "type": "string"
        },
        {
         "name": "ApprovalTime",
         "rawType": "object",
         "type": "string"
        },
        {
         "name": "RejectionTime",
         "rawType": "float64",
         "type": "float"
        },
        {
         "name": "RequesterFeedback",
         "rawType": "float64",
         "type": "float"
        },
        {
         "name": "WorkTimeInSeconds",
         "rawType": "int64",
         "type": "integer"
        },
        {
         "name": "LifetimeApprovalRate",
         "rawType": "object",
         "type": "string"
        },
        {
         "name": "Last30DaysApprovalRate",
         "rawType": "object",
         "type": "string"
        },
        {
         "name": "Last7DaysApprovalRate",
         "rawType": "object",
         "type": "string"
        },
        {
         "name": "Input.text-eng",
         "rawType": "object",
         "type": "string"
        },
        {
         "name": "Input.label",
         "rawType": "int64",
         "type": "integer"
        },
        {
         "name": "Input.parameter",
         "rawType": "object",
         "type": "string"
        },
        {
         "name": "Input.parameter_num_labels",
         "rawType": "int64",
         "type": "integer"
        },
        {
         "name": "Answer.manifesto_class.labels",
         "rawType": "object",
         "type": "string"
        },
        {
         "name": "Approve",
         "rawType": "float64",
         "type": "float"
        },
        {
         "name": "Reject",
         "rawType": "float64",
         "type": "float"
        }
       ],
       "ref": "00ba2248-7a23-4d5c-b532-91dcb6c07dd3",
       "rows": [
        [
         "0",
         "39N6W9XWS05H65P9I0HAUP0E2RZGYY",
         "3BRS3IGD63EV308CIXT46SFWM41TR3",
         "[ACSS] Text labeling Manifesto",
         "Identify the most relevant labels to describe these texts",
         "labeling, text, manifesto",
         "$1.00",
         "Mon Apr 14 05:38:01 PDT 2025",
         "3",
         "BatchId:414859;OriginalHitTemplateId:921587261;",
         "3600",
         "259200",
         "Tue Jul 22 05:38:01 PDT 2025",
         null,
         null,
         "3H8DHMCCWXULW0OV2XKD4GEL9CQDK8",
         "A335R4YE2E34H6",
         "Approved",
         "Fri May 02 06:07:26 PDT 2025",
         "Fri May 02 06:07:52 PDT 2025",
         "Mon May 05 06:07:52 PDT 2025",
         "Mon May 05 06:08:49 PDT 2025",
         null,
         null,
         "26",
         "100% (152/152)",
         "100% (46/46)",
         "100% (46/46)",
         "Madam President, Mr Posselt, I do not really think it took any courage to talk to China. Our dialogue with China – in which I have taken part myself – is very open and direct.\n The issue you raised is, of course, being pursued not only in relation to China, but also to Turkey. We have raised our concerns on the matter in our discussions with Turkey and will obviously continue to insist in future that the legal and administrative measures being established by Turkey in this respect are in line with our expectations in this domain, which of course correspond to international standards.",
         "0",
         "Par303_Governmental and Administrative Efficiency",
         "2",
         "[]",
         null,
         null
        ],
        [
         "1",
         "39N6W9XWS05H65P9I0HAUP0E2RZGYY",
         "3BRS3IGD63EV308CIXT46SFWM41TR3",
         "[ACSS] Text labeling Manifesto",
         "Identify the most relevant labels to describe these texts",
         "labeling, text, manifesto",
         "$1.00",
         "Mon Apr 14 05:38:01 PDT 2025",
         "3",
         "BatchId:414859;OriginalHitTemplateId:921587261;",
         "3600",
         "259200",
         "Tue Jul 22 05:38:01 PDT 2025",
         null,
         null,
         "3OWEPKL08XV6NX8O8X97WGLTHWN7N9",
         "A1X47COW2Y9SEL",
         "Approved",
         "Thu Apr 24 03:00:19 PDT 2025",
         "Thu Apr 24 03:00:39 PDT 2025",
         "Sun Apr 27 03:00:39 PDT 2025",
         "Thu Apr 24 06:56:48 PDT 2025",
         null,
         null,
         "20",
         "100% (238/239)",
         "100% (19/19)",
         "100% (19/19)",
         "Madam President, Mr Posselt, I do not really think it took any courage to talk to China. Our dialogue with China – in which I have taken part myself – is very open and direct.\n The issue you raised is, of course, being pursued not only in relation to China, but also to Turkey. We have raised our concerns on the matter in our discussions with Turkey and will obviously continue to insist in future that the legal and administrative measures being established by Turkey in this respect are in line with our expectations in this domain, which of course correspond to international standards.",
         "0",
         "Par303_Governmental and Administrative Efficiency",
         "2",
         "[]",
         null,
         null
        ],
        [
         "2",
         "39N6W9XWS05H65P9I0HAUP0E2RZGYY",
         "3BRS3IGD63EV308CIXT46SFWM41TR3",
         "[ACSS] Text labeling Manifesto",
         "Identify the most relevant labels to describe these texts",
         "labeling, text, manifesto",
         "$1.00",
         "Mon Apr 14 05:38:01 PDT 2025",
         "3",
         "BatchId:414859;OriginalHitTemplateId:921587261;",
         "3600",
         "259200",
         "Tue Jul 22 05:38:01 PDT 2025",
         null,
         null,
         "3QJOXOW4X7ALEU2YJ48DPBOAYSEME5",
         "A1NBQ61Y6KO3O9",
         "Approved",
         "Fri Apr 18 07:49:35 PDT 2025",
         "Fri Apr 18 07:52:43 PDT 2025",
         "Mon Apr 21 07:52:43 PDT 2025",
         "Mon Apr 21 07:52:49 PDT 2025",
         null,
         null,
         "188",
         "100% (287/287)",
         "100% (75/75)",
         "100% (19/19)",
         "Madam President, Mr Posselt, I do not really think it took any courage to talk to China. Our dialogue with China – in which I have taken part myself – is very open and direct.\n The issue you raised is, of course, being pursued not only in relation to China, but also to Turkey. We have raised our concerns on the matter in our discussions with Turkey and will obviously continue to insist in future that the legal and administrative measures being established by Turkey in this respect are in line with our expectations in this domain, which of course correspond to international standards.",
         "0",
         "Par303_Governmental and Administrative Efficiency",
         "2",
         "[]",
         null,
         null
        ],
        [
         "3",
         "3P7RGTLO71VLC9NPSLO9PVA06HDAKL",
         "3BRS3IGD63EV308CIXT46SFWM41TR3",
         "[ACSS] Text labeling Manifesto",
         "Identify the most relevant labels to describe these texts",
         "labeling, text, manifesto",
         "$1.00",
         "Mon Apr 14 05:38:01 PDT 2025",
         "3",
         "BatchId:414859;OriginalHitTemplateId:921587261;",
         "3600",
         "259200",
         "Tue Jul 22 05:38:01 PDT 2025",
         null,
         null,
         "369J354OF1TH95DX2JRK0IC0L9MG6G",
         "A335R4YE2E34H6",
         "Approved",
         "Fri May 02 06:47:05 PDT 2025",
         "Fri May 02 06:49:01 PDT 2025",
         "Mon May 05 06:49:01 PDT 2025",
         "Mon May 05 06:49:49 PDT 2025",
         null,
         null,
         "116",
         "100% (152/152)",
         "100% (46/46)",
         "100% (46/46)",
         "Mr President, ladies and gentlemen, first of all, I would like to welcome Mrs García Pérez’s report.\n As part of cohesion policy, the reforms are very important and are aimed at alleviating the adverse effects caused by the financial crisis. The flexibility allowed in distributing Community funds will provide national economies with immediate cash flow, which will enable them to invest in the real economy. This will have an immediate effect and we will definitely see the initial results in the following months.\n The European Commission is supporting Member States’ economies based on four major priorities, the most important of these being increasing the pre-financing from the European Regional Development Fund (ERDF) and European Social Fund and increasing the support from the European Investment Bank and European Investment Fund. In fact, in 2009 the pre-financing which the new Member States in particular receive may help to overcome the crisis, as well as establish social and territorial cohesion.\n Great importance must also be attached to the report on the eligibility of investments in energy efficiency and renewable energy for housing. The renovation of residential heating systems must feature on the European Union’s agenda of priorities, bearing in mind the added value generated by this measure.\n At a time when heating costs are constantly on the rise, Member States must also include in their programmes to combat the financial crisis projects which take into account energy efficiency. They offer the following important benefits to the economy and population: a cash flow injection into the economy, along with job creation, a reduction in heating costs, protection of the environment through cutting greenhouse gas emissions, the provision of social cohesion and support for low-income families.\n In Romania 1.4 million flats urgently require investment for renovation.",
         "1",
         "Par405_Corporatism",
         "2",
         "[\"Keynesian Demand Management\",\"Market regulation\",\"Economic Planning\"]",
         null,
         null
        ],
        [
         "4",
         "3P7RGTLO71VLC9NPSLO9PVA06HDAKL",
         "3BRS3IGD63EV308CIXT46SFWM41TR3",
         "[ACSS] Text labeling Manifesto",
         "Identify the most relevant labels to describe these texts",
         "labeling, text, manifesto",
         "$1.00",
         "Mon Apr 14 05:38:01 PDT 2025",
         "3",
         "BatchId:414859;OriginalHitTemplateId:921587261;",
         "3600",
         "259200",
         "Tue Jul 22 05:38:01 PDT 2025",
         null,
         null,
         "3MTMREQS4J1ETTF071CE2Q0ABG5AW2",
         "A1NBQ61Y6KO3O9",
         "Approved",
         "Wed May 07 06:05:27 PDT 2025",
         "Wed May 07 06:13:55 PDT 2025",
         "Sat May 10 06:13:55 PDT 2025",
         "Sat May 10 06:14:49 PDT 2025",
         null,
         null,
         "508",
         "100% (287/287)",
         "100% (75/75)",
         "100% (19/19)",
         "Mr President, ladies and gentlemen, first of all, I would like to welcome Mrs García Pérez’s report.\n As part of cohesion policy, the reforms are very important and are aimed at alleviating the adverse effects caused by the financial crisis. The flexibility allowed in distributing Community funds will provide national economies with immediate cash flow, which will enable them to invest in the real economy. This will have an immediate effect and we will definitely see the initial results in the following months.\n The European Commission is supporting Member States’ economies based on four major priorities, the most important of these being increasing the pre-financing from the European Regional Development Fund (ERDF) and European Social Fund and increasing the support from the European Investment Bank and European Investment Fund. In fact, in 2009 the pre-financing which the new Member States in particular receive may help to overcome the crisis, as well as establish social and territorial cohesion.\n Great importance must also be attached to the report on the eligibility of investments in energy efficiency and renewable energy for housing. The renovation of residential heating systems must feature on the European Union’s agenda of priorities, bearing in mind the added value generated by this measure.\n At a time when heating costs are constantly on the rise, Member States must also include in their programmes to combat the financial crisis projects which take into account energy efficiency. They offer the following important benefits to the economy and population: a cash flow injection into the economy, along with job creation, a reduction in heating costs, protection of the environment through cutting greenhouse gas emissions, the provision of social cohesion and support for low-income families.\n In Romania 1.4 million flats urgently require investment for renovation.",
         "1",
         "Par405_Corporatism",
         "2",
         "[\"Government and administrative efficiency\",\"Market regulation\",\"Incentives\",\"Economic Planning\",\"Economic Growth\",\"Technology and Infrastructure\"]",
         null,
         null
        ]
       ],
       "shape": {
        "columns": 34,
        "rows": 5
       }
      },
      "text/html": [
       "<div>\n",
       "<style scoped>\n",
       "    .dataframe tbody tr th:only-of-type {\n",
       "        vertical-align: middle;\n",
       "    }\n",
       "\n",
       "    .dataframe tbody tr th {\n",
       "        vertical-align: top;\n",
       "    }\n",
       "\n",
       "    .dataframe thead th {\n",
       "        text-align: right;\n",
       "    }\n",
       "</style>\n",
       "<table border=\"1\" class=\"dataframe\">\n",
       "  <thead>\n",
       "    <tr style=\"text-align: right;\">\n",
       "      <th></th>\n",
       "      <th>HITId</th>\n",
       "      <th>HITTypeId</th>\n",
       "      <th>Title</th>\n",
       "      <th>Description</th>\n",
       "      <th>Keywords</th>\n",
       "      <th>Reward</th>\n",
       "      <th>CreationTime</th>\n",
       "      <th>MaxAssignments</th>\n",
       "      <th>RequesterAnnotation</th>\n",
       "      <th>AssignmentDurationInSeconds</th>\n",
       "      <th>...</th>\n",
       "      <th>LifetimeApprovalRate</th>\n",
       "      <th>Last30DaysApprovalRate</th>\n",
       "      <th>Last7DaysApprovalRate</th>\n",
       "      <th>Input.text-eng</th>\n",
       "      <th>Input.label</th>\n",
       "      <th>Input.parameter</th>\n",
       "      <th>Input.parameter_num_labels</th>\n",
       "      <th>Answer.manifesto_class.labels</th>\n",
       "      <th>Approve</th>\n",
       "      <th>Reject</th>\n",
       "    </tr>\n",
       "  </thead>\n",
       "  <tbody>\n",
       "    <tr>\n",
       "      <th>0</th>\n",
       "      <td>39N6W9XWS05H65P9I0HAUP0E2RZGYY</td>\n",
       "      <td>3BRS3IGD63EV308CIXT46SFWM41TR3</td>\n",
       "      <td>[ACSS] Text labeling Manifesto</td>\n",
       "      <td>Identify the most relevant labels to describe ...</td>\n",
       "      <td>labeling, text, manifesto</td>\n",
       "      <td>$1.00</td>\n",
       "      <td>Mon Apr 14 05:38:01 PDT 2025</td>\n",
       "      <td>3</td>\n",
       "      <td>BatchId:414859;OriginalHitTemplateId:921587261;</td>\n",
       "      <td>3600</td>\n",
       "      <td>...</td>\n",
       "      <td>100% (152/152)</td>\n",
       "      <td>100% (46/46)</td>\n",
       "      <td>100% (46/46)</td>\n",
       "      <td>Madam President, Mr Posselt, I do not really t...</td>\n",
       "      <td>0</td>\n",
       "      <td>Par303_Governmental and Administrative Efficiency</td>\n",
       "      <td>2</td>\n",
       "      <td>[]</td>\n",
       "      <td>NaN</td>\n",
       "      <td>NaN</td>\n",
       "    </tr>\n",
       "    <tr>\n",
       "      <th>1</th>\n",
       "      <td>39N6W9XWS05H65P9I0HAUP0E2RZGYY</td>\n",
       "      <td>3BRS3IGD63EV308CIXT46SFWM41TR3</td>\n",
       "      <td>[ACSS] Text labeling Manifesto</td>\n",
       "      <td>Identify the most relevant labels to describe ...</td>\n",
       "      <td>labeling, text, manifesto</td>\n",
       "      <td>$1.00</td>\n",
       "      <td>Mon Apr 14 05:38:01 PDT 2025</td>\n",
       "      <td>3</td>\n",
       "      <td>BatchId:414859;OriginalHitTemplateId:921587261;</td>\n",
       "      <td>3600</td>\n",
       "      <td>...</td>\n",
       "      <td>100% (238/239)</td>\n",
       "      <td>100% (19/19)</td>\n",
       "      <td>100% (19/19)</td>\n",
       "      <td>Madam President, Mr Posselt, I do not really t...</td>\n",
       "      <td>0</td>\n",
       "      <td>Par303_Governmental and Administrative Efficiency</td>\n",
       "      <td>2</td>\n",
       "      <td>[]</td>\n",
       "      <td>NaN</td>\n",
       "      <td>NaN</td>\n",
       "    </tr>\n",
       "    <tr>\n",
       "      <th>2</th>\n",
       "      <td>39N6W9XWS05H65P9I0HAUP0E2RZGYY</td>\n",
       "      <td>3BRS3IGD63EV308CIXT46SFWM41TR3</td>\n",
       "      <td>[ACSS] Text labeling Manifesto</td>\n",
       "      <td>Identify the most relevant labels to describe ...</td>\n",
       "      <td>labeling, text, manifesto</td>\n",
       "      <td>$1.00</td>\n",
       "      <td>Mon Apr 14 05:38:01 PDT 2025</td>\n",
       "      <td>3</td>\n",
       "      <td>BatchId:414859;OriginalHitTemplateId:921587261;</td>\n",
       "      <td>3600</td>\n",
       "      <td>...</td>\n",
       "      <td>100% (287/287)</td>\n",
       "      <td>100% (75/75)</td>\n",
       "      <td>100% (19/19)</td>\n",
       "      <td>Madam President, Mr Posselt, I do not really t...</td>\n",
       "      <td>0</td>\n",
       "      <td>Par303_Governmental and Administrative Efficiency</td>\n",
       "      <td>2</td>\n",
       "      <td>[]</td>\n",
       "      <td>NaN</td>\n",
       "      <td>NaN</td>\n",
       "    </tr>\n",
       "    <tr>\n",
       "      <th>3</th>\n",
       "      <td>3P7RGTLO71VLC9NPSLO9PVA06HDAKL</td>\n",
       "      <td>3BRS3IGD63EV308CIXT46SFWM41TR3</td>\n",
       "      <td>[ACSS] Text labeling Manifesto</td>\n",
       "      <td>Identify the most relevant labels to describe ...</td>\n",
       "      <td>labeling, text, manifesto</td>\n",
       "      <td>$1.00</td>\n",
       "      <td>Mon Apr 14 05:38:01 PDT 2025</td>\n",
       "      <td>3</td>\n",
       "      <td>BatchId:414859;OriginalHitTemplateId:921587261;</td>\n",
       "      <td>3600</td>\n",
       "      <td>...</td>\n",
       "      <td>100% (152/152)</td>\n",
       "      <td>100% (46/46)</td>\n",
       "      <td>100% (46/46)</td>\n",
       "      <td>Mr President, ladies and gentlemen, first of a...</td>\n",
       "      <td>1</td>\n",
       "      <td>Par405_Corporatism</td>\n",
       "      <td>2</td>\n",
       "      <td>[\"Keynesian Demand Management\",\"Market regulat...</td>\n",
       "      <td>NaN</td>\n",
       "      <td>NaN</td>\n",
       "    </tr>\n",
       "    <tr>\n",
       "      <th>4</th>\n",
       "      <td>3P7RGTLO71VLC9NPSLO9PVA06HDAKL</td>\n",
       "      <td>3BRS3IGD63EV308CIXT46SFWM41TR3</td>\n",
       "      <td>[ACSS] Text labeling Manifesto</td>\n",
       "      <td>Identify the most relevant labels to describe ...</td>\n",
       "      <td>labeling, text, manifesto</td>\n",
       "      <td>$1.00</td>\n",
       "      <td>Mon Apr 14 05:38:01 PDT 2025</td>\n",
       "      <td>3</td>\n",
       "      <td>BatchId:414859;OriginalHitTemplateId:921587261;</td>\n",
       "      <td>3600</td>\n",
       "      <td>...</td>\n",
       "      <td>100% (287/287)</td>\n",
       "      <td>100% (75/75)</td>\n",
       "      <td>100% (19/19)</td>\n",
       "      <td>Mr President, ladies and gentlemen, first of a...</td>\n",
       "      <td>1</td>\n",
       "      <td>Par405_Corporatism</td>\n",
       "      <td>2</td>\n",
       "      <td>[\"Government and administrative efficiency\",\"M...</td>\n",
       "      <td>NaN</td>\n",
       "      <td>NaN</td>\n",
       "    </tr>\n",
       "  </tbody>\n",
       "</table>\n",
       "<p>5 rows × 34 columns</p>\n",
       "</div>"
      ],
      "text/plain": [
       "                            HITId                       HITTypeId  \\\n",
       "0  39N6W9XWS05H65P9I0HAUP0E2RZGYY  3BRS3IGD63EV308CIXT46SFWM41TR3   \n",
       "1  39N6W9XWS05H65P9I0HAUP0E2RZGYY  3BRS3IGD63EV308CIXT46SFWM41TR3   \n",
       "2  39N6W9XWS05H65P9I0HAUP0E2RZGYY  3BRS3IGD63EV308CIXT46SFWM41TR3   \n",
       "3  3P7RGTLO71VLC9NPSLO9PVA06HDAKL  3BRS3IGD63EV308CIXT46SFWM41TR3   \n",
       "4  3P7RGTLO71VLC9NPSLO9PVA06HDAKL  3BRS3IGD63EV308CIXT46SFWM41TR3   \n",
       "\n",
       "                            Title  \\\n",
       "0  [ACSS] Text labeling Manifesto   \n",
       "1  [ACSS] Text labeling Manifesto   \n",
       "2  [ACSS] Text labeling Manifesto   \n",
       "3  [ACSS] Text labeling Manifesto   \n",
       "4  [ACSS] Text labeling Manifesto   \n",
       "\n",
       "                                         Description  \\\n",
       "0  Identify the most relevant labels to describe ...   \n",
       "1  Identify the most relevant labels to describe ...   \n",
       "2  Identify the most relevant labels to describe ...   \n",
       "3  Identify the most relevant labels to describe ...   \n",
       "4  Identify the most relevant labels to describe ...   \n",
       "\n",
       "                    Keywords Reward                  CreationTime  \\\n",
       "0  labeling, text, manifesto  $1.00  Mon Apr 14 05:38:01 PDT 2025   \n",
       "1  labeling, text, manifesto  $1.00  Mon Apr 14 05:38:01 PDT 2025   \n",
       "2  labeling, text, manifesto  $1.00  Mon Apr 14 05:38:01 PDT 2025   \n",
       "3  labeling, text, manifesto  $1.00  Mon Apr 14 05:38:01 PDT 2025   \n",
       "4  labeling, text, manifesto  $1.00  Mon Apr 14 05:38:01 PDT 2025   \n",
       "\n",
       "   MaxAssignments                              RequesterAnnotation  \\\n",
       "0               3  BatchId:414859;OriginalHitTemplateId:921587261;   \n",
       "1               3  BatchId:414859;OriginalHitTemplateId:921587261;   \n",
       "2               3  BatchId:414859;OriginalHitTemplateId:921587261;   \n",
       "3               3  BatchId:414859;OriginalHitTemplateId:921587261;   \n",
       "4               3  BatchId:414859;OriginalHitTemplateId:921587261;   \n",
       "\n",
       "   AssignmentDurationInSeconds  ...  LifetimeApprovalRate  \\\n",
       "0                         3600  ...        100% (152/152)   \n",
       "1                         3600  ...        100% (238/239)   \n",
       "2                         3600  ...        100% (287/287)   \n",
       "3                         3600  ...        100% (152/152)   \n",
       "4                         3600  ...        100% (287/287)   \n",
       "\n",
       "  Last30DaysApprovalRate  Last7DaysApprovalRate  \\\n",
       "0           100% (46/46)           100% (46/46)   \n",
       "1           100% (19/19)           100% (19/19)   \n",
       "2           100% (75/75)           100% (19/19)   \n",
       "3           100% (46/46)           100% (46/46)   \n",
       "4           100% (75/75)           100% (19/19)   \n",
       "\n",
       "                                      Input.text-eng Input.label  \\\n",
       "0  Madam President, Mr Posselt, I do not really t...           0   \n",
       "1  Madam President, Mr Posselt, I do not really t...           0   \n",
       "2  Madam President, Mr Posselt, I do not really t...           0   \n",
       "3  Mr President, ladies and gentlemen, first of a...           1   \n",
       "4  Mr President, ladies and gentlemen, first of a...           1   \n",
       "\n",
       "                                     Input.parameter  \\\n",
       "0  Par303_Governmental and Administrative Efficiency   \n",
       "1  Par303_Governmental and Administrative Efficiency   \n",
       "2  Par303_Governmental and Administrative Efficiency   \n",
       "3                                 Par405_Corporatism   \n",
       "4                                 Par405_Corporatism   \n",
       "\n",
       "  Input.parameter_num_labels  \\\n",
       "0                          2   \n",
       "1                          2   \n",
       "2                          2   \n",
       "3                          2   \n",
       "4                          2   \n",
       "\n",
       "                       Answer.manifesto_class.labels Approve Reject  \n",
       "0                                                 []     NaN    NaN  \n",
       "1                                                 []     NaN    NaN  \n",
       "2                                                 []     NaN    NaN  \n",
       "3  [\"Keynesian Demand Management\",\"Market regulat...     NaN    NaN  \n",
       "4  [\"Government and administrative efficiency\",\"M...     NaN    NaN  \n",
       "\n",
       "[5 rows x 34 columns]"
      ]
     },
     "execution_count": 3,
     "metadata": {},
     "output_type": "execute_result"
    }
   ],
   "source": [
    "df = pd.read_csv(\"./gold_dataset.csv\")\n",
    "df.head()"
   ]
  },
  {
   "cell_type": "markdown",
   "id": "86ca160c",
   "metadata": {},
   "source": [
    "#### **Data Cleaning and Pre-Proccessing**"
   ]
  },
  {
   "cell_type": "code",
   "execution_count": 4,
   "id": "fe7e47e6",
   "metadata": {},
   "outputs": [
    {
     "data": {
      "application/vnd.microsoft.datawrangler.viewer.v0+json": {
       "columns": [
        {
         "name": "index",
         "rawType": "int64",
         "type": "integer"
        },
        {
         "name": "speech_id",
         "rawType": "object",
         "type": "string"
        },
        {
         "name": "worker_id",
         "rawType": "object",
         "type": "string"
        },
        {
         "name": "answer",
         "rawType": "object",
         "type": "string"
        }
       ],
       "ref": "3a4b5ce7-0d57-4fcb-b043-40cd1dc39cc0",
       "rows": [
        [
         "0",
         "301KG0KXAZ355GRD9LSX6LBA2CHH2H",
         "A1NBQ61Y6KO3O9",
         "[\"Market regulation\",\"Middle Class & Professional Groups\"]"
        ],
        [
         "1",
         "301KG0KXAZ355GRD9LSX6LBA2CHH2H",
         "A1X47COW2Y9SEL",
         "[\"Market regulation\"]"
        ],
        [
         "2",
         "301KG0KXAZ355GRD9LSX6LBA2CHH2H",
         "A335R4YE2E34H6",
         "[\"Market regulation\"]"
        ],
        [
         "3",
         "302OLP89EMP3TBB1087B1CXS184CAA",
         "A1NBQ61Y6KO3O9",
         "[\"Government and administrative efficiency\",\"Economic Planning\",\"Economic Goals\"]"
        ],
        [
         "4",
         "302OLP89EMP3TBB1087B1CXS184CAA",
         "A1X47COW2Y9SEL",
         "[\"Economic Goals\"]"
        ],
        [
         "5",
         "302OLP89EMP3TBB1087B1CXS184CAA",
         "APXGSUB250NVH",
         "[]"
        ],
        [
         "6",
         "306996CF7J2OPI6VQPINFRY7FTYB1E",
         "A1NBQ61Y6KO3O9",
         "[\"Anti-Growth Economy\",\"Market regulation\"]"
        ],
        [
         "7",
         "306996CF7J2OPI6VQPINFRY7FTYB1E",
         "A1X47COW2Y9SEL",
         "[\"Government and administrative efficiency\"]"
        ],
        [
         "8",
         "306996CF7J2OPI6VQPINFRY7FTYB1E",
         "A335R4YE2E34H6",
         "[\"Economic Planning\",\"Economic Growth\"]"
        ],
        [
         "9",
         "3087LXLJ79YEVAXTZ80JKC6IPZKF0X",
         "A1NBQ61Y6KO3O9",
         "[\"Market regulation\",\"Economic Planning\",\"Economic Growth\"]"
        ],
        [
         "10",
         "3087LXLJ79YEVAXTZ80JKC6IPZKF0X",
         "A1X47COW2Y9SEL",
         "[\"Free Market Economy\",\"Economic Growth\"]"
        ],
        [
         "11",
         "3087LXLJ79YEVAXTZ80JKC6IPZKF0X",
         "A335R4YE2E34H6",
         "[\"Market regulation\",\"Economic Growth\"]"
        ],
        [
         "12",
         "308KJXFUKEOKFSDCMU21QMXWPU4ATR",
         "A1NBQ61Y6KO3O9",
         "[\"Economic Planning\",\"Market regulation\",\"Economic Goals\"]"
        ],
        [
         "13",
         "308KJXFUKEOKFSDCMU21QMXWPU4ATR",
         "A1X47COW2Y9SEL",
         "[\"Economic Goals\"]"
        ],
        [
         "14",
         "308KJXFUKEOKFSDCMU21QMXWPU4ATR",
         "A335R4YE2E34H6",
         "[\"Market regulation\",\"Economic Planning\"]"
        ],
        [
         "15",
         "309D674SIM38CLGT6M77WNHYJQPCB5",
         "A1NBQ61Y6KO3O9",
         "[\"Government and administrative efficiency\",\"Economic Goals\"]"
        ],
        [
         "16",
         "309D674SIM38CLGT6M77WNHYJQPCB5",
         "A1X47COW2Y9SEL",
         "[]"
        ],
        [
         "17",
         "309D674SIM38CLGT6M77WNHYJQPCB5",
         "A335R4YE2E34H6",
         "[\"Free Market Economy\"]"
        ],
        [
         "18",
         "30EMX9PEW71PC59J9LA0AV46S08KS5",
         "A1NBQ61Y6KO3O9",
         "[\"Market regulation\",\"Incentives\"]"
        ],
        [
         "19",
         "30EMX9PEW71PC59J9LA0AV46S08KS5",
         "A3GS2NTQ4XU059",
         "[\"Keynesian Demand Management\"]"
        ],
        [
         "20",
         "30EMX9PEW71PC59J9LA0AV46S08KS5",
         "APXGSUB250NVH",
         "[\"Economic Goals\"]"
        ],
        [
         "21",
         "30IRMPJWEM1DBQ96UWAVKLZA6YPKRH",
         "A1X47COW2Y9SEL",
         "[]"
        ],
        [
         "22",
         "30IRMPJWEM1DBQ96UWAVKLZA6YPKRH",
         "A335R4YE2E34H6",
         "[]"
        ],
        [
         "23",
         "30IRMPJWEM1DBQ96UWAVKLZA6YPKRH",
         "A3GS2NTQ4XU059",
         "[\"Economic Goals\"]"
        ],
        [
         "24",
         "30OITAWPCDLG50CCUU7CG8JO8IRH99",
         "A1NBQ61Y6KO3O9",
         "[\"Market regulation\",\"Anti-Growth Economy\"]"
        ],
        [
         "25",
         "30OITAWPCDLG50CCUU7CG8JO8IRH99",
         "A1X47COW2Y9SEL",
         "[\"Market regulation\"]"
        ],
        [
         "26",
         "30OITAWPCDLG50CCUU7CG8JO8IRH99",
         "A335R4YE2E34H6",
         "[]"
        ],
        [
         "27",
         "30P8I9JKP532ME5KWTBZJT5VUE75VA",
         "A1X47COW2Y9SEL",
         "[\"Market regulation\"]"
        ],
        [
         "28",
         "30P8I9JKP532ME5KWTBZJT5VUE75VA",
         "A335R4YE2E34H6",
         "[\"Market regulation\",\"Anti-Growth Economy\"]"
        ],
        [
         "29",
         "30P8I9JKP532ME5KWTBZJT5VUE75VA",
         "A3GS2NTQ4XU059",
         "[\"Market regulation\"]"
        ],
        [
         "30",
         "30QQTY5GN72HW3U3FWGRLRH87DT7U2",
         "A1NBQ61Y6KO3O9",
         "[\"Market regulation\",\"Corporatism / Mixed Economy\",\"Government and administrative efficiency\",\"Economic Planning\",\"Anti-Growth Economy\"]"
        ],
        [
         "31",
         "30QQTY5GN72HW3U3FWGRLRH87DT7U2",
         "A3GS2NTQ4XU059",
         "[\"Economic Goals\"]"
        ],
        [
         "32",
         "30QQTY5GN72HW3U3FWGRLRH87DT7U2",
         "APXGSUB250NVH",
         "[\"Economic Planning\",\"Economic Goals\"]"
        ],
        [
         "33",
         "3126F2F5GVLPDD1HLIV3HVMQL6HEPL",
         "A1NBQ61Y6KO3O9",
         "[\"Economic Planning\"]"
        ],
        [
         "34",
         "3126F2F5GVLPDD1HLIV3HVMQL6HEPL",
         "A1X47COW2Y9SEL",
         "[\"Technology and Infrastructure\",\"Economic Planning\"]"
        ],
        [
         "35",
         "3126F2F5GVLPDD1HLIV3HVMQL6HEPL",
         "A335R4YE2E34H6",
         "[]"
        ],
        [
         "36",
         "31ANT7FQOVKX4DA0R4UV4SEMMM8H5I",
         "A1NBQ61Y6KO3O9",
         "[\"Economic Growth\",\"Incentives\",\"Economic Planning\"]"
        ],
        [
         "37",
         "31ANT7FQOVKX4DA0R4UV4SEMMM8H5I",
         "A1X47COW2Y9SEL",
         "[\"Economic Growth\"]"
        ],
        [
         "38",
         "31ANT7FQOVKX4DA0R4UV4SEMMM8H5I",
         "A335R4YE2E34H6",
         "[]"
        ],
        [
         "39",
         "31ANT7FQOVKX4DA0R4UV4SEMMZW5HK",
         "A1NBQ61Y6KO3O9",
         "[\"Economic Planning\",\"Economic Growth\",\"Incentives\"]"
        ],
        [
         "40",
         "31ANT7FQOVKX4DA0R4UV4SEMMZW5HK",
         "A3GS2NTQ4XU059",
         "[\"Economic Goals\"]"
        ],
        [
         "41",
         "31ANT7FQOVKX4DA0R4UV4SEMMZW5HK",
         "APXGSUB250NVH",
         "[\"Economic Goals\",\"Keynesian Demand Management\"]"
        ],
        [
         "42",
         "31J7RYEC08802RS7H27HTUUCR00L1P",
         "A1NBQ61Y6KO3O9",
         "[\"Middle Class & Professional Groups\",\"Labor Groups Positive\",\"Incentives\",\"Economic Planning\"]"
        ],
        [
         "43",
         "31J7RYEC08802RS7H27HTUUCR00L1P",
         "A335R4YE2E34H6",
         "[\"Labor Groups Positive\",\"Free Market Economy\",\"Incentives\"]"
        ],
        [
         "44",
         "31J7RYEC08802RS7H27HTUUCR00L1P",
         "A3GS2NTQ4XU059",
         "[\"Keynesian Demand Management\",\"Economic Planning\"]"
        ],
        [
         "45",
         "31JUPBOOSAMIDRCSGNGW84HK566L89",
         "A1NBQ61Y6KO3O9",
         "[\"Anti-Growth Economy\",\"Free Market Economy\",\"Economic Planning\",\"Economic Goals\"]"
        ],
        [
         "46",
         "31JUPBOOSAMIDRCSGNGW84HK566L89",
         "A335R4YE2E34H6",
         "[\"Economic Growth\",\"Government and administrative efficiency\"]"
        ],
        [
         "47",
         "31JUPBOOSAMIDRCSGNGW84HK566L89",
         "A3GS2NTQ4XU059",
         "[\"Economic Growth\",\"Free Market Economy\"]"
        ],
        [
         "48",
         "31KPKEKW5XVOITLDU6EN1MFXA1SB0B",
         "A1NBQ61Y6KO3O9",
         "[]"
        ],
        [
         "49",
         "31KPKEKW5XVOITLDU6EN1MFXA1SB0B",
         "A1X47COW2Y9SEL",
         "[]"
        ]
       ],
       "shape": {
        "columns": 3,
        "rows": 660
       }
      },
      "text/html": [
       "<div>\n",
       "<style scoped>\n",
       "    .dataframe tbody tr th:only-of-type {\n",
       "        vertical-align: middle;\n",
       "    }\n",
       "\n",
       "    .dataframe tbody tr th {\n",
       "        vertical-align: top;\n",
       "    }\n",
       "\n",
       "    .dataframe thead th {\n",
       "        text-align: right;\n",
       "    }\n",
       "</style>\n",
       "<table border=\"1\" class=\"dataframe\">\n",
       "  <thead>\n",
       "    <tr style=\"text-align: right;\">\n",
       "      <th></th>\n",
       "      <th>speech_id</th>\n",
       "      <th>worker_id</th>\n",
       "      <th>answer</th>\n",
       "    </tr>\n",
       "  </thead>\n",
       "  <tbody>\n",
       "    <tr>\n",
       "      <th>0</th>\n",
       "      <td>301KG0KXAZ355GRD9LSX6LBA2CHH2H</td>\n",
       "      <td>A1NBQ61Y6KO3O9</td>\n",
       "      <td>[\"Market regulation\",\"Middle Class &amp; Professio...</td>\n",
       "    </tr>\n",
       "    <tr>\n",
       "      <th>1</th>\n",
       "      <td>301KG0KXAZ355GRD9LSX6LBA2CHH2H</td>\n",
       "      <td>A1X47COW2Y9SEL</td>\n",
       "      <td>[\"Market regulation\"]</td>\n",
       "    </tr>\n",
       "    <tr>\n",
       "      <th>2</th>\n",
       "      <td>301KG0KXAZ355GRD9LSX6LBA2CHH2H</td>\n",
       "      <td>A335R4YE2E34H6</td>\n",
       "      <td>[\"Market regulation\"]</td>\n",
       "    </tr>\n",
       "    <tr>\n",
       "      <th>3</th>\n",
       "      <td>302OLP89EMP3TBB1087B1CXS184CAA</td>\n",
       "      <td>A1NBQ61Y6KO3O9</td>\n",
       "      <td>[\"Government and administrative efficiency\",\"E...</td>\n",
       "    </tr>\n",
       "    <tr>\n",
       "      <th>4</th>\n",
       "      <td>302OLP89EMP3TBB1087B1CXS184CAA</td>\n",
       "      <td>A1X47COW2Y9SEL</td>\n",
       "      <td>[\"Economic Goals\"]</td>\n",
       "    </tr>\n",
       "    <tr>\n",
       "      <th>...</th>\n",
       "      <td>...</td>\n",
       "      <td>...</td>\n",
       "      <td>...</td>\n",
       "    </tr>\n",
       "    <tr>\n",
       "      <th>655</th>\n",
       "      <td>3ZXNP4Z3AE3EDD796IOQU4LPUM0L7M</td>\n",
       "      <td>A1X47COW2Y9SEL</td>\n",
       "      <td>[\"Market regulation\",\"Government and administr...</td>\n",
       "    </tr>\n",
       "    <tr>\n",
       "      <th>656</th>\n",
       "      <td>3ZXNP4Z3AE3EDD796IOQU4LPUM0L7M</td>\n",
       "      <td>A3GS2NTQ4XU059</td>\n",
       "      <td>[\"Free Market Economy\"]</td>\n",
       "    </tr>\n",
       "    <tr>\n",
       "      <th>657</th>\n",
       "      <td>3ZXV7Q5FKY6YP2S9BOT3FD8JYOHCFN</td>\n",
       "      <td>A1BQ37ZGUM16XI</td>\n",
       "      <td>[\"Market regulation\"]</td>\n",
       "    </tr>\n",
       "    <tr>\n",
       "      <th>658</th>\n",
       "      <td>3ZXV7Q5FKY6YP2S9BOT3FD8JYOHCFN</td>\n",
       "      <td>A1X47COW2Y9SEL</td>\n",
       "      <td>[\"Market regulation\",\"Anti-Growth Economy\"]</td>\n",
       "    </tr>\n",
       "    <tr>\n",
       "      <th>659</th>\n",
       "      <td>3ZXV7Q5FKY6YP2S9BOT3FD8JYOHCFN</td>\n",
       "      <td>APXGSUB250NVH</td>\n",
       "      <td>[\"Economic Goals\"]</td>\n",
       "    </tr>\n",
       "  </tbody>\n",
       "</table>\n",
       "<p>660 rows × 3 columns</p>\n",
       "</div>"
      ],
      "text/plain": [
       "                          speech_id       worker_id  \\\n",
       "0    301KG0KXAZ355GRD9LSX6LBA2CHH2H  A1NBQ61Y6KO3O9   \n",
       "1    301KG0KXAZ355GRD9LSX6LBA2CHH2H  A1X47COW2Y9SEL   \n",
       "2    301KG0KXAZ355GRD9LSX6LBA2CHH2H  A335R4YE2E34H6   \n",
       "3    302OLP89EMP3TBB1087B1CXS184CAA  A1NBQ61Y6KO3O9   \n",
       "4    302OLP89EMP3TBB1087B1CXS184CAA  A1X47COW2Y9SEL   \n",
       "..                              ...             ...   \n",
       "655  3ZXNP4Z3AE3EDD796IOQU4LPUM0L7M  A1X47COW2Y9SEL   \n",
       "656  3ZXNP4Z3AE3EDD796IOQU4LPUM0L7M  A3GS2NTQ4XU059   \n",
       "657  3ZXV7Q5FKY6YP2S9BOT3FD8JYOHCFN  A1BQ37ZGUM16XI   \n",
       "658  3ZXV7Q5FKY6YP2S9BOT3FD8JYOHCFN  A1X47COW2Y9SEL   \n",
       "659  3ZXV7Q5FKY6YP2S9BOT3FD8JYOHCFN   APXGSUB250NVH   \n",
       "\n",
       "                                                answer  \n",
       "0    [\"Market regulation\",\"Middle Class & Professio...  \n",
       "1                                [\"Market regulation\"]  \n",
       "2                                [\"Market regulation\"]  \n",
       "3    [\"Government and administrative efficiency\",\"E...  \n",
       "4                                   [\"Economic Goals\"]  \n",
       "..                                                 ...  \n",
       "655  [\"Market regulation\",\"Government and administr...  \n",
       "656                            [\"Free Market Economy\"]  \n",
       "657                              [\"Market regulation\"]  \n",
       "658        [\"Market regulation\",\"Anti-Growth Economy\"]  \n",
       "659                                 [\"Economic Goals\"]  \n",
       "\n",
       "[660 rows x 3 columns]"
      ]
     },
     "execution_count": 4,
     "metadata": {},
     "output_type": "execute_result"
    }
   ],
   "source": [
    "# only keep needed columns and rename \n",
    "df_clean = df[['HITId', 'WorkerId', 'Answer.manifesto_class.labels']].copy() #remove unnecessary columns\n",
    "df_clean.rename(columns={\n",
    "    'HITId': 'speech_id',\n",
    "    'WorkerId': 'worker_id',\n",
    "    'Answer.manifesto_class.labels': 'answer'\n",
    "}, inplace=True)\n",
    "df_clean = df_clean.sort_values(by=['speech_id', 'worker_id']).reset_index(drop=True)\n",
    "\n",
    "# Final preview\n",
    "df_clean"
   ]
  },
  {
   "cell_type": "markdown",
   "id": "3ee29e3e",
   "metadata": {},
   "source": [
    "define workers and 'categories' - the list of categories they chose from for answers"
   ]
  },
  {
   "cell_type": "code",
   "execution_count": null,
   "id": "7445e06b",
   "metadata": {},
   "outputs": [
    {
     "data": {
      "text/plain": [
       "['Market regulation',\n",
       " 'Middle Class & Professional Groups',\n",
       " 'Government and administrative efficiency',\n",
       " 'Economic Planning',\n",
       " 'Economic Goals',\n",
       " 'Anti-Growth Economy',\n",
       " 'Economic Growth',\n",
       " 'Free Market Economy',\n",
       " 'Incentives',\n",
       " 'Keynesian Demand Management',\n",
       " 'Corporatism / Mixed Economy',\n",
       " 'Technology and Infrastructure',\n",
       " 'Labor Groups Positive',\n",
       " 'Labor Groups Negative']"
      ]
     },
     "execution_count": 11,
     "metadata": {},
     "output_type": "execute_result"
    }
   ],
   "source": [
    "workers = [\n",
    "    'A1BQ37ZGUM16XI', \n",
    "    'A1NBQ61Y6KO3O9', \n",
    "    'A1X47COW2Y9SEL', \n",
    "    'A335R4YE2E34H6', \n",
    "    'A3GS2NTQ4XU059', \n",
    "    'APXGSUB250NVH'\n",
    "]\n",
    "\n",
    "with open(\"unique_categories.json\", \"r\") as f:\n",
    "    unique_categories = json.load(f)\n",
    "unique_categories\n",
    " "
   ]
  },
  {
   "cell_type": "markdown",
   "id": "4593ccff",
   "metadata": {},
   "source": [
    "Now, we try to pivot the data to create different dataframes for every speech !!"
   ]
  },
  {
   "cell_type": "code",
   "execution_count": 17,
   "id": "b4258ac8",
   "metadata": {},
   "outputs": [
    {
     "data": {
      "application/vnd.microsoft.datawrangler.viewer.v0+json": {
       "columns": [
        {
         "name": "index",
         "rawType": "object",
         "type": "string"
        },
        {
         "name": "worker1",
         "rawType": "int64",
         "type": "integer"
        },
        {
         "name": "worker2",
         "rawType": "int64",
         "type": "integer"
        },
        {
         "name": "worker3",
         "rawType": "int64",
         "type": "integer"
        }
       ],
       "ref": "f416be0a-7041-46b3-b4ca-cb742b8b21e7",
       "rows": [
        [
         "Market regulation",
         "1",
         "0",
         "0"
        ],
        [
         "Middle Class & Professional Groups",
         "0",
         "0",
         "0"
        ],
        [
         "Government and administrative efficiency",
         "0",
         "1",
         "0"
        ],
        [
         "Economic Planning",
         "0",
         "0",
         "1"
        ],
        [
         "Economic Goals",
         "0",
         "0",
         "0"
        ],
        [
         "Anti-Growth Economy",
         "1",
         "0",
         "0"
        ],
        [
         "Economic Growth",
         "0",
         "0",
         "1"
        ],
        [
         "Free Market Economy",
         "0",
         "0",
         "0"
        ],
        [
         "Incentives",
         "0",
         "0",
         "0"
        ],
        [
         "Keynesian Demand Management",
         "0",
         "0",
         "0"
        ],
        [
         "Corporatism / Mixed Economy",
         "0",
         "0",
         "0"
        ],
        [
         "Technology and Infrastructure",
         "0",
         "0",
         "0"
        ],
        [
         "Labor Groups Positive",
         "0",
         "0",
         "0"
        ],
        [
         "Labor Groups Negative",
         "0",
         "0",
         "0"
        ]
       ],
       "shape": {
        "columns": 3,
        "rows": 14
       }
      },
      "text/html": [
       "<div>\n",
       "<style scoped>\n",
       "    .dataframe tbody tr th:only-of-type {\n",
       "        vertical-align: middle;\n",
       "    }\n",
       "\n",
       "    .dataframe tbody tr th {\n",
       "        vertical-align: top;\n",
       "    }\n",
       "\n",
       "    .dataframe thead th {\n",
       "        text-align: right;\n",
       "    }\n",
       "</style>\n",
       "<table border=\"1\" class=\"dataframe\">\n",
       "  <thead>\n",
       "    <tr style=\"text-align: right;\">\n",
       "      <th></th>\n",
       "      <th>worker1</th>\n",
       "      <th>worker2</th>\n",
       "      <th>worker3</th>\n",
       "    </tr>\n",
       "  </thead>\n",
       "  <tbody>\n",
       "    <tr>\n",
       "      <th>Market regulation</th>\n",
       "      <td>1</td>\n",
       "      <td>0</td>\n",
       "      <td>0</td>\n",
       "    </tr>\n",
       "    <tr>\n",
       "      <th>Middle Class &amp; Professional Groups</th>\n",
       "      <td>0</td>\n",
       "      <td>0</td>\n",
       "      <td>0</td>\n",
       "    </tr>\n",
       "    <tr>\n",
       "      <th>Government and administrative efficiency</th>\n",
       "      <td>0</td>\n",
       "      <td>1</td>\n",
       "      <td>0</td>\n",
       "    </tr>\n",
       "    <tr>\n",
       "      <th>Economic Planning</th>\n",
       "      <td>0</td>\n",
       "      <td>0</td>\n",
       "      <td>1</td>\n",
       "    </tr>\n",
       "    <tr>\n",
       "      <th>Economic Goals</th>\n",
       "      <td>0</td>\n",
       "      <td>0</td>\n",
       "      <td>0</td>\n",
       "    </tr>\n",
       "    <tr>\n",
       "      <th>Anti-Growth Economy</th>\n",
       "      <td>1</td>\n",
       "      <td>0</td>\n",
       "      <td>0</td>\n",
       "    </tr>\n",
       "    <tr>\n",
       "      <th>Economic Growth</th>\n",
       "      <td>0</td>\n",
       "      <td>0</td>\n",
       "      <td>1</td>\n",
       "    </tr>\n",
       "    <tr>\n",
       "      <th>Free Market Economy</th>\n",
       "      <td>0</td>\n",
       "      <td>0</td>\n",
       "      <td>0</td>\n",
       "    </tr>\n",
       "    <tr>\n",
       "      <th>Incentives</th>\n",
       "      <td>0</td>\n",
       "      <td>0</td>\n",
       "      <td>0</td>\n",
       "    </tr>\n",
       "    <tr>\n",
       "      <th>Keynesian Demand Management</th>\n",
       "      <td>0</td>\n",
       "      <td>0</td>\n",
       "      <td>0</td>\n",
       "    </tr>\n",
       "    <tr>\n",
       "      <th>Corporatism / Mixed Economy</th>\n",
       "      <td>0</td>\n",
       "      <td>0</td>\n",
       "      <td>0</td>\n",
       "    </tr>\n",
       "    <tr>\n",
       "      <th>Technology and Infrastructure</th>\n",
       "      <td>0</td>\n",
       "      <td>0</td>\n",
       "      <td>0</td>\n",
       "    </tr>\n",
       "    <tr>\n",
       "      <th>Labor Groups Positive</th>\n",
       "      <td>0</td>\n",
       "      <td>0</td>\n",
       "      <td>0</td>\n",
       "    </tr>\n",
       "    <tr>\n",
       "      <th>Labor Groups Negative</th>\n",
       "      <td>0</td>\n",
       "      <td>0</td>\n",
       "      <td>0</td>\n",
       "    </tr>\n",
       "  </tbody>\n",
       "</table>\n",
       "</div>"
      ],
      "text/plain": [
       "                                          worker1  worker2  worker3\n",
       "Market regulation                               1        0        0\n",
       "Middle Class & Professional Groups              0        0        0\n",
       "Government and administrative efficiency        0        1        0\n",
       "Economic Planning                               0        0        1\n",
       "Economic Goals                                  0        0        0\n",
       "Anti-Growth Economy                             1        0        0\n",
       "Economic Growth                                 0        0        1\n",
       "Free Market Economy                             0        0        0\n",
       "Incentives                                      0        0        0\n",
       "Keynesian Demand Management                     0        0        0\n",
       "Corporatism / Mixed Economy                     0        0        0\n",
       "Technology and Infrastructure                   0        0        0\n",
       "Labor Groups Positive                           0        0        0\n",
       "Labor Groups Negative                           0        0        0"
      ]
     },
     "execution_count": 17,
     "metadata": {},
     "output_type": "execute_result"
    }
   ],
   "source": [
    "\n",
    "df_clean['answer'] = df_clean['answer'].apply(lambda x: ast.literal_eval(x) if isinstance(x, str) else x)\n",
    "df_filtered = df_clean[df_clean['answer'].apply(lambda x: isinstance(x, list) and len(x) > 0)] \n",
    "\n",
    "speech_dfs = {} # result dict\n",
    "\n",
    "for speech_id, group in df_filtered.groupby('speech_id'):\n",
    "    if len(group) != 3:\n",
    "        continue  # skip if not exactly 3 annotations\n",
    "\n",
    "    df = pd.DataFrame(index=unique_categories)  # rows = categories\n",
    "    for i, (_, row) in enumerate(group.iterrows()):\n",
    "        worker_label = f'worker{i+1}'\n",
    "        df[worker_label] = df.index.map(lambda category: 1 if category in row['answer'] else 0)\n",
    "\n",
    "    speech_dfs[speech_id] = df\n",
    "\n",
    "        \n",
    "speech_dfs['306996CF7J2OPI6VQPINFRY7FTYB1E']"
   ]
  },
  {
   "cell_type": "markdown",
   "id": "903573e5",
   "metadata": {},
   "source": [
    "## Run Fleiss Kappa"
   ]
  },
  {
   "cell_type": "markdown",
   "id": "35ebaea1",
   "metadata": {},
   "source": [
    "Run on every speech and create a new df to see the results"
   ]
  },
  {
   "cell_type": "code",
   "execution_count": 18,
   "id": "5df0a704",
   "metadata": {},
   "outputs": [],
   "source": [
    "\n",
    "\n",
    "# Store results\n",
    "kappa_scores = []\n",
    "\n",
    "for speech_id, df in speech_dfs.items():\n",
    "    # Each row is a category → count number of 1s and 0s across workers\n",
    "    count_matrix = []\n",
    "    for _, row in df.iterrows():\n",
    "        counts = [list(row).count(0), list(row).count(1)]  # [num 0s, num 1s]\n",
    "        count_matrix.append(counts)\n",
    "\n",
    "    count_array = np.array(count_matrix)\n",
    "\n",
    "    # Compute Fleiss' Kappa\n",
    "    try:\n",
    "        kappa = fleiss_kappa(count_array)\n",
    "    except Exception as e:\n",
    "        print(f\"Error on {speech_id}: {e}\")\n",
    "        kappa = np.nan\n",
    "\n",
    "    kappa_scores.append({\n",
    "        'speech_id': speech_id,\n",
    "        'fleiss_kappa': kappa\n",
    "    })\n",
    "\n",
    "# Convert to DataFrame\n",
    "df_kappa = pd.DataFrame(kappa_scores)\n"
   ]
  },
  {
   "cell_type": "code",
   "execution_count": null,
   "id": "ab04729d",
   "metadata": {},
   "outputs": [
    {
     "data": {
      "application/vnd.microsoft.datawrangler.viewer.v0+json": {
       "columns": [
        {
         "name": "index",
         "rawType": "int64",
         "type": "integer"
        },
        {
         "name": "speech_id",
         "rawType": "object",
         "type": "string"
        },
        {
         "name": "fleiss_kappa",
         "rawType": "float64",
         "type": "float"
        }
       ],
       "ref": "63f5ef61-1dae-412b-9cf3-be60fdd45aa3",
       "rows": [
        [
         "0",
         "301KG0KXAZ355GRD9LSX6LBA2CHH2H",
         "0.7236842105263153"
        ],
        [
         "1",
         "306996CF7J2OPI6VQPINFRY7FTYB1E",
         "-0.1351351351351351"
        ],
        [
         "2",
         "3087LXLJ79YEVAXTZ80JKC6IPZKF0X",
         "0.4857142857142854"
        ],
        [
         "3",
         "308KJXFUKEOKFSDCMU21QMXWPU4ATR",
         "0.4166666666666666"
        ],
        [
         "4",
         "30EMX9PEW71PC59J9LA0AV46S08KS5",
         "-0.1052631578947381"
        ],
        [
         "5",
         "30P8I9JKP532ME5KWTBZJT5VUE75VA",
         "0.7236842105263153"
        ],
        [
         "6",
         "30QQTY5GN72HW3U3FWGRLRH87DT7U2",
         "0.07352941176470608"
        ],
        [
         "7",
         "31ANT7FQOVKX4DA0R4UV4SEMMZW5HK",
         "0.027777777777777804"
        ],
        [
         "8",
         "31J7RYEC08802RS7H27HTUUCR00L1P",
         "0.15151515151515166"
        ],
        [
         "9",
         "31JUPBOOSAMIDRCSGNGW84HK566L89",
         "0.07352941176470608"
        ],
        [
         "10",
         "31MBOZ6PBB9KPU25XZW1AQD3VXRLCF",
         "0.027777777777777804"
        ],
        [
         "11",
         "31N9JPQXJC01U2G6V4QHY9E8D78HN8",
         "0.13782991202346037"
        ],
        [
         "12",
         "32XN26MTYM10V27PLJ3HFPB2M8UL0M",
         "0.44736842105263125"
        ],
        [
         "13",
         "32ZCLEW0CM2XOTN9ZJ6UEBZIQEDJPB",
         "-0.07692307692307698"
        ],
        [
         "14",
         "335HHSX8D0NS8QPT6ACE242EZ36HDQ",
         "0.15151515151515166"
        ],
        [
         "15",
         "33P2GD6NSAA0MWV3YRY16HX4JPRKHK",
         "0.3189189189189188"
        ],
        [
         "16",
         "344M16OZL5XPASP453IBD6HVLRGENP",
         "0.027777777777777804"
        ],
        [
         "17",
         "34D9ZRXCZECJ0S0XXUXBGH1ANBQAS2",
         "0.34375000000000006"
        ],
        [
         "18",
         "34F34TZU8JH1WMM3XLVIIYRPFH9J22",
         "0.07352941176470608"
        ],
        [
         "19",
         "34HEO7RUHTC7ZD0KI5X6Q7WE197ARE",
         "0.545945945945946"
        ],
        [
         "20",
         "34ZTTGSNKK6MXZTYBWIY239DIIVHQV",
         "0.44297082228116696"
        ],
        [
         "21",
         "351S7I5UHWEXL8BWJ4T2AMUNQZCJNF",
         "-0.02857142857142888"
        ],
        [
         "22",
         "3538U0YQ22CAC2WQIVI2MA4PSB4F3S",
         "0.28205128205128227"
        ],
        [
         "23",
         "3538U0YQ22CAC2WQIVI2MA4PSOSF36",
         "1.0"
        ],
        [
         "24",
         "359AP8GAH32LA9D3T5VRRLV200YC7J",
         "0.21250000000000027"
        ],
        [
         "25",
         "35A1YQPVG1YX08LKXMCG44F1MCB5ID",
         "0.027777777777778255"
        ],
        [
         "26",
         "35JDMRECDRRJ008IIZ5GNM8YKFUEGH",
         "0.09189189189189162"
        ],
        [
         "27",
         "35O6H0UNMFYTVJ5QF4XGG5U1ZR0J53",
         "0.1428571428571424"
        ],
        [
         "28",
         "363A7XIFWR4ZSKH1RP2GR4LHMFKAV7",
         "0.5073313782991203"
        ],
        [
         "29",
         "366FYU4PU37O2M418QQVLE0RRWBEKK",
         "0.1710526315789466"
        ],
        [
         "30",
         "36AZSFEY0RI4BUMTX32CMF5N4X5BV3",
         "1.0"
        ],
        [
         "31",
         "36FFXPMSUW6JCNGIWJQUDYED3HDHON",
         "0.545945945945946"
        ],
        [
         "32",
         "36GJS3V79I8RBGUAW0G7K2LQP0EJGL",
         "0.22222222222222243"
        ],
        [
         "33",
         "36JW4WBR1T2P6A3PXG74Q45ZBGMHF1",
         "0.38235294117647073"
        ],
        [
         "34",
         "373L46LKQUOWD2QTMR1MIUDJWHVJKO",
         "0.09189189189189215"
        ],
        [
         "35",
         "373L46LKQUOWD2QTMR1MIUDJWHVKJP",
         "0.7236842105263153"
        ],
        [
         "36",
         "37G6BXQPMD3ADP2WLVASH0C0Q23EQC",
         "-0.02857142857142888"
        ],
        [
         "37",
         "37J05LC5BK1OZWKJUAFZEHITC8YJDB",
         "0.28205128205128227"
        ],
        [
         "38",
         "37PGLWGSKGO0IR6N49GM6TYJJ26KID",
         "0.545945945945946"
        ],
        [
         "39",
         "37SOB9Z0TFFWCU6M46L0HN99PKEL3H",
         "0.1710526315789466"
        ],
        [
         "40",
         "37VE3DA4ZHZZTTR9SEL87EEEWIUHBJ",
         "0.027777777777777804"
        ],
        [
         "41",
         "37VUR2VJ7X77ZNY14PEIQB4PXEYC1M",
         "0.01010101010101011"
        ],
        [
         "42",
         "37YYO3NWI08RMQ8ZKM3277NG1BPCCC",
         "0.7236842105263159"
        ],
        [
         "43",
         "388CL5C1S65B62DLJRA2LHAJ8C8HL6",
         "0.22222222222222196"
        ],
        [
         "44",
         "388CL5C1S65B62DLJRA2LHAJ8PWLHO",
         "-0.08088235294117643"
        ],
        [
         "45",
         "389A2A305B07SYDJ86AIC6LFSMSC0J",
         "0.4166666666666666"
        ],
        [
         "46",
         "38RHULDVALXRDR04TNZPU4SE69FIW7",
         "0.6111111111111112"
        ],
        [
         "47",
         "3909MD9T3MZDM0CN7FZY518MJ0UEFI",
         "0.09189189189189162"
        ],
        [
         "48",
         "391FPZIE5Z4EPS0FS523C462L30UHC",
         "0.38235294117647073"
        ],
        [
         "49",
         "391JB9X40LQMEAWEPOEEYM500BQKMT",
         "-0.07692307692307698"
        ]
       ],
       "shape": {
        "columns": 2,
        "rows": 146
       }
      },
      "text/html": [
       "<div>\n",
       "<style scoped>\n",
       "    .dataframe tbody tr th:only-of-type {\n",
       "        vertical-align: middle;\n",
       "    }\n",
       "\n",
       "    .dataframe tbody tr th {\n",
       "        vertical-align: top;\n",
       "    }\n",
       "\n",
       "    .dataframe thead th {\n",
       "        text-align: right;\n",
       "    }\n",
       "</style>\n",
       "<table border=\"1\" class=\"dataframe\">\n",
       "  <thead>\n",
       "    <tr style=\"text-align: right;\">\n",
       "      <th></th>\n",
       "      <th>speech_id</th>\n",
       "      <th>fleiss_kappa</th>\n",
       "    </tr>\n",
       "  </thead>\n",
       "  <tbody>\n",
       "    <tr>\n",
       "      <th>0</th>\n",
       "      <td>301KG0KXAZ355GRD9LSX6LBA2CHH2H</td>\n",
       "      <td>0.723684</td>\n",
       "    </tr>\n",
       "    <tr>\n",
       "      <th>1</th>\n",
       "      <td>306996CF7J2OPI6VQPINFRY7FTYB1E</td>\n",
       "      <td>-0.135135</td>\n",
       "    </tr>\n",
       "    <tr>\n",
       "      <th>2</th>\n",
       "      <td>3087LXLJ79YEVAXTZ80JKC6IPZKF0X</td>\n",
       "      <td>0.485714</td>\n",
       "    </tr>\n",
       "    <tr>\n",
       "      <th>3</th>\n",
       "      <td>308KJXFUKEOKFSDCMU21QMXWPU4ATR</td>\n",
       "      <td>0.416667</td>\n",
       "    </tr>\n",
       "    <tr>\n",
       "      <th>4</th>\n",
       "      <td>30EMX9PEW71PC59J9LA0AV46S08KS5</td>\n",
       "      <td>-0.105263</td>\n",
       "    </tr>\n",
       "    <tr>\n",
       "      <th>...</th>\n",
       "      <td>...</td>\n",
       "      <td>...</td>\n",
       "    </tr>\n",
       "    <tr>\n",
       "      <th>141</th>\n",
       "      <td>3YZ7A3YHSSBMUMOG2Y6U86LOVAD5S5</td>\n",
       "      <td>0.151515</td>\n",
       "    </tr>\n",
       "    <tr>\n",
       "      <th>142</th>\n",
       "      <td>3ZUE82NE1XJWDZ2WUCDYDRC08AKF8Y</td>\n",
       "      <td>0.222222</td>\n",
       "    </tr>\n",
       "    <tr>\n",
       "      <th>143</th>\n",
       "      <td>3ZURAPD29V5E2ZIBVR4JYHPSURQF10</td>\n",
       "      <td>0.485714</td>\n",
       "    </tr>\n",
       "    <tr>\n",
       "      <th>144</th>\n",
       "      <td>3ZXNP4Z3AE3EDD796IOQU4LPUM0L7M</td>\n",
       "      <td>0.142857</td>\n",
       "    </tr>\n",
       "    <tr>\n",
       "      <th>145</th>\n",
       "      <td>3ZXV7Q5FKY6YP2S9BOT3FD8JYOHCFN</td>\n",
       "      <td>0.171053</td>\n",
       "    </tr>\n",
       "  </tbody>\n",
       "</table>\n",
       "<p>146 rows × 2 columns</p>\n",
       "</div>"
      ],
      "text/plain": [
       "                          speech_id  fleiss_kappa\n",
       "0    301KG0KXAZ355GRD9LSX6LBA2CHH2H      0.723684\n",
       "1    306996CF7J2OPI6VQPINFRY7FTYB1E     -0.135135\n",
       "2    3087LXLJ79YEVAXTZ80JKC6IPZKF0X      0.485714\n",
       "3    308KJXFUKEOKFSDCMU21QMXWPU4ATR      0.416667\n",
       "4    30EMX9PEW71PC59J9LA0AV46S08KS5     -0.105263\n",
       "..                              ...           ...\n",
       "141  3YZ7A3YHSSBMUMOG2Y6U86LOVAD5S5      0.151515\n",
       "142  3ZUE82NE1XJWDZ2WUCDYDRC08AKF8Y      0.222222\n",
       "143  3ZURAPD29V5E2ZIBVR4JYHPSURQF10      0.485714\n",
       "144  3ZXNP4Z3AE3EDD796IOQU4LPUM0L7M      0.142857\n",
       "145  3ZXV7Q5FKY6YP2S9BOT3FD8JYOHCFN      0.171053\n",
       "\n",
       "[146 rows x 2 columns]"
      ]
     },
     "execution_count": 20,
     "metadata": {},
     "output_type": "execute_result"
    }
   ],
   "source": [
    "df_kappa"
   ]
  }
 ],
 "metadata": {
  "kernelspec": {
   "display_name": "venv",
   "language": "python",
   "name": "python3"
  },
  "language_info": {
   "codemirror_mode": {
    "name": "ipython",
    "version": 3
   },
   "file_extension": ".py",
   "mimetype": "text/x-python",
   "name": "python",
   "nbconvert_exporter": "python",
   "pygments_lexer": "ipython3",
   "version": "3.13.1"
  }
 },
 "nbformat": 4,
 "nbformat_minor": 5
}
