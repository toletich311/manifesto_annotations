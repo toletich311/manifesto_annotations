{
 "cells": [
  {
   "cell_type": "markdown",
   "id": "8fd2c515",
   "metadata": {},
   "source": [
    "## Step 1: Load Libraries"
   ]
  },
  {
   "cell_type": "code",
   "execution_count": 11,
   "id": "c78a31f0",
   "metadata": {},
   "outputs": [
    {
     "name": "stdout",
     "output_type": "stream",
     "text": [
      "Requirement already satisfied: pandas in /Users/chandinitoleti/CGR_GIT/manifesto_annotations/venv/lib/python3.13/site-packages (2.3.0)\n",
      "Requirement already satisfied: krippendorff in /Users/chandinitoleti/CGR_GIT/manifesto_annotations/venv/lib/python3.13/site-packages (0.8.1)\n",
      "Requirement already satisfied: statsmodels in /Users/chandinitoleti/CGR_GIT/manifesto_annotations/venv/lib/python3.13/site-packages (0.14.4)\n",
      "Requirement already satisfied: scikit-learn in /Users/chandinitoleti/CGR_GIT/manifesto_annotations/venv/lib/python3.13/site-packages (1.7.0)\n",
      "Requirement already satisfied: seaborn in /Users/chandinitoleti/CGR_GIT/manifesto_annotations/venv/lib/python3.13/site-packages (0.13.2)\n",
      "Requirement already satisfied: matplotlib in /Users/chandinitoleti/CGR_GIT/manifesto_annotations/venv/lib/python3.13/site-packages (3.10.3)\n",
      "Requirement already satisfied: numpy in /Users/chandinitoleti/CGR_GIT/manifesto_annotations/venv/lib/python3.13/site-packages (2.3.1)\n",
      "Requirement already satisfied: nltk in /Users/chandinitoleti/CGR_GIT/manifesto_annotations/venv/lib/python3.13/site-packages (3.9.1)\n",
      "Requirement already satisfied: python-dateutil>=2.8.2 in /Users/chandinitoleti/CGR_GIT/manifesto_annotations/venv/lib/python3.13/site-packages (from pandas) (2.9.0.post0)\n",
      "Requirement already satisfied: pytz>=2020.1 in /Users/chandinitoleti/CGR_GIT/manifesto_annotations/venv/lib/python3.13/site-packages (from pandas) (2025.2)\n",
      "Requirement already satisfied: tzdata>=2022.7 in /Users/chandinitoleti/CGR_GIT/manifesto_annotations/venv/lib/python3.13/site-packages (from pandas) (2025.2)\n",
      "Requirement already satisfied: scipy!=1.9.2,>=1.8 in /Users/chandinitoleti/CGR_GIT/manifesto_annotations/venv/lib/python3.13/site-packages (from statsmodels) (1.16.0)\n",
      "Requirement already satisfied: patsy>=0.5.6 in /Users/chandinitoleti/CGR_GIT/manifesto_annotations/venv/lib/python3.13/site-packages (from statsmodels) (1.0.1)\n",
      "Requirement already satisfied: packaging>=21.3 in /Users/chandinitoleti/CGR_GIT/manifesto_annotations/venv/lib/python3.13/site-packages (from statsmodels) (25.0)\n",
      "Requirement already satisfied: joblib>=1.2.0 in /Users/chandinitoleti/CGR_GIT/manifesto_annotations/venv/lib/python3.13/site-packages (from scikit-learn) (1.5.1)\n",
      "Requirement already satisfied: threadpoolctl>=3.1.0 in /Users/chandinitoleti/CGR_GIT/manifesto_annotations/venv/lib/python3.13/site-packages (from scikit-learn) (3.6.0)\n",
      "Requirement already satisfied: contourpy>=1.0.1 in /Users/chandinitoleti/CGR_GIT/manifesto_annotations/venv/lib/python3.13/site-packages (from matplotlib) (1.3.2)\n",
      "Requirement already satisfied: cycler>=0.10 in /Users/chandinitoleti/CGR_GIT/manifesto_annotations/venv/lib/python3.13/site-packages (from matplotlib) (0.12.1)\n",
      "Requirement already satisfied: fonttools>=4.22.0 in /Users/chandinitoleti/CGR_GIT/manifesto_annotations/venv/lib/python3.13/site-packages (from matplotlib) (4.58.4)\n",
      "Requirement already satisfied: kiwisolver>=1.3.1 in /Users/chandinitoleti/CGR_GIT/manifesto_annotations/venv/lib/python3.13/site-packages (from matplotlib) (1.4.8)\n",
      "Requirement already satisfied: pillow>=8 in /Users/chandinitoleti/CGR_GIT/manifesto_annotations/venv/lib/python3.13/site-packages (from matplotlib) (11.3.0)\n",
      "Requirement already satisfied: pyparsing>=2.3.1 in /Users/chandinitoleti/CGR_GIT/manifesto_annotations/venv/lib/python3.13/site-packages (from matplotlib) (3.2.3)\n",
      "Requirement already satisfied: click in /Users/chandinitoleti/CGR_GIT/manifesto_annotations/venv/lib/python3.13/site-packages (from nltk) (8.2.1)\n",
      "Requirement already satisfied: regex>=2021.8.3 in /Users/chandinitoleti/CGR_GIT/manifesto_annotations/venv/lib/python3.13/site-packages (from nltk) (2024.11.6)\n",
      "Requirement already satisfied: tqdm in /Users/chandinitoleti/CGR_GIT/manifesto_annotations/venv/lib/python3.13/site-packages (from nltk) (4.67.1)\n",
      "Requirement already satisfied: six>=1.5 in /Users/chandinitoleti/CGR_GIT/manifesto_annotations/venv/lib/python3.13/site-packages (from python-dateutil>=2.8.2->pandas) (1.17.0)\n",
      "\n",
      "\u001b[1m[\u001b[0m\u001b[34;49mnotice\u001b[0m\u001b[1;39;49m]\u001b[0m\u001b[39;49m A new release of pip is available: \u001b[0m\u001b[31;49m24.3.1\u001b[0m\u001b[39;49m -> \u001b[0m\u001b[32;49m25.1.1\u001b[0m\n",
      "\u001b[1m[\u001b[0m\u001b[34;49mnotice\u001b[0m\u001b[1;39;49m]\u001b[0m\u001b[39;49m To update, run: \u001b[0m\u001b[32;49mpip install --upgrade pip\u001b[0m\n"
     ]
    }
   ],
   "source": [
    "# Install all required packages\n",
    "!pip install pandas krippendorff statsmodels scikit-learn seaborn matplotlib numpy nltk"
   ]
  },
  {
   "cell_type": "code",
   "execution_count": 12,
   "id": "edbf9d0c",
   "metadata": {},
   "outputs": [],
   "source": [
    "import pandas as pd\n",
    "import krippendorff\n",
    "from statsmodels.stats.inter_rater import fleiss_kappa\n",
    "from sklearn.metrics import cohen_kappa_score\n",
    "import seaborn as sns\n",
    "import matplotlib.pyplot as plt\n",
    "import numpy as np\n",
    "from statsmodels.stats.inter_rater import aggregate_raters, fleiss_kappa\n",
    "import itertools\n",
    "import seaborn as sns\n",
    "from scipy.stats import entropy\n",
    "from sklearn.cluster import KMeans\n",
    "from scipy.special import rel_entr\n",
    "from scipy.stats import entropy\n",
    "import itertools\n",
    "from collections import Counter\n",
    "import pandas as pd\n",
    "import ast \n",
    "from statsmodels.stats.inter_rater import fleiss_kappa\n",
    "from itertools import product\n",
    "from nltk.metrics import agreement\n",
    "from nltk.metrics import masi_distance\n",
    "from collections import defaultdict\n",
    "import json"
   ]
  },
  {
   "cell_type": "markdown",
   "id": "da4833e7",
   "metadata": {},
   "source": [
    "## Step 2: Read and Prepare Data"
   ]
  },
  {
   "cell_type": "code",
   "execution_count": 13,
   "id": "efe014b5",
   "metadata": {},
   "outputs": [],
   "source": [
    "df = pd.read_csv(\"./gold_dataset.csv\")"
   ]
  },
  {
   "cell_type": "code",
   "execution_count": 14,
   "id": "69ef11d4",
   "metadata": {},
   "outputs": [
    {
     "data": {
      "application/vnd.microsoft.datawrangler.viewer.v0+json": {
       "columns": [
        {
         "name": "index",
         "rawType": "int64",
         "type": "integer"
        },
        {
         "name": "HITId",
         "rawType": "object",
         "type": "string"
        },
        {
         "name": "HITTypeId",
         "rawType": "object",
         "type": "string"
        },
        {
         "name": "Title",
         "rawType": "object",
         "type": "string"
        },
        {
         "name": "Description",
         "rawType": "object",
         "type": "string"
        },
        {
         "name": "Keywords",
         "rawType": "object",
         "type": "string"
        },
        {
         "name": "Reward",
         "rawType": "object",
         "type": "string"
        },
        {
         "name": "CreationTime",
         "rawType": "object",
         "type": "string"
        },
        {
         "name": "MaxAssignments",
         "rawType": "int64",
         "type": "integer"
        },
        {
         "name": "RequesterAnnotation",
         "rawType": "object",
         "type": "string"
        },
        {
         "name": "AssignmentDurationInSeconds",
         "rawType": "int64",
         "type": "integer"
        },
        {
         "name": "AutoApprovalDelayInSeconds",
         "rawType": "int64",
         "type": "integer"
        },
        {
         "name": "Expiration",
         "rawType": "object",
         "type": "string"
        },
        {
         "name": "NumberOfSimilarHITs",
         "rawType": "float64",
         "type": "float"
        },
        {
         "name": "LifetimeInSeconds",
         "rawType": "float64",
         "type": "float"
        },
        {
         "name": "AssignmentId",
         "rawType": "object",
         "type": "string"
        },
        {
         "name": "WorkerId",
         "rawType": "object",
         "type": "string"
        },
        {
         "name": "AssignmentStatus",
         "rawType": "object",
         "type": "string"
        },
        {
         "name": "AcceptTime",
         "rawType": "object",
         "type": "string"
        },
        {
         "name": "SubmitTime",
         "rawType": "object",
         "type": "string"
        },
        {
         "name": "AutoApprovalTime",
         "rawType": "object",
         "type": "string"
        },
        {
         "name": "ApprovalTime",
         "rawType": "object",
         "type": "string"
        },
        {
         "name": "RejectionTime",
         "rawType": "float64",
         "type": "float"
        },
        {
         "name": "RequesterFeedback",
         "rawType": "float64",
         "type": "float"
        },
        {
         "name": "WorkTimeInSeconds",
         "rawType": "int64",
         "type": "integer"
        },
        {
         "name": "LifetimeApprovalRate",
         "rawType": "object",
         "type": "string"
        },
        {
         "name": "Last30DaysApprovalRate",
         "rawType": "object",
         "type": "string"
        },
        {
         "name": "Last7DaysApprovalRate",
         "rawType": "object",
         "type": "string"
        },
        {
         "name": "Input.text-eng",
         "rawType": "object",
         "type": "string"
        },
        {
         "name": "Input.label",
         "rawType": "int64",
         "type": "integer"
        },
        {
         "name": "Input.parameter",
         "rawType": "object",
         "type": "string"
        },
        {
         "name": "Input.parameter_num_labels",
         "rawType": "int64",
         "type": "integer"
        },
        {
         "name": "Answer.manifesto_class.labels",
         "rawType": "object",
         "type": "string"
        },
        {
         "name": "Approve",
         "rawType": "float64",
         "type": "float"
        },
        {
         "name": "Reject",
         "rawType": "float64",
         "type": "float"
        }
       ],
       "ref": "26ef0f8c-9622-4f26-a7ab-fded9aefde68",
       "rows": [
        [
         "0",
         "39N6W9XWS05H65P9I0HAUP0E2RZGYY",
         "3BRS3IGD63EV308CIXT46SFWM41TR3",
         "[ACSS] Text labeling Manifesto",
         "Identify the most relevant labels to describe these texts",
         "labeling, text, manifesto",
         "$1.00",
         "Mon Apr 14 05:38:01 PDT 2025",
         "3",
         "BatchId:414859;OriginalHitTemplateId:921587261;",
         "3600",
         "259200",
         "Tue Jul 22 05:38:01 PDT 2025",
         null,
         null,
         "3H8DHMCCWXULW0OV2XKD4GEL9CQDK8",
         "A335R4YE2E34H6",
         "Approved",
         "Fri May 02 06:07:26 PDT 2025",
         "Fri May 02 06:07:52 PDT 2025",
         "Mon May 05 06:07:52 PDT 2025",
         "Mon May 05 06:08:49 PDT 2025",
         null,
         null,
         "26",
         "100% (152/152)",
         "100% (46/46)",
         "100% (46/46)",
         "Madam President, Mr Posselt, I do not really think it took any courage to talk to China. Our dialogue with China – in which I have taken part myself – is very open and direct.\n The issue you raised is, of course, being pursued not only in relation to China, but also to Turkey. We have raised our concerns on the matter in our discussions with Turkey and will obviously continue to insist in future that the legal and administrative measures being established by Turkey in this respect are in line with our expectations in this domain, which of course correspond to international standards.",
         "0",
         "Par303_Governmental and Administrative Efficiency",
         "2",
         "[]",
         null,
         null
        ],
        [
         "1",
         "39N6W9XWS05H65P9I0HAUP0E2RZGYY",
         "3BRS3IGD63EV308CIXT46SFWM41TR3",
         "[ACSS] Text labeling Manifesto",
         "Identify the most relevant labels to describe these texts",
         "labeling, text, manifesto",
         "$1.00",
         "Mon Apr 14 05:38:01 PDT 2025",
         "3",
         "BatchId:414859;OriginalHitTemplateId:921587261;",
         "3600",
         "259200",
         "Tue Jul 22 05:38:01 PDT 2025",
         null,
         null,
         "3OWEPKL08XV6NX8O8X97WGLTHWN7N9",
         "A1X47COW2Y9SEL",
         "Approved",
         "Thu Apr 24 03:00:19 PDT 2025",
         "Thu Apr 24 03:00:39 PDT 2025",
         "Sun Apr 27 03:00:39 PDT 2025",
         "Thu Apr 24 06:56:48 PDT 2025",
         null,
         null,
         "20",
         "100% (238/239)",
         "100% (19/19)",
         "100% (19/19)",
         "Madam President, Mr Posselt, I do not really think it took any courage to talk to China. Our dialogue with China – in which I have taken part myself – is very open and direct.\n The issue you raised is, of course, being pursued not only in relation to China, but also to Turkey. We have raised our concerns on the matter in our discussions with Turkey and will obviously continue to insist in future that the legal and administrative measures being established by Turkey in this respect are in line with our expectations in this domain, which of course correspond to international standards.",
         "0",
         "Par303_Governmental and Administrative Efficiency",
         "2",
         "[]",
         null,
         null
        ],
        [
         "2",
         "39N6W9XWS05H65P9I0HAUP0E2RZGYY",
         "3BRS3IGD63EV308CIXT46SFWM41TR3",
         "[ACSS] Text labeling Manifesto",
         "Identify the most relevant labels to describe these texts",
         "labeling, text, manifesto",
         "$1.00",
         "Mon Apr 14 05:38:01 PDT 2025",
         "3",
         "BatchId:414859;OriginalHitTemplateId:921587261;",
         "3600",
         "259200",
         "Tue Jul 22 05:38:01 PDT 2025",
         null,
         null,
         "3QJOXOW4X7ALEU2YJ48DPBOAYSEME5",
         "A1NBQ61Y6KO3O9",
         "Approved",
         "Fri Apr 18 07:49:35 PDT 2025",
         "Fri Apr 18 07:52:43 PDT 2025",
         "Mon Apr 21 07:52:43 PDT 2025",
         "Mon Apr 21 07:52:49 PDT 2025",
         null,
         null,
         "188",
         "100% (287/287)",
         "100% (75/75)",
         "100% (19/19)",
         "Madam President, Mr Posselt, I do not really think it took any courage to talk to China. Our dialogue with China – in which I have taken part myself – is very open and direct.\n The issue you raised is, of course, being pursued not only in relation to China, but also to Turkey. We have raised our concerns on the matter in our discussions with Turkey and will obviously continue to insist in future that the legal and administrative measures being established by Turkey in this respect are in line with our expectations in this domain, which of course correspond to international standards.",
         "0",
         "Par303_Governmental and Administrative Efficiency",
         "2",
         "[]",
         null,
         null
        ],
        [
         "3",
         "3P7RGTLO71VLC9NPSLO9PVA06HDAKL",
         "3BRS3IGD63EV308CIXT46SFWM41TR3",
         "[ACSS] Text labeling Manifesto",
         "Identify the most relevant labels to describe these texts",
         "labeling, text, manifesto",
         "$1.00",
         "Mon Apr 14 05:38:01 PDT 2025",
         "3",
         "BatchId:414859;OriginalHitTemplateId:921587261;",
         "3600",
         "259200",
         "Tue Jul 22 05:38:01 PDT 2025",
         null,
         null,
         "369J354OF1TH95DX2JRK0IC0L9MG6G",
         "A335R4YE2E34H6",
         "Approved",
         "Fri May 02 06:47:05 PDT 2025",
         "Fri May 02 06:49:01 PDT 2025",
         "Mon May 05 06:49:01 PDT 2025",
         "Mon May 05 06:49:49 PDT 2025",
         null,
         null,
         "116",
         "100% (152/152)",
         "100% (46/46)",
         "100% (46/46)",
         "Mr President, ladies and gentlemen, first of all, I would like to welcome Mrs García Pérez’s report.\n As part of cohesion policy, the reforms are very important and are aimed at alleviating the adverse effects caused by the financial crisis. The flexibility allowed in distributing Community funds will provide national economies with immediate cash flow, which will enable them to invest in the real economy. This will have an immediate effect and we will definitely see the initial results in the following months.\n The European Commission is supporting Member States’ economies based on four major priorities, the most important of these being increasing the pre-financing from the European Regional Development Fund (ERDF) and European Social Fund and increasing the support from the European Investment Bank and European Investment Fund. In fact, in 2009 the pre-financing which the new Member States in particular receive may help to overcome the crisis, as well as establish social and territorial cohesion.\n Great importance must also be attached to the report on the eligibility of investments in energy efficiency and renewable energy for housing. The renovation of residential heating systems must feature on the European Union’s agenda of priorities, bearing in mind the added value generated by this measure.\n At a time when heating costs are constantly on the rise, Member States must also include in their programmes to combat the financial crisis projects which take into account energy efficiency. They offer the following important benefits to the economy and population: a cash flow injection into the economy, along with job creation, a reduction in heating costs, protection of the environment through cutting greenhouse gas emissions, the provision of social cohesion and support for low-income families.\n In Romania 1.4 million flats urgently require investment for renovation.",
         "1",
         "Par405_Corporatism",
         "2",
         "[\"Keynesian Demand Management\",\"Market regulation\",\"Economic Planning\"]",
         null,
         null
        ],
        [
         "4",
         "3P7RGTLO71VLC9NPSLO9PVA06HDAKL",
         "3BRS3IGD63EV308CIXT46SFWM41TR3",
         "[ACSS] Text labeling Manifesto",
         "Identify the most relevant labels to describe these texts",
         "labeling, text, manifesto",
         "$1.00",
         "Mon Apr 14 05:38:01 PDT 2025",
         "3",
         "BatchId:414859;OriginalHitTemplateId:921587261;",
         "3600",
         "259200",
         "Tue Jul 22 05:38:01 PDT 2025",
         null,
         null,
         "3MTMREQS4J1ETTF071CE2Q0ABG5AW2",
         "A1NBQ61Y6KO3O9",
         "Approved",
         "Wed May 07 06:05:27 PDT 2025",
         "Wed May 07 06:13:55 PDT 2025",
         "Sat May 10 06:13:55 PDT 2025",
         "Sat May 10 06:14:49 PDT 2025",
         null,
         null,
         "508",
         "100% (287/287)",
         "100% (75/75)",
         "100% (19/19)",
         "Mr President, ladies and gentlemen, first of all, I would like to welcome Mrs García Pérez’s report.\n As part of cohesion policy, the reforms are very important and are aimed at alleviating the adverse effects caused by the financial crisis. The flexibility allowed in distributing Community funds will provide national economies with immediate cash flow, which will enable them to invest in the real economy. This will have an immediate effect and we will definitely see the initial results in the following months.\n The European Commission is supporting Member States’ economies based on four major priorities, the most important of these being increasing the pre-financing from the European Regional Development Fund (ERDF) and European Social Fund and increasing the support from the European Investment Bank and European Investment Fund. In fact, in 2009 the pre-financing which the new Member States in particular receive may help to overcome the crisis, as well as establish social and territorial cohesion.\n Great importance must also be attached to the report on the eligibility of investments in energy efficiency and renewable energy for housing. The renovation of residential heating systems must feature on the European Union’s agenda of priorities, bearing in mind the added value generated by this measure.\n At a time when heating costs are constantly on the rise, Member States must also include in their programmes to combat the financial crisis projects which take into account energy efficiency. They offer the following important benefits to the economy and population: a cash flow injection into the economy, along with job creation, a reduction in heating costs, protection of the environment through cutting greenhouse gas emissions, the provision of social cohesion and support for low-income families.\n In Romania 1.4 million flats urgently require investment for renovation.",
         "1",
         "Par405_Corporatism",
         "2",
         "[\"Government and administrative efficiency\",\"Market regulation\",\"Incentives\",\"Economic Planning\",\"Economic Growth\",\"Technology and Infrastructure\"]",
         null,
         null
        ]
       ],
       "shape": {
        "columns": 34,
        "rows": 5
       }
      },
      "text/html": [
       "<div>\n",
       "<style scoped>\n",
       "    .dataframe tbody tr th:only-of-type {\n",
       "        vertical-align: middle;\n",
       "    }\n",
       "\n",
       "    .dataframe tbody tr th {\n",
       "        vertical-align: top;\n",
       "    }\n",
       "\n",
       "    .dataframe thead th {\n",
       "        text-align: right;\n",
       "    }\n",
       "</style>\n",
       "<table border=\"1\" class=\"dataframe\">\n",
       "  <thead>\n",
       "    <tr style=\"text-align: right;\">\n",
       "      <th></th>\n",
       "      <th>HITId</th>\n",
       "      <th>HITTypeId</th>\n",
       "      <th>Title</th>\n",
       "      <th>Description</th>\n",
       "      <th>Keywords</th>\n",
       "      <th>Reward</th>\n",
       "      <th>CreationTime</th>\n",
       "      <th>MaxAssignments</th>\n",
       "      <th>RequesterAnnotation</th>\n",
       "      <th>AssignmentDurationInSeconds</th>\n",
       "      <th>...</th>\n",
       "      <th>LifetimeApprovalRate</th>\n",
       "      <th>Last30DaysApprovalRate</th>\n",
       "      <th>Last7DaysApprovalRate</th>\n",
       "      <th>Input.text-eng</th>\n",
       "      <th>Input.label</th>\n",
       "      <th>Input.parameter</th>\n",
       "      <th>Input.parameter_num_labels</th>\n",
       "      <th>Answer.manifesto_class.labels</th>\n",
       "      <th>Approve</th>\n",
       "      <th>Reject</th>\n",
       "    </tr>\n",
       "  </thead>\n",
       "  <tbody>\n",
       "    <tr>\n",
       "      <th>0</th>\n",
       "      <td>39N6W9XWS05H65P9I0HAUP0E2RZGYY</td>\n",
       "      <td>3BRS3IGD63EV308CIXT46SFWM41TR3</td>\n",
       "      <td>[ACSS] Text labeling Manifesto</td>\n",
       "      <td>Identify the most relevant labels to describe ...</td>\n",
       "      <td>labeling, text, manifesto</td>\n",
       "      <td>$1.00</td>\n",
       "      <td>Mon Apr 14 05:38:01 PDT 2025</td>\n",
       "      <td>3</td>\n",
       "      <td>BatchId:414859;OriginalHitTemplateId:921587261;</td>\n",
       "      <td>3600</td>\n",
       "      <td>...</td>\n",
       "      <td>100% (152/152)</td>\n",
       "      <td>100% (46/46)</td>\n",
       "      <td>100% (46/46)</td>\n",
       "      <td>Madam President, Mr Posselt, I do not really t...</td>\n",
       "      <td>0</td>\n",
       "      <td>Par303_Governmental and Administrative Efficiency</td>\n",
       "      <td>2</td>\n",
       "      <td>[]</td>\n",
       "      <td>NaN</td>\n",
       "      <td>NaN</td>\n",
       "    </tr>\n",
       "    <tr>\n",
       "      <th>1</th>\n",
       "      <td>39N6W9XWS05H65P9I0HAUP0E2RZGYY</td>\n",
       "      <td>3BRS3IGD63EV308CIXT46SFWM41TR3</td>\n",
       "      <td>[ACSS] Text labeling Manifesto</td>\n",
       "      <td>Identify the most relevant labels to describe ...</td>\n",
       "      <td>labeling, text, manifesto</td>\n",
       "      <td>$1.00</td>\n",
       "      <td>Mon Apr 14 05:38:01 PDT 2025</td>\n",
       "      <td>3</td>\n",
       "      <td>BatchId:414859;OriginalHitTemplateId:921587261;</td>\n",
       "      <td>3600</td>\n",
       "      <td>...</td>\n",
       "      <td>100% (238/239)</td>\n",
       "      <td>100% (19/19)</td>\n",
       "      <td>100% (19/19)</td>\n",
       "      <td>Madam President, Mr Posselt, I do not really t...</td>\n",
       "      <td>0</td>\n",
       "      <td>Par303_Governmental and Administrative Efficiency</td>\n",
       "      <td>2</td>\n",
       "      <td>[]</td>\n",
       "      <td>NaN</td>\n",
       "      <td>NaN</td>\n",
       "    </tr>\n",
       "    <tr>\n",
       "      <th>2</th>\n",
       "      <td>39N6W9XWS05H65P9I0HAUP0E2RZGYY</td>\n",
       "      <td>3BRS3IGD63EV308CIXT46SFWM41TR3</td>\n",
       "      <td>[ACSS] Text labeling Manifesto</td>\n",
       "      <td>Identify the most relevant labels to describe ...</td>\n",
       "      <td>labeling, text, manifesto</td>\n",
       "      <td>$1.00</td>\n",
       "      <td>Mon Apr 14 05:38:01 PDT 2025</td>\n",
       "      <td>3</td>\n",
       "      <td>BatchId:414859;OriginalHitTemplateId:921587261;</td>\n",
       "      <td>3600</td>\n",
       "      <td>...</td>\n",
       "      <td>100% (287/287)</td>\n",
       "      <td>100% (75/75)</td>\n",
       "      <td>100% (19/19)</td>\n",
       "      <td>Madam President, Mr Posselt, I do not really t...</td>\n",
       "      <td>0</td>\n",
       "      <td>Par303_Governmental and Administrative Efficiency</td>\n",
       "      <td>2</td>\n",
       "      <td>[]</td>\n",
       "      <td>NaN</td>\n",
       "      <td>NaN</td>\n",
       "    </tr>\n",
       "    <tr>\n",
       "      <th>3</th>\n",
       "      <td>3P7RGTLO71VLC9NPSLO9PVA06HDAKL</td>\n",
       "      <td>3BRS3IGD63EV308CIXT46SFWM41TR3</td>\n",
       "      <td>[ACSS] Text labeling Manifesto</td>\n",
       "      <td>Identify the most relevant labels to describe ...</td>\n",
       "      <td>labeling, text, manifesto</td>\n",
       "      <td>$1.00</td>\n",
       "      <td>Mon Apr 14 05:38:01 PDT 2025</td>\n",
       "      <td>3</td>\n",
       "      <td>BatchId:414859;OriginalHitTemplateId:921587261;</td>\n",
       "      <td>3600</td>\n",
       "      <td>...</td>\n",
       "      <td>100% (152/152)</td>\n",
       "      <td>100% (46/46)</td>\n",
       "      <td>100% (46/46)</td>\n",
       "      <td>Mr President, ladies and gentlemen, first of a...</td>\n",
       "      <td>1</td>\n",
       "      <td>Par405_Corporatism</td>\n",
       "      <td>2</td>\n",
       "      <td>[\"Keynesian Demand Management\",\"Market regulat...</td>\n",
       "      <td>NaN</td>\n",
       "      <td>NaN</td>\n",
       "    </tr>\n",
       "    <tr>\n",
       "      <th>4</th>\n",
       "      <td>3P7RGTLO71VLC9NPSLO9PVA06HDAKL</td>\n",
       "      <td>3BRS3IGD63EV308CIXT46SFWM41TR3</td>\n",
       "      <td>[ACSS] Text labeling Manifesto</td>\n",
       "      <td>Identify the most relevant labels to describe ...</td>\n",
       "      <td>labeling, text, manifesto</td>\n",
       "      <td>$1.00</td>\n",
       "      <td>Mon Apr 14 05:38:01 PDT 2025</td>\n",
       "      <td>3</td>\n",
       "      <td>BatchId:414859;OriginalHitTemplateId:921587261;</td>\n",
       "      <td>3600</td>\n",
       "      <td>...</td>\n",
       "      <td>100% (287/287)</td>\n",
       "      <td>100% (75/75)</td>\n",
       "      <td>100% (19/19)</td>\n",
       "      <td>Mr President, ladies and gentlemen, first of a...</td>\n",
       "      <td>1</td>\n",
       "      <td>Par405_Corporatism</td>\n",
       "      <td>2</td>\n",
       "      <td>[\"Government and administrative efficiency\",\"M...</td>\n",
       "      <td>NaN</td>\n",
       "      <td>NaN</td>\n",
       "    </tr>\n",
       "  </tbody>\n",
       "</table>\n",
       "<p>5 rows × 34 columns</p>\n",
       "</div>"
      ],
      "text/plain": [
       "                            HITId                       HITTypeId  \\\n",
       "0  39N6W9XWS05H65P9I0HAUP0E2RZGYY  3BRS3IGD63EV308CIXT46SFWM41TR3   \n",
       "1  39N6W9XWS05H65P9I0HAUP0E2RZGYY  3BRS3IGD63EV308CIXT46SFWM41TR3   \n",
       "2  39N6W9XWS05H65P9I0HAUP0E2RZGYY  3BRS3IGD63EV308CIXT46SFWM41TR3   \n",
       "3  3P7RGTLO71VLC9NPSLO9PVA06HDAKL  3BRS3IGD63EV308CIXT46SFWM41TR3   \n",
       "4  3P7RGTLO71VLC9NPSLO9PVA06HDAKL  3BRS3IGD63EV308CIXT46SFWM41TR3   \n",
       "\n",
       "                            Title  \\\n",
       "0  [ACSS] Text labeling Manifesto   \n",
       "1  [ACSS] Text labeling Manifesto   \n",
       "2  [ACSS] Text labeling Manifesto   \n",
       "3  [ACSS] Text labeling Manifesto   \n",
       "4  [ACSS] Text labeling Manifesto   \n",
       "\n",
       "                                         Description  \\\n",
       "0  Identify the most relevant labels to describe ...   \n",
       "1  Identify the most relevant labels to describe ...   \n",
       "2  Identify the most relevant labels to describe ...   \n",
       "3  Identify the most relevant labels to describe ...   \n",
       "4  Identify the most relevant labels to describe ...   \n",
       "\n",
       "                    Keywords Reward                  CreationTime  \\\n",
       "0  labeling, text, manifesto  $1.00  Mon Apr 14 05:38:01 PDT 2025   \n",
       "1  labeling, text, manifesto  $1.00  Mon Apr 14 05:38:01 PDT 2025   \n",
       "2  labeling, text, manifesto  $1.00  Mon Apr 14 05:38:01 PDT 2025   \n",
       "3  labeling, text, manifesto  $1.00  Mon Apr 14 05:38:01 PDT 2025   \n",
       "4  labeling, text, manifesto  $1.00  Mon Apr 14 05:38:01 PDT 2025   \n",
       "\n",
       "   MaxAssignments                              RequesterAnnotation  \\\n",
       "0               3  BatchId:414859;OriginalHitTemplateId:921587261;   \n",
       "1               3  BatchId:414859;OriginalHitTemplateId:921587261;   \n",
       "2               3  BatchId:414859;OriginalHitTemplateId:921587261;   \n",
       "3               3  BatchId:414859;OriginalHitTemplateId:921587261;   \n",
       "4               3  BatchId:414859;OriginalHitTemplateId:921587261;   \n",
       "\n",
       "   AssignmentDurationInSeconds  ...  LifetimeApprovalRate  \\\n",
       "0                         3600  ...        100% (152/152)   \n",
       "1                         3600  ...        100% (238/239)   \n",
       "2                         3600  ...        100% (287/287)   \n",
       "3                         3600  ...        100% (152/152)   \n",
       "4                         3600  ...        100% (287/287)   \n",
       "\n",
       "  Last30DaysApprovalRate  Last7DaysApprovalRate  \\\n",
       "0           100% (46/46)           100% (46/46)   \n",
       "1           100% (19/19)           100% (19/19)   \n",
       "2           100% (75/75)           100% (19/19)   \n",
       "3           100% (46/46)           100% (46/46)   \n",
       "4           100% (75/75)           100% (19/19)   \n",
       "\n",
       "                                      Input.text-eng Input.label  \\\n",
       "0  Madam President, Mr Posselt, I do not really t...           0   \n",
       "1  Madam President, Mr Posselt, I do not really t...           0   \n",
       "2  Madam President, Mr Posselt, I do not really t...           0   \n",
       "3  Mr President, ladies and gentlemen, first of a...           1   \n",
       "4  Mr President, ladies and gentlemen, first of a...           1   \n",
       "\n",
       "                                     Input.parameter  \\\n",
       "0  Par303_Governmental and Administrative Efficiency   \n",
       "1  Par303_Governmental and Administrative Efficiency   \n",
       "2  Par303_Governmental and Administrative Efficiency   \n",
       "3                                 Par405_Corporatism   \n",
       "4                                 Par405_Corporatism   \n",
       "\n",
       "  Input.parameter_num_labels  \\\n",
       "0                          2   \n",
       "1                          2   \n",
       "2                          2   \n",
       "3                          2   \n",
       "4                          2   \n",
       "\n",
       "                       Answer.manifesto_class.labels Approve Reject  \n",
       "0                                                 []     NaN    NaN  \n",
       "1                                                 []     NaN    NaN  \n",
       "2                                                 []     NaN    NaN  \n",
       "3  [\"Keynesian Demand Management\",\"Market regulat...     NaN    NaN  \n",
       "4  [\"Government and administrative efficiency\",\"M...     NaN    NaN  \n",
       "\n",
       "[5 rows x 34 columns]"
      ]
     },
     "execution_count": 14,
     "metadata": {},
     "output_type": "execute_result"
    }
   ],
   "source": [
    "df.head()"
   ]
  },
  {
   "cell_type": "markdown",
   "id": "2434e33f",
   "metadata": {},
   "source": [
    "#### **Data Cleaning and Pre-Proccessing**"
   ]
  },
  {
   "cell_type": "markdown",
   "id": "c741db6d",
   "metadata": {},
   "source": [
    "Here, I want to keep HITId (represnting speeches), WorkerId, and Answer.manifesto_class.labels"
   ]
  },
  {
   "cell_type": "code",
   "execution_count": 15,
   "id": "cfdf3cba",
   "metadata": {},
   "outputs": [
    {
     "data": {
      "application/vnd.microsoft.datawrangler.viewer.v0+json": {
       "columns": [
        {
         "name": "index",
         "rawType": "int64",
         "type": "integer"
        },
        {
         "name": "speech_id",
         "rawType": "object",
         "type": "string"
        },
        {
         "name": "worker_id",
         "rawType": "object",
         "type": "string"
        },
        {
         "name": "answer",
         "rawType": "object",
         "type": "string"
        }
       ],
       "ref": "3d10aaa2-2ff9-4034-adab-212c3b350267",
       "rows": [
        [
         "0",
         "301KG0KXAZ355GRD9LSX6LBA2CHH2H",
         "A1NBQ61Y6KO3O9",
         "[\"Market regulation\",\"Middle Class & Professional Groups\"]"
        ],
        [
         "1",
         "301KG0KXAZ355GRD9LSX6LBA2CHH2H",
         "A1X47COW2Y9SEL",
         "[\"Market regulation\"]"
        ],
        [
         "2",
         "301KG0KXAZ355GRD9LSX6LBA2CHH2H",
         "A335R4YE2E34H6",
         "[\"Market regulation\"]"
        ],
        [
         "3",
         "302OLP89EMP3TBB1087B1CXS184CAA",
         "A1NBQ61Y6KO3O9",
         "[\"Government and administrative efficiency\",\"Economic Planning\",\"Economic Goals\"]"
        ],
        [
         "4",
         "302OLP89EMP3TBB1087B1CXS184CAA",
         "A1X47COW2Y9SEL",
         "[\"Economic Goals\"]"
        ],
        [
         "5",
         "302OLP89EMP3TBB1087B1CXS184CAA",
         "APXGSUB250NVH",
         "[]"
        ],
        [
         "6",
         "306996CF7J2OPI6VQPINFRY7FTYB1E",
         "A1NBQ61Y6KO3O9",
         "[\"Anti-Growth Economy\",\"Market regulation\"]"
        ],
        [
         "7",
         "306996CF7J2OPI6VQPINFRY7FTYB1E",
         "A1X47COW2Y9SEL",
         "[\"Government and administrative efficiency\"]"
        ],
        [
         "8",
         "306996CF7J2OPI6VQPINFRY7FTYB1E",
         "A335R4YE2E34H6",
         "[\"Economic Planning\",\"Economic Growth\"]"
        ],
        [
         "9",
         "3087LXLJ79YEVAXTZ80JKC6IPZKF0X",
         "A1NBQ61Y6KO3O9",
         "[\"Market regulation\",\"Economic Planning\",\"Economic Growth\"]"
        ],
        [
         "10",
         "3087LXLJ79YEVAXTZ80JKC6IPZKF0X",
         "A1X47COW2Y9SEL",
         "[\"Free Market Economy\",\"Economic Growth\"]"
        ],
        [
         "11",
         "3087LXLJ79YEVAXTZ80JKC6IPZKF0X",
         "A335R4YE2E34H6",
         "[\"Market regulation\",\"Economic Growth\"]"
        ],
        [
         "12",
         "308KJXFUKEOKFSDCMU21QMXWPU4ATR",
         "A1NBQ61Y6KO3O9",
         "[\"Economic Planning\",\"Market regulation\",\"Economic Goals\"]"
        ],
        [
         "13",
         "308KJXFUKEOKFSDCMU21QMXWPU4ATR",
         "A1X47COW2Y9SEL",
         "[\"Economic Goals\"]"
        ],
        [
         "14",
         "308KJXFUKEOKFSDCMU21QMXWPU4ATR",
         "A335R4YE2E34H6",
         "[\"Market regulation\",\"Economic Planning\"]"
        ],
        [
         "15",
         "309D674SIM38CLGT6M77WNHYJQPCB5",
         "A1NBQ61Y6KO3O9",
         "[\"Government and administrative efficiency\",\"Economic Goals\"]"
        ],
        [
         "16",
         "309D674SIM38CLGT6M77WNHYJQPCB5",
         "A1X47COW2Y9SEL",
         "[]"
        ],
        [
         "17",
         "309D674SIM38CLGT6M77WNHYJQPCB5",
         "A335R4YE2E34H6",
         "[\"Free Market Economy\"]"
        ],
        [
         "18",
         "30EMX9PEW71PC59J9LA0AV46S08KS5",
         "A1NBQ61Y6KO3O9",
         "[\"Market regulation\",\"Incentives\"]"
        ],
        [
         "19",
         "30EMX9PEW71PC59J9LA0AV46S08KS5",
         "A3GS2NTQ4XU059",
         "[\"Keynesian Demand Management\"]"
        ],
        [
         "20",
         "30EMX9PEW71PC59J9LA0AV46S08KS5",
         "APXGSUB250NVH",
         "[\"Economic Goals\"]"
        ],
        [
         "21",
         "30IRMPJWEM1DBQ96UWAVKLZA6YPKRH",
         "A1X47COW2Y9SEL",
         "[]"
        ],
        [
         "22",
         "30IRMPJWEM1DBQ96UWAVKLZA6YPKRH",
         "A335R4YE2E34H6",
         "[]"
        ],
        [
         "23",
         "30IRMPJWEM1DBQ96UWAVKLZA6YPKRH",
         "A3GS2NTQ4XU059",
         "[\"Economic Goals\"]"
        ],
        [
         "24",
         "30OITAWPCDLG50CCUU7CG8JO8IRH99",
         "A1NBQ61Y6KO3O9",
         "[\"Market regulation\",\"Anti-Growth Economy\"]"
        ],
        [
         "25",
         "30OITAWPCDLG50CCUU7CG8JO8IRH99",
         "A1X47COW2Y9SEL",
         "[\"Market regulation\"]"
        ],
        [
         "26",
         "30OITAWPCDLG50CCUU7CG8JO8IRH99",
         "A335R4YE2E34H6",
         "[]"
        ],
        [
         "27",
         "30P8I9JKP532ME5KWTBZJT5VUE75VA",
         "A1X47COW2Y9SEL",
         "[\"Market regulation\"]"
        ],
        [
         "28",
         "30P8I9JKP532ME5KWTBZJT5VUE75VA",
         "A335R4YE2E34H6",
         "[\"Market regulation\",\"Anti-Growth Economy\"]"
        ],
        [
         "29",
         "30P8I9JKP532ME5KWTBZJT5VUE75VA",
         "A3GS2NTQ4XU059",
         "[\"Market regulation\"]"
        ],
        [
         "30",
         "30QQTY5GN72HW3U3FWGRLRH87DT7U2",
         "A1NBQ61Y6KO3O9",
         "[\"Market regulation\",\"Corporatism / Mixed Economy\",\"Government and administrative efficiency\",\"Economic Planning\",\"Anti-Growth Economy\"]"
        ],
        [
         "31",
         "30QQTY5GN72HW3U3FWGRLRH87DT7U2",
         "A3GS2NTQ4XU059",
         "[\"Economic Goals\"]"
        ],
        [
         "32",
         "30QQTY5GN72HW3U3FWGRLRH87DT7U2",
         "APXGSUB250NVH",
         "[\"Economic Planning\",\"Economic Goals\"]"
        ],
        [
         "33",
         "3126F2F5GVLPDD1HLIV3HVMQL6HEPL",
         "A1NBQ61Y6KO3O9",
         "[\"Economic Planning\"]"
        ],
        [
         "34",
         "3126F2F5GVLPDD1HLIV3HVMQL6HEPL",
         "A1X47COW2Y9SEL",
         "[\"Technology and Infrastructure\",\"Economic Planning\"]"
        ],
        [
         "35",
         "3126F2F5GVLPDD1HLIV3HVMQL6HEPL",
         "A335R4YE2E34H6",
         "[]"
        ],
        [
         "36",
         "31ANT7FQOVKX4DA0R4UV4SEMMM8H5I",
         "A1NBQ61Y6KO3O9",
         "[\"Economic Growth\",\"Incentives\",\"Economic Planning\"]"
        ],
        [
         "37",
         "31ANT7FQOVKX4DA0R4UV4SEMMM8H5I",
         "A1X47COW2Y9SEL",
         "[\"Economic Growth\"]"
        ],
        [
         "38",
         "31ANT7FQOVKX4DA0R4UV4SEMMM8H5I",
         "A335R4YE2E34H6",
         "[]"
        ],
        [
         "39",
         "31ANT7FQOVKX4DA0R4UV4SEMMZW5HK",
         "A1NBQ61Y6KO3O9",
         "[\"Economic Planning\",\"Economic Growth\",\"Incentives\"]"
        ],
        [
         "40",
         "31ANT7FQOVKX4DA0R4UV4SEMMZW5HK",
         "A3GS2NTQ4XU059",
         "[\"Economic Goals\"]"
        ],
        [
         "41",
         "31ANT7FQOVKX4DA0R4UV4SEMMZW5HK",
         "APXGSUB250NVH",
         "[\"Economic Goals\",\"Keynesian Demand Management\"]"
        ],
        [
         "42",
         "31J7RYEC08802RS7H27HTUUCR00L1P",
         "A1NBQ61Y6KO3O9",
         "[\"Middle Class & Professional Groups\",\"Labor Groups Positive\",\"Incentives\",\"Economic Planning\"]"
        ],
        [
         "43",
         "31J7RYEC08802RS7H27HTUUCR00L1P",
         "A335R4YE2E34H6",
         "[\"Labor Groups Positive\",\"Free Market Economy\",\"Incentives\"]"
        ],
        [
         "44",
         "31J7RYEC08802RS7H27HTUUCR00L1P",
         "A3GS2NTQ4XU059",
         "[\"Keynesian Demand Management\",\"Economic Planning\"]"
        ],
        [
         "45",
         "31JUPBOOSAMIDRCSGNGW84HK566L89",
         "A1NBQ61Y6KO3O9",
         "[\"Anti-Growth Economy\",\"Free Market Economy\",\"Economic Planning\",\"Economic Goals\"]"
        ],
        [
         "46",
         "31JUPBOOSAMIDRCSGNGW84HK566L89",
         "A335R4YE2E34H6",
         "[\"Economic Growth\",\"Government and administrative efficiency\"]"
        ],
        [
         "47",
         "31JUPBOOSAMIDRCSGNGW84HK566L89",
         "A3GS2NTQ4XU059",
         "[\"Economic Growth\",\"Free Market Economy\"]"
        ],
        [
         "48",
         "31KPKEKW5XVOITLDU6EN1MFXA1SB0B",
         "A1NBQ61Y6KO3O9",
         "[]"
        ],
        [
         "49",
         "31KPKEKW5XVOITLDU6EN1MFXA1SB0B",
         "A1X47COW2Y9SEL",
         "[]"
        ]
       ],
       "shape": {
        "columns": 3,
        "rows": 660
       }
      },
      "text/html": [
       "<div>\n",
       "<style scoped>\n",
       "    .dataframe tbody tr th:only-of-type {\n",
       "        vertical-align: middle;\n",
       "    }\n",
       "\n",
       "    .dataframe tbody tr th {\n",
       "        vertical-align: top;\n",
       "    }\n",
       "\n",
       "    .dataframe thead th {\n",
       "        text-align: right;\n",
       "    }\n",
       "</style>\n",
       "<table border=\"1\" class=\"dataframe\">\n",
       "  <thead>\n",
       "    <tr style=\"text-align: right;\">\n",
       "      <th></th>\n",
       "      <th>speech_id</th>\n",
       "      <th>worker_id</th>\n",
       "      <th>answer</th>\n",
       "    </tr>\n",
       "  </thead>\n",
       "  <tbody>\n",
       "    <tr>\n",
       "      <th>0</th>\n",
       "      <td>301KG0KXAZ355GRD9LSX6LBA2CHH2H</td>\n",
       "      <td>A1NBQ61Y6KO3O9</td>\n",
       "      <td>[\"Market regulation\",\"Middle Class &amp; Professio...</td>\n",
       "    </tr>\n",
       "    <tr>\n",
       "      <th>1</th>\n",
       "      <td>301KG0KXAZ355GRD9LSX6LBA2CHH2H</td>\n",
       "      <td>A1X47COW2Y9SEL</td>\n",
       "      <td>[\"Market regulation\"]</td>\n",
       "    </tr>\n",
       "    <tr>\n",
       "      <th>2</th>\n",
       "      <td>301KG0KXAZ355GRD9LSX6LBA2CHH2H</td>\n",
       "      <td>A335R4YE2E34H6</td>\n",
       "      <td>[\"Market regulation\"]</td>\n",
       "    </tr>\n",
       "    <tr>\n",
       "      <th>3</th>\n",
       "      <td>302OLP89EMP3TBB1087B1CXS184CAA</td>\n",
       "      <td>A1NBQ61Y6KO3O9</td>\n",
       "      <td>[\"Government and administrative efficiency\",\"E...</td>\n",
       "    </tr>\n",
       "    <tr>\n",
       "      <th>4</th>\n",
       "      <td>302OLP89EMP3TBB1087B1CXS184CAA</td>\n",
       "      <td>A1X47COW2Y9SEL</td>\n",
       "      <td>[\"Economic Goals\"]</td>\n",
       "    </tr>\n",
       "    <tr>\n",
       "      <th>...</th>\n",
       "      <td>...</td>\n",
       "      <td>...</td>\n",
       "      <td>...</td>\n",
       "    </tr>\n",
       "    <tr>\n",
       "      <th>655</th>\n",
       "      <td>3ZXNP4Z3AE3EDD796IOQU4LPUM0L7M</td>\n",
       "      <td>A1X47COW2Y9SEL</td>\n",
       "      <td>[\"Market regulation\",\"Government and administr...</td>\n",
       "    </tr>\n",
       "    <tr>\n",
       "      <th>656</th>\n",
       "      <td>3ZXNP4Z3AE3EDD796IOQU4LPUM0L7M</td>\n",
       "      <td>A3GS2NTQ4XU059</td>\n",
       "      <td>[\"Free Market Economy\"]</td>\n",
       "    </tr>\n",
       "    <tr>\n",
       "      <th>657</th>\n",
       "      <td>3ZXV7Q5FKY6YP2S9BOT3FD8JYOHCFN</td>\n",
       "      <td>A1BQ37ZGUM16XI</td>\n",
       "      <td>[\"Market regulation\"]</td>\n",
       "    </tr>\n",
       "    <tr>\n",
       "      <th>658</th>\n",
       "      <td>3ZXV7Q5FKY6YP2S9BOT3FD8JYOHCFN</td>\n",
       "      <td>A1X47COW2Y9SEL</td>\n",
       "      <td>[\"Market regulation\",\"Anti-Growth Economy\"]</td>\n",
       "    </tr>\n",
       "    <tr>\n",
       "      <th>659</th>\n",
       "      <td>3ZXV7Q5FKY6YP2S9BOT3FD8JYOHCFN</td>\n",
       "      <td>APXGSUB250NVH</td>\n",
       "      <td>[\"Economic Goals\"]</td>\n",
       "    </tr>\n",
       "  </tbody>\n",
       "</table>\n",
       "<p>660 rows × 3 columns</p>\n",
       "</div>"
      ],
      "text/plain": [
       "                          speech_id       worker_id  \\\n",
       "0    301KG0KXAZ355GRD9LSX6LBA2CHH2H  A1NBQ61Y6KO3O9   \n",
       "1    301KG0KXAZ355GRD9LSX6LBA2CHH2H  A1X47COW2Y9SEL   \n",
       "2    301KG0KXAZ355GRD9LSX6LBA2CHH2H  A335R4YE2E34H6   \n",
       "3    302OLP89EMP3TBB1087B1CXS184CAA  A1NBQ61Y6KO3O9   \n",
       "4    302OLP89EMP3TBB1087B1CXS184CAA  A1X47COW2Y9SEL   \n",
       "..                              ...             ...   \n",
       "655  3ZXNP4Z3AE3EDD796IOQU4LPUM0L7M  A1X47COW2Y9SEL   \n",
       "656  3ZXNP4Z3AE3EDD796IOQU4LPUM0L7M  A3GS2NTQ4XU059   \n",
       "657  3ZXV7Q5FKY6YP2S9BOT3FD8JYOHCFN  A1BQ37ZGUM16XI   \n",
       "658  3ZXV7Q5FKY6YP2S9BOT3FD8JYOHCFN  A1X47COW2Y9SEL   \n",
       "659  3ZXV7Q5FKY6YP2S9BOT3FD8JYOHCFN   APXGSUB250NVH   \n",
       "\n",
       "                                                answer  \n",
       "0    [\"Market regulation\",\"Middle Class & Professio...  \n",
       "1                                [\"Market regulation\"]  \n",
       "2                                [\"Market regulation\"]  \n",
       "3    [\"Government and administrative efficiency\",\"E...  \n",
       "4                                   [\"Economic Goals\"]  \n",
       "..                                                 ...  \n",
       "655  [\"Market regulation\",\"Government and administr...  \n",
       "656                            [\"Free Market Economy\"]  \n",
       "657                              [\"Market regulation\"]  \n",
       "658        [\"Market regulation\",\"Anti-Growth Economy\"]  \n",
       "659                                 [\"Economic Goals\"]  \n",
       "\n",
       "[660 rows x 3 columns]"
      ]
     },
     "execution_count": 15,
     "metadata": {},
     "output_type": "execute_result"
    }
   ],
   "source": [
    "# only keep needed columns and rename \n",
    "df_clean = df[['HITId', 'WorkerId', 'Answer.manifesto_class.labels']].copy() #remove unnecessary columns\n",
    "df_clean.rename(columns={\n",
    "    'HITId': 'speech_id',\n",
    "    'WorkerId': 'worker_id',\n",
    "    'Answer.manifesto_class.labels': 'answer'\n",
    "}, inplace=True)\n",
    "\n",
    "# extra cleaning, dropping nulls, making sure all labels are ints, \n",
    "df_clean = df_clean.sort_values(by=['speech_id', 'worker_id']).reset_index(drop=True)\n",
    "\n",
    "# Final preview\n",
    "\n",
    "df_clean"
   ]
  },
  {
   "cell_type": "code",
   "execution_count": 16,
   "id": "b00e4647",
   "metadata": {},
   "outputs": [
    {
     "name": "stdout",
     "output_type": "stream",
     "text": [
      "Speeches with <3 valid annotations: 65\n",
      "speech_id\n",
      "302OLP89EMP3TBB1087B1CXS184CAA    2\n",
      "309D674SIM38CLGT6M77WNHYJQPCB5    2\n",
      "30IRMPJWEM1DBQ96UWAVKLZA6YPKRH    1\n",
      "30OITAWPCDLG50CCUU7CG8JO8IRH99    2\n",
      "3126F2F5GVLPDD1HLIV3HVMQL6HEPL    2\n",
      "                                 ..\n",
      "3V8JSVE8ZL8JMRTIC5RMUMF2PBKEYF    2\n",
      "3VGET1QS0NHUO7J8AWVS3F25ST47W1    2\n",
      "3VQTAXTYOQ34YFXTSDS7QT34QQWBUE    2\n",
      "3W9XHF7WH7DQR5MYYLFQK00SUJMKTU    2\n",
      "3WJGKMRWW5R1RIEDKIYDRD5YMB1CDC    2\n",
      "Length: 65, dtype: int64\n"
     ]
    }
   ],
   "source": [
    "# sanity check\n",
    "\n",
    "# First, ensure 'answer' is treated as a list, not a string\n",
    "df_clean['answer'] = df_clean['answer'].apply(lambda x: eval(x) if isinstance(x, str) else x)\n",
    "\n",
    "# Filter out empty annotations\n",
    "df_non_empty = df_clean[df_clean['answer'].apply(lambda x: isinstance(x, list) and len(x) > 0)]\n",
    "\n",
    "# Count valid annotations per speech\n",
    "annotation_counts = df_non_empty.groupby('speech_id').size()\n",
    "\n",
    "# Identify speeches that don't have exactly 3 valid annotations\n",
    "incomplete_speeches = annotation_counts[annotation_counts != 3]\n",
    "\n",
    "# Print result\n",
    "print(f\"Speeches with <3 valid annotations: {len(incomplete_speeches)}\")\n",
    "print(incomplete_speeches)\n"
   ]
  },
  {
   "cell_type": "markdown",
   "id": "a19ccd51",
   "metadata": {},
   "source": [
    "define 'answer's and workers"
   ]
  },
  {
   "cell_type": "code",
   "execution_count": 17,
   "id": "0bdca39a",
   "metadata": {},
   "outputs": [],
   "source": [
    "workers = [\n",
    "    'A1BQ37ZGUM16XI', \n",
    "    'A1NBQ61Y6KO3O9', \n",
    "    'A1X47COW2Y9SEL', \n",
    "    'A335R4YE2E34H6', \n",
    "    'A3GS2NTQ4XU059', \n",
    "    'APXGSUB250NVH'\n",
    "]"
   ]
  },
  {
   "cell_type": "code",
   "execution_count": 19,
   "id": "78ea8a85",
   "metadata": {},
   "outputs": [],
   "source": [
    "# only run this once!!!!!!!!!!!!!!!\n",
    "#df_clean['answer'] = df_clean['answer'].apply(eval)  # Safely parse list from string"
   ]
  },
  {
   "cell_type": "markdown",
   "id": "ec3bc431",
   "metadata": {},
   "source": [
    "Rename all df columns to have a T/F for each category"
   ]
  },
  {
   "cell_type": "code",
   "execution_count": null,
   "id": "034833c6",
   "metadata": {},
   "outputs": [
    {
     "name": "stdout",
     "output_type": "stream",
     "text": [
      "['Market regulation' 'Middle Class & Professional Groups'\n",
      " 'Government and administrative efficiency' 'Economic Planning'\n",
      " 'Economic Goals' 'Anti-Growth Economy' 'Economic Growth'\n",
      " 'Free Market Economy' 'Incentives' 'Keynesian Demand Management'\n",
      " 'Corporatism / Mixed Economy' 'Technology and Infrastructure'\n",
      " 'Labor Groups Positive' 'Labor Groups Negative']\n"
     ]
    }
   ],
   "source": [
    "\n",
    "\n",
    "all_answers = df_clean['answer'].dropna().apply(\n",
    "    lambda x: ast.literal_eval(x) if isinstance(x, str) else x\n",
    ")\n",
    "\n",
    "all_answers = all_answers[all_answers.apply(lambda x: isinstance(x, list))]\n",
    "all_categories = [category for sublist in all_answers for category in sublist]\n",
    "unique_categories = pd.Series(all_categories).unique()\n",
    "\n",
    "print(unique_categories)"
   ]
  },
  {
   "cell_type": "code",
   "execution_count": null,
   "id": "d11d15c1",
   "metadata": {},
   "outputs": [],
   "source": [
    "with open(\"unique_categories.json\", \"w\") as f:\n",
    "    json.dump(unique_categories.tolist(), f)"
   ]
  },
  {
   "cell_type": "code",
   "execution_count": null,
   "id": "440f86a1",
   "metadata": {},
   "outputs": [],
   "source": [
    "for category in unique_categories:\n",
    "    df[category] = df['Answer.manifesto_class.labels'].str.contains(category)"
   ]
  },
  {
   "cell_type": "markdown",
   "id": "6c5945f3",
   "metadata": {},
   "source": [
    "Create a secondary matrix with unique speech rows and worker columns"
   ]
  },
  {
   "cell_type": "code",
   "execution_count": null,
   "id": "3388ab54",
   "metadata": {},
   "outputs": [
    {
     "data": {
      "application/vnd.microsoft.datawrangler.viewer.v0+json": {
       "columns": [
        {
         "name": "speech_id",
         "rawType": "object",
         "type": "string"
        },
        {
         "name": "A1BQ37ZGUM16XI",
         "rawType": "object",
         "type": "unknown"
        },
        {
         "name": "A1NBQ61Y6KO3O9",
         "rawType": "object",
         "type": "unknown"
        },
        {
         "name": "A1X47COW2Y9SEL",
         "rawType": "object",
         "type": "unknown"
        },
        {
         "name": "A335R4YE2E34H6",
         "rawType": "object",
         "type": "unknown"
        },
        {
         "name": "A3GS2NTQ4XU059",
         "rawType": "object",
         "type": "unknown"
        },
        {
         "name": "APXGSUB250NVH",
         "rawType": "object",
         "type": "unknown"
        }
       ],
       "ref": "31e8a9df-fdef-4e4a-b7ea-800895f186cb",
       "rows": [
        [
         "301KG0KXAZ355GRD9LSX6LBA2CHH2H",
         "[]",
         "['Market regulation', 'Middle Class & Professional Groups']",
         "['Market regulation']",
         "['Market regulation']",
         "[]",
         "[]"
        ],
        [
         "302OLP89EMP3TBB1087B1CXS184CAA",
         "[]",
         "['Government and administrative efficiency', 'Economic Planning', 'Economic Goals']",
         "['Economic Goals']",
         "[]",
         "[]",
         "[]"
        ],
        [
         "306996CF7J2OPI6VQPINFRY7FTYB1E",
         "[]",
         "['Anti-Growth Economy', 'Market regulation']",
         "['Government and administrative efficiency']",
         "['Economic Planning', 'Economic Growth']",
         "[]",
         "[]"
        ],
        [
         "3087LXLJ79YEVAXTZ80JKC6IPZKF0X",
         "[]",
         "['Market regulation', 'Economic Planning', 'Economic Growth']",
         "['Free Market Economy', 'Economic Growth']",
         "['Market regulation', 'Economic Growth']",
         "[]",
         "[]"
        ],
        [
         "308KJXFUKEOKFSDCMU21QMXWPU4ATR",
         "[]",
         "['Economic Planning', 'Market regulation', 'Economic Goals']",
         "['Economic Goals']",
         "['Market regulation', 'Economic Planning']",
         "[]",
         "[]"
        ],
        [
         "309D674SIM38CLGT6M77WNHYJQPCB5",
         "[]",
         "['Government and administrative efficiency', 'Economic Goals']",
         "[]",
         "['Free Market Economy']",
         "[]",
         "[]"
        ],
        [
         "30EMX9PEW71PC59J9LA0AV46S08KS5",
         "[]",
         "['Market regulation', 'Incentives']",
         "[]",
         "[]",
         "['Keynesian Demand Management']",
         "['Economic Goals']"
        ],
        [
         "30IRMPJWEM1DBQ96UWAVKLZA6YPKRH",
         "[]",
         "[]",
         "[]",
         "[]",
         "['Economic Goals']",
         "[]"
        ],
        [
         "30OITAWPCDLG50CCUU7CG8JO8IRH99",
         "[]",
         "['Market regulation', 'Anti-Growth Economy']",
         "['Market regulation']",
         "[]",
         "[]",
         "[]"
        ],
        [
         "30P8I9JKP532ME5KWTBZJT5VUE75VA",
         "[]",
         "[]",
         "['Market regulation']",
         "['Market regulation', 'Anti-Growth Economy']",
         "['Market regulation']",
         "[]"
        ],
        [
         "30QQTY5GN72HW3U3FWGRLRH87DT7U2",
         "[]",
         "['Market regulation', 'Corporatism / Mixed Economy', 'Government and administrative efficiency', 'Economic Planning', 'Anti-Growth Economy']",
         "[]",
         "[]",
         "['Economic Goals']",
         "['Economic Planning', 'Economic Goals']"
        ],
        [
         "3126F2F5GVLPDD1HLIV3HVMQL6HEPL",
         "[]",
         "['Economic Planning']",
         "['Technology and Infrastructure', 'Economic Planning']",
         "[]",
         "[]",
         "[]"
        ],
        [
         "31ANT7FQOVKX4DA0R4UV4SEMMM8H5I",
         "[]",
         "['Economic Growth', 'Incentives', 'Economic Planning']",
         "['Economic Growth']",
         "[]",
         "[]",
         "[]"
        ],
        [
         "31ANT7FQOVKX4DA0R4UV4SEMMZW5HK",
         "[]",
         "['Economic Planning', 'Economic Growth', 'Incentives']",
         "[]",
         "[]",
         "['Economic Goals']",
         "['Economic Goals', 'Keynesian Demand Management']"
        ],
        [
         "31J7RYEC08802RS7H27HTUUCR00L1P",
         "[]",
         "['Middle Class & Professional Groups', 'Labor Groups Positive', 'Incentives', 'Economic Planning']",
         "[]",
         "['Labor Groups Positive', 'Free Market Economy', 'Incentives']",
         "['Keynesian Demand Management', 'Economic Planning']",
         "[]"
        ],
        [
         "31JUPBOOSAMIDRCSGNGW84HK566L89",
         "[]",
         "['Anti-Growth Economy', 'Free Market Economy', 'Economic Planning', 'Economic Goals']",
         "[]",
         "['Economic Growth', 'Government and administrative efficiency']",
         "['Economic Growth', 'Free Market Economy']",
         "[]"
        ],
        [
         "31KPKEKW5XVOITLDU6EN1MFXA1SB0B",
         "[]",
         "[]",
         "[]",
         "[]",
         "[]",
         "[]"
        ],
        [
         "31MBOZ6PBB9KPU25XZW1AQD3VXRLCF",
         "[]",
         "['Government and administrative efficiency', 'Incentives', 'Economic Goals']",
         "[]",
         "[]",
         "['Keynesian Demand Management']",
         "['Keynesian Demand Management', 'Economic Planning']"
        ],
        [
         "31N9JPQXJC01U2G6V4QHY9E8D78HN8",
         "[]",
         "['Economic Growth', 'Government and administrative efficiency', 'Economic Planning']",
         "['Economic Growth', 'Technology and Infrastructure', 'Labor Groups Positive']",
         "['Keynesian Demand Management', 'Labor Groups Positive', 'Economic Planning', 'Market regulation', 'Government and administrative efficiency']",
         "[]",
         "[]"
        ],
        [
         "31YWE12TFNU9D7OYK1RE5YGC1VA7XU",
         "['Market regulation']",
         "['Market regulation', 'Government and administrative efficiency', 'Anti-Growth Economy']",
         "[]",
         "[]",
         "[]",
         "[]"
        ],
        [
         "32204AGABYUVKAZK80DM8P5BCVMHG0",
         "[]",
         "['Economic Growth', 'Economic Planning']",
         "[]",
         "[]",
         "[]",
         "[]"
        ],
        [
         "324N5FAHTKT54XQN3GF5LIODR42KVA",
         "[]",
         "['Labor Groups Positive', 'Government and administrative efficiency', 'Middle Class & Professional Groups']",
         "[]",
         "[]",
         "[]",
         "[]"
        ],
        [
         "32W3UF2E0B3ORMVKR7XKO9BS9Y8C4Z",
         "[]",
         "['Government and administrative efficiency', 'Market regulation', 'Middle Class & Professional Groups']",
         "[]",
         "['Market regulation']",
         "[]",
         "[]"
        ],
        [
         "32XN26MTYM10V27PLJ3HFPB2M8UL0M",
         "[]",
         "['Government and administrative efficiency', 'Economic Planning']",
         "[]",
         "[]",
         "['Economic Planning']",
         "['Government and administrative efficiency']"
        ],
        [
         "32ZCLEW0CM2XOTN9ZJ6UEBZIQEDJPB",
         "[]",
         "['Economic Growth']",
         "['Economic Goals']",
         "['Keynesian Demand Management']",
         "[]",
         "[]"
        ],
        [
         "335HHSX8D0NS8QPT6ACE242EZ36HDQ",
         "[]",
         "['Free Market Economy', 'Market regulation', 'Technology and Infrastructure', 'Incentives']",
         "['Free Market Economy', 'Technology and Infrastructure']",
         "['Incentives', 'Labor Groups Positive', 'Government and administrative efficiency']",
         "[]",
         "[]"
        ],
        [
         "33P2GD6NSAA0MWV3YRY16HX4JC3HK3",
         "[]",
         "['Market regulation', 'Economic Goals']",
         "[]",
         "[]",
         "[]",
         "[]"
        ],
        [
         "33P2GD6NSAA0MWV3YRY16HX4JPRKHK",
         "[]",
         "['Labor Groups Positive', 'Market regulation', 'Government and administrative efficiency']",
         "[]",
         "[]",
         "['Labor Groups Positive']",
         "['Market regulation']"
        ],
        [
         "3421H3BMAXZCW672IUAXSLZ3LNJJ9U",
         "[]",
         "['Economic Goals']",
         "[]",
         "[]",
         "['Economic Goals']",
         "[]"
        ],
        [
         "344M16OZL5XPASP453IBD6HVLRGENP",
         "[]",
         "[]",
         "['Free Market Economy', 'Corporatism / Mixed Economy', 'Economic Growth']",
         "['Market regulation', 'Economic Planning']",
         "['Free Market Economy']",
         "[]"
        ],
        [
         "34D9ZRXCZECJ0S0XXUXBGH1ANBQAS2",
         "[]",
         "['Market regulation', 'Economic Growth', 'Technology and Infrastructure']",
         "['Market regulation', 'Economic Goals']",
         "['Market regulation', 'Technology and Infrastructure', 'Incentives', 'Economic Planning', 'Economic Growth']",
         "[]",
         "[]"
        ],
        [
         "34F34TZU8JH1WMM3XLVIIYRPFH9J22",
         "[]",
         "['Middle Class & Professional Groups', 'Government and administrative efficiency', 'Incentives', 'Economic Planning']",
         "[]",
         "[]",
         "['Keynesian Demand Management', 'Economic Planning']",
         "['Government and administrative efficiency', 'Economic Goals']"
        ],
        [
         "34HEO7RUHTC7ZD0KI5X6Q7WE197ARE",
         "[]",
         "['Government and administrative efficiency', 'Market regulation', 'Economic Planning']",
         "['Market regulation']",
         "['Market regulation']",
         "[]",
         "[]"
        ],
        [
         "34ZTTGSNKK6MXZTYBWIY239DIIVHQV",
         "[]",
         "['Government and administrative efficiency', 'Incentives', 'Economic Planning', 'Economic Goals', 'Economic Growth']",
         "['Government and administrative efficiency', 'Labor Groups Positive', 'Economic Growth']",
         "['Government and administrative efficiency', 'Market regulation', 'Incentives', 'Labor Groups Positive', 'Economic Growth']",
         "[]",
         "[]"
        ],
        [
         "351S7I5UHWEXL8BWJ4T2AMUNQZCJNF",
         "[]",
         "['Government and administrative efficiency', 'Incentives', 'Economic Growth']",
         "['Economic Goals', 'Government and administrative efficiency']",
         "['Market regulation', 'Economic Planning']",
         "[]",
         "[]"
        ],
        [
         "3538U0YQ22CAC2WQIVI2MA4PSB4F3S",
         "[]",
         "['Free Market Economy']",
         "['Free Market Economy']",
         "['Government and administrative efficiency']",
         "[]",
         "[]"
        ],
        [
         "3538U0YQ22CAC2WQIVI2MA4PSOSF36",
         "[]",
         "['Government and administrative efficiency']",
         "[]",
         "[]",
         "['Government and administrative efficiency']",
         "['Government and administrative efficiency']"
        ],
        [
         "359AP8GAH32LA9D3T5VRRLV200YC7J",
         "[]",
         "['Incentives', 'Economic Planning', 'Labor Groups Positive']",
         "['Free Market Economy', 'Incentives', 'Economic Goals']",
         "['Government and administrative efficiency', 'Market regulation', 'Incentives', 'Labor Groups Positive']",
         "[]",
         "[]"
        ],
        [
         "35A1YQPVG1YX08LKXMCG44F1MCB5ID",
         "[]",
         "[]",
         "['Market regulation', 'Economic Planning']",
         "['Corporatism / Mixed Economy', 'Government and administrative efficiency']",
         "['Economic Planning', 'Labor Groups Positive']",
         "[]"
        ],
        [
         "35JDMRECDRRJ008IIZ5GNM8YKFUEGH",
         "[]",
         "[]",
         "['Incentives']",
         "['Market regulation', 'Economic Planning', 'Keynesian Demand Management']",
         "['Keynesian Demand Management']",
         "[]"
        ],
        [
         "35O6H0UNMFYTVJ5QF4XGG5U1ZR05JP",
         "[]",
         "[]",
         "[]",
         "[]",
         "[]",
         "[]"
        ],
        [
         "35O6H0UNMFYTVJ5QF4XGG5U1ZR0J53",
         "[]",
         "['Middle Class & Professional Groups', 'Anti-Growth Economy', 'Market regulation', 'Government and administrative efficiency']",
         "[]",
         "['Technology and Infrastructure', 'Anti-Growth Economy']",
         "[]",
         "['Technology and Infrastructure']"
        ],
        [
         "363A7XIFWR4ZSKH1RP2GR4LHMFKAV7",
         "[]",
         "['Economic Planning', 'Economic Growth', 'Technology and Infrastructure']",
         "['Technology and Infrastructure', 'Economic Planning', 'Free Market Economy', 'Economic Growth']",
         "['Market regulation', 'Economic Growth', 'Labor Groups Positive', 'Technology and Infrastructure']",
         "[]",
         "[]"
        ],
        [
         "366FYU4PU37O2M418QQVLE0RR9ZKE4",
         "[]",
         "['Free Market Economy']",
         "[]",
         "[]",
         "[]",
         "[]"
        ],
        [
         "366FYU4PU37O2M418QQVLE0RRWBEKK",
         "['Anti-Growth Economy']",
         "[]",
         "['Free Market Economy']",
         "['Government and administrative efficiency', 'Free Market Economy']",
         "[]",
         "[]"
        ],
        [
         "36AZSFEY0RI4BUMTX32CMF5N4X5BV3",
         "[]",
         "[]",
         "['Market regulation']",
         "['Market regulation']",
         "[]",
         "['Market regulation']"
        ],
        [
         "36FFXPMSUW6JCNGIWJQUDYED3HDHON",
         "[]",
         "['Middle Class & Professional Groups', 'Labor Groups Positive']",
         "['Labor Groups Positive']",
         "['Labor Groups Positive', 'Market regulation']",
         "[]",
         "[]"
        ],
        [
         "36GJS3V79I8RBGUAW0G7K2LQP0EJGL",
         "[]",
         "['Economic Growth', 'Labor Groups Positive', 'Market regulation']",
         "[]",
         "[]",
         "['Economic Goals', 'Labor Groups Positive']",
         "['Economic Goals']"
        ],
        [
         "36JW4WBR1T2P6A3PXG74Q45ZBGMHF1",
         "[]",
         "['Middle Class & Professional Groups', 'Economic Planning', 'Technology and Infrastructure', 'Labor Groups Positive']",
         "['Labor Groups Positive']",
         "['Market regulation', 'Technology and Infrastructure', 'Labor Groups Positive']",
         "[]",
         "[]"
        ],
        [
         "36MUZ9VAFTKGOGYRG948H1517NEED7",
         "[]",
         "['Government and administrative efficiency', 'Middle Class & Professional Groups', 'Economic Planning']",
         "['Economic Planning']",
         "[]",
         "[]",
         "[]"
        ]
       ],
       "shape": {
        "columns": 6,
        "rows": 220
       }
      },
      "text/html": [
       "<div>\n",
       "<style scoped>\n",
       "    .dataframe tbody tr th:only-of-type {\n",
       "        vertical-align: middle;\n",
       "    }\n",
       "\n",
       "    .dataframe tbody tr th {\n",
       "        vertical-align: top;\n",
       "    }\n",
       "\n",
       "    .dataframe thead th {\n",
       "        text-align: right;\n",
       "    }\n",
       "</style>\n",
       "<table border=\"1\" class=\"dataframe\">\n",
       "  <thead>\n",
       "    <tr style=\"text-align: right;\">\n",
       "      <th>worker_id</th>\n",
       "      <th>A1BQ37ZGUM16XI</th>\n",
       "      <th>A1NBQ61Y6KO3O9</th>\n",
       "      <th>A1X47COW2Y9SEL</th>\n",
       "      <th>A335R4YE2E34H6</th>\n",
       "      <th>A3GS2NTQ4XU059</th>\n",
       "      <th>APXGSUB250NVH</th>\n",
       "    </tr>\n",
       "    <tr>\n",
       "      <th>speech_id</th>\n",
       "      <th></th>\n",
       "      <th></th>\n",
       "      <th></th>\n",
       "      <th></th>\n",
       "      <th></th>\n",
       "      <th></th>\n",
       "    </tr>\n",
       "  </thead>\n",
       "  <tbody>\n",
       "    <tr>\n",
       "      <th>301KG0KXAZ355GRD9LSX6LBA2CHH2H</th>\n",
       "      <td>[]</td>\n",
       "      <td>[Market regulation, Middle Class &amp; Professiona...</td>\n",
       "      <td>[Market regulation]</td>\n",
       "      <td>[Market regulation]</td>\n",
       "      <td>[]</td>\n",
       "      <td>[]</td>\n",
       "    </tr>\n",
       "    <tr>\n",
       "      <th>302OLP89EMP3TBB1087B1CXS184CAA</th>\n",
       "      <td>[]</td>\n",
       "      <td>[Government and administrative efficiency, Eco...</td>\n",
       "      <td>[Economic Goals]</td>\n",
       "      <td>[]</td>\n",
       "      <td>[]</td>\n",
       "      <td>[]</td>\n",
       "    </tr>\n",
       "    <tr>\n",
       "      <th>306996CF7J2OPI6VQPINFRY7FTYB1E</th>\n",
       "      <td>[]</td>\n",
       "      <td>[Anti-Growth Economy, Market regulation]</td>\n",
       "      <td>[Government and administrative efficiency]</td>\n",
       "      <td>[Economic Planning, Economic Growth]</td>\n",
       "      <td>[]</td>\n",
       "      <td>[]</td>\n",
       "    </tr>\n",
       "    <tr>\n",
       "      <th>3087LXLJ79YEVAXTZ80JKC6IPZKF0X</th>\n",
       "      <td>[]</td>\n",
       "      <td>[Market regulation, Economic Planning, Economi...</td>\n",
       "      <td>[Free Market Economy, Economic Growth]</td>\n",
       "      <td>[Market regulation, Economic Growth]</td>\n",
       "      <td>[]</td>\n",
       "      <td>[]</td>\n",
       "    </tr>\n",
       "    <tr>\n",
       "      <th>308KJXFUKEOKFSDCMU21QMXWPU4ATR</th>\n",
       "      <td>[]</td>\n",
       "      <td>[Economic Planning, Market regulation, Economi...</td>\n",
       "      <td>[Economic Goals]</td>\n",
       "      <td>[Market regulation, Economic Planning]</td>\n",
       "      <td>[]</td>\n",
       "      <td>[]</td>\n",
       "    </tr>\n",
       "    <tr>\n",
       "      <th>...</th>\n",
       "      <td>...</td>\n",
       "      <td>...</td>\n",
       "      <td>...</td>\n",
       "      <td>...</td>\n",
       "      <td>...</td>\n",
       "      <td>...</td>\n",
       "    </tr>\n",
       "    <tr>\n",
       "      <th>3YZ7A3YHSSBMUMOG2Y6U86LOVAD5S5</th>\n",
       "      <td>[]</td>\n",
       "      <td>[Government and administrative efficiency, Mar...</td>\n",
       "      <td>[Government and administrative efficiency, Fre...</td>\n",
       "      <td>[]</td>\n",
       "      <td>[Free Market Economy]</td>\n",
       "      <td>[]</td>\n",
       "    </tr>\n",
       "    <tr>\n",
       "      <th>3ZUE82NE1XJWDZ2WUCDYDRC08AKF8Y</th>\n",
       "      <td>[]</td>\n",
       "      <td>[Corporatism / Mixed Economy, Anti-Growth Econ...</td>\n",
       "      <td>[]</td>\n",
       "      <td>[Corporatism / Mixed Economy]</td>\n",
       "      <td>[]</td>\n",
       "      <td>[Economic Goals, Government and administrative...</td>\n",
       "    </tr>\n",
       "    <tr>\n",
       "      <th>3ZURAPD29V5E2ZIBVR4JYHPSURQF10</th>\n",
       "      <td>[]</td>\n",
       "      <td>[Middle Class &amp; Professional Groups, Incentive...</td>\n",
       "      <td>[Technology and Infrastructure]</td>\n",
       "      <td>[Labor Groups Positive, Technology and Infrast...</td>\n",
       "      <td>[]</td>\n",
       "      <td>[]</td>\n",
       "    </tr>\n",
       "    <tr>\n",
       "      <th>3ZXNP4Z3AE3EDD796IOQU4LPUM0L7M</th>\n",
       "      <td>[]</td>\n",
       "      <td>[Middle Class &amp; Professional Groups, Market re...</td>\n",
       "      <td>[Market regulation, Government and administrat...</td>\n",
       "      <td>[]</td>\n",
       "      <td>[Free Market Economy]</td>\n",
       "      <td>[]</td>\n",
       "    </tr>\n",
       "    <tr>\n",
       "      <th>3ZXV7Q5FKY6YP2S9BOT3FD8JYOHCFN</th>\n",
       "      <td>[Market regulation]</td>\n",
       "      <td>[]</td>\n",
       "      <td>[Market regulation, Anti-Growth Economy]</td>\n",
       "      <td>[]</td>\n",
       "      <td>[]</td>\n",
       "      <td>[Economic Goals]</td>\n",
       "    </tr>\n",
       "  </tbody>\n",
       "</table>\n",
       "<p>220 rows × 6 columns</p>\n",
       "</div>"
      ],
      "text/plain": [
       "worker_id                            A1BQ37ZGUM16XI  \\\n",
       "speech_id                                             \n",
       "301KG0KXAZ355GRD9LSX6LBA2CHH2H                   []   \n",
       "302OLP89EMP3TBB1087B1CXS184CAA                   []   \n",
       "306996CF7J2OPI6VQPINFRY7FTYB1E                   []   \n",
       "3087LXLJ79YEVAXTZ80JKC6IPZKF0X                   []   \n",
       "308KJXFUKEOKFSDCMU21QMXWPU4ATR                   []   \n",
       "...                                             ...   \n",
       "3YZ7A3YHSSBMUMOG2Y6U86LOVAD5S5                   []   \n",
       "3ZUE82NE1XJWDZ2WUCDYDRC08AKF8Y                   []   \n",
       "3ZURAPD29V5E2ZIBVR4JYHPSURQF10                   []   \n",
       "3ZXNP4Z3AE3EDD796IOQU4LPUM0L7M                   []   \n",
       "3ZXV7Q5FKY6YP2S9BOT3FD8JYOHCFN  [Market regulation]   \n",
       "\n",
       "worker_id                                                          A1NBQ61Y6KO3O9  \\\n",
       "speech_id                                                                           \n",
       "301KG0KXAZ355GRD9LSX6LBA2CHH2H  [Market regulation, Middle Class & Professiona...   \n",
       "302OLP89EMP3TBB1087B1CXS184CAA  [Government and administrative efficiency, Eco...   \n",
       "306996CF7J2OPI6VQPINFRY7FTYB1E           [Anti-Growth Economy, Market regulation]   \n",
       "3087LXLJ79YEVAXTZ80JKC6IPZKF0X  [Market regulation, Economic Planning, Economi...   \n",
       "308KJXFUKEOKFSDCMU21QMXWPU4ATR  [Economic Planning, Market regulation, Economi...   \n",
       "...                                                                           ...   \n",
       "3YZ7A3YHSSBMUMOG2Y6U86LOVAD5S5  [Government and administrative efficiency, Mar...   \n",
       "3ZUE82NE1XJWDZ2WUCDYDRC08AKF8Y  [Corporatism / Mixed Economy, Anti-Growth Econ...   \n",
       "3ZURAPD29V5E2ZIBVR4JYHPSURQF10  [Middle Class & Professional Groups, Incentive...   \n",
       "3ZXNP4Z3AE3EDD796IOQU4LPUM0L7M  [Middle Class & Professional Groups, Market re...   \n",
       "3ZXV7Q5FKY6YP2S9BOT3FD8JYOHCFN                                                 []   \n",
       "\n",
       "worker_id                                                          A1X47COW2Y9SEL  \\\n",
       "speech_id                                                                           \n",
       "301KG0KXAZ355GRD9LSX6LBA2CHH2H                                [Market regulation]   \n",
       "302OLP89EMP3TBB1087B1CXS184CAA                                   [Economic Goals]   \n",
       "306996CF7J2OPI6VQPINFRY7FTYB1E         [Government and administrative efficiency]   \n",
       "3087LXLJ79YEVAXTZ80JKC6IPZKF0X             [Free Market Economy, Economic Growth]   \n",
       "308KJXFUKEOKFSDCMU21QMXWPU4ATR                                   [Economic Goals]   \n",
       "...                                                                           ...   \n",
       "3YZ7A3YHSSBMUMOG2Y6U86LOVAD5S5  [Government and administrative efficiency, Fre...   \n",
       "3ZUE82NE1XJWDZ2WUCDYDRC08AKF8Y                                                 []   \n",
       "3ZURAPD29V5E2ZIBVR4JYHPSURQF10                    [Technology and Infrastructure]   \n",
       "3ZXNP4Z3AE3EDD796IOQU4LPUM0L7M  [Market regulation, Government and administrat...   \n",
       "3ZXV7Q5FKY6YP2S9BOT3FD8JYOHCFN           [Market regulation, Anti-Growth Economy]   \n",
       "\n",
       "worker_id                                                          A335R4YE2E34H6  \\\n",
       "speech_id                                                                           \n",
       "301KG0KXAZ355GRD9LSX6LBA2CHH2H                                [Market regulation]   \n",
       "302OLP89EMP3TBB1087B1CXS184CAA                                                 []   \n",
       "306996CF7J2OPI6VQPINFRY7FTYB1E               [Economic Planning, Economic Growth]   \n",
       "3087LXLJ79YEVAXTZ80JKC6IPZKF0X               [Market regulation, Economic Growth]   \n",
       "308KJXFUKEOKFSDCMU21QMXWPU4ATR             [Market regulation, Economic Planning]   \n",
       "...                                                                           ...   \n",
       "3YZ7A3YHSSBMUMOG2Y6U86LOVAD5S5                                                 []   \n",
       "3ZUE82NE1XJWDZ2WUCDYDRC08AKF8Y                      [Corporatism / Mixed Economy]   \n",
       "3ZURAPD29V5E2ZIBVR4JYHPSURQF10  [Labor Groups Positive, Technology and Infrast...   \n",
       "3ZXNP4Z3AE3EDD796IOQU4LPUM0L7M                                                 []   \n",
       "3ZXV7Q5FKY6YP2S9BOT3FD8JYOHCFN                                                 []   \n",
       "\n",
       "worker_id                              A3GS2NTQ4XU059  \\\n",
       "speech_id                                               \n",
       "301KG0KXAZ355GRD9LSX6LBA2CHH2H                     []   \n",
       "302OLP89EMP3TBB1087B1CXS184CAA                     []   \n",
       "306996CF7J2OPI6VQPINFRY7FTYB1E                     []   \n",
       "3087LXLJ79YEVAXTZ80JKC6IPZKF0X                     []   \n",
       "308KJXFUKEOKFSDCMU21QMXWPU4ATR                     []   \n",
       "...                                               ...   \n",
       "3YZ7A3YHSSBMUMOG2Y6U86LOVAD5S5  [Free Market Economy]   \n",
       "3ZUE82NE1XJWDZ2WUCDYDRC08AKF8Y                     []   \n",
       "3ZURAPD29V5E2ZIBVR4JYHPSURQF10                     []   \n",
       "3ZXNP4Z3AE3EDD796IOQU4LPUM0L7M  [Free Market Economy]   \n",
       "3ZXV7Q5FKY6YP2S9BOT3FD8JYOHCFN                     []   \n",
       "\n",
       "worker_id                                                           APXGSUB250NVH  \n",
       "speech_id                                                                          \n",
       "301KG0KXAZ355GRD9LSX6LBA2CHH2H                                                 []  \n",
       "302OLP89EMP3TBB1087B1CXS184CAA                                                 []  \n",
       "306996CF7J2OPI6VQPINFRY7FTYB1E                                                 []  \n",
       "3087LXLJ79YEVAXTZ80JKC6IPZKF0X                                                 []  \n",
       "308KJXFUKEOKFSDCMU21QMXWPU4ATR                                                 []  \n",
       "...                                                                           ...  \n",
       "3YZ7A3YHSSBMUMOG2Y6U86LOVAD5S5                                                 []  \n",
       "3ZUE82NE1XJWDZ2WUCDYDRC08AKF8Y  [Economic Goals, Government and administrative...  \n",
       "3ZURAPD29V5E2ZIBVR4JYHPSURQF10                                                 []  \n",
       "3ZXNP4Z3AE3EDD796IOQU4LPUM0L7M                                                 []  \n",
       "3ZXV7Q5FKY6YP2S9BOT3FD8JYOHCFN                                   [Economic Goals]  \n",
       "\n",
       "[220 rows x 6 columns]"
      ]
     },
     "execution_count": 211,
     "metadata": {},
     "output_type": "execute_result"
    }
   ],
   "source": [
    "df_pivot = df_clean.pivot(index='speech_id', columns='worker_id', values='answer')\n",
    "df_pivot = df_pivot.reindex(columns=workers)\n",
    "df_pivot = df_pivot.fillna('[]')  # maybe change\n",
    "\n",
    "df_pivot"
   ]
  },
  {
   "cell_type": "markdown",
   "id": "126f68ef",
   "metadata": {},
   "source": [
    "Seperate DataFrame by categories in answers"
   ]
  },
  {
   "cell_type": "code",
   "execution_count": null,
   "id": "37d14998",
   "metadata": {},
   "outputs": [
    {
     "name": "stderr",
     "output_type": "stream",
     "text": [
      "/var/folders/m1/tw6x4xns6fn4nk3wf2lc_3vc0000gn/T/ipykernel_63980/2877661995.py:2: FutureWarning: DataFrame.applymap has been deprecated. Use DataFrame.map instead.\n",
      "  df_pivot_cleaned = df_pivot.applymap(lambda x: eval(x) if isinstance(x, str) else x)\n"
     ]
    },
    {
     "data": {
      "application/vnd.microsoft.datawrangler.viewer.v0+json": {
       "columns": [
        {
         "name": "index",
         "rawType": "object",
         "type": "string"
        },
        {
         "name": "worker1",
         "rawType": "int64",
         "type": "integer"
        },
        {
         "name": "worker2",
         "rawType": "int64",
         "type": "integer"
        },
        {
         "name": "worker3",
         "rawType": "int64",
         "type": "integer"
        }
       ],
       "ref": "0aee8afc-b668-4e07-b9f9-e1be3f24d5c8",
       "rows": [
        [
         "301KG0KXAZ355GRD9LSX6LBA2CHH2H",
         "1",
         "1",
         "1"
        ],
        [
         "306996CF7J2OPI6VQPINFRY7FTYB1E",
         "1",
         "0",
         "0"
        ],
        [
         "3087LXLJ79YEVAXTZ80JKC6IPZKF0X",
         "1",
         "0",
         "1"
        ],
        [
         "308KJXFUKEOKFSDCMU21QMXWPU4ATR",
         "1",
         "0",
         "1"
        ],
        [
         "30EMX9PEW71PC59J9LA0AV46S08KS5",
         "1",
         "0",
         "0"
        ],
        [
         "30P8I9JKP532ME5KWTBZJT5VUE75VA",
         "1",
         "1",
         "1"
        ],
        [
         "30QQTY5GN72HW3U3FWGRLRH87DT7U2",
         "1",
         "0",
         "0"
        ],
        [
         "31ANT7FQOVKX4DA0R4UV4SEMMZW5HK",
         "0",
         "0",
         "0"
        ],
        [
         "31J7RYEC08802RS7H27HTUUCR00L1P",
         "0",
         "0",
         "0"
        ],
        [
         "31JUPBOOSAMIDRCSGNGW84HK566L89",
         "0",
         "0",
         "0"
        ],
        [
         "31MBOZ6PBB9KPU25XZW1AQD3VXRLCF",
         "0",
         "0",
         "0"
        ],
        [
         "31N9JPQXJC01U2G6V4QHY9E8D78HN8",
         "0",
         "0",
         "1"
        ],
        [
         "32XN26MTYM10V27PLJ3HFPB2M8UL0M",
         "0",
         "0",
         "0"
        ],
        [
         "32ZCLEW0CM2XOTN9ZJ6UEBZIQEDJPB",
         "0",
         "0",
         "0"
        ],
        [
         "335HHSX8D0NS8QPT6ACE242EZ36HDQ",
         "1",
         "0",
         "0"
        ],
        [
         "33P2GD6NSAA0MWV3YRY16HX4JPRKHK",
         "1",
         "0",
         "1"
        ],
        [
         "344M16OZL5XPASP453IBD6HVLRGENP",
         "0",
         "1",
         "0"
        ],
        [
         "34D9ZRXCZECJ0S0XXUXBGH1ANBQAS2",
         "1",
         "1",
         "1"
        ],
        [
         "34F34TZU8JH1WMM3XLVIIYRPFH9J22",
         "0",
         "0",
         "0"
        ],
        [
         "34HEO7RUHTC7ZD0KI5X6Q7WE197ARE",
         "1",
         "1",
         "1"
        ],
        [
         "34ZTTGSNKK6MXZTYBWIY239DIIVHQV",
         "0",
         "0",
         "1"
        ],
        [
         "351S7I5UHWEXL8BWJ4T2AMUNQZCJNF",
         "0",
         "0",
         "1"
        ],
        [
         "3538U0YQ22CAC2WQIVI2MA4PSB4F3S",
         "0",
         "0",
         "0"
        ],
        [
         "3538U0YQ22CAC2WQIVI2MA4PSOSF36",
         "0",
         "0",
         "0"
        ],
        [
         "359AP8GAH32LA9D3T5VRRLV200YC7J",
         "0",
         "0",
         "1"
        ],
        [
         "35A1YQPVG1YX08LKXMCG44F1MCB5ID",
         "1",
         "0",
         "0"
        ],
        [
         "35JDMRECDRRJ008IIZ5GNM8YKFUEGH",
         "0",
         "1",
         "0"
        ],
        [
         "35O6H0UNMFYTVJ5QF4XGG5U1ZR0J53",
         "1",
         "0",
         "0"
        ],
        [
         "363A7XIFWR4ZSKH1RP2GR4LHMFKAV7",
         "0",
         "0",
         "1"
        ],
        [
         "366FYU4PU37O2M418QQVLE0RRWBEKK",
         "0",
         "0",
         "0"
        ],
        [
         "36AZSFEY0RI4BUMTX32CMF5N4X5BV3",
         "1",
         "1",
         "1"
        ],
        [
         "36FFXPMSUW6JCNGIWJQUDYED3HDHON",
         "0",
         "0",
         "1"
        ],
        [
         "36GJS3V79I8RBGUAW0G7K2LQP0EJGL",
         "1",
         "0",
         "0"
        ],
        [
         "36JW4WBR1T2P6A3PXG74Q45ZBGMHF1",
         "0",
         "0",
         "1"
        ],
        [
         "373L46LKQUOWD2QTMR1MIUDJWHVJKO",
         "0",
         "0",
         "0"
        ],
        [
         "373L46LKQUOWD2QTMR1MIUDJWHVKJP",
         "1",
         "1",
         "1"
        ],
        [
         "37G6BXQPMD3ADP2WLVASH0C0Q23EQC",
         "0",
         "0",
         "1"
        ],
        [
         "37J05LC5BK1OZWKJUAFZEHITC8YJDB",
         "0",
         "0",
         "0"
        ],
        [
         "37PGLWGSKGO0IR6N49GM6TYJJ26KID",
         "1",
         "1",
         "1"
        ],
        [
         "37SOB9Z0TFFWCU6M46L0HN99PKEL3H",
         "0",
         "0",
         "0"
        ],
        [
         "37VE3DA4ZHZZTTR9SEL87EEEWIUHBJ",
         "1",
         "0",
         "0"
        ],
        [
         "37VUR2VJ7X77ZNY14PEIQB4PXEYC1M",
         "0",
         "0",
         "1"
        ],
        [
         "37YYO3NWI08RMQ8ZKM3277NG1BPCCC",
         "1",
         "1",
         "1"
        ],
        [
         "388CL5C1S65B62DLJRA2LHAJ8C8HL6",
         "1",
         "0",
         "1"
        ],
        [
         "388CL5C1S65B62DLJRA2LHAJ8PWLHO",
         "0",
         "1",
         "0"
        ],
        [
         "389A2A305B07SYDJ86AIC6LFSMSC0J",
         "1",
         "0",
         "1"
        ],
        [
         "38RHULDVALXRDR04TNZPU4SE69FIW7",
         "1",
         "1",
         "1"
        ],
        [
         "3909MD9T3MZDM0CN7FZY518MJ0UEFI",
         "0",
         "0",
         "1"
        ],
        [
         "391FPZIE5Z4EPS0FS523C462L30UHC",
         "1",
         "1",
         "1"
        ],
        [
         "391JB9X40LQMEAWEPOEEYM500BQKMT",
         "0",
         "0",
         "0"
        ]
       ],
       "shape": {
        "columns": 3,
        "rows": 146
       }
      },
      "text/html": [
       "<div>\n",
       "<style scoped>\n",
       "    .dataframe tbody tr th:only-of-type {\n",
       "        vertical-align: middle;\n",
       "    }\n",
       "\n",
       "    .dataframe tbody tr th {\n",
       "        vertical-align: top;\n",
       "    }\n",
       "\n",
       "    .dataframe thead th {\n",
       "        text-align: right;\n",
       "    }\n",
       "</style>\n",
       "<table border=\"1\" class=\"dataframe\">\n",
       "  <thead>\n",
       "    <tr style=\"text-align: right;\">\n",
       "      <th></th>\n",
       "      <th>worker1</th>\n",
       "      <th>worker2</th>\n",
       "      <th>worker3</th>\n",
       "    </tr>\n",
       "  </thead>\n",
       "  <tbody>\n",
       "    <tr>\n",
       "      <th>301KG0KXAZ355GRD9LSX6LBA2CHH2H</th>\n",
       "      <td>1</td>\n",
       "      <td>1</td>\n",
       "      <td>1</td>\n",
       "    </tr>\n",
       "    <tr>\n",
       "      <th>306996CF7J2OPI6VQPINFRY7FTYB1E</th>\n",
       "      <td>1</td>\n",
       "      <td>0</td>\n",
       "      <td>0</td>\n",
       "    </tr>\n",
       "    <tr>\n",
       "      <th>3087LXLJ79YEVAXTZ80JKC6IPZKF0X</th>\n",
       "      <td>1</td>\n",
       "      <td>0</td>\n",
       "      <td>1</td>\n",
       "    </tr>\n",
       "    <tr>\n",
       "      <th>308KJXFUKEOKFSDCMU21QMXWPU4ATR</th>\n",
       "      <td>1</td>\n",
       "      <td>0</td>\n",
       "      <td>1</td>\n",
       "    </tr>\n",
       "    <tr>\n",
       "      <th>30EMX9PEW71PC59J9LA0AV46S08KS5</th>\n",
       "      <td>1</td>\n",
       "      <td>0</td>\n",
       "      <td>0</td>\n",
       "    </tr>\n",
       "    <tr>\n",
       "      <th>...</th>\n",
       "      <td>...</td>\n",
       "      <td>...</td>\n",
       "      <td>...</td>\n",
       "    </tr>\n",
       "    <tr>\n",
       "      <th>3YZ7A3YHSSBMUMOG2Y6U86LOVAD5S5</th>\n",
       "      <td>1</td>\n",
       "      <td>0</td>\n",
       "      <td>0</td>\n",
       "    </tr>\n",
       "    <tr>\n",
       "      <th>3ZUE82NE1XJWDZ2WUCDYDRC08AKF8Y</th>\n",
       "      <td>0</td>\n",
       "      <td>0</td>\n",
       "      <td>0</td>\n",
       "    </tr>\n",
       "    <tr>\n",
       "      <th>3ZURAPD29V5E2ZIBVR4JYHPSURQF10</th>\n",
       "      <td>0</td>\n",
       "      <td>0</td>\n",
       "      <td>0</td>\n",
       "    </tr>\n",
       "    <tr>\n",
       "      <th>3ZXNP4Z3AE3EDD796IOQU4LPUM0L7M</th>\n",
       "      <td>1</td>\n",
       "      <td>1</td>\n",
       "      <td>0</td>\n",
       "    </tr>\n",
       "    <tr>\n",
       "      <th>3ZXV7Q5FKY6YP2S9BOT3FD8JYOHCFN</th>\n",
       "      <td>1</td>\n",
       "      <td>1</td>\n",
       "      <td>0</td>\n",
       "    </tr>\n",
       "  </tbody>\n",
       "</table>\n",
       "<p>146 rows × 3 columns</p>\n",
       "</div>"
      ],
      "text/plain": [
       "                                worker1  worker2  worker3\n",
       "301KG0KXAZ355GRD9LSX6LBA2CHH2H        1        1        1\n",
       "306996CF7J2OPI6VQPINFRY7FTYB1E        1        0        0\n",
       "3087LXLJ79YEVAXTZ80JKC6IPZKF0X        1        0        1\n",
       "308KJXFUKEOKFSDCMU21QMXWPU4ATR        1        0        1\n",
       "30EMX9PEW71PC59J9LA0AV46S08KS5        1        0        0\n",
       "...                                 ...      ...      ...\n",
       "3YZ7A3YHSSBMUMOG2Y6U86LOVAD5S5        1        0        0\n",
       "3ZUE82NE1XJWDZ2WUCDYDRC08AKF8Y        0        0        0\n",
       "3ZURAPD29V5E2ZIBVR4JYHPSURQF10        0        0        0\n",
       "3ZXNP4Z3AE3EDD796IOQU4LPUM0L7M        1        1        0\n",
       "3ZXV7Q5FKY6YP2S9BOT3FD8JYOHCFN        1        1        0\n",
       "\n",
       "[146 rows x 3 columns]"
      ]
     },
     "execution_count": 214,
     "metadata": {},
     "output_type": "execute_result"
    }
   ],
   "source": [
    "# Step 1: Ensure each cell is a list (not a string)\n",
    "df_pivot_cleaned = df_pivot.applymap(lambda x: eval(x) if isinstance(x, str) else x)\n",
    "\n",
    "# Step 2: Create binary DataFrames per category\n",
    "category_dfs = {}\n",
    "\n",
    "for category in unique_categories:\n",
    "    rows = []\n",
    "    speech_ids = []\n",
    "\n",
    "    for speech_id, row in df_pivot_cleaned.iterrows():\n",
    "        votes = []\n",
    "\n",
    "        for annotations in row.values:\n",
    "            if isinstance(annotations, list) and annotations:  # non-empty list\n",
    "                vote = 1 if category in annotations else 0\n",
    "                votes.append(vote)\n",
    "\n",
    "        # Only include rows with exactly 3 annotations\n",
    "        if len(votes) == 3:\n",
    "            rows.append(votes)\n",
    "            speech_ids.append(speech_id)\n",
    "\n",
    "    df_binary = pd.DataFrame(rows, index=speech_ids, columns=['worker1', 'worker2', 'worker3'])\n",
    "    category_dfs[category] = df_binary\n",
    "\n",
    "category_dfs['Market regulation'] # test one category"
   ]
  },
  {
   "cell_type": "markdown",
   "id": "a21d087c",
   "metadata": {},
   "source": [
    "## Try 2: run Fleiss Kappa on each seperate category"
   ]
  },
  {
   "cell_type": "code",
   "execution_count": null,
   "id": "2e1d7203",
   "metadata": {},
   "outputs": [],
   "source": [
    "for category, category_dfs[category] in category_dfs.items():\n",
    "    try:\n",
    "        # For each row (speech), count number of annotators giving 0 and 1\n",
    "        counts_matrix = []\n",
    "\n",
    "        for _, row in category_dfs[category].iterrows():\n",
    "            counts = [list(row).count(0), list(row).count(1)]  # [num 0s, num 1s]\n",
    "            counts_matrix.append(counts)\n",
    "\n",
    "        counts_array = np.array(counts_matrix)\n",
    "        \n",
    "        # Compute Fleiss' Kappa\n",
    "        kappa = fleiss_kappa(counts_array)\n",
    "        print(f\"{category}: Fleiss’ Kappa = {kappa:.3f}\")\n",
    "\n",
    "    except Exception as e:\n",
    "        print(f\"Error computing Fleiss’ Kappa for {category}: {e}\")"
   ]
  },
  {
   "cell_type": "markdown",
   "id": "a90acae0",
   "metadata": {},
   "source": [
    "This is a bad number likely due to sparse annotations"
   ]
  },
  {
   "cell_type": "code",
   "execution_count": null,
   "id": "097fa6a5",
   "metadata": {},
   "outputs": [],
   "source": [
    "[(cat, df.sum().sum()) for cat, df in category_dfs.items()]"
   ]
  },
  {
   "cell_type": "markdown",
   "id": "4083d9f7",
   "metadata": {},
   "source": [
    "## Try 3: run Krippendorff’s Alpha on annotations"
   ]
  },
  {
   "cell_type": "markdown",
   "id": "29260a09",
   "metadata": {},
   "source": [
    " Krippendorff’s Alpha doesn't require that each annotator label once, so this measure will work for us. We can either run this measure on the entire dataset, or seperate by category and run on each one. "
   ]
  },
  {
   "cell_type": "code",
   "execution_count": null,
   "id": "872fd5db",
   "metadata": {},
   "outputs": [],
   "source": [
    "# first attempt to run krippendorff on the entire dataset\n",
    "alpha_value = krippendorff.alpha(\n",
    "    reliability_data=binary_matrix,\n",
    "    level_of_measurement='nominal'  # Change to 'interval', 'ordinal', etc. if needed\n",
    ")\n",
    "\n",
    "print(f\"Krippendorff’s Alpha: {alpha_value:.3f}\")\n",
    "\n",
    "\n"
   ]
  },
  {
   "cell_type": "markdown",
   "id": "2dc1b507",
   "metadata": {},
   "source": [
    "This number is not extremely good; therefore, I will run Krippendorffs on every category. First, I need to make new dataframes for each category. "
   ]
  },
  {
   "cell_type": "code",
   "execution_count": null,
   "id": "3c2f5a5b",
   "metadata": {},
   "outputs": [],
   "source": [
    "#check category_dfs to see if its working\n",
    "category_dfs['Market regulation'].head()"
   ]
  },
  {
   "cell_type": "markdown",
   "id": "7bf65365",
   "metadata": {},
   "source": [
    "Now we calculate each score. It is important to note we are measuring agreement on whether a single label was applied, not overall multi-label set overlap."
   ]
  },
  {
   "cell_type": "code",
   "execution_count": null,
   "id": "f120368c",
   "metadata": {},
   "outputs": [],
   "source": [
    "for category, df_binary in category_dfs.items():\n",
    "    try:\n",
    "        # Convert to a list of lists (rows = items, columns = annotators)\n",
    "        data_matrix = category_dfs[category].to_numpy().tolist()\n",
    "        \n",
    "        # Compute Krippendorff's alpha\n",
    "        alpha_score = krippendorff.alpha(\n",
    "            reliability_data=data_matrix,\n",
    "            level_of_measurement='nominal'\n",
    "        )\n",
    "        \n",
    "        print(f\"Category: {category} → Krippendorff’s alpha: {alpha_score:.3f}\")\n",
    "    \n",
    "    except Exception as e:\n",
    "        print(f\"Error for category {category}: {e}\")"
   ]
  },
  {
   "cell_type": "markdown",
   "id": "b49fc202",
   "metadata": {},
   "source": [
    "Interpretation: very low agreement, try to analyze more"
   ]
  },
  {
   "cell_type": "code",
   "execution_count": null,
   "id": "4d1dd8f4",
   "metadata": {},
   "outputs": [],
   "source": [
    "df = category_dfs['Market regulation']\n",
    "total_cells = df.shape[0] * df.shape[1]\n",
    "positive = df.sum().sum()\n",
    "sparsity = positive / total_cells\n",
    "\n",
    "print(f\"Total annotations: {total_cells}\")\n",
    "print(f\"Positive annotations: {positive}\")\n",
    "print(f\"Sparsity (positive rate): {sparsity:.2%}\")"
   ]
  },
  {
   "cell_type": "markdown",
   "id": "4983a86f",
   "metadata": {},
   "source": [
    "## Interpretations"
   ]
  },
  {
   "cell_type": "markdown",
   "id": "4d952638",
   "metadata": {},
   "source": [
    "**Original Fliess Kappa with nulls as 0s**\n",
    "\n",
    "<p>Market regulation: Fleiss’ Kappa = 0.051<br>\n",
    "Middle Class & Professional Groups: Fleiss’ Kappa = -0.003<br>\n",
    "Government and administrative efficiency: Fleiss’ Kappa = 0.024<br>\n",
    "Economic Planning: Fleiss’ Kappa = 0.053<br>\n",
    "Economic Goals: Fleiss’ Kappa = 0.013<br>\n",
    "Anti-Growth Economy: Fleiss’ Kappa = 0.023<br>\n",
    "Economic Growth: Fleiss’ Kappa = 0.155<br>\n",
    "Free Market Economy: Fleiss’ Kappa = 0.087<br>\n",
    "Incentives: Fleiss’ Kappa = 0.079<br>\n",
    "Keynesian Demand Management: Fleiss’ Kappa = 0.078<br>\n",
    "Corporatism / Mixed Economy: Fleiss’ Kappa = 0.018<br>\n",
    "Technology and Infrastructure: Fleiss’ Kappa = 0.131<br>\n",
    "Labor Groups Positive: Fleiss’ Kappa = 0.104<br>\n",
    "Labor Groups Negative: Fleiss’ Kappa = -0.001</p>"
   ]
  },
  {
   "cell_type": "markdown",
   "id": "510bf954",
   "metadata": {},
   "source": [
    "**Fliess Kappa with arbitrary workers**\n",
    "*These use less speeches, since 65 speeches had only two answer or less*\n",
    "\n",
    "<p>Market regulation: Fleiss’ Kappa = 0.289<br>\n",
    "Middle Class & Professional Groups: Fleiss’ Kappa = 0.001<br>\n",
    "Government and administrative efficiency: Fleiss’ Kappa = 0.179<br>\n",
    "Economic Planning: Fleiss’ Kappa = 0.173<br>\n",
    "Economic Goals: Fleiss’ Kappa = 0.065<br>\n",
    "Anti-Growth Economy: Fleiss’ Kappa = 0.092<br>\n",
    "Economic Growth: Fleiss’ Kappa = 0.460<br>\n",
    "Free Market Economy: Fleiss’ Kappa = 0.280<br>\n",
    "Incentives: Fleiss’ Kappa = 0.236<br>\n",
    "Keynesian Demand Management: Fleiss’ Kappa = 0.203<br>\n",
    "Corporatism / Mixed Economy: Fleiss’ Kappa = 0.058<br>\n",
    "Technology and Infrastructure: Fleiss’ Kappa = 0.409<br>\n",
    "Labor Groups Positive: Fleiss’ Kappa = 0.305<br>\n",
    "Labor Groups Negative: Fleiss’ Kappa = -0.002</p>"
   ]
  },
  {
   "cell_type": "markdown",
   "id": "18b75671",
   "metadata": {},
   "source": [
    "## Cutting Workers Pt. 2"
   ]
  },
  {
   "cell_type": "markdown",
   "id": "ee3c5fb7",
   "metadata": {},
   "source": [
    "First, we will cut workers from df_clean"
   ]
  },
  {
   "cell_type": "code",
   "execution_count": null,
   "id": "f5e290b1",
   "metadata": {},
   "outputs": [
    {
     "data": {
      "application/vnd.microsoft.datawrangler.viewer.v0+json": {
       "columns": [
        {
         "name": "worker_id",
         "rawType": "object",
         "type": "string"
        },
        {
         "name": "count",
         "rawType": "int64",
         "type": "integer"
        }
       ],
       "ref": "c4c95ae7-26f6-49df-b450-17748e74a1a6",
       "rows": [
        [
         "A1NBQ61Y6KO3O9",
         "186"
        ],
        [
         "A335R4YE2E34H6",
         "152"
        ],
        [
         "A1X47COW2Y9SEL",
         "128"
        ],
        [
         "A3GS2NTQ4XU059",
         "104"
        ],
        [
         "APXGSUB250NVH",
         "83"
        ],
        [
         "A1BQ37ZGUM16XI",
         "7"
        ]
       ],
       "shape": {
        "columns": 1,
        "rows": 6
       }
      },
      "text/plain": [
       "worker_id\n",
       "A1NBQ61Y6KO3O9    186\n",
       "A335R4YE2E34H6    152\n",
       "A1X47COW2Y9SEL    128\n",
       "A3GS2NTQ4XU059    104\n",
       "APXGSUB250NVH      83\n",
       "A1BQ37ZGUM16XI      7\n",
       "Name: count, dtype: int64"
      ]
     },
     "execution_count": 178,
     "metadata": {},
     "output_type": "execute_result"
    }
   ],
   "source": [
    "df_clean['worker_id'].value_counts()"
   ]
  },
  {
   "cell_type": "code",
   "execution_count": null,
   "id": "1356d1ac",
   "metadata": {},
   "outputs": [
    {
     "data": {
      "application/vnd.microsoft.datawrangler.viewer.v0+json": {
       "columns": [
        {
         "name": "speech_id",
         "rawType": "object",
         "type": "string"
        },
        {
         "name": "A1BQ37ZGUM16XI",
         "rawType": "object",
         "type": "unknown"
        },
        {
         "name": "A1X47COW2Y9SEL",
         "rawType": "object",
         "type": "unknown"
        },
        {
         "name": "A335R4YE2E34H6",
         "rawType": "object",
         "type": "unknown"
        },
        {
         "name": "A3GS2NTQ4XU059",
         "rawType": "object",
         "type": "unknown"
        },
        {
         "name": "APXGSUB250NVH",
         "rawType": "object",
         "type": "unknown"
        }
       ],
       "ref": "186b13aa-09fd-4271-9e80-1aeec0ca180f",
       "rows": [
        [
         "301KG0KXAZ355GRD9LSX6LBA2CHH2H",
         "[]",
         "['Market regulation']",
         "['Market regulation']",
         "[]",
         "[]"
        ],
        [
         "302OLP89EMP3TBB1087B1CXS184CAA",
         "[]",
         "['Economic Goals']",
         "[]",
         "[]",
         "[]"
        ],
        [
         "306996CF7J2OPI6VQPINFRY7FTYB1E",
         "[]",
         "['Government and administrative efficiency']",
         "['Economic Planning', 'Economic Growth']",
         "[]",
         "[]"
        ],
        [
         "3087LXLJ79YEVAXTZ80JKC6IPZKF0X",
         "[]",
         "['Free Market Economy', 'Economic Growth']",
         "['Market regulation', 'Economic Growth']",
         "[]",
         "[]"
        ],
        [
         "308KJXFUKEOKFSDCMU21QMXWPU4ATR",
         "[]",
         "['Economic Goals']",
         "['Market regulation', 'Economic Planning']",
         "[]",
         "[]"
        ],
        [
         "309D674SIM38CLGT6M77WNHYJQPCB5",
         "[]",
         "[]",
         "['Free Market Economy']",
         "[]",
         "[]"
        ],
        [
         "30EMX9PEW71PC59J9LA0AV46S08KS5",
         "[]",
         "[]",
         "[]",
         "['Keynesian Demand Management']",
         "['Economic Goals']"
        ],
        [
         "30IRMPJWEM1DBQ96UWAVKLZA6YPKRH",
         "[]",
         "[]",
         "[]",
         "['Economic Goals']",
         "[]"
        ],
        [
         "30OITAWPCDLG50CCUU7CG8JO8IRH99",
         "[]",
         "['Market regulation']",
         "[]",
         "[]",
         "[]"
        ],
        [
         "30P8I9JKP532ME5KWTBZJT5VUE75VA",
         "[]",
         "['Market regulation']",
         "['Market regulation', 'Anti-Growth Economy']",
         "['Market regulation']",
         "[]"
        ],
        [
         "30QQTY5GN72HW3U3FWGRLRH87DT7U2",
         "[]",
         "[]",
         "[]",
         "['Economic Goals']",
         "['Economic Planning', 'Economic Goals']"
        ],
        [
         "3126F2F5GVLPDD1HLIV3HVMQL6HEPL",
         "[]",
         "['Technology and Infrastructure', 'Economic Planning']",
         "[]",
         "[]",
         "[]"
        ],
        [
         "31ANT7FQOVKX4DA0R4UV4SEMMM8H5I",
         "[]",
         "['Economic Growth']",
         "[]",
         "[]",
         "[]"
        ],
        [
         "31ANT7FQOVKX4DA0R4UV4SEMMZW5HK",
         "[]",
         "[]",
         "[]",
         "['Economic Goals']",
         "['Economic Goals', 'Keynesian Demand Management']"
        ],
        [
         "31J7RYEC08802RS7H27HTUUCR00L1P",
         "[]",
         "[]",
         "['Labor Groups Positive', 'Free Market Economy', 'Incentives']",
         "['Keynesian Demand Management', 'Economic Planning']",
         "[]"
        ],
        [
         "31JUPBOOSAMIDRCSGNGW84HK566L89",
         "[]",
         "[]",
         "['Economic Growth', 'Government and administrative efficiency']",
         "['Economic Growth', 'Free Market Economy']",
         "[]"
        ],
        [
         "31KPKEKW5XVOITLDU6EN1MFXA1SB0B",
         "[]",
         "[]",
         "[]",
         "[]",
         "[]"
        ],
        [
         "31MBOZ6PBB9KPU25XZW1AQD3VXRLCF",
         "[]",
         "[]",
         "[]",
         "['Keynesian Demand Management']",
         "['Keynesian Demand Management', 'Economic Planning']"
        ],
        [
         "31N9JPQXJC01U2G6V4QHY9E8D78HN8",
         "[]",
         "['Economic Growth', 'Technology and Infrastructure', 'Labor Groups Positive']",
         "['Keynesian Demand Management', 'Labor Groups Positive', 'Economic Planning', 'Market regulation', 'Government and administrative efficiency']",
         "[]",
         "[]"
        ],
        [
         "31YWE12TFNU9D7OYK1RE5YGC1VA7XU",
         "['Market regulation']",
         "[]",
         "[]",
         "[]",
         "[]"
        ],
        [
         "32204AGABYUVKAZK80DM8P5BCVMHG0",
         "[]",
         "[]",
         "[]",
         "[]",
         "[]"
        ],
        [
         "324N5FAHTKT54XQN3GF5LIODR42KVA",
         "[]",
         "[]",
         "[]",
         "[]",
         "[]"
        ],
        [
         "32W3UF2E0B3ORMVKR7XKO9BS9Y8C4Z",
         "[]",
         "[]",
         "['Market regulation']",
         "[]",
         "[]"
        ],
        [
         "32XN26MTYM10V27PLJ3HFPB2M8UL0M",
         "[]",
         "[]",
         "[]",
         "['Economic Planning']",
         "['Government and administrative efficiency']"
        ],
        [
         "32ZCLEW0CM2XOTN9ZJ6UEBZIQEDJPB",
         "[]",
         "['Economic Goals']",
         "['Keynesian Demand Management']",
         "[]",
         "[]"
        ],
        [
         "335HHSX8D0NS8QPT6ACE242EZ36HDQ",
         "[]",
         "['Free Market Economy', 'Technology and Infrastructure']",
         "['Incentives', 'Labor Groups Positive', 'Government and administrative efficiency']",
         "[]",
         "[]"
        ],
        [
         "33P2GD6NSAA0MWV3YRY16HX4JC3HK3",
         "[]",
         "[]",
         "[]",
         "[]",
         "[]"
        ],
        [
         "33P2GD6NSAA0MWV3YRY16HX4JPRKHK",
         "[]",
         "[]",
         "[]",
         "['Labor Groups Positive']",
         "['Market regulation']"
        ],
        [
         "3421H3BMAXZCW672IUAXSLZ3LNJJ9U",
         "[]",
         "[]",
         "[]",
         "['Economic Goals']",
         "[]"
        ],
        [
         "344M16OZL5XPASP453IBD6HVLRGENP",
         "[]",
         "['Free Market Economy', 'Corporatism / Mixed Economy', 'Economic Growth']",
         "['Market regulation', 'Economic Planning']",
         "['Free Market Economy']",
         "[]"
        ],
        [
         "34D9ZRXCZECJ0S0XXUXBGH1ANBQAS2",
         "[]",
         "['Market regulation', 'Economic Goals']",
         "['Market regulation', 'Technology and Infrastructure', 'Incentives', 'Economic Planning', 'Economic Growth']",
         "[]",
         "[]"
        ],
        [
         "34F34TZU8JH1WMM3XLVIIYRPFH9J22",
         "[]",
         "[]",
         "[]",
         "['Keynesian Demand Management', 'Economic Planning']",
         "['Government and administrative efficiency', 'Economic Goals']"
        ],
        [
         "34HEO7RUHTC7ZD0KI5X6Q7WE197ARE",
         "[]",
         "['Market regulation']",
         "['Market regulation']",
         "[]",
         "[]"
        ],
        [
         "34ZTTGSNKK6MXZTYBWIY239DIIVHQV",
         "[]",
         "['Government and administrative efficiency', 'Labor Groups Positive', 'Economic Growth']",
         "['Government and administrative efficiency', 'Market regulation', 'Incentives', 'Labor Groups Positive', 'Economic Growth']",
         "[]",
         "[]"
        ],
        [
         "351S7I5UHWEXL8BWJ4T2AMUNQZCJNF",
         "[]",
         "['Economic Goals', 'Government and administrative efficiency']",
         "['Market regulation', 'Economic Planning']",
         "[]",
         "[]"
        ],
        [
         "3538U0YQ22CAC2WQIVI2MA4PSB4F3S",
         "[]",
         "['Free Market Economy']",
         "['Government and administrative efficiency']",
         "[]",
         "[]"
        ],
        [
         "3538U0YQ22CAC2WQIVI2MA4PSOSF36",
         "[]",
         "[]",
         "[]",
         "['Government and administrative efficiency']",
         "['Government and administrative efficiency']"
        ],
        [
         "359AP8GAH32LA9D3T5VRRLV200YC7J",
         "[]",
         "['Free Market Economy', 'Incentives', 'Economic Goals']",
         "['Government and administrative efficiency', 'Market regulation', 'Incentives', 'Labor Groups Positive']",
         "[]",
         "[]"
        ],
        [
         "35A1YQPVG1YX08LKXMCG44F1MCB5ID",
         "[]",
         "['Market regulation', 'Economic Planning']",
         "['Corporatism / Mixed Economy', 'Government and administrative efficiency']",
         "['Economic Planning', 'Labor Groups Positive']",
         "[]"
        ],
        [
         "35JDMRECDRRJ008IIZ5GNM8YKFUEGH",
         "[]",
         "['Incentives']",
         "['Market regulation', 'Economic Planning', 'Keynesian Demand Management']",
         "['Keynesian Demand Management']",
         "[]"
        ],
        [
         "35O6H0UNMFYTVJ5QF4XGG5U1ZR05JP",
         "[]",
         "[]",
         "[]",
         "[]",
         "[]"
        ],
        [
         "35O6H0UNMFYTVJ5QF4XGG5U1ZR0J53",
         "[]",
         "[]",
         "['Technology and Infrastructure', 'Anti-Growth Economy']",
         "[]",
         "['Technology and Infrastructure']"
        ],
        [
         "363A7XIFWR4ZSKH1RP2GR4LHMFKAV7",
         "[]",
         "['Technology and Infrastructure', 'Economic Planning', 'Free Market Economy', 'Economic Growth']",
         "['Market regulation', 'Economic Growth', 'Labor Groups Positive', 'Technology and Infrastructure']",
         "[]",
         "[]"
        ],
        [
         "366FYU4PU37O2M418QQVLE0RR9ZKE4",
         "[]",
         "[]",
         "[]",
         "[]",
         "[]"
        ],
        [
         "366FYU4PU37O2M418QQVLE0RRWBEKK",
         "['Anti-Growth Economy']",
         "['Free Market Economy']",
         "['Government and administrative efficiency', 'Free Market Economy']",
         "[]",
         "[]"
        ],
        [
         "36AZSFEY0RI4BUMTX32CMF5N4X5BV3",
         "[]",
         "['Market regulation']",
         "['Market regulation']",
         "[]",
         "['Market regulation']"
        ],
        [
         "36FFXPMSUW6JCNGIWJQUDYED3HDHON",
         "[]",
         "['Labor Groups Positive']",
         "['Labor Groups Positive', 'Market regulation']",
         "[]",
         "[]"
        ],
        [
         "36GJS3V79I8RBGUAW0G7K2LQP0EJGL",
         "[]",
         "[]",
         "[]",
         "['Economic Goals', 'Labor Groups Positive']",
         "['Economic Goals']"
        ],
        [
         "36JW4WBR1T2P6A3PXG74Q45ZBGMHF1",
         "[]",
         "['Labor Groups Positive']",
         "['Market regulation', 'Technology and Infrastructure', 'Labor Groups Positive']",
         "[]",
         "[]"
        ],
        [
         "36MUZ9VAFTKGOGYRG948H1517NEED7",
         "[]",
         "['Economic Planning']",
         "[]",
         "[]",
         "[]"
        ]
       ],
       "shape": {
        "columns": 5,
        "rows": 220
       }
      },
      "text/html": [
       "<div>\n",
       "<style scoped>\n",
       "    .dataframe tbody tr th:only-of-type {\n",
       "        vertical-align: middle;\n",
       "    }\n",
       "\n",
       "    .dataframe tbody tr th {\n",
       "        vertical-align: top;\n",
       "    }\n",
       "\n",
       "    .dataframe thead th {\n",
       "        text-align: right;\n",
       "    }\n",
       "</style>\n",
       "<table border=\"1\" class=\"dataframe\">\n",
       "  <thead>\n",
       "    <tr style=\"text-align: right;\">\n",
       "      <th>worker_id</th>\n",
       "      <th>A1BQ37ZGUM16XI</th>\n",
       "      <th>A1X47COW2Y9SEL</th>\n",
       "      <th>A335R4YE2E34H6</th>\n",
       "      <th>A3GS2NTQ4XU059</th>\n",
       "      <th>APXGSUB250NVH</th>\n",
       "    </tr>\n",
       "    <tr>\n",
       "      <th>speech_id</th>\n",
       "      <th></th>\n",
       "      <th></th>\n",
       "      <th></th>\n",
       "      <th></th>\n",
       "      <th></th>\n",
       "    </tr>\n",
       "  </thead>\n",
       "  <tbody>\n",
       "    <tr>\n",
       "      <th>301KG0KXAZ355GRD9LSX6LBA2CHH2H</th>\n",
       "      <td>[]</td>\n",
       "      <td>[Market regulation]</td>\n",
       "      <td>[Market regulation]</td>\n",
       "      <td>[]</td>\n",
       "      <td>[]</td>\n",
       "    </tr>\n",
       "    <tr>\n",
       "      <th>302OLP89EMP3TBB1087B1CXS184CAA</th>\n",
       "      <td>[]</td>\n",
       "      <td>[Economic Goals]</td>\n",
       "      <td>[]</td>\n",
       "      <td>[]</td>\n",
       "      <td>[]</td>\n",
       "    </tr>\n",
       "    <tr>\n",
       "      <th>306996CF7J2OPI6VQPINFRY7FTYB1E</th>\n",
       "      <td>[]</td>\n",
       "      <td>[Government and administrative efficiency]</td>\n",
       "      <td>[Economic Planning, Economic Growth]</td>\n",
       "      <td>[]</td>\n",
       "      <td>[]</td>\n",
       "    </tr>\n",
       "    <tr>\n",
       "      <th>3087LXLJ79YEVAXTZ80JKC6IPZKF0X</th>\n",
       "      <td>[]</td>\n",
       "      <td>[Free Market Economy, Economic Growth]</td>\n",
       "      <td>[Market regulation, Economic Growth]</td>\n",
       "      <td>[]</td>\n",
       "      <td>[]</td>\n",
       "    </tr>\n",
       "    <tr>\n",
       "      <th>308KJXFUKEOKFSDCMU21QMXWPU4ATR</th>\n",
       "      <td>[]</td>\n",
       "      <td>[Economic Goals]</td>\n",
       "      <td>[Market regulation, Economic Planning]</td>\n",
       "      <td>[]</td>\n",
       "      <td>[]</td>\n",
       "    </tr>\n",
       "    <tr>\n",
       "      <th>...</th>\n",
       "      <td>...</td>\n",
       "      <td>...</td>\n",
       "      <td>...</td>\n",
       "      <td>...</td>\n",
       "      <td>...</td>\n",
       "    </tr>\n",
       "    <tr>\n",
       "      <th>3YZ7A3YHSSBMUMOG2Y6U86LOVAD5S5</th>\n",
       "      <td>[]</td>\n",
       "      <td>[Government and administrative efficiency, Fre...</td>\n",
       "      <td>[]</td>\n",
       "      <td>[Free Market Economy]</td>\n",
       "      <td>[]</td>\n",
       "    </tr>\n",
       "    <tr>\n",
       "      <th>3ZUE82NE1XJWDZ2WUCDYDRC08AKF8Y</th>\n",
       "      <td>[]</td>\n",
       "      <td>[]</td>\n",
       "      <td>[Corporatism / Mixed Economy]</td>\n",
       "      <td>[]</td>\n",
       "      <td>[Economic Goals, Government and administrative...</td>\n",
       "    </tr>\n",
       "    <tr>\n",
       "      <th>3ZURAPD29V5E2ZIBVR4JYHPSURQF10</th>\n",
       "      <td>[]</td>\n",
       "      <td>[Technology and Infrastructure]</td>\n",
       "      <td>[Labor Groups Positive, Technology and Infrast...</td>\n",
       "      <td>[]</td>\n",
       "      <td>[]</td>\n",
       "    </tr>\n",
       "    <tr>\n",
       "      <th>3ZXNP4Z3AE3EDD796IOQU4LPUM0L7M</th>\n",
       "      <td>[]</td>\n",
       "      <td>[Market regulation, Government and administrat...</td>\n",
       "      <td>[]</td>\n",
       "      <td>[Free Market Economy]</td>\n",
       "      <td>[]</td>\n",
       "    </tr>\n",
       "    <tr>\n",
       "      <th>3ZXV7Q5FKY6YP2S9BOT3FD8JYOHCFN</th>\n",
       "      <td>[Market regulation]</td>\n",
       "      <td>[Market regulation, Anti-Growth Economy]</td>\n",
       "      <td>[]</td>\n",
       "      <td>[]</td>\n",
       "      <td>[Economic Goals]</td>\n",
       "    </tr>\n",
       "  </tbody>\n",
       "</table>\n",
       "<p>220 rows × 5 columns</p>\n",
       "</div>"
      ],
      "text/plain": [
       "worker_id                            A1BQ37ZGUM16XI  \\\n",
       "speech_id                                             \n",
       "301KG0KXAZ355GRD9LSX6LBA2CHH2H                   []   \n",
       "302OLP89EMP3TBB1087B1CXS184CAA                   []   \n",
       "306996CF7J2OPI6VQPINFRY7FTYB1E                   []   \n",
       "3087LXLJ79YEVAXTZ80JKC6IPZKF0X                   []   \n",
       "308KJXFUKEOKFSDCMU21QMXWPU4ATR                   []   \n",
       "...                                             ...   \n",
       "3YZ7A3YHSSBMUMOG2Y6U86LOVAD5S5                   []   \n",
       "3ZUE82NE1XJWDZ2WUCDYDRC08AKF8Y                   []   \n",
       "3ZURAPD29V5E2ZIBVR4JYHPSURQF10                   []   \n",
       "3ZXNP4Z3AE3EDD796IOQU4LPUM0L7M                   []   \n",
       "3ZXV7Q5FKY6YP2S9BOT3FD8JYOHCFN  [Market regulation]   \n",
       "\n",
       "worker_id                                                          A1X47COW2Y9SEL  \\\n",
       "speech_id                                                                           \n",
       "301KG0KXAZ355GRD9LSX6LBA2CHH2H                                [Market regulation]   \n",
       "302OLP89EMP3TBB1087B1CXS184CAA                                   [Economic Goals]   \n",
       "306996CF7J2OPI6VQPINFRY7FTYB1E         [Government and administrative efficiency]   \n",
       "3087LXLJ79YEVAXTZ80JKC6IPZKF0X             [Free Market Economy, Economic Growth]   \n",
       "308KJXFUKEOKFSDCMU21QMXWPU4ATR                                   [Economic Goals]   \n",
       "...                                                                           ...   \n",
       "3YZ7A3YHSSBMUMOG2Y6U86LOVAD5S5  [Government and administrative efficiency, Fre...   \n",
       "3ZUE82NE1XJWDZ2WUCDYDRC08AKF8Y                                                 []   \n",
       "3ZURAPD29V5E2ZIBVR4JYHPSURQF10                    [Technology and Infrastructure]   \n",
       "3ZXNP4Z3AE3EDD796IOQU4LPUM0L7M  [Market regulation, Government and administrat...   \n",
       "3ZXV7Q5FKY6YP2S9BOT3FD8JYOHCFN           [Market regulation, Anti-Growth Economy]   \n",
       "\n",
       "worker_id                                                          A335R4YE2E34H6  \\\n",
       "speech_id                                                                           \n",
       "301KG0KXAZ355GRD9LSX6LBA2CHH2H                                [Market regulation]   \n",
       "302OLP89EMP3TBB1087B1CXS184CAA                                                 []   \n",
       "306996CF7J2OPI6VQPINFRY7FTYB1E               [Economic Planning, Economic Growth]   \n",
       "3087LXLJ79YEVAXTZ80JKC6IPZKF0X               [Market regulation, Economic Growth]   \n",
       "308KJXFUKEOKFSDCMU21QMXWPU4ATR             [Market regulation, Economic Planning]   \n",
       "...                                                                           ...   \n",
       "3YZ7A3YHSSBMUMOG2Y6U86LOVAD5S5                                                 []   \n",
       "3ZUE82NE1XJWDZ2WUCDYDRC08AKF8Y                      [Corporatism / Mixed Economy]   \n",
       "3ZURAPD29V5E2ZIBVR4JYHPSURQF10  [Labor Groups Positive, Technology and Infrast...   \n",
       "3ZXNP4Z3AE3EDD796IOQU4LPUM0L7M                                                 []   \n",
       "3ZXV7Q5FKY6YP2S9BOT3FD8JYOHCFN                                                 []   \n",
       "\n",
       "worker_id                              A3GS2NTQ4XU059  \\\n",
       "speech_id                                               \n",
       "301KG0KXAZ355GRD9LSX6LBA2CHH2H                     []   \n",
       "302OLP89EMP3TBB1087B1CXS184CAA                     []   \n",
       "306996CF7J2OPI6VQPINFRY7FTYB1E                     []   \n",
       "3087LXLJ79YEVAXTZ80JKC6IPZKF0X                     []   \n",
       "308KJXFUKEOKFSDCMU21QMXWPU4ATR                     []   \n",
       "...                                               ...   \n",
       "3YZ7A3YHSSBMUMOG2Y6U86LOVAD5S5  [Free Market Economy]   \n",
       "3ZUE82NE1XJWDZ2WUCDYDRC08AKF8Y                     []   \n",
       "3ZURAPD29V5E2ZIBVR4JYHPSURQF10                     []   \n",
       "3ZXNP4Z3AE3EDD796IOQU4LPUM0L7M  [Free Market Economy]   \n",
       "3ZXV7Q5FKY6YP2S9BOT3FD8JYOHCFN                     []   \n",
       "\n",
       "worker_id                                                           APXGSUB250NVH  \n",
       "speech_id                                                                          \n",
       "301KG0KXAZ355GRD9LSX6LBA2CHH2H                                                 []  \n",
       "302OLP89EMP3TBB1087B1CXS184CAA                                                 []  \n",
       "306996CF7J2OPI6VQPINFRY7FTYB1E                                                 []  \n",
       "3087LXLJ79YEVAXTZ80JKC6IPZKF0X                                                 []  \n",
       "308KJXFUKEOKFSDCMU21QMXWPU4ATR                                                 []  \n",
       "...                                                                           ...  \n",
       "3YZ7A3YHSSBMUMOG2Y6U86LOVAD5S5                                                 []  \n",
       "3ZUE82NE1XJWDZ2WUCDYDRC08AKF8Y  [Economic Goals, Government and administrative...  \n",
       "3ZURAPD29V5E2ZIBVR4JYHPSURQF10                                                 []  \n",
       "3ZXNP4Z3AE3EDD796IOQU4LPUM0L7M                                                 []  \n",
       "3ZXV7Q5FKY6YP2S9BOT3FD8JYOHCFN                                   [Economic Goals]  \n",
       "\n",
       "[220 rows x 5 columns]"
      ]
     },
     "execution_count": 207,
     "metadata": {},
     "output_type": "execute_result"
    }
   ],
   "source": [
    "# for each category_df[category], we must cut worker A1BQ37ZGUM16XI\n",
    "workers_to_remove = ['A1NBQ61Y6KO3O9']\n",
    "\n",
    "# drop this column from df_pivot\n",
    "df_pivot.drop(columns = workers_to_remove, inplace=True)\n",
    "df_pivot"
   ]
  },
  {
   "cell_type": "markdown",
   "id": "a34cdcb5",
   "metadata": {},
   "source": [
    "Then, we will re-run the script to pivot the dataframe and recompute the dictionary of different categorical dataframes"
   ]
  },
  {
   "cell_type": "code",
   "execution_count": null,
   "id": "380b661f",
   "metadata": {},
   "outputs": [
    {
     "name": "stderr",
     "output_type": "stream",
     "text": [
      "/var/folders/m1/tw6x4xns6fn4nk3wf2lc_3vc0000gn/T/ipykernel_63980/2877661995.py:2: FutureWarning: DataFrame.applymap has been deprecated. Use DataFrame.map instead.\n",
      "  df_pivot_cleaned = df_pivot.applymap(lambda x: eval(x) if isinstance(x, str) else x)\n"
     ]
    },
    {
     "data": {
      "application/vnd.microsoft.datawrangler.viewer.v0+json": {
       "columns": [
        {
         "name": "index",
         "rawType": "object",
         "type": "string"
        },
        {
         "name": "worker1",
         "rawType": "int64",
         "type": "integer"
        },
        {
         "name": "worker2",
         "rawType": "int64",
         "type": "integer"
        },
        {
         "name": "worker3",
         "rawType": "int64",
         "type": "integer"
        }
       ],
       "ref": "af938a13-0ea7-4b7a-b453-4c0dbb57db2f",
       "rows": [
        [
         "301KG0KXAZ355GRD9LSX6LBA2CHH2H",
         "1",
         "1",
         "1"
        ],
        [
         "306996CF7J2OPI6VQPINFRY7FTYB1E",
         "1",
         "0",
         "0"
        ],
        [
         "3087LXLJ79YEVAXTZ80JKC6IPZKF0X",
         "1",
         "0",
         "1"
        ],
        [
         "308KJXFUKEOKFSDCMU21QMXWPU4ATR",
         "1",
         "0",
         "1"
        ],
        [
         "30EMX9PEW71PC59J9LA0AV46S08KS5",
         "1",
         "0",
         "0"
        ],
        [
         "30P8I9JKP532ME5KWTBZJT5VUE75VA",
         "1",
         "1",
         "1"
        ],
        [
         "30QQTY5GN72HW3U3FWGRLRH87DT7U2",
         "1",
         "0",
         "0"
        ],
        [
         "31ANT7FQOVKX4DA0R4UV4SEMMZW5HK",
         "0",
         "0",
         "0"
        ],
        [
         "31J7RYEC08802RS7H27HTUUCR00L1P",
         "0",
         "0",
         "0"
        ],
        [
         "31JUPBOOSAMIDRCSGNGW84HK566L89",
         "0",
         "0",
         "0"
        ],
        [
         "31MBOZ6PBB9KPU25XZW1AQD3VXRLCF",
         "0",
         "0",
         "0"
        ],
        [
         "31N9JPQXJC01U2G6V4QHY9E8D78HN8",
         "0",
         "0",
         "1"
        ],
        [
         "32XN26MTYM10V27PLJ3HFPB2M8UL0M",
         "0",
         "0",
         "0"
        ],
        [
         "32ZCLEW0CM2XOTN9ZJ6UEBZIQEDJPB",
         "0",
         "0",
         "0"
        ],
        [
         "335HHSX8D0NS8QPT6ACE242EZ36HDQ",
         "1",
         "0",
         "0"
        ],
        [
         "33P2GD6NSAA0MWV3YRY16HX4JPRKHK",
         "1",
         "0",
         "1"
        ],
        [
         "344M16OZL5XPASP453IBD6HVLRGENP",
         "0",
         "1",
         "0"
        ],
        [
         "34D9ZRXCZECJ0S0XXUXBGH1ANBQAS2",
         "1",
         "1",
         "1"
        ],
        [
         "34F34TZU8JH1WMM3XLVIIYRPFH9J22",
         "0",
         "0",
         "0"
        ],
        [
         "34HEO7RUHTC7ZD0KI5X6Q7WE197ARE",
         "1",
         "1",
         "1"
        ],
        [
         "34ZTTGSNKK6MXZTYBWIY239DIIVHQV",
         "0",
         "0",
         "1"
        ],
        [
         "351S7I5UHWEXL8BWJ4T2AMUNQZCJNF",
         "0",
         "0",
         "1"
        ],
        [
         "3538U0YQ22CAC2WQIVI2MA4PSB4F3S",
         "0",
         "0",
         "0"
        ],
        [
         "3538U0YQ22CAC2WQIVI2MA4PSOSF36",
         "0",
         "0",
         "0"
        ],
        [
         "359AP8GAH32LA9D3T5VRRLV200YC7J",
         "0",
         "0",
         "1"
        ],
        [
         "35A1YQPVG1YX08LKXMCG44F1MCB5ID",
         "1",
         "0",
         "0"
        ],
        [
         "35JDMRECDRRJ008IIZ5GNM8YKFUEGH",
         "0",
         "1",
         "0"
        ],
        [
         "35O6H0UNMFYTVJ5QF4XGG5U1ZR0J53",
         "1",
         "0",
         "0"
        ],
        [
         "363A7XIFWR4ZSKH1RP2GR4LHMFKAV7",
         "0",
         "0",
         "1"
        ],
        [
         "366FYU4PU37O2M418QQVLE0RRWBEKK",
         "0",
         "0",
         "0"
        ],
        [
         "36AZSFEY0RI4BUMTX32CMF5N4X5BV3",
         "1",
         "1",
         "1"
        ],
        [
         "36FFXPMSUW6JCNGIWJQUDYED3HDHON",
         "0",
         "0",
         "1"
        ],
        [
         "36GJS3V79I8RBGUAW0G7K2LQP0EJGL",
         "1",
         "0",
         "0"
        ],
        [
         "36JW4WBR1T2P6A3PXG74Q45ZBGMHF1",
         "0",
         "0",
         "1"
        ],
        [
         "373L46LKQUOWD2QTMR1MIUDJWHVJKO",
         "0",
         "0",
         "0"
        ],
        [
         "373L46LKQUOWD2QTMR1MIUDJWHVKJP",
         "1",
         "1",
         "1"
        ],
        [
         "37G6BXQPMD3ADP2WLVASH0C0Q23EQC",
         "0",
         "0",
         "1"
        ],
        [
         "37J05LC5BK1OZWKJUAFZEHITC8YJDB",
         "0",
         "0",
         "0"
        ],
        [
         "37PGLWGSKGO0IR6N49GM6TYJJ26KID",
         "1",
         "1",
         "1"
        ],
        [
         "37SOB9Z0TFFWCU6M46L0HN99PKEL3H",
         "0",
         "0",
         "0"
        ],
        [
         "37VE3DA4ZHZZTTR9SEL87EEEWIUHBJ",
         "1",
         "0",
         "0"
        ],
        [
         "37VUR2VJ7X77ZNY14PEIQB4PXEYC1M",
         "0",
         "0",
         "1"
        ],
        [
         "37YYO3NWI08RMQ8ZKM3277NG1BPCCC",
         "1",
         "1",
         "1"
        ],
        [
         "388CL5C1S65B62DLJRA2LHAJ8C8HL6",
         "1",
         "0",
         "1"
        ],
        [
         "388CL5C1S65B62DLJRA2LHAJ8PWLHO",
         "0",
         "1",
         "0"
        ],
        [
         "389A2A305B07SYDJ86AIC6LFSMSC0J",
         "1",
         "0",
         "1"
        ],
        [
         "38RHULDVALXRDR04TNZPU4SE69FIW7",
         "1",
         "1",
         "1"
        ],
        [
         "3909MD9T3MZDM0CN7FZY518MJ0UEFI",
         "0",
         "0",
         "1"
        ],
        [
         "391FPZIE5Z4EPS0FS523C462L30UHC",
         "1",
         "1",
         "1"
        ],
        [
         "391JB9X40LQMEAWEPOEEYM500BQKMT",
         "0",
         "0",
         "0"
        ]
       ],
       "shape": {
        "columns": 3,
        "rows": 146
       }
      },
      "text/html": [
       "<div>\n",
       "<style scoped>\n",
       "    .dataframe tbody tr th:only-of-type {\n",
       "        vertical-align: middle;\n",
       "    }\n",
       "\n",
       "    .dataframe tbody tr th {\n",
       "        vertical-align: top;\n",
       "    }\n",
       "\n",
       "    .dataframe thead th {\n",
       "        text-align: right;\n",
       "    }\n",
       "</style>\n",
       "<table border=\"1\" class=\"dataframe\">\n",
       "  <thead>\n",
       "    <tr style=\"text-align: right;\">\n",
       "      <th></th>\n",
       "      <th>worker1</th>\n",
       "      <th>worker2</th>\n",
       "      <th>worker3</th>\n",
       "    </tr>\n",
       "  </thead>\n",
       "  <tbody>\n",
       "    <tr>\n",
       "      <th>301KG0KXAZ355GRD9LSX6LBA2CHH2H</th>\n",
       "      <td>1</td>\n",
       "      <td>1</td>\n",
       "      <td>1</td>\n",
       "    </tr>\n",
       "    <tr>\n",
       "      <th>306996CF7J2OPI6VQPINFRY7FTYB1E</th>\n",
       "      <td>1</td>\n",
       "      <td>0</td>\n",
       "      <td>0</td>\n",
       "    </tr>\n",
       "    <tr>\n",
       "      <th>3087LXLJ79YEVAXTZ80JKC6IPZKF0X</th>\n",
       "      <td>1</td>\n",
       "      <td>0</td>\n",
       "      <td>1</td>\n",
       "    </tr>\n",
       "    <tr>\n",
       "      <th>308KJXFUKEOKFSDCMU21QMXWPU4ATR</th>\n",
       "      <td>1</td>\n",
       "      <td>0</td>\n",
       "      <td>1</td>\n",
       "    </tr>\n",
       "    <tr>\n",
       "      <th>30EMX9PEW71PC59J9LA0AV46S08KS5</th>\n",
       "      <td>1</td>\n",
       "      <td>0</td>\n",
       "      <td>0</td>\n",
       "    </tr>\n",
       "    <tr>\n",
       "      <th>...</th>\n",
       "      <td>...</td>\n",
       "      <td>...</td>\n",
       "      <td>...</td>\n",
       "    </tr>\n",
       "    <tr>\n",
       "      <th>3YZ7A3YHSSBMUMOG2Y6U86LOVAD5S5</th>\n",
       "      <td>1</td>\n",
       "      <td>0</td>\n",
       "      <td>0</td>\n",
       "    </tr>\n",
       "    <tr>\n",
       "      <th>3ZUE82NE1XJWDZ2WUCDYDRC08AKF8Y</th>\n",
       "      <td>0</td>\n",
       "      <td>0</td>\n",
       "      <td>0</td>\n",
       "    </tr>\n",
       "    <tr>\n",
       "      <th>3ZURAPD29V5E2ZIBVR4JYHPSURQF10</th>\n",
       "      <td>0</td>\n",
       "      <td>0</td>\n",
       "      <td>0</td>\n",
       "    </tr>\n",
       "    <tr>\n",
       "      <th>3ZXNP4Z3AE3EDD796IOQU4LPUM0L7M</th>\n",
       "      <td>1</td>\n",
       "      <td>1</td>\n",
       "      <td>0</td>\n",
       "    </tr>\n",
       "    <tr>\n",
       "      <th>3ZXV7Q5FKY6YP2S9BOT3FD8JYOHCFN</th>\n",
       "      <td>1</td>\n",
       "      <td>1</td>\n",
       "      <td>0</td>\n",
       "    </tr>\n",
       "  </tbody>\n",
       "</table>\n",
       "<p>146 rows × 3 columns</p>\n",
       "</div>"
      ],
      "text/plain": [
       "                                worker1  worker2  worker3\n",
       "301KG0KXAZ355GRD9LSX6LBA2CHH2H        1        1        1\n",
       "306996CF7J2OPI6VQPINFRY7FTYB1E        1        0        0\n",
       "3087LXLJ79YEVAXTZ80JKC6IPZKF0X        1        0        1\n",
       "308KJXFUKEOKFSDCMU21QMXWPU4ATR        1        0        1\n",
       "30EMX9PEW71PC59J9LA0AV46S08KS5        1        0        0\n",
       "...                                 ...      ...      ...\n",
       "3YZ7A3YHSSBMUMOG2Y6U86LOVAD5S5        1        0        0\n",
       "3ZUE82NE1XJWDZ2WUCDYDRC08AKF8Y        0        0        0\n",
       "3ZURAPD29V5E2ZIBVR4JYHPSURQF10        0        0        0\n",
       "3ZXNP4Z3AE3EDD796IOQU4LPUM0L7M        1        1        0\n",
       "3ZXV7Q5FKY6YP2S9BOT3FD8JYOHCFN        1        1        0\n",
       "\n",
       "[146 rows x 3 columns]"
      ]
     },
     "execution_count": 212,
     "metadata": {},
     "output_type": "execute_result"
    }
   ],
   "source": [
    "# Step 1: Ensure each cell is a list (not a string)\n",
    "df_pivot_cleaned = df_pivot.applymap(lambda x: eval(x) if isinstance(x, str) else x)\n",
    "\n",
    "# Step 2: Create binary DataFrames per category\n",
    "category_dfs = {}\n",
    "\n",
    "for category in unique_categories:\n",
    "    rows = []\n",
    "    speech_ids = []\n",
    "\n",
    "    for speech_id, row in df_pivot_cleaned.iterrows():\n",
    "        votes = []\n",
    "\n",
    "        for annotations in row.values:\n",
    "            if isinstance(annotations, list) and annotations:  # non-empty list\n",
    "                vote = 1 if category in annotations else 0\n",
    "                votes.append(vote)\n",
    "\n",
    "        # Only include rows with exactly 3 annotations\n",
    "        if len(votes) == 3:\n",
    "            rows.append(votes)\n",
    "            speech_ids.append(speech_id)\n",
    "\n",
    "    df_binary = pd.DataFrame(rows, index=speech_ids, columns=['worker1', 'worker2', 'worker3'])\n",
    "    category_dfs[category] = df_binary\n",
    "\n",
    "category_dfs['Market regulation'] # test one category"
   ]
  },
  {
   "cell_type": "markdown",
   "id": "50b28027",
   "metadata": {},
   "source": [
    "Finally, we will re-compute the Fleiss Kappa scores and look at any differences"
   ]
  },
  {
   "cell_type": "code",
   "execution_count": null,
   "id": "73488dea",
   "metadata": {},
   "outputs": [
    {
     "name": "stdout",
     "output_type": "stream",
     "text": [
      "Market regulation: Fleiss’ Kappa = 0.289\n",
      "Middle Class & Professional Groups: Fleiss’ Kappa = 0.001\n",
      "Government and administrative efficiency: Fleiss’ Kappa = 0.179\n",
      "Economic Planning: Fleiss’ Kappa = 0.173\n",
      "Economic Goals: Fleiss’ Kappa = 0.065\n",
      "Anti-Growth Economy: Fleiss’ Kappa = 0.092\n",
      "Economic Growth: Fleiss’ Kappa = 0.460\n",
      "Free Market Economy: Fleiss’ Kappa = 0.280\n",
      "Incentives: Fleiss’ Kappa = 0.236\n",
      "Keynesian Demand Management: Fleiss’ Kappa = 0.203\n",
      "Corporatism / Mixed Economy: Fleiss’ Kappa = 0.058\n",
      "Technology and Infrastructure: Fleiss’ Kappa = 0.409\n",
      "Labor Groups Positive: Fleiss’ Kappa = 0.305\n",
      "Labor Groups Negative: Fleiss’ Kappa = -0.002\n",
      "\n",
      "Average Fleiss’ Kappa across categories: 0.196\n"
     ]
    }
   ],
   "source": [
    "all_kappas = {}\n",
    "\n",
    "for category, category_dfs[category] in category_dfs.items():\n",
    "    try:\n",
    "        # For each row (speech), count number of annotators giving 0 and 1\n",
    "        counts_matrix = []\n",
    "\n",
    "        for _, row in category_dfs[category].iterrows():\n",
    "            counts = [list(row).count(0), list(row).count(1)]  # [num 0s, num 1s]\n",
    "            counts_matrix.append(counts)\n",
    "\n",
    "        counts_array = np.array(counts_matrix)\n",
    "        \n",
    "        # Compute Fleiss' Kappa\n",
    "        kappa = fleiss_kappa(counts_array)\n",
    "        all_kappas[category] = kappa\n",
    "        print(f\"{category}: Fleiss’ Kappa = {kappa:.3f}\")\n",
    "\n",
    "    except Exception as e:\n",
    "        print(f\"Error computing Fleiss’ Kappa for {category}: {e}\")\n",
    "        \n",
    "if all_kappas:\n",
    "    avg_kappa = np.mean(list(all_kappas.values()))\n",
    "    print(f\"\\nAverage Fleiss’ Kappa across categories: {avg_kappa:.3f}\")"
   ]
  },
  {
   "cell_type": "markdown",
   "id": "0408e7bb",
   "metadata": {},
   "source": [
    "**Old with last worker (for comparisons):**\n",
    "\n",
    "<p>Market regulation: Fleiss’ Kappa = 0.289<br>\n",
    "Middle Class & Professional Groups: Fleiss’ Kappa = 0.001<br>\n",
    "Government and administrative efficiency: Fleiss’ Kappa = 0.179<br>\n",
    "Economic Planning: Fleiss’ Kappa = 0.173<br>\n",
    "Economic Goals: Fleiss’ Kappa = 0.065<br>\n",
    "Anti-Growth Economy: Fleiss’ Kappa = 0.092<br>\n",
    "Economic Growth: Fleiss’ Kappa = 0.460<br>\n",
    "Free Market Economy: Fleiss’ Kappa = 0.280<br>\n",
    "Incentives: Fleiss’ Kappa = 0.236<br>\n",
    "Keynesian Demand Management: Fleiss’ Kappa = 0.203<br>\n",
    "Corporatism / Mixed Economy: Fleiss’ Kappa = 0.058<br>\n",
    "Technology and Infrastructure: Fleiss’ Kappa = 0.409<br>\n",
    "Labor Groups Positive: Fleiss’ Kappa = 0.305<br>\n",
    "Labor Groups Negative: Fleiss’ Kappa = -0.002</p>"
   ]
  }
 ],
 "metadata": {
  "kernelspec": {
   "display_name": "venv",
   "language": "python",
   "name": "python3"
  },
  "language_info": {
   "codemirror_mode": {
    "name": "ipython",
    "version": 3
   },
   "file_extension": ".py",
   "mimetype": "text/x-python",
   "name": "python",
   "nbconvert_exporter": "python",
   "pygments_lexer": "ipython3",
   "version": "3.13.1"
  }
 },
 "nbformat": 4,
 "nbformat_minor": 5
}
