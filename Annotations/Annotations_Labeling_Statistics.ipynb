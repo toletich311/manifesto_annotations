{
 "cells": [
  {
   "cell_type": "markdown",
   "id": "8fd2c515",
   "metadata": {},
   "source": [
    "## Step 1: Load Libraries"
   ]
  },
  {
   "cell_type": "code",
   "execution_count": 2,
   "id": "c78a31f0",
   "metadata": {},
   "outputs": [
    {
     "name": "stdout",
     "output_type": "stream",
     "text": [
      "Requirement already satisfied: pandas in /Users/chandinitoleti/CGR_GIT/manifesto_annotations/myenv/lib/python3.13/site-packages (2.3.0)\n",
      "Requirement already satisfied: krippendorff in /Users/chandinitoleti/CGR_GIT/manifesto_annotations/myenv/lib/python3.13/site-packages (0.8.1)\n",
      "Requirement already satisfied: statsmodels in /Users/chandinitoleti/CGR_GIT/manifesto_annotations/myenv/lib/python3.13/site-packages (0.14.4)\n",
      "Requirement already satisfied: scikit-learn in /Users/chandinitoleti/CGR_GIT/manifesto_annotations/myenv/lib/python3.13/site-packages (1.7.0)\n",
      "Requirement already satisfied: seaborn in /Users/chandinitoleti/CGR_GIT/manifesto_annotations/myenv/lib/python3.13/site-packages (0.13.2)\n",
      "Requirement already satisfied: matplotlib in /Users/chandinitoleti/CGR_GIT/manifesto_annotations/myenv/lib/python3.13/site-packages (3.10.3)\n",
      "Requirement already satisfied: numpy in /Users/chandinitoleti/CGR_GIT/manifesto_annotations/myenv/lib/python3.13/site-packages (2.3.1)\n",
      "Requirement already satisfied: python-dateutil>=2.8.2 in /Users/chandinitoleti/CGR_GIT/manifesto_annotations/myenv/lib/python3.13/site-packages (from pandas) (2.9.0.post0)\n",
      "Requirement already satisfied: pytz>=2020.1 in /Users/chandinitoleti/CGR_GIT/manifesto_annotations/myenv/lib/python3.13/site-packages (from pandas) (2025.2)\n",
      "Requirement already satisfied: tzdata>=2022.7 in /Users/chandinitoleti/CGR_GIT/manifesto_annotations/myenv/lib/python3.13/site-packages (from pandas) (2025.2)\n",
      "Requirement already satisfied: scipy!=1.9.2,>=1.8 in /Users/chandinitoleti/CGR_GIT/manifesto_annotations/myenv/lib/python3.13/site-packages (from statsmodels) (1.16.0)\n",
      "Requirement already satisfied: patsy>=0.5.6 in /Users/chandinitoleti/CGR_GIT/manifesto_annotations/myenv/lib/python3.13/site-packages (from statsmodels) (1.0.1)\n",
      "Requirement already satisfied: packaging>=21.3 in /Users/chandinitoleti/CGR_GIT/manifesto_annotations/myenv/lib/python3.13/site-packages (from statsmodels) (25.0)\n",
      "Requirement already satisfied: joblib>=1.2.0 in /Users/chandinitoleti/CGR_GIT/manifesto_annotations/myenv/lib/python3.13/site-packages (from scikit-learn) (1.5.1)\n",
      "Requirement already satisfied: threadpoolctl>=3.1.0 in /Users/chandinitoleti/CGR_GIT/manifesto_annotations/myenv/lib/python3.13/site-packages (from scikit-learn) (3.6.0)\n",
      "Requirement already satisfied: contourpy>=1.0.1 in /Users/chandinitoleti/CGR_GIT/manifesto_annotations/myenv/lib/python3.13/site-packages (from matplotlib) (1.3.2)\n",
      "Requirement already satisfied: cycler>=0.10 in /Users/chandinitoleti/CGR_GIT/manifesto_annotations/myenv/lib/python3.13/site-packages (from matplotlib) (0.12.1)\n",
      "Requirement already satisfied: fonttools>=4.22.0 in /Users/chandinitoleti/CGR_GIT/manifesto_annotations/myenv/lib/python3.13/site-packages (from matplotlib) (4.58.4)\n",
      "Requirement already satisfied: kiwisolver>=1.3.1 in /Users/chandinitoleti/CGR_GIT/manifesto_annotations/myenv/lib/python3.13/site-packages (from matplotlib) (1.4.8)\n",
      "Requirement already satisfied: pillow>=8 in /Users/chandinitoleti/CGR_GIT/manifesto_annotations/myenv/lib/python3.13/site-packages (from matplotlib) (11.2.1)\n",
      "Requirement already satisfied: pyparsing>=2.3.1 in /Users/chandinitoleti/CGR_GIT/manifesto_annotations/myenv/lib/python3.13/site-packages (from matplotlib) (3.2.3)\n",
      "Requirement already satisfied: six>=1.5 in /Users/chandinitoleti/CGR_GIT/manifesto_annotations/myenv/lib/python3.13/site-packages (from python-dateutil>=2.8.2->pandas) (1.17.0)\n",
      "\n",
      "\u001b[1m[\u001b[0m\u001b[34;49mnotice\u001b[0m\u001b[1;39;49m]\u001b[0m\u001b[39;49m A new release of pip is available: \u001b[0m\u001b[31;49m24.3.1\u001b[0m\u001b[39;49m -> \u001b[0m\u001b[32;49m25.1.1\u001b[0m\n",
      "\u001b[1m[\u001b[0m\u001b[34;49mnotice\u001b[0m\u001b[1;39;49m]\u001b[0m\u001b[39;49m To update, run: \u001b[0m\u001b[32;49mpip install --upgrade pip\u001b[0m\n"
     ]
    }
   ],
   "source": [
    "# Install all required packages\n",
    "!pip install pandas krippendorff statsmodels scikit-learn seaborn matplotlib numpy"
   ]
  },
  {
   "cell_type": "code",
   "execution_count": 20,
   "id": "edbf9d0c",
   "metadata": {},
   "outputs": [],
   "source": [
    "import pandas as pd\n",
    "import krippendorff\n",
    "from statsmodels.stats.inter_rater import fleiss_kappa\n",
    "from sklearn.metrics import cohen_kappa_score\n",
    "import seaborn as sns\n",
    "import matplotlib.pyplot as plt\n",
    "import numpy as np\n",
    "from statsmodels.stats.inter_rater import aggregate_raters, fleiss_kappa\n",
    "import itertools\n",
    "import seaborn as sns\n",
    "from scipy.stats import entropy\n",
    "from sklearn.cluster import KMeans\n",
    "from scipy.special import rel_entr\n",
    "from scipy.stats import entropy\n",
    "import itertools\n",
    "from collections import Counter\n",
    "import pandas as pd\n",
    "import ast \n",
    "from statsmodels.stats.inter_rater import fleiss_kappa"
   ]
  },
  {
   "cell_type": "markdown",
   "id": "da4833e7",
   "metadata": {},
   "source": [
    "## Step 2: Read and Prepare Data"
   ]
  },
  {
   "cell_type": "code",
   "execution_count": 12,
   "id": "efe014b5",
   "metadata": {},
   "outputs": [],
   "source": [
    "df = pd.read_csv(\"./gold_dataset.csv\")"
   ]
  },
  {
   "cell_type": "code",
   "execution_count": 13,
   "id": "69ef11d4",
   "metadata": {},
   "outputs": [
    {
     "data": {
      "application/vnd.microsoft.datawrangler.viewer.v0+json": {
       "columns": [
        {
         "name": "index",
         "rawType": "int64",
         "type": "integer"
        },
        {
         "name": "HITId",
         "rawType": "object",
         "type": "string"
        },
        {
         "name": "HITTypeId",
         "rawType": "object",
         "type": "string"
        },
        {
         "name": "Title",
         "rawType": "object",
         "type": "string"
        },
        {
         "name": "Description",
         "rawType": "object",
         "type": "string"
        },
        {
         "name": "Keywords",
         "rawType": "object",
         "type": "string"
        },
        {
         "name": "Reward",
         "rawType": "object",
         "type": "string"
        },
        {
         "name": "CreationTime",
         "rawType": "object",
         "type": "string"
        },
        {
         "name": "MaxAssignments",
         "rawType": "int64",
         "type": "integer"
        },
        {
         "name": "RequesterAnnotation",
         "rawType": "object",
         "type": "string"
        },
        {
         "name": "AssignmentDurationInSeconds",
         "rawType": "int64",
         "type": "integer"
        },
        {
         "name": "AutoApprovalDelayInSeconds",
         "rawType": "int64",
         "type": "integer"
        },
        {
         "name": "Expiration",
         "rawType": "object",
         "type": "string"
        },
        {
         "name": "NumberOfSimilarHITs",
         "rawType": "float64",
         "type": "float"
        },
        {
         "name": "LifetimeInSeconds",
         "rawType": "float64",
         "type": "float"
        },
        {
         "name": "AssignmentId",
         "rawType": "object",
         "type": "string"
        },
        {
         "name": "WorkerId",
         "rawType": "object",
         "type": "string"
        },
        {
         "name": "AssignmentStatus",
         "rawType": "object",
         "type": "string"
        },
        {
         "name": "AcceptTime",
         "rawType": "object",
         "type": "string"
        },
        {
         "name": "SubmitTime",
         "rawType": "object",
         "type": "string"
        },
        {
         "name": "AutoApprovalTime",
         "rawType": "object",
         "type": "string"
        },
        {
         "name": "ApprovalTime",
         "rawType": "object",
         "type": "string"
        },
        {
         "name": "RejectionTime",
         "rawType": "float64",
         "type": "float"
        },
        {
         "name": "RequesterFeedback",
         "rawType": "float64",
         "type": "float"
        },
        {
         "name": "WorkTimeInSeconds",
         "rawType": "int64",
         "type": "integer"
        },
        {
         "name": "LifetimeApprovalRate",
         "rawType": "object",
         "type": "string"
        },
        {
         "name": "Last30DaysApprovalRate",
         "rawType": "object",
         "type": "string"
        },
        {
         "name": "Last7DaysApprovalRate",
         "rawType": "object",
         "type": "string"
        },
        {
         "name": "Input.text-eng",
         "rawType": "object",
         "type": "string"
        },
        {
         "name": "Input.label",
         "rawType": "int64",
         "type": "integer"
        },
        {
         "name": "Input.parameter",
         "rawType": "object",
         "type": "string"
        },
        {
         "name": "Input.parameter_num_labels",
         "rawType": "int64",
         "type": "integer"
        },
        {
         "name": "Answer.manifesto_class.labels",
         "rawType": "object",
         "type": "string"
        },
        {
         "name": "Approve",
         "rawType": "float64",
         "type": "float"
        },
        {
         "name": "Reject",
         "rawType": "float64",
         "type": "float"
        }
       ],
       "ref": "b7b36e18-5925-4410-8881-2829912b64bd",
       "rows": [
        [
         "0",
         "39N6W9XWS05H65P9I0HAUP0E2RZGYY",
         "3BRS3IGD63EV308CIXT46SFWM41TR3",
         "[ACSS] Text labeling Manifesto",
         "Identify the most relevant labels to describe these texts",
         "labeling, text, manifesto",
         "$1.00",
         "Mon Apr 14 05:38:01 PDT 2025",
         "3",
         "BatchId:414859;OriginalHitTemplateId:921587261;",
         "3600",
         "259200",
         "Tue Jul 22 05:38:01 PDT 2025",
         null,
         null,
         "3H8DHMCCWXULW0OV2XKD4GEL9CQDK8",
         "A335R4YE2E34H6",
         "Approved",
         "Fri May 02 06:07:26 PDT 2025",
         "Fri May 02 06:07:52 PDT 2025",
         "Mon May 05 06:07:52 PDT 2025",
         "Mon May 05 06:08:49 PDT 2025",
         null,
         null,
         "26",
         "100% (152/152)",
         "100% (46/46)",
         "100% (46/46)",
         "Madam President, Mr Posselt, I do not really think it took any courage to talk to China. Our dialogue with China – in which I have taken part myself – is very open and direct.\n The issue you raised is, of course, being pursued not only in relation to China, but also to Turkey. We have raised our concerns on the matter in our discussions with Turkey and will obviously continue to insist in future that the legal and administrative measures being established by Turkey in this respect are in line with our expectations in this domain, which of course correspond to international standards.",
         "0",
         "Par303_Governmental and Administrative Efficiency",
         "2",
         "[]",
         null,
         null
        ],
        [
         "1",
         "39N6W9XWS05H65P9I0HAUP0E2RZGYY",
         "3BRS3IGD63EV308CIXT46SFWM41TR3",
         "[ACSS] Text labeling Manifesto",
         "Identify the most relevant labels to describe these texts",
         "labeling, text, manifesto",
         "$1.00",
         "Mon Apr 14 05:38:01 PDT 2025",
         "3",
         "BatchId:414859;OriginalHitTemplateId:921587261;",
         "3600",
         "259200",
         "Tue Jul 22 05:38:01 PDT 2025",
         null,
         null,
         "3OWEPKL08XV6NX8O8X97WGLTHWN7N9",
         "A1X47COW2Y9SEL",
         "Approved",
         "Thu Apr 24 03:00:19 PDT 2025",
         "Thu Apr 24 03:00:39 PDT 2025",
         "Sun Apr 27 03:00:39 PDT 2025",
         "Thu Apr 24 06:56:48 PDT 2025",
         null,
         null,
         "20",
         "100% (238/239)",
         "100% (19/19)",
         "100% (19/19)",
         "Madam President, Mr Posselt, I do not really think it took any courage to talk to China. Our dialogue with China – in which I have taken part myself – is very open and direct.\n The issue you raised is, of course, being pursued not only in relation to China, but also to Turkey. We have raised our concerns on the matter in our discussions with Turkey and will obviously continue to insist in future that the legal and administrative measures being established by Turkey in this respect are in line with our expectations in this domain, which of course correspond to international standards.",
         "0",
         "Par303_Governmental and Administrative Efficiency",
         "2",
         "[]",
         null,
         null
        ],
        [
         "2",
         "39N6W9XWS05H65P9I0HAUP0E2RZGYY",
         "3BRS3IGD63EV308CIXT46SFWM41TR3",
         "[ACSS] Text labeling Manifesto",
         "Identify the most relevant labels to describe these texts",
         "labeling, text, manifesto",
         "$1.00",
         "Mon Apr 14 05:38:01 PDT 2025",
         "3",
         "BatchId:414859;OriginalHitTemplateId:921587261;",
         "3600",
         "259200",
         "Tue Jul 22 05:38:01 PDT 2025",
         null,
         null,
         "3QJOXOW4X7ALEU2YJ48DPBOAYSEME5",
         "A1NBQ61Y6KO3O9",
         "Approved",
         "Fri Apr 18 07:49:35 PDT 2025",
         "Fri Apr 18 07:52:43 PDT 2025",
         "Mon Apr 21 07:52:43 PDT 2025",
         "Mon Apr 21 07:52:49 PDT 2025",
         null,
         null,
         "188",
         "100% (287/287)",
         "100% (75/75)",
         "100% (19/19)",
         "Madam President, Mr Posselt, I do not really think it took any courage to talk to China. Our dialogue with China – in which I have taken part myself – is very open and direct.\n The issue you raised is, of course, being pursued not only in relation to China, but also to Turkey. We have raised our concerns on the matter in our discussions with Turkey and will obviously continue to insist in future that the legal and administrative measures being established by Turkey in this respect are in line with our expectations in this domain, which of course correspond to international standards.",
         "0",
         "Par303_Governmental and Administrative Efficiency",
         "2",
         "[]",
         null,
         null
        ],
        [
         "3",
         "3P7RGTLO71VLC9NPSLO9PVA06HDAKL",
         "3BRS3IGD63EV308CIXT46SFWM41TR3",
         "[ACSS] Text labeling Manifesto",
         "Identify the most relevant labels to describe these texts",
         "labeling, text, manifesto",
         "$1.00",
         "Mon Apr 14 05:38:01 PDT 2025",
         "3",
         "BatchId:414859;OriginalHitTemplateId:921587261;",
         "3600",
         "259200",
         "Tue Jul 22 05:38:01 PDT 2025",
         null,
         null,
         "369J354OF1TH95DX2JRK0IC0L9MG6G",
         "A335R4YE2E34H6",
         "Approved",
         "Fri May 02 06:47:05 PDT 2025",
         "Fri May 02 06:49:01 PDT 2025",
         "Mon May 05 06:49:01 PDT 2025",
         "Mon May 05 06:49:49 PDT 2025",
         null,
         null,
         "116",
         "100% (152/152)",
         "100% (46/46)",
         "100% (46/46)",
         "Mr President, ladies and gentlemen, first of all, I would like to welcome Mrs García Pérez’s report.\n As part of cohesion policy, the reforms are very important and are aimed at alleviating the adverse effects caused by the financial crisis. The flexibility allowed in distributing Community funds will provide national economies with immediate cash flow, which will enable them to invest in the real economy. This will have an immediate effect and we will definitely see the initial results in the following months.\n The European Commission is supporting Member States’ economies based on four major priorities, the most important of these being increasing the pre-financing from the European Regional Development Fund (ERDF) and European Social Fund and increasing the support from the European Investment Bank and European Investment Fund. In fact, in 2009 the pre-financing which the new Member States in particular receive may help to overcome the crisis, as well as establish social and territorial cohesion.\n Great importance must also be attached to the report on the eligibility of investments in energy efficiency and renewable energy for housing. The renovation of residential heating systems must feature on the European Union’s agenda of priorities, bearing in mind the added value generated by this measure.\n At a time when heating costs are constantly on the rise, Member States must also include in their programmes to combat the financial crisis projects which take into account energy efficiency. They offer the following important benefits to the economy and population: a cash flow injection into the economy, along with job creation, a reduction in heating costs, protection of the environment through cutting greenhouse gas emissions, the provision of social cohesion and support for low-income families.\n In Romania 1.4 million flats urgently require investment for renovation.",
         "1",
         "Par405_Corporatism",
         "2",
         "[\"Keynesian Demand Management\",\"Market regulation\",\"Economic Planning\"]",
         null,
         null
        ],
        [
         "4",
         "3P7RGTLO71VLC9NPSLO9PVA06HDAKL",
         "3BRS3IGD63EV308CIXT46SFWM41TR3",
         "[ACSS] Text labeling Manifesto",
         "Identify the most relevant labels to describe these texts",
         "labeling, text, manifesto",
         "$1.00",
         "Mon Apr 14 05:38:01 PDT 2025",
         "3",
         "BatchId:414859;OriginalHitTemplateId:921587261;",
         "3600",
         "259200",
         "Tue Jul 22 05:38:01 PDT 2025",
         null,
         null,
         "3MTMREQS4J1ETTF071CE2Q0ABG5AW2",
         "A1NBQ61Y6KO3O9",
         "Approved",
         "Wed May 07 06:05:27 PDT 2025",
         "Wed May 07 06:13:55 PDT 2025",
         "Sat May 10 06:13:55 PDT 2025",
         "Sat May 10 06:14:49 PDT 2025",
         null,
         null,
         "508",
         "100% (287/287)",
         "100% (75/75)",
         "100% (19/19)",
         "Mr President, ladies and gentlemen, first of all, I would like to welcome Mrs García Pérez’s report.\n As part of cohesion policy, the reforms are very important and are aimed at alleviating the adverse effects caused by the financial crisis. The flexibility allowed in distributing Community funds will provide national economies with immediate cash flow, which will enable them to invest in the real economy. This will have an immediate effect and we will definitely see the initial results in the following months.\n The European Commission is supporting Member States’ economies based on four major priorities, the most important of these being increasing the pre-financing from the European Regional Development Fund (ERDF) and European Social Fund and increasing the support from the European Investment Bank and European Investment Fund. In fact, in 2009 the pre-financing which the new Member States in particular receive may help to overcome the crisis, as well as establish social and territorial cohesion.\n Great importance must also be attached to the report on the eligibility of investments in energy efficiency and renewable energy for housing. The renovation of residential heating systems must feature on the European Union’s agenda of priorities, bearing in mind the added value generated by this measure.\n At a time when heating costs are constantly on the rise, Member States must also include in their programmes to combat the financial crisis projects which take into account energy efficiency. They offer the following important benefits to the economy and population: a cash flow injection into the economy, along with job creation, a reduction in heating costs, protection of the environment through cutting greenhouse gas emissions, the provision of social cohesion and support for low-income families.\n In Romania 1.4 million flats urgently require investment for renovation.",
         "1",
         "Par405_Corporatism",
         "2",
         "[\"Government and administrative efficiency\",\"Market regulation\",\"Incentives\",\"Economic Planning\",\"Economic Growth\",\"Technology and Infrastructure\"]",
         null,
         null
        ]
       ],
       "shape": {
        "columns": 34,
        "rows": 5
       }
      },
      "text/html": [
       "<div>\n",
       "<style scoped>\n",
       "    .dataframe tbody tr th:only-of-type {\n",
       "        vertical-align: middle;\n",
       "    }\n",
       "\n",
       "    .dataframe tbody tr th {\n",
       "        vertical-align: top;\n",
       "    }\n",
       "\n",
       "    .dataframe thead th {\n",
       "        text-align: right;\n",
       "    }\n",
       "</style>\n",
       "<table border=\"1\" class=\"dataframe\">\n",
       "  <thead>\n",
       "    <tr style=\"text-align: right;\">\n",
       "      <th></th>\n",
       "      <th>HITId</th>\n",
       "      <th>HITTypeId</th>\n",
       "      <th>Title</th>\n",
       "      <th>Description</th>\n",
       "      <th>Keywords</th>\n",
       "      <th>Reward</th>\n",
       "      <th>CreationTime</th>\n",
       "      <th>MaxAssignments</th>\n",
       "      <th>RequesterAnnotation</th>\n",
       "      <th>AssignmentDurationInSeconds</th>\n",
       "      <th>...</th>\n",
       "      <th>LifetimeApprovalRate</th>\n",
       "      <th>Last30DaysApprovalRate</th>\n",
       "      <th>Last7DaysApprovalRate</th>\n",
       "      <th>Input.text-eng</th>\n",
       "      <th>Input.label</th>\n",
       "      <th>Input.parameter</th>\n",
       "      <th>Input.parameter_num_labels</th>\n",
       "      <th>Answer.manifesto_class.labels</th>\n",
       "      <th>Approve</th>\n",
       "      <th>Reject</th>\n",
       "    </tr>\n",
       "  </thead>\n",
       "  <tbody>\n",
       "    <tr>\n",
       "      <th>0</th>\n",
       "      <td>39N6W9XWS05H65P9I0HAUP0E2RZGYY</td>\n",
       "      <td>3BRS3IGD63EV308CIXT46SFWM41TR3</td>\n",
       "      <td>[ACSS] Text labeling Manifesto</td>\n",
       "      <td>Identify the most relevant labels to describe ...</td>\n",
       "      <td>labeling, text, manifesto</td>\n",
       "      <td>$1.00</td>\n",
       "      <td>Mon Apr 14 05:38:01 PDT 2025</td>\n",
       "      <td>3</td>\n",
       "      <td>BatchId:414859;OriginalHitTemplateId:921587261;</td>\n",
       "      <td>3600</td>\n",
       "      <td>...</td>\n",
       "      <td>100% (152/152)</td>\n",
       "      <td>100% (46/46)</td>\n",
       "      <td>100% (46/46)</td>\n",
       "      <td>Madam President, Mr Posselt, I do not really t...</td>\n",
       "      <td>0</td>\n",
       "      <td>Par303_Governmental and Administrative Efficiency</td>\n",
       "      <td>2</td>\n",
       "      <td>[]</td>\n",
       "      <td>NaN</td>\n",
       "      <td>NaN</td>\n",
       "    </tr>\n",
       "    <tr>\n",
       "      <th>1</th>\n",
       "      <td>39N6W9XWS05H65P9I0HAUP0E2RZGYY</td>\n",
       "      <td>3BRS3IGD63EV308CIXT46SFWM41TR3</td>\n",
       "      <td>[ACSS] Text labeling Manifesto</td>\n",
       "      <td>Identify the most relevant labels to describe ...</td>\n",
       "      <td>labeling, text, manifesto</td>\n",
       "      <td>$1.00</td>\n",
       "      <td>Mon Apr 14 05:38:01 PDT 2025</td>\n",
       "      <td>3</td>\n",
       "      <td>BatchId:414859;OriginalHitTemplateId:921587261;</td>\n",
       "      <td>3600</td>\n",
       "      <td>...</td>\n",
       "      <td>100% (238/239)</td>\n",
       "      <td>100% (19/19)</td>\n",
       "      <td>100% (19/19)</td>\n",
       "      <td>Madam President, Mr Posselt, I do not really t...</td>\n",
       "      <td>0</td>\n",
       "      <td>Par303_Governmental and Administrative Efficiency</td>\n",
       "      <td>2</td>\n",
       "      <td>[]</td>\n",
       "      <td>NaN</td>\n",
       "      <td>NaN</td>\n",
       "    </tr>\n",
       "    <tr>\n",
       "      <th>2</th>\n",
       "      <td>39N6W9XWS05H65P9I0HAUP0E2RZGYY</td>\n",
       "      <td>3BRS3IGD63EV308CIXT46SFWM41TR3</td>\n",
       "      <td>[ACSS] Text labeling Manifesto</td>\n",
       "      <td>Identify the most relevant labels to describe ...</td>\n",
       "      <td>labeling, text, manifesto</td>\n",
       "      <td>$1.00</td>\n",
       "      <td>Mon Apr 14 05:38:01 PDT 2025</td>\n",
       "      <td>3</td>\n",
       "      <td>BatchId:414859;OriginalHitTemplateId:921587261;</td>\n",
       "      <td>3600</td>\n",
       "      <td>...</td>\n",
       "      <td>100% (287/287)</td>\n",
       "      <td>100% (75/75)</td>\n",
       "      <td>100% (19/19)</td>\n",
       "      <td>Madam President, Mr Posselt, I do not really t...</td>\n",
       "      <td>0</td>\n",
       "      <td>Par303_Governmental and Administrative Efficiency</td>\n",
       "      <td>2</td>\n",
       "      <td>[]</td>\n",
       "      <td>NaN</td>\n",
       "      <td>NaN</td>\n",
       "    </tr>\n",
       "    <tr>\n",
       "      <th>3</th>\n",
       "      <td>3P7RGTLO71VLC9NPSLO9PVA06HDAKL</td>\n",
       "      <td>3BRS3IGD63EV308CIXT46SFWM41TR3</td>\n",
       "      <td>[ACSS] Text labeling Manifesto</td>\n",
       "      <td>Identify the most relevant labels to describe ...</td>\n",
       "      <td>labeling, text, manifesto</td>\n",
       "      <td>$1.00</td>\n",
       "      <td>Mon Apr 14 05:38:01 PDT 2025</td>\n",
       "      <td>3</td>\n",
       "      <td>BatchId:414859;OriginalHitTemplateId:921587261;</td>\n",
       "      <td>3600</td>\n",
       "      <td>...</td>\n",
       "      <td>100% (152/152)</td>\n",
       "      <td>100% (46/46)</td>\n",
       "      <td>100% (46/46)</td>\n",
       "      <td>Mr President, ladies and gentlemen, first of a...</td>\n",
       "      <td>1</td>\n",
       "      <td>Par405_Corporatism</td>\n",
       "      <td>2</td>\n",
       "      <td>[\"Keynesian Demand Management\",\"Market regulat...</td>\n",
       "      <td>NaN</td>\n",
       "      <td>NaN</td>\n",
       "    </tr>\n",
       "    <tr>\n",
       "      <th>4</th>\n",
       "      <td>3P7RGTLO71VLC9NPSLO9PVA06HDAKL</td>\n",
       "      <td>3BRS3IGD63EV308CIXT46SFWM41TR3</td>\n",
       "      <td>[ACSS] Text labeling Manifesto</td>\n",
       "      <td>Identify the most relevant labels to describe ...</td>\n",
       "      <td>labeling, text, manifesto</td>\n",
       "      <td>$1.00</td>\n",
       "      <td>Mon Apr 14 05:38:01 PDT 2025</td>\n",
       "      <td>3</td>\n",
       "      <td>BatchId:414859;OriginalHitTemplateId:921587261;</td>\n",
       "      <td>3600</td>\n",
       "      <td>...</td>\n",
       "      <td>100% (287/287)</td>\n",
       "      <td>100% (75/75)</td>\n",
       "      <td>100% (19/19)</td>\n",
       "      <td>Mr President, ladies and gentlemen, first of a...</td>\n",
       "      <td>1</td>\n",
       "      <td>Par405_Corporatism</td>\n",
       "      <td>2</td>\n",
       "      <td>[\"Government and administrative efficiency\",\"M...</td>\n",
       "      <td>NaN</td>\n",
       "      <td>NaN</td>\n",
       "    </tr>\n",
       "  </tbody>\n",
       "</table>\n",
       "<p>5 rows × 34 columns</p>\n",
       "</div>"
      ],
      "text/plain": [
       "                            HITId                       HITTypeId  \\\n",
       "0  39N6W9XWS05H65P9I0HAUP0E2RZGYY  3BRS3IGD63EV308CIXT46SFWM41TR3   \n",
       "1  39N6W9XWS05H65P9I0HAUP0E2RZGYY  3BRS3IGD63EV308CIXT46SFWM41TR3   \n",
       "2  39N6W9XWS05H65P9I0HAUP0E2RZGYY  3BRS3IGD63EV308CIXT46SFWM41TR3   \n",
       "3  3P7RGTLO71VLC9NPSLO9PVA06HDAKL  3BRS3IGD63EV308CIXT46SFWM41TR3   \n",
       "4  3P7RGTLO71VLC9NPSLO9PVA06HDAKL  3BRS3IGD63EV308CIXT46SFWM41TR3   \n",
       "\n",
       "                            Title  \\\n",
       "0  [ACSS] Text labeling Manifesto   \n",
       "1  [ACSS] Text labeling Manifesto   \n",
       "2  [ACSS] Text labeling Manifesto   \n",
       "3  [ACSS] Text labeling Manifesto   \n",
       "4  [ACSS] Text labeling Manifesto   \n",
       "\n",
       "                                         Description  \\\n",
       "0  Identify the most relevant labels to describe ...   \n",
       "1  Identify the most relevant labels to describe ...   \n",
       "2  Identify the most relevant labels to describe ...   \n",
       "3  Identify the most relevant labels to describe ...   \n",
       "4  Identify the most relevant labels to describe ...   \n",
       "\n",
       "                    Keywords Reward                  CreationTime  \\\n",
       "0  labeling, text, manifesto  $1.00  Mon Apr 14 05:38:01 PDT 2025   \n",
       "1  labeling, text, manifesto  $1.00  Mon Apr 14 05:38:01 PDT 2025   \n",
       "2  labeling, text, manifesto  $1.00  Mon Apr 14 05:38:01 PDT 2025   \n",
       "3  labeling, text, manifesto  $1.00  Mon Apr 14 05:38:01 PDT 2025   \n",
       "4  labeling, text, manifesto  $1.00  Mon Apr 14 05:38:01 PDT 2025   \n",
       "\n",
       "   MaxAssignments                              RequesterAnnotation  \\\n",
       "0               3  BatchId:414859;OriginalHitTemplateId:921587261;   \n",
       "1               3  BatchId:414859;OriginalHitTemplateId:921587261;   \n",
       "2               3  BatchId:414859;OriginalHitTemplateId:921587261;   \n",
       "3               3  BatchId:414859;OriginalHitTemplateId:921587261;   \n",
       "4               3  BatchId:414859;OriginalHitTemplateId:921587261;   \n",
       "\n",
       "   AssignmentDurationInSeconds  ...  LifetimeApprovalRate  \\\n",
       "0                         3600  ...        100% (152/152)   \n",
       "1                         3600  ...        100% (238/239)   \n",
       "2                         3600  ...        100% (287/287)   \n",
       "3                         3600  ...        100% (152/152)   \n",
       "4                         3600  ...        100% (287/287)   \n",
       "\n",
       "  Last30DaysApprovalRate  Last7DaysApprovalRate  \\\n",
       "0           100% (46/46)           100% (46/46)   \n",
       "1           100% (19/19)           100% (19/19)   \n",
       "2           100% (75/75)           100% (19/19)   \n",
       "3           100% (46/46)           100% (46/46)   \n",
       "4           100% (75/75)           100% (19/19)   \n",
       "\n",
       "                                      Input.text-eng Input.label  \\\n",
       "0  Madam President, Mr Posselt, I do not really t...           0   \n",
       "1  Madam President, Mr Posselt, I do not really t...           0   \n",
       "2  Madam President, Mr Posselt, I do not really t...           0   \n",
       "3  Mr President, ladies and gentlemen, first of a...           1   \n",
       "4  Mr President, ladies and gentlemen, first of a...           1   \n",
       "\n",
       "                                     Input.parameter  \\\n",
       "0  Par303_Governmental and Administrative Efficiency   \n",
       "1  Par303_Governmental and Administrative Efficiency   \n",
       "2  Par303_Governmental and Administrative Efficiency   \n",
       "3                                 Par405_Corporatism   \n",
       "4                                 Par405_Corporatism   \n",
       "\n",
       "  Input.parameter_num_labels  \\\n",
       "0                          2   \n",
       "1                          2   \n",
       "2                          2   \n",
       "3                          2   \n",
       "4                          2   \n",
       "\n",
       "                       Answer.manifesto_class.labels Approve Reject  \n",
       "0                                                 []     NaN    NaN  \n",
       "1                                                 []     NaN    NaN  \n",
       "2                                                 []     NaN    NaN  \n",
       "3  [\"Keynesian Demand Management\",\"Market regulat...     NaN    NaN  \n",
       "4  [\"Government and administrative efficiency\",\"M...     NaN    NaN  \n",
       "\n",
       "[5 rows x 34 columns]"
      ]
     },
     "execution_count": 13,
     "metadata": {},
     "output_type": "execute_result"
    }
   ],
   "source": [
    "df.head()"
   ]
  },
  {
   "cell_type": "markdown",
   "id": "2434e33f",
   "metadata": {},
   "source": [
    "#### **Data Cleaning and Pre-Proccessing**"
   ]
  },
  {
   "cell_type": "markdown",
   "id": "c741db6d",
   "metadata": {},
   "source": [
    "Here, I want to keep HITId (represnting speeches), WorkerId, and Answer.manifesto_class.labels"
   ]
  },
  {
   "cell_type": "code",
   "execution_count": 14,
   "id": "cfdf3cba",
   "metadata": {},
   "outputs": [
    {
     "data": {
      "application/vnd.microsoft.datawrangler.viewer.v0+json": {
       "columns": [
        {
         "name": "index",
         "rawType": "int64",
         "type": "integer"
        },
        {
         "name": "speech_id",
         "rawType": "object",
         "type": "string"
        },
        {
         "name": "worker_id",
         "rawType": "object",
         "type": "string"
        },
        {
         "name": "answer",
         "rawType": "object",
         "type": "string"
        }
       ],
       "ref": "91d84bcf-371a-4a61-beb5-48042a354019",
       "rows": [
        [
         "0",
         "301KG0KXAZ355GRD9LSX6LBA2CHH2H",
         "A1NBQ61Y6KO3O9",
         "[\"Market regulation\",\"Middle Class & Professional Groups\"]"
        ],
        [
         "1",
         "301KG0KXAZ355GRD9LSX6LBA2CHH2H",
         "A1X47COW2Y9SEL",
         "[\"Market regulation\"]"
        ],
        [
         "2",
         "301KG0KXAZ355GRD9LSX6LBA2CHH2H",
         "A335R4YE2E34H6",
         "[\"Market regulation\"]"
        ],
        [
         "3",
         "302OLP89EMP3TBB1087B1CXS184CAA",
         "A1NBQ61Y6KO3O9",
         "[\"Government and administrative efficiency\",\"Economic Planning\",\"Economic Goals\"]"
        ],
        [
         "4",
         "302OLP89EMP3TBB1087B1CXS184CAA",
         "A1X47COW2Y9SEL",
         "[\"Economic Goals\"]"
        ],
        [
         "5",
         "302OLP89EMP3TBB1087B1CXS184CAA",
         "APXGSUB250NVH",
         "[]"
        ],
        [
         "6",
         "306996CF7J2OPI6VQPINFRY7FTYB1E",
         "A1NBQ61Y6KO3O9",
         "[\"Anti-Growth Economy\",\"Market regulation\"]"
        ],
        [
         "7",
         "306996CF7J2OPI6VQPINFRY7FTYB1E",
         "A1X47COW2Y9SEL",
         "[\"Government and administrative efficiency\"]"
        ],
        [
         "8",
         "306996CF7J2OPI6VQPINFRY7FTYB1E",
         "A335R4YE2E34H6",
         "[\"Economic Planning\",\"Economic Growth\"]"
        ],
        [
         "9",
         "3087LXLJ79YEVAXTZ80JKC6IPZKF0X",
         "A1NBQ61Y6KO3O9",
         "[\"Market regulation\",\"Economic Planning\",\"Economic Growth\"]"
        ],
        [
         "10",
         "3087LXLJ79YEVAXTZ80JKC6IPZKF0X",
         "A1X47COW2Y9SEL",
         "[\"Free Market Economy\",\"Economic Growth\"]"
        ],
        [
         "11",
         "3087LXLJ79YEVAXTZ80JKC6IPZKF0X",
         "A335R4YE2E34H6",
         "[\"Market regulation\",\"Economic Growth\"]"
        ],
        [
         "12",
         "308KJXFUKEOKFSDCMU21QMXWPU4ATR",
         "A1NBQ61Y6KO3O9",
         "[\"Economic Planning\",\"Market regulation\",\"Economic Goals\"]"
        ],
        [
         "13",
         "308KJXFUKEOKFSDCMU21QMXWPU4ATR",
         "A1X47COW2Y9SEL",
         "[\"Economic Goals\"]"
        ],
        [
         "14",
         "308KJXFUKEOKFSDCMU21QMXWPU4ATR",
         "A335R4YE2E34H6",
         "[\"Market regulation\",\"Economic Planning\"]"
        ],
        [
         "15",
         "309D674SIM38CLGT6M77WNHYJQPCB5",
         "A1NBQ61Y6KO3O9",
         "[\"Government and administrative efficiency\",\"Economic Goals\"]"
        ],
        [
         "16",
         "309D674SIM38CLGT6M77WNHYJQPCB5",
         "A1X47COW2Y9SEL",
         "[]"
        ],
        [
         "17",
         "309D674SIM38CLGT6M77WNHYJQPCB5",
         "A335R4YE2E34H6",
         "[\"Free Market Economy\"]"
        ],
        [
         "18",
         "30EMX9PEW71PC59J9LA0AV46S08KS5",
         "A1NBQ61Y6KO3O9",
         "[\"Market regulation\",\"Incentives\"]"
        ],
        [
         "19",
         "30EMX9PEW71PC59J9LA0AV46S08KS5",
         "A3GS2NTQ4XU059",
         "[\"Keynesian Demand Management\"]"
        ],
        [
         "20",
         "30EMX9PEW71PC59J9LA0AV46S08KS5",
         "APXGSUB250NVH",
         "[\"Economic Goals\"]"
        ],
        [
         "21",
         "30IRMPJWEM1DBQ96UWAVKLZA6YPKRH",
         "A1X47COW2Y9SEL",
         "[]"
        ],
        [
         "22",
         "30IRMPJWEM1DBQ96UWAVKLZA6YPKRH",
         "A335R4YE2E34H6",
         "[]"
        ],
        [
         "23",
         "30IRMPJWEM1DBQ96UWAVKLZA6YPKRH",
         "A3GS2NTQ4XU059",
         "[\"Economic Goals\"]"
        ],
        [
         "24",
         "30OITAWPCDLG50CCUU7CG8JO8IRH99",
         "A1NBQ61Y6KO3O9",
         "[\"Market regulation\",\"Anti-Growth Economy\"]"
        ],
        [
         "25",
         "30OITAWPCDLG50CCUU7CG8JO8IRH99",
         "A1X47COW2Y9SEL",
         "[\"Market regulation\"]"
        ],
        [
         "26",
         "30OITAWPCDLG50CCUU7CG8JO8IRH99",
         "A335R4YE2E34H6",
         "[]"
        ],
        [
         "27",
         "30P8I9JKP532ME5KWTBZJT5VUE75VA",
         "A1X47COW2Y9SEL",
         "[\"Market regulation\"]"
        ],
        [
         "28",
         "30P8I9JKP532ME5KWTBZJT5VUE75VA",
         "A335R4YE2E34H6",
         "[\"Market regulation\",\"Anti-Growth Economy\"]"
        ],
        [
         "29",
         "30P8I9JKP532ME5KWTBZJT5VUE75VA",
         "A3GS2NTQ4XU059",
         "[\"Market regulation\"]"
        ],
        [
         "30",
         "30QQTY5GN72HW3U3FWGRLRH87DT7U2",
         "A1NBQ61Y6KO3O9",
         "[\"Market regulation\",\"Corporatism / Mixed Economy\",\"Government and administrative efficiency\",\"Economic Planning\",\"Anti-Growth Economy\"]"
        ],
        [
         "31",
         "30QQTY5GN72HW3U3FWGRLRH87DT7U2",
         "A3GS2NTQ4XU059",
         "[\"Economic Goals\"]"
        ],
        [
         "32",
         "30QQTY5GN72HW3U3FWGRLRH87DT7U2",
         "APXGSUB250NVH",
         "[\"Economic Planning\",\"Economic Goals\"]"
        ],
        [
         "33",
         "3126F2F5GVLPDD1HLIV3HVMQL6HEPL",
         "A1NBQ61Y6KO3O9",
         "[\"Economic Planning\"]"
        ],
        [
         "34",
         "3126F2F5GVLPDD1HLIV3HVMQL6HEPL",
         "A1X47COW2Y9SEL",
         "[\"Technology and Infrastructure\",\"Economic Planning\"]"
        ],
        [
         "35",
         "3126F2F5GVLPDD1HLIV3HVMQL6HEPL",
         "A335R4YE2E34H6",
         "[]"
        ],
        [
         "36",
         "31ANT7FQOVKX4DA0R4UV4SEMMM8H5I",
         "A1NBQ61Y6KO3O9",
         "[\"Economic Growth\",\"Incentives\",\"Economic Planning\"]"
        ],
        [
         "37",
         "31ANT7FQOVKX4DA0R4UV4SEMMM8H5I",
         "A1X47COW2Y9SEL",
         "[\"Economic Growth\"]"
        ],
        [
         "38",
         "31ANT7FQOVKX4DA0R4UV4SEMMM8H5I",
         "A335R4YE2E34H6",
         "[]"
        ],
        [
         "39",
         "31ANT7FQOVKX4DA0R4UV4SEMMZW5HK",
         "A1NBQ61Y6KO3O9",
         "[\"Economic Planning\",\"Economic Growth\",\"Incentives\"]"
        ],
        [
         "40",
         "31ANT7FQOVKX4DA0R4UV4SEMMZW5HK",
         "A3GS2NTQ4XU059",
         "[\"Economic Goals\"]"
        ],
        [
         "41",
         "31ANT7FQOVKX4DA0R4UV4SEMMZW5HK",
         "APXGSUB250NVH",
         "[\"Economic Goals\",\"Keynesian Demand Management\"]"
        ],
        [
         "42",
         "31J7RYEC08802RS7H27HTUUCR00L1P",
         "A1NBQ61Y6KO3O9",
         "[\"Middle Class & Professional Groups\",\"Labor Groups Positive\",\"Incentives\",\"Economic Planning\"]"
        ],
        [
         "43",
         "31J7RYEC08802RS7H27HTUUCR00L1P",
         "A335R4YE2E34H6",
         "[\"Labor Groups Positive\",\"Free Market Economy\",\"Incentives\"]"
        ],
        [
         "44",
         "31J7RYEC08802RS7H27HTUUCR00L1P",
         "A3GS2NTQ4XU059",
         "[\"Keynesian Demand Management\",\"Economic Planning\"]"
        ],
        [
         "45",
         "31JUPBOOSAMIDRCSGNGW84HK566L89",
         "A1NBQ61Y6KO3O9",
         "[\"Anti-Growth Economy\",\"Free Market Economy\",\"Economic Planning\",\"Economic Goals\"]"
        ],
        [
         "46",
         "31JUPBOOSAMIDRCSGNGW84HK566L89",
         "A335R4YE2E34H6",
         "[\"Economic Growth\",\"Government and administrative efficiency\"]"
        ],
        [
         "47",
         "31JUPBOOSAMIDRCSGNGW84HK566L89",
         "A3GS2NTQ4XU059",
         "[\"Economic Growth\",\"Free Market Economy\"]"
        ],
        [
         "48",
         "31KPKEKW5XVOITLDU6EN1MFXA1SB0B",
         "A1NBQ61Y6KO3O9",
         "[]"
        ],
        [
         "49",
         "31KPKEKW5XVOITLDU6EN1MFXA1SB0B",
         "A1X47COW2Y9SEL",
         "[]"
        ]
       ],
       "shape": {
        "columns": 3,
        "rows": 660
       }
      },
      "text/html": [
       "<div>\n",
       "<style scoped>\n",
       "    .dataframe tbody tr th:only-of-type {\n",
       "        vertical-align: middle;\n",
       "    }\n",
       "\n",
       "    .dataframe tbody tr th {\n",
       "        vertical-align: top;\n",
       "    }\n",
       "\n",
       "    .dataframe thead th {\n",
       "        text-align: right;\n",
       "    }\n",
       "</style>\n",
       "<table border=\"1\" class=\"dataframe\">\n",
       "  <thead>\n",
       "    <tr style=\"text-align: right;\">\n",
       "      <th></th>\n",
       "      <th>speech_id</th>\n",
       "      <th>worker_id</th>\n",
       "      <th>answer</th>\n",
       "    </tr>\n",
       "  </thead>\n",
       "  <tbody>\n",
       "    <tr>\n",
       "      <th>0</th>\n",
       "      <td>301KG0KXAZ355GRD9LSX6LBA2CHH2H</td>\n",
       "      <td>A1NBQ61Y6KO3O9</td>\n",
       "      <td>[\"Market regulation\",\"Middle Class &amp; Professio...</td>\n",
       "    </tr>\n",
       "    <tr>\n",
       "      <th>1</th>\n",
       "      <td>301KG0KXAZ355GRD9LSX6LBA2CHH2H</td>\n",
       "      <td>A1X47COW2Y9SEL</td>\n",
       "      <td>[\"Market regulation\"]</td>\n",
       "    </tr>\n",
       "    <tr>\n",
       "      <th>2</th>\n",
       "      <td>301KG0KXAZ355GRD9LSX6LBA2CHH2H</td>\n",
       "      <td>A335R4YE2E34H6</td>\n",
       "      <td>[\"Market regulation\"]</td>\n",
       "    </tr>\n",
       "    <tr>\n",
       "      <th>3</th>\n",
       "      <td>302OLP89EMP3TBB1087B1CXS184CAA</td>\n",
       "      <td>A1NBQ61Y6KO3O9</td>\n",
       "      <td>[\"Government and administrative efficiency\",\"E...</td>\n",
       "    </tr>\n",
       "    <tr>\n",
       "      <th>4</th>\n",
       "      <td>302OLP89EMP3TBB1087B1CXS184CAA</td>\n",
       "      <td>A1X47COW2Y9SEL</td>\n",
       "      <td>[\"Economic Goals\"]</td>\n",
       "    </tr>\n",
       "    <tr>\n",
       "      <th>...</th>\n",
       "      <td>...</td>\n",
       "      <td>...</td>\n",
       "      <td>...</td>\n",
       "    </tr>\n",
       "    <tr>\n",
       "      <th>655</th>\n",
       "      <td>3ZXNP4Z3AE3EDD796IOQU4LPUM0L7M</td>\n",
       "      <td>A1X47COW2Y9SEL</td>\n",
       "      <td>[\"Market regulation\",\"Government and administr...</td>\n",
       "    </tr>\n",
       "    <tr>\n",
       "      <th>656</th>\n",
       "      <td>3ZXNP4Z3AE3EDD796IOQU4LPUM0L7M</td>\n",
       "      <td>A3GS2NTQ4XU059</td>\n",
       "      <td>[\"Free Market Economy\"]</td>\n",
       "    </tr>\n",
       "    <tr>\n",
       "      <th>657</th>\n",
       "      <td>3ZXV7Q5FKY6YP2S9BOT3FD8JYOHCFN</td>\n",
       "      <td>A1BQ37ZGUM16XI</td>\n",
       "      <td>[\"Market regulation\"]</td>\n",
       "    </tr>\n",
       "    <tr>\n",
       "      <th>658</th>\n",
       "      <td>3ZXV7Q5FKY6YP2S9BOT3FD8JYOHCFN</td>\n",
       "      <td>A1X47COW2Y9SEL</td>\n",
       "      <td>[\"Market regulation\",\"Anti-Growth Economy\"]</td>\n",
       "    </tr>\n",
       "    <tr>\n",
       "      <th>659</th>\n",
       "      <td>3ZXV7Q5FKY6YP2S9BOT3FD8JYOHCFN</td>\n",
       "      <td>APXGSUB250NVH</td>\n",
       "      <td>[\"Economic Goals\"]</td>\n",
       "    </tr>\n",
       "  </tbody>\n",
       "</table>\n",
       "<p>660 rows × 3 columns</p>\n",
       "</div>"
      ],
      "text/plain": [
       "                          speech_id       worker_id  \\\n",
       "0    301KG0KXAZ355GRD9LSX6LBA2CHH2H  A1NBQ61Y6KO3O9   \n",
       "1    301KG0KXAZ355GRD9LSX6LBA2CHH2H  A1X47COW2Y9SEL   \n",
       "2    301KG0KXAZ355GRD9LSX6LBA2CHH2H  A335R4YE2E34H6   \n",
       "3    302OLP89EMP3TBB1087B1CXS184CAA  A1NBQ61Y6KO3O9   \n",
       "4    302OLP89EMP3TBB1087B1CXS184CAA  A1X47COW2Y9SEL   \n",
       "..                              ...             ...   \n",
       "655  3ZXNP4Z3AE3EDD796IOQU4LPUM0L7M  A1X47COW2Y9SEL   \n",
       "656  3ZXNP4Z3AE3EDD796IOQU4LPUM0L7M  A3GS2NTQ4XU059   \n",
       "657  3ZXV7Q5FKY6YP2S9BOT3FD8JYOHCFN  A1BQ37ZGUM16XI   \n",
       "658  3ZXV7Q5FKY6YP2S9BOT3FD8JYOHCFN  A1X47COW2Y9SEL   \n",
       "659  3ZXV7Q5FKY6YP2S9BOT3FD8JYOHCFN   APXGSUB250NVH   \n",
       "\n",
       "                                                answer  \n",
       "0    [\"Market regulation\",\"Middle Class & Professio...  \n",
       "1                                [\"Market regulation\"]  \n",
       "2                                [\"Market regulation\"]  \n",
       "3    [\"Government and administrative efficiency\",\"E...  \n",
       "4                                   [\"Economic Goals\"]  \n",
       "..                                                 ...  \n",
       "655  [\"Market regulation\",\"Government and administr...  \n",
       "656                            [\"Free Market Economy\"]  \n",
       "657                              [\"Market regulation\"]  \n",
       "658        [\"Market regulation\",\"Anti-Growth Economy\"]  \n",
       "659                                 [\"Economic Goals\"]  \n",
       "\n",
       "[660 rows x 3 columns]"
      ]
     },
     "execution_count": 14,
     "metadata": {},
     "output_type": "execute_result"
    }
   ],
   "source": [
    "# only keep needed columns and rename \n",
    "df_clean = df[['HITId', 'WorkerId', 'Answer.manifesto_class.labels']].copy() #remove unnecessary columns\n",
    "df_clean.rename(columns={\n",
    "    'HITId': 'speech_id',\n",
    "    'WorkerId': 'worker_id',\n",
    "    'Answer.manifesto_class.labels': 'answer'\n",
    "}, inplace=True)\n",
    "\n",
    "# extra cleaning, dropping nulls, making sure all labels are ints, \n",
    "df_clean = df_clean.sort_values(by=['speech_id', 'worker_id']).reset_index(drop=True)\n",
    "\n",
    "# Final preview\n",
    "\n",
    "df_clean"
   ]
  },
  {
   "cell_type": "markdown",
   "id": "a19ccd51",
   "metadata": {},
   "source": [
    "define 'answer's"
   ]
  },
  {
   "cell_type": "code",
   "execution_count": null,
   "id": "781bf90a",
   "metadata": {},
   "outputs": [
    {
     "name": "stdout",
     "output_type": "stream",
     "text": [
      "['Market regulation' 'Middle Class & Professional Groups'\n",
      " 'Government and administrative efficiency' 'Economic Planning'\n",
      " 'Economic Goals' 'Anti-Growth Economy' 'Economic Growth'\n",
      " 'Free Market Economy' 'Incentives' 'Keynesian Demand Management'\n",
      " 'Corporatism / Mixed Economy' 'Technology and Infrastructure'\n",
      " 'Labor Groups Positive' 'Labor Groups Negative']\n"
     ]
    }
   ],
   "source": [
    "\n",
    "# turn all the answers into an array \n",
    "all_answers = df_clean['answer'].dropna().apply(ast.literal_eval)\n",
    "all_categories = [category for sublist in all_answers for category in sublist]\n",
    "unique_categories = pd.Series(all_categories).unique()\n",
    "\n",
    "print(unique_categories) #check \n"
   ]
  },
  {
   "cell_type": "markdown",
   "id": "4d684840",
   "metadata": {},
   "source": [
    "Now, we compute a 'count' matrix in order to analyze similary with fleiss kappa"
   ]
  },
  {
   "cell_type": "code",
   "execution_count": 17,
   "id": "d699d486",
   "metadata": {},
   "outputs": [
    {
     "data": {
      "application/vnd.microsoft.datawrangler.viewer.v0+json": {
       "columns": [
        {
         "name": "speech_id",
         "rawType": "object",
         "type": "string"
        },
        {
         "name": "Anti-Growth Economy",
         "rawType": "int64",
         "type": "integer"
        },
        {
         "name": "Corporatism / Mixed Economy",
         "rawType": "int64",
         "type": "integer"
        },
        {
         "name": "Economic Goals",
         "rawType": "int64",
         "type": "integer"
        },
        {
         "name": "Economic Growth",
         "rawType": "int64",
         "type": "integer"
        },
        {
         "name": "Economic Planning",
         "rawType": "int64",
         "type": "integer"
        },
        {
         "name": "Free Market Economy",
         "rawType": "int64",
         "type": "integer"
        },
        {
         "name": "Government and administrative efficiency",
         "rawType": "int64",
         "type": "integer"
        },
        {
         "name": "Incentives",
         "rawType": "int64",
         "type": "integer"
        },
        {
         "name": "Keynesian Demand Management",
         "rawType": "int64",
         "type": "integer"
        },
        {
         "name": "Labor Groups Negative",
         "rawType": "int64",
         "type": "integer"
        },
        {
         "name": "Labor Groups Positive",
         "rawType": "int64",
         "type": "integer"
        },
        {
         "name": "Market regulation",
         "rawType": "int64",
         "type": "integer"
        },
        {
         "name": "Middle Class & Professional Groups",
         "rawType": "int64",
         "type": "integer"
        },
        {
         "name": "Technology and Infrastructure",
         "rawType": "int64",
         "type": "integer"
        }
       ],
       "ref": "4f319733-3de5-4c18-bd5a-eb6939b0eed8",
       "rows": [
        [
         "301KG0KXAZ355GRD9LSX6LBA2CHH2H",
         "0",
         "0",
         "0",
         "0",
         "0",
         "0",
         "0",
         "0",
         "0",
         "0",
         "0",
         "3",
         "1",
         "0"
        ],
        [
         "302OLP89EMP3TBB1087B1CXS184CAA",
         "0",
         "0",
         "2",
         "0",
         "1",
         "0",
         "1",
         "0",
         "0",
         "0",
         "0",
         "0",
         "0",
         "0"
        ],
        [
         "306996CF7J2OPI6VQPINFRY7FTYB1E",
         "1",
         "0",
         "0",
         "1",
         "1",
         "0",
         "1",
         "0",
         "0",
         "0",
         "0",
         "1",
         "0",
         "0"
        ],
        [
         "3087LXLJ79YEVAXTZ80JKC6IPZKF0X",
         "0",
         "0",
         "0",
         "3",
         "1",
         "1",
         "0",
         "0",
         "0",
         "0",
         "0",
         "2",
         "0",
         "0"
        ],
        [
         "308KJXFUKEOKFSDCMU21QMXWPU4ATR",
         "0",
         "0",
         "2",
         "0",
         "2",
         "0",
         "0",
         "0",
         "0",
         "0",
         "0",
         "2",
         "0",
         "0"
        ]
       ],
       "shape": {
        "columns": 14,
        "rows": 5
       }
      },
      "text/html": [
       "<div>\n",
       "<style scoped>\n",
       "    .dataframe tbody tr th:only-of-type {\n",
       "        vertical-align: middle;\n",
       "    }\n",
       "\n",
       "    .dataframe tbody tr th {\n",
       "        vertical-align: top;\n",
       "    }\n",
       "\n",
       "    .dataframe thead th {\n",
       "        text-align: right;\n",
       "    }\n",
       "</style>\n",
       "<table border=\"1\" class=\"dataframe\">\n",
       "  <thead>\n",
       "    <tr style=\"text-align: right;\">\n",
       "      <th>parsed_answer</th>\n",
       "      <th>Anti-Growth Economy</th>\n",
       "      <th>Corporatism / Mixed Economy</th>\n",
       "      <th>Economic Goals</th>\n",
       "      <th>Economic Growth</th>\n",
       "      <th>Economic Planning</th>\n",
       "      <th>Free Market Economy</th>\n",
       "      <th>Government and administrative efficiency</th>\n",
       "      <th>Incentives</th>\n",
       "      <th>Keynesian Demand Management</th>\n",
       "      <th>Labor Groups Negative</th>\n",
       "      <th>Labor Groups Positive</th>\n",
       "      <th>Market regulation</th>\n",
       "      <th>Middle Class &amp; Professional Groups</th>\n",
       "      <th>Technology and Infrastructure</th>\n",
       "    </tr>\n",
       "    <tr>\n",
       "      <th>speech_id</th>\n",
       "      <th></th>\n",
       "      <th></th>\n",
       "      <th></th>\n",
       "      <th></th>\n",
       "      <th></th>\n",
       "      <th></th>\n",
       "      <th></th>\n",
       "      <th></th>\n",
       "      <th></th>\n",
       "      <th></th>\n",
       "      <th></th>\n",
       "      <th></th>\n",
       "      <th></th>\n",
       "      <th></th>\n",
       "    </tr>\n",
       "  </thead>\n",
       "  <tbody>\n",
       "    <tr>\n",
       "      <th>301KG0KXAZ355GRD9LSX6LBA2CHH2H</th>\n",
       "      <td>0</td>\n",
       "      <td>0</td>\n",
       "      <td>0</td>\n",
       "      <td>0</td>\n",
       "      <td>0</td>\n",
       "      <td>0</td>\n",
       "      <td>0</td>\n",
       "      <td>0</td>\n",
       "      <td>0</td>\n",
       "      <td>0</td>\n",
       "      <td>0</td>\n",
       "      <td>3</td>\n",
       "      <td>1</td>\n",
       "      <td>0</td>\n",
       "    </tr>\n",
       "    <tr>\n",
       "      <th>302OLP89EMP3TBB1087B1CXS184CAA</th>\n",
       "      <td>0</td>\n",
       "      <td>0</td>\n",
       "      <td>2</td>\n",
       "      <td>0</td>\n",
       "      <td>1</td>\n",
       "      <td>0</td>\n",
       "      <td>1</td>\n",
       "      <td>0</td>\n",
       "      <td>0</td>\n",
       "      <td>0</td>\n",
       "      <td>0</td>\n",
       "      <td>0</td>\n",
       "      <td>0</td>\n",
       "      <td>0</td>\n",
       "    </tr>\n",
       "    <tr>\n",
       "      <th>306996CF7J2OPI6VQPINFRY7FTYB1E</th>\n",
       "      <td>1</td>\n",
       "      <td>0</td>\n",
       "      <td>0</td>\n",
       "      <td>1</td>\n",
       "      <td>1</td>\n",
       "      <td>0</td>\n",
       "      <td>1</td>\n",
       "      <td>0</td>\n",
       "      <td>0</td>\n",
       "      <td>0</td>\n",
       "      <td>0</td>\n",
       "      <td>1</td>\n",
       "      <td>0</td>\n",
       "      <td>0</td>\n",
       "    </tr>\n",
       "    <tr>\n",
       "      <th>3087LXLJ79YEVAXTZ80JKC6IPZKF0X</th>\n",
       "      <td>0</td>\n",
       "      <td>0</td>\n",
       "      <td>0</td>\n",
       "      <td>3</td>\n",
       "      <td>1</td>\n",
       "      <td>1</td>\n",
       "      <td>0</td>\n",
       "      <td>0</td>\n",
       "      <td>0</td>\n",
       "      <td>0</td>\n",
       "      <td>0</td>\n",
       "      <td>2</td>\n",
       "      <td>0</td>\n",
       "      <td>0</td>\n",
       "    </tr>\n",
       "    <tr>\n",
       "      <th>308KJXFUKEOKFSDCMU21QMXWPU4ATR</th>\n",
       "      <td>0</td>\n",
       "      <td>0</td>\n",
       "      <td>2</td>\n",
       "      <td>0</td>\n",
       "      <td>2</td>\n",
       "      <td>0</td>\n",
       "      <td>0</td>\n",
       "      <td>0</td>\n",
       "      <td>0</td>\n",
       "      <td>0</td>\n",
       "      <td>0</td>\n",
       "      <td>2</td>\n",
       "      <td>0</td>\n",
       "      <td>0</td>\n",
       "    </tr>\n",
       "  </tbody>\n",
       "</table>\n",
       "</div>"
      ],
      "text/plain": [
       "parsed_answer                   Anti-Growth Economy  \\\n",
       "speech_id                                             \n",
       "301KG0KXAZ355GRD9LSX6LBA2CHH2H                    0   \n",
       "302OLP89EMP3TBB1087B1CXS184CAA                    0   \n",
       "306996CF7J2OPI6VQPINFRY7FTYB1E                    1   \n",
       "3087LXLJ79YEVAXTZ80JKC6IPZKF0X                    0   \n",
       "308KJXFUKEOKFSDCMU21QMXWPU4ATR                    0   \n",
       "\n",
       "parsed_answer                   Corporatism / Mixed Economy  Economic Goals  \\\n",
       "speech_id                                                                     \n",
       "301KG0KXAZ355GRD9LSX6LBA2CHH2H                            0               0   \n",
       "302OLP89EMP3TBB1087B1CXS184CAA                            0               2   \n",
       "306996CF7J2OPI6VQPINFRY7FTYB1E                            0               0   \n",
       "3087LXLJ79YEVAXTZ80JKC6IPZKF0X                            0               0   \n",
       "308KJXFUKEOKFSDCMU21QMXWPU4ATR                            0               2   \n",
       "\n",
       "parsed_answer                   Economic Growth  Economic Planning  \\\n",
       "speech_id                                                            \n",
       "301KG0KXAZ355GRD9LSX6LBA2CHH2H                0                  0   \n",
       "302OLP89EMP3TBB1087B1CXS184CAA                0                  1   \n",
       "306996CF7J2OPI6VQPINFRY7FTYB1E                1                  1   \n",
       "3087LXLJ79YEVAXTZ80JKC6IPZKF0X                3                  1   \n",
       "308KJXFUKEOKFSDCMU21QMXWPU4ATR                0                  2   \n",
       "\n",
       "parsed_answer                   Free Market Economy  \\\n",
       "speech_id                                             \n",
       "301KG0KXAZ355GRD9LSX6LBA2CHH2H                    0   \n",
       "302OLP89EMP3TBB1087B1CXS184CAA                    0   \n",
       "306996CF7J2OPI6VQPINFRY7FTYB1E                    0   \n",
       "3087LXLJ79YEVAXTZ80JKC6IPZKF0X                    1   \n",
       "308KJXFUKEOKFSDCMU21QMXWPU4ATR                    0   \n",
       "\n",
       "parsed_answer                   Government and administrative efficiency  \\\n",
       "speech_id                                                                  \n",
       "301KG0KXAZ355GRD9LSX6LBA2CHH2H                                         0   \n",
       "302OLP89EMP3TBB1087B1CXS184CAA                                         1   \n",
       "306996CF7J2OPI6VQPINFRY7FTYB1E                                         1   \n",
       "3087LXLJ79YEVAXTZ80JKC6IPZKF0X                                         0   \n",
       "308KJXFUKEOKFSDCMU21QMXWPU4ATR                                         0   \n",
       "\n",
       "parsed_answer                   Incentives  Keynesian Demand Management  \\\n",
       "speech_id                                                                 \n",
       "301KG0KXAZ355GRD9LSX6LBA2CHH2H           0                            0   \n",
       "302OLP89EMP3TBB1087B1CXS184CAA           0                            0   \n",
       "306996CF7J2OPI6VQPINFRY7FTYB1E           0                            0   \n",
       "3087LXLJ79YEVAXTZ80JKC6IPZKF0X           0                            0   \n",
       "308KJXFUKEOKFSDCMU21QMXWPU4ATR           0                            0   \n",
       "\n",
       "parsed_answer                   Labor Groups Negative  Labor Groups Positive  \\\n",
       "speech_id                                                                      \n",
       "301KG0KXAZ355GRD9LSX6LBA2CHH2H                      0                      0   \n",
       "302OLP89EMP3TBB1087B1CXS184CAA                      0                      0   \n",
       "306996CF7J2OPI6VQPINFRY7FTYB1E                      0                      0   \n",
       "3087LXLJ79YEVAXTZ80JKC6IPZKF0X                      0                      0   \n",
       "308KJXFUKEOKFSDCMU21QMXWPU4ATR                      0                      0   \n",
       "\n",
       "parsed_answer                   Market regulation  \\\n",
       "speech_id                                           \n",
       "301KG0KXAZ355GRD9LSX6LBA2CHH2H                  3   \n",
       "302OLP89EMP3TBB1087B1CXS184CAA                  0   \n",
       "306996CF7J2OPI6VQPINFRY7FTYB1E                  1   \n",
       "3087LXLJ79YEVAXTZ80JKC6IPZKF0X                  2   \n",
       "308KJXFUKEOKFSDCMU21QMXWPU4ATR                  2   \n",
       "\n",
       "parsed_answer                   Middle Class & Professional Groups  \\\n",
       "speech_id                                                            \n",
       "301KG0KXAZ355GRD9LSX6LBA2CHH2H                                   1   \n",
       "302OLP89EMP3TBB1087B1CXS184CAA                                   0   \n",
       "306996CF7J2OPI6VQPINFRY7FTYB1E                                   0   \n",
       "3087LXLJ79YEVAXTZ80JKC6IPZKF0X                                   0   \n",
       "308KJXFUKEOKFSDCMU21QMXWPU4ATR                                   0   \n",
       "\n",
       "parsed_answer                   Technology and Infrastructure  \n",
       "speech_id                                                      \n",
       "301KG0KXAZ355GRD9LSX6LBA2CHH2H                              0  \n",
       "302OLP89EMP3TBB1087B1CXS184CAA                              0  \n",
       "306996CF7J2OPI6VQPINFRY7FTYB1E                              0  \n",
       "3087LXLJ79YEVAXTZ80JKC6IPZKF0X                              0  \n",
       "308KJXFUKEOKFSDCMU21QMXWPU4ATR                              0  "
      ]
     },
     "execution_count": 17,
     "metadata": {},
     "output_type": "execute_result"
    }
   ],
   "source": [
    "# Make sure 'answer' column is parsed as lists (from string format)\n",
    "df_clean['parsed_answer'] = df_clean['answer'].apply(lambda x: ast.literal_eval(x) if pd.notna(x) and x.strip() else [])\n",
    "\n",
    "# Explode the answers so each category gets its own row\n",
    "df_exploded = df_clean.explode('parsed_answer')\n",
    "\n",
    "# Count how many times each category was selected per speech\n",
    "df_counts = df_exploded.groupby(['speech_id', 'parsed_answer']).size().unstack(fill_value=0)\n",
    "\n",
    "# Optional: sort columns alphabetically\n",
    "df_counts = df_counts.sort_index(axis=1)\n",
    "\n",
    "# Result: rows = speeches, columns = categories, values = counts\n",
    "df_counts.head()"
   ]
  }
 ],
 "metadata": {
  "kernelspec": {
   "display_name": "myenv",
   "language": "python",
   "name": "python3"
  },
  "language_info": {
   "codemirror_mode": {
    "name": "ipython",
    "version": 3
   },
   "file_extension": ".py",
   "mimetype": "text/x-python",
   "name": "python",
   "nbconvert_exporter": "python",
   "pygments_lexer": "ipython3",
   "version": "3.13.1"
  }
 },
 "nbformat": 4,
 "nbformat_minor": 5
}
