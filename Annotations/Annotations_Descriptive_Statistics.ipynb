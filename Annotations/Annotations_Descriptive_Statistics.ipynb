{
 "cells": [
  {
   "cell_type": "markdown",
   "id": "1c7b80c0",
   "metadata": {},
   "source": [
    "# Annotation Statistics"
   ]
  },
  {
   "cell_type": "markdown",
   "id": "e158c9cc",
   "metadata": {},
   "source": [
    "## Step 1: Load Libraries"
   ]
  },
  {
   "cell_type": "code",
   "execution_count": 1,
   "id": "4869823d",
   "metadata": {},
   "outputs": [
    {
     "name": "stdout",
     "output_type": "stream",
     "text": [
      "Requirement already satisfied: pandas in /Users/chandinitoleti/CGR_GIT/manifesto_annotations/myenv/lib/python3.13/site-packages (2.3.0)\n",
      "Requirement already satisfied: krippendorff in /Users/chandinitoleti/CGR_GIT/manifesto_annotations/myenv/lib/python3.13/site-packages (0.8.1)\n",
      "Requirement already satisfied: statsmodels in /Users/chandinitoleti/CGR_GIT/manifesto_annotations/myenv/lib/python3.13/site-packages (0.14.4)\n",
      "Requirement already satisfied: scikit-learn in /Users/chandinitoleti/CGR_GIT/manifesto_annotations/myenv/lib/python3.13/site-packages (1.7.0)\n",
      "Requirement already satisfied: seaborn in /Users/chandinitoleti/CGR_GIT/manifesto_annotations/myenv/lib/python3.13/site-packages (0.13.2)\n",
      "Requirement already satisfied: matplotlib in /Users/chandinitoleti/CGR_GIT/manifesto_annotations/myenv/lib/python3.13/site-packages (3.10.3)\n",
      "Requirement already satisfied: numpy in /Users/chandinitoleti/CGR_GIT/manifesto_annotations/myenv/lib/python3.13/site-packages (2.3.1)\n",
      "Requirement already satisfied: python-dateutil>=2.8.2 in /Users/chandinitoleti/CGR_GIT/manifesto_annotations/myenv/lib/python3.13/site-packages (from pandas) (2.9.0.post0)\n",
      "Requirement already satisfied: pytz>=2020.1 in /Users/chandinitoleti/CGR_GIT/manifesto_annotations/myenv/lib/python3.13/site-packages (from pandas) (2025.2)\n",
      "Requirement already satisfied: tzdata>=2022.7 in /Users/chandinitoleti/CGR_GIT/manifesto_annotations/myenv/lib/python3.13/site-packages (from pandas) (2025.2)\n",
      "Requirement already satisfied: scipy!=1.9.2,>=1.8 in /Users/chandinitoleti/CGR_GIT/manifesto_annotations/myenv/lib/python3.13/site-packages (from statsmodels) (1.16.0)\n",
      "Requirement already satisfied: patsy>=0.5.6 in /Users/chandinitoleti/CGR_GIT/manifesto_annotations/myenv/lib/python3.13/site-packages (from statsmodels) (1.0.1)\n",
      "Requirement already satisfied: packaging>=21.3 in /Users/chandinitoleti/CGR_GIT/manifesto_annotations/myenv/lib/python3.13/site-packages (from statsmodels) (25.0)\n",
      "Requirement already satisfied: joblib>=1.2.0 in /Users/chandinitoleti/CGR_GIT/manifesto_annotations/myenv/lib/python3.13/site-packages (from scikit-learn) (1.5.1)\n",
      "Requirement already satisfied: threadpoolctl>=3.1.0 in /Users/chandinitoleti/CGR_GIT/manifesto_annotations/myenv/lib/python3.13/site-packages (from scikit-learn) (3.6.0)\n",
      "Requirement already satisfied: contourpy>=1.0.1 in /Users/chandinitoleti/CGR_GIT/manifesto_annotations/myenv/lib/python3.13/site-packages (from matplotlib) (1.3.2)\n",
      "Requirement already satisfied: cycler>=0.10 in /Users/chandinitoleti/CGR_GIT/manifesto_annotations/myenv/lib/python3.13/site-packages (from matplotlib) (0.12.1)\n",
      "Requirement already satisfied: fonttools>=4.22.0 in /Users/chandinitoleti/CGR_GIT/manifesto_annotations/myenv/lib/python3.13/site-packages (from matplotlib) (4.58.4)\n",
      "Requirement already satisfied: kiwisolver>=1.3.1 in /Users/chandinitoleti/CGR_GIT/manifesto_annotations/myenv/lib/python3.13/site-packages (from matplotlib) (1.4.8)\n",
      "Requirement already satisfied: pillow>=8 in /Users/chandinitoleti/CGR_GIT/manifesto_annotations/myenv/lib/python3.13/site-packages (from matplotlib) (11.2.1)\n",
      "Requirement already satisfied: pyparsing>=2.3.1 in /Users/chandinitoleti/CGR_GIT/manifesto_annotations/myenv/lib/python3.13/site-packages (from matplotlib) (3.2.3)\n",
      "Requirement already satisfied: six>=1.5 in /Users/chandinitoleti/CGR_GIT/manifesto_annotations/myenv/lib/python3.13/site-packages (from python-dateutil>=2.8.2->pandas) (1.17.0)\n",
      "\n",
      "\u001b[1m[\u001b[0m\u001b[34;49mnotice\u001b[0m\u001b[1;39;49m]\u001b[0m\u001b[39;49m A new release of pip is available: \u001b[0m\u001b[31;49m24.3.1\u001b[0m\u001b[39;49m -> \u001b[0m\u001b[32;49m25.1.1\u001b[0m\n",
      "\u001b[1m[\u001b[0m\u001b[34;49mnotice\u001b[0m\u001b[1;39;49m]\u001b[0m\u001b[39;49m To update, run: \u001b[0m\u001b[32;49mpip install --upgrade pip\u001b[0m\n"
     ]
    }
   ],
   "source": [
    "# Install all required packages\n",
    "!pip install pandas krippendorff statsmodels scikit-learn seaborn matplotlib numpy\n"
   ]
  },
  {
   "cell_type": "code",
   "execution_count": 2,
   "id": "52bb14ff",
   "metadata": {},
   "outputs": [],
   "source": [
    "import pandas as pd\n",
    "import krippendorff\n",
    "from statsmodels.stats.inter_rater import fleiss_kappa\n",
    "from sklearn.metrics import cohen_kappa_score\n",
    "import seaborn as sns\n",
    "import matplotlib.pyplot as plt\n",
    "import numpy as np\n",
    "from statsmodels.stats.inter_rater import aggregate_raters, fleiss_kappa\n",
    "import itertools\n",
    "import seaborn as sns\n",
    "from scipy.stats import entropy\n",
    "from sklearn.cluster import KMeans\n",
    "from scipy.special import rel_entr\n",
    "from scipy.stats import entropy\n",
    "import itertools\n",
    "\n"
   ]
  },
  {
   "cell_type": "markdown",
   "id": "82ec29ea",
   "metadata": {},
   "source": [
    "## Step 2: Read and Prepare Data"
   ]
  },
  {
   "cell_type": "code",
   "execution_count": 5,
   "id": "b641b764",
   "metadata": {},
   "outputs": [],
   "source": [
    "df = pd.read_csv(\"./gold_dataset.csv\")"
   ]
  },
  {
   "cell_type": "markdown",
   "id": "a07832fa",
   "metadata": {},
   "source": [
    "#### **Data Cleaning**"
   ]
  },
  {
   "cell_type": "markdown",
   "id": "c2f52b94",
   "metadata": {},
   "source": [
    "<p> We are going to make changes to the dataframe, so that it follows an easy to read and use format.</p>\n",
    "\n",
    "<p> First, we note that HITId identifies speeches, WorkerId identifies workers, and Input.label is the annotation </p>\n"
   ]
  },
  {
   "cell_type": "code",
   "execution_count": null,
   "id": "f46a16a5",
   "metadata": {},
   "outputs": [
    {
     "data": {
      "application/vnd.microsoft.datawrangler.viewer.v0+json": {
       "columns": [
        {
         "name": "index",
         "rawType": "int64",
         "type": "integer"
        },
        {
         "name": "speech_id",
         "rawType": "object",
         "type": "string"
        },
        {
         "name": "worker_id",
         "rawType": "object",
         "type": "string"
        },
        {
         "name": "parameter",
         "rawType": "object",
         "type": "string"
        },
        {
         "name": "label",
         "rawType": "int64",
         "type": "integer"
        }
       ],
       "ref": "d1eab70a-bf1d-4d24-9b11-a3df97cfb408",
       "rows": [
        [
         "0",
         "31ANT7FQOVKX4DA0R4UV4SEMMZW5HK",
         "A1NBQ61Y6KO3O9",
         "Par303_Governmental and Administrative Efficiency",
         "1"
        ],
        [
         "1",
         "31ANT7FQOVKX4DA0R4UV4SEMMZW5HK",
         "A3GS2NTQ4XU059",
         "Par303_Governmental and Administrative Efficiency",
         "1"
        ],
        [
         "2",
         "31ANT7FQOVKX4DA0R4UV4SEMMZW5HK",
         "APXGSUB250NVH",
         "Par303_Governmental and Administrative Efficiency",
         "1"
        ],
        [
         "3",
         "31MBOZ6PBB9KPU25XZW1AQD3VXRLCF",
         "A1NBQ61Y6KO3O9",
         "Par303_Governmental and Administrative Efficiency",
         "0"
        ],
        [
         "4",
         "31MBOZ6PBB9KPU25XZW1AQD3VXRLCF",
         "A3GS2NTQ4XU059",
         "Par303_Governmental and Administrative Efficiency",
         "0"
        ],
        [
         "5",
         "31MBOZ6PBB9KPU25XZW1AQD3VXRLCF",
         "APXGSUB250NVH",
         "Par303_Governmental and Administrative Efficiency",
         "0"
        ],
        [
         "6",
         "35JDMRECDRRJ008IIZ5GNM8YKFUEGH",
         "A1X47COW2Y9SEL",
         "Par303_Governmental and Administrative Efficiency",
         "0"
        ],
        [
         "7",
         "35JDMRECDRRJ008IIZ5GNM8YKFUEGH",
         "A335R4YE2E34H6",
         "Par303_Governmental and Administrative Efficiency",
         "0"
        ],
        [
         "8",
         "35JDMRECDRRJ008IIZ5GNM8YKFUEGH",
         "A3GS2NTQ4XU059",
         "Par303_Governmental and Administrative Efficiency",
         "0"
        ],
        [
         "9",
         "36MUZ9VAFTKGOGYRG948H1517NEED7",
         "A1NBQ61Y6KO3O9",
         "Par303_Governmental and Administrative Efficiency",
         "0"
        ],
        [
         "10",
         "36MUZ9VAFTKGOGYRG948H1517NEED7",
         "A1X47COW2Y9SEL",
         "Par303_Governmental and Administrative Efficiency",
         "0"
        ],
        [
         "11",
         "36MUZ9VAFTKGOGYRG948H1517NEED7",
         "A335R4YE2E34H6",
         "Par303_Governmental and Administrative Efficiency",
         "0"
        ],
        [
         "12",
         "37VE3DA4ZHZZTTR9SEL87EEEWIUHBJ",
         "A1NBQ61Y6KO3O9",
         "Par303_Governmental and Administrative Efficiency",
         "1"
        ],
        [
         "13",
         "37VE3DA4ZHZZTTR9SEL87EEEWIUHBJ",
         "A1X47COW2Y9SEL",
         "Par303_Governmental and Administrative Efficiency",
         "1"
        ],
        [
         "14",
         "37VE3DA4ZHZZTTR9SEL87EEEWIUHBJ",
         "A335R4YE2E34H6",
         "Par303_Governmental and Administrative Efficiency",
         "1"
        ],
        [
         "15",
         "39N6W9XWS05H65P9I0HAUP0E2RZGYY",
         "A1NBQ61Y6KO3O9",
         "Par303_Governmental and Administrative Efficiency",
         "0"
        ],
        [
         "16",
         "39N6W9XWS05H65P9I0HAUP0E2RZGYY",
         "A1X47COW2Y9SEL",
         "Par303_Governmental and Administrative Efficiency",
         "0"
        ],
        [
         "17",
         "39N6W9XWS05H65P9I0HAUP0E2RZGYY",
         "A335R4YE2E34H6",
         "Par303_Governmental and Administrative Efficiency",
         "0"
        ],
        [
         "18",
         "3C8QQOM6KCJB2XO5P9SNLTBY82BLIH",
         "A1NBQ61Y6KO3O9",
         "Par303_Governmental and Administrative Efficiency",
         "1"
        ],
        [
         "19",
         "3C8QQOM6KCJB2XO5P9SNLTBY82BLIH",
         "A335R4YE2E34H6",
         "Par303_Governmental and Administrative Efficiency",
         "1"
        ],
        [
         "20",
         "3C8QQOM6KCJB2XO5P9SNLTBY82BLIH",
         "A3GS2NTQ4XU059",
         "Par303_Governmental and Administrative Efficiency",
         "1"
        ],
        [
         "21",
         "3D1TUISJX5IELNBZYNKOCG7HLT4IU8",
         "A1NBQ61Y6KO3O9",
         "Par303_Governmental and Administrative Efficiency",
         "0"
        ],
        [
         "22",
         "3D1TUISJX5IELNBZYNKOCG7HLT4IU8",
         "A335R4YE2E34H6",
         "Par303_Governmental and Administrative Efficiency",
         "0"
        ],
        [
         "23",
         "3D1TUISJX5IELNBZYNKOCG7HLT4IU8",
         "A3GS2NTQ4XU059",
         "Par303_Governmental and Administrative Efficiency",
         "0"
        ],
        [
         "24",
         "3E9VAUV7CJWGWEC6W0P0Y3PB4WMAYG",
         "A1NBQ61Y6KO3O9",
         "Par303_Governmental and Administrative Efficiency",
         "0"
        ],
        [
         "25",
         "3E9VAUV7CJWGWEC6W0P0Y3PB4WMAYG",
         "A1X47COW2Y9SEL",
         "Par303_Governmental and Administrative Efficiency",
         "0"
        ],
        [
         "26",
         "3E9VAUV7CJWGWEC6W0P0Y3PB4WMAYG",
         "A335R4YE2E34H6",
         "Par303_Governmental and Administrative Efficiency",
         "0"
        ],
        [
         "27",
         "3G9UA71JWIC8INJ93XCDEP8XQXVJ7I",
         "A1NBQ61Y6KO3O9",
         "Par303_Governmental and Administrative Efficiency",
         "0"
        ],
        [
         "28",
         "3G9UA71JWIC8INJ93XCDEP8XQXVJ7I",
         "A3GS2NTQ4XU059",
         "Par303_Governmental and Administrative Efficiency",
         "0"
        ],
        [
         "29",
         "3G9UA71JWIC8INJ93XCDEP8XQXVJ7I",
         "APXGSUB250NVH",
         "Par303_Governmental and Administrative Efficiency",
         "0"
        ],
        [
         "30",
         "3J9UN9O9KQAU0CJPIYR4ZAYAIJPJ0I",
         "A1NBQ61Y6KO3O9",
         "Par303_Governmental and Administrative Efficiency",
         "1"
        ],
        [
         "31",
         "3J9UN9O9KQAU0CJPIYR4ZAYAIJPJ0I",
         "A335R4YE2E34H6",
         "Par303_Governmental and Administrative Efficiency",
         "1"
        ],
        [
         "32",
         "3J9UN9O9KQAU0CJPIYR4ZAYAIJPJ0I",
         "APXGSUB250NVH",
         "Par303_Governmental and Administrative Efficiency",
         "1"
        ],
        [
         "33",
         "3K3G488TSPQAH693AUHPD66NDMS5QG",
         "A1NBQ61Y6KO3O9",
         "Par303_Governmental and Administrative Efficiency",
         "1"
        ],
        [
         "34",
         "3K3G488TSPQAH693AUHPD66NDMS5QG",
         "A335R4YE2E34H6",
         "Par303_Governmental and Administrative Efficiency",
         "1"
        ],
        [
         "35",
         "3K3G488TSPQAH693AUHPD66NDMS5QG",
         "A3GS2NTQ4XU059",
         "Par303_Governmental and Administrative Efficiency",
         "1"
        ],
        [
         "36",
         "3N2YPY1GJTG2IXYD7U42NNB87UIEV6",
         "A1NBQ61Y6KO3O9",
         "Par303_Governmental and Administrative Efficiency",
         "1"
        ],
        [
         "37",
         "3N2YPY1GJTG2IXYD7U42NNB87UIEV6",
         "A1X47COW2Y9SEL",
         "Par303_Governmental and Administrative Efficiency",
         "1"
        ],
        [
         "38",
         "3N2YPY1GJTG2IXYD7U42NNB87UIEV6",
         "A335R4YE2E34H6",
         "Par303_Governmental and Administrative Efficiency",
         "1"
        ],
        [
         "39",
         "3P4C70TRNEZX66IAZLSK0HYITPJLGP",
         "A1NBQ61Y6KO3O9",
         "Par303_Governmental and Administrative Efficiency",
         "0"
        ],
        [
         "40",
         "3P4C70TRNEZX66IAZLSK0HYITPJLGP",
         "A335R4YE2E34H6",
         "Par303_Governmental and Administrative Efficiency",
         "0"
        ],
        [
         "41",
         "3P4C70TRNEZX66IAZLSK0HYITPJLGP",
         "APXGSUB250NVH",
         "Par303_Governmental and Administrative Efficiency",
         "0"
        ],
        [
         "42",
         "3QXFBUZ407Y0PW548ZKLR4U163NUGD",
         "A1NBQ61Y6KO3O9",
         "Par303_Governmental and Administrative Efficiency",
         "0"
        ],
        [
         "43",
         "3QXFBUZ407Y0PW548ZKLR4U163NUGD",
         "A1X47COW2Y9SEL",
         "Par303_Governmental and Administrative Efficiency",
         "0"
        ],
        [
         "44",
         "3QXFBUZ407Y0PW548ZKLR4U163NUGD",
         "A335R4YE2E34H6",
         "Par303_Governmental and Administrative Efficiency",
         "0"
        ],
        [
         "45",
         "3RKHNXPHHJE5RI1NYQ50PWMUDXTKUL",
         "A1NBQ61Y6KO3O9",
         "Par303_Governmental and Administrative Efficiency",
         "1"
        ],
        [
         "46",
         "3RKHNXPHHJE5RI1NYQ50PWMUDXTKUL",
         "A1X47COW2Y9SEL",
         "Par303_Governmental and Administrative Efficiency",
         "1"
        ],
        [
         "47",
         "3RKHNXPHHJE5RI1NYQ50PWMUDXTKUL",
         "A3GS2NTQ4XU059",
         "Par303_Governmental and Administrative Efficiency",
         "1"
        ],
        [
         "48",
         "3SV8KD29MRAMDHVX4D486O19FF8KZA",
         "A1NBQ61Y6KO3O9",
         "Par303_Governmental and Administrative Efficiency",
         "0"
        ],
        [
         "49",
         "3SV8KD29MRAMDHVX4D486O19FF8KZA",
         "A3GS2NTQ4XU059",
         "Par303_Governmental and Administrative Efficiency",
         "0"
        ]
       ],
       "shape": {
        "columns": 4,
        "rows": 660
       }
      },
      "text/html": [
       "<div>\n",
       "<style scoped>\n",
       "    .dataframe tbody tr th:only-of-type {\n",
       "        vertical-align: middle;\n",
       "    }\n",
       "\n",
       "    .dataframe tbody tr th {\n",
       "        vertical-align: top;\n",
       "    }\n",
       "\n",
       "    .dataframe thead th {\n",
       "        text-align: right;\n",
       "    }\n",
       "</style>\n",
       "<table border=\"1\" class=\"dataframe\">\n",
       "  <thead>\n",
       "    <tr style=\"text-align: right;\">\n",
       "      <th></th>\n",
       "      <th>speech_id</th>\n",
       "      <th>worker_id</th>\n",
       "      <th>parameter</th>\n",
       "      <th>label</th>\n",
       "    </tr>\n",
       "  </thead>\n",
       "  <tbody>\n",
       "    <tr>\n",
       "      <th>0</th>\n",
       "      <td>31ANT7FQOVKX4DA0R4UV4SEMMZW5HK</td>\n",
       "      <td>A1NBQ61Y6KO3O9</td>\n",
       "      <td>Par303_Governmental and Administrative Efficiency</td>\n",
       "      <td>1</td>\n",
       "    </tr>\n",
       "    <tr>\n",
       "      <th>1</th>\n",
       "      <td>31ANT7FQOVKX4DA0R4UV4SEMMZW5HK</td>\n",
       "      <td>A3GS2NTQ4XU059</td>\n",
       "      <td>Par303_Governmental and Administrative Efficiency</td>\n",
       "      <td>1</td>\n",
       "    </tr>\n",
       "    <tr>\n",
       "      <th>2</th>\n",
       "      <td>31ANT7FQOVKX4DA0R4UV4SEMMZW5HK</td>\n",
       "      <td>APXGSUB250NVH</td>\n",
       "      <td>Par303_Governmental and Administrative Efficiency</td>\n",
       "      <td>1</td>\n",
       "    </tr>\n",
       "    <tr>\n",
       "      <th>3</th>\n",
       "      <td>31MBOZ6PBB9KPU25XZW1AQD3VXRLCF</td>\n",
       "      <td>A1NBQ61Y6KO3O9</td>\n",
       "      <td>Par303_Governmental and Administrative Efficiency</td>\n",
       "      <td>0</td>\n",
       "    </tr>\n",
       "    <tr>\n",
       "      <th>4</th>\n",
       "      <td>31MBOZ6PBB9KPU25XZW1AQD3VXRLCF</td>\n",
       "      <td>A3GS2NTQ4XU059</td>\n",
       "      <td>Par303_Governmental and Administrative Efficiency</td>\n",
       "      <td>0</td>\n",
       "    </tr>\n",
       "    <tr>\n",
       "      <th>...</th>\n",
       "      <td>...</td>\n",
       "      <td>...</td>\n",
       "      <td>...</td>\n",
       "      <td>...</td>\n",
       "    </tr>\n",
       "    <tr>\n",
       "      <th>655</th>\n",
       "      <td>3WRKFXQBPYPV2WV48OHDF1DUHHFIY6</td>\n",
       "      <td>A1X47COW2Y9SEL</td>\n",
       "      <td>Par701702_LabourGroups</td>\n",
       "      <td>2</td>\n",
       "    </tr>\n",
       "    <tr>\n",
       "      <th>656</th>\n",
       "      <td>3WRKFXQBPYPV2WV48OHDF1DUHHFIY6</td>\n",
       "      <td>A335R4YE2E34H6</td>\n",
       "      <td>Par701702_LabourGroups</td>\n",
       "      <td>2</td>\n",
       "    </tr>\n",
       "    <tr>\n",
       "      <th>657</th>\n",
       "      <td>3ZURAPD29V5E2ZIBVR4JYHPSURQF10</td>\n",
       "      <td>A1NBQ61Y6KO3O9</td>\n",
       "      <td>Par701702_LabourGroups</td>\n",
       "      <td>2</td>\n",
       "    </tr>\n",
       "    <tr>\n",
       "      <th>658</th>\n",
       "      <td>3ZURAPD29V5E2ZIBVR4JYHPSURQF10</td>\n",
       "      <td>A1X47COW2Y9SEL</td>\n",
       "      <td>Par701702_LabourGroups</td>\n",
       "      <td>2</td>\n",
       "    </tr>\n",
       "    <tr>\n",
       "      <th>659</th>\n",
       "      <td>3ZURAPD29V5E2ZIBVR4JYHPSURQF10</td>\n",
       "      <td>A335R4YE2E34H6</td>\n",
       "      <td>Par701702_LabourGroups</td>\n",
       "      <td>2</td>\n",
       "    </tr>\n",
       "  </tbody>\n",
       "</table>\n",
       "<p>660 rows × 4 columns</p>\n",
       "</div>"
      ],
      "text/plain": [
       "                          speech_id       worker_id  \\\n",
       "0    31ANT7FQOVKX4DA0R4UV4SEMMZW5HK  A1NBQ61Y6KO3O9   \n",
       "1    31ANT7FQOVKX4DA0R4UV4SEMMZW5HK  A3GS2NTQ4XU059   \n",
       "2    31ANT7FQOVKX4DA0R4UV4SEMMZW5HK   APXGSUB250NVH   \n",
       "3    31MBOZ6PBB9KPU25XZW1AQD3VXRLCF  A1NBQ61Y6KO3O9   \n",
       "4    31MBOZ6PBB9KPU25XZW1AQD3VXRLCF  A3GS2NTQ4XU059   \n",
       "..                              ...             ...   \n",
       "655  3WRKFXQBPYPV2WV48OHDF1DUHHFIY6  A1X47COW2Y9SEL   \n",
       "656  3WRKFXQBPYPV2WV48OHDF1DUHHFIY6  A335R4YE2E34H6   \n",
       "657  3ZURAPD29V5E2ZIBVR4JYHPSURQF10  A1NBQ61Y6KO3O9   \n",
       "658  3ZURAPD29V5E2ZIBVR4JYHPSURQF10  A1X47COW2Y9SEL   \n",
       "659  3ZURAPD29V5E2ZIBVR4JYHPSURQF10  A335R4YE2E34H6   \n",
       "\n",
       "                                             parameter  label  \n",
       "0    Par303_Governmental and Administrative Efficiency      1  \n",
       "1    Par303_Governmental and Administrative Efficiency      1  \n",
       "2    Par303_Governmental and Administrative Efficiency      1  \n",
       "3    Par303_Governmental and Administrative Efficiency      0  \n",
       "4    Par303_Governmental and Administrative Efficiency      0  \n",
       "..                                                 ...    ...  \n",
       "655                             Par701702_LabourGroups      2  \n",
       "656                             Par701702_LabourGroups      2  \n",
       "657                             Par701702_LabourGroups      2  \n",
       "658                             Par701702_LabourGroups      2  \n",
       "659                             Par701702_LabourGroups      2  \n",
       "\n",
       "[660 rows x 4 columns]"
      ]
     },
     "execution_count": 12,
     "metadata": {},
     "output_type": "execute_result"
    }
   ],
   "source": [
    "# only keep needed columns and rename \n",
    "df_clean = df[['HITId', 'WorkerId', 'Input.parameter', 'Input.label']].copy() #remove unnecessary columns\n",
    "df_clean.rename(columns={\n",
    "    'HITId': 'speech_id',\n",
    "    'WorkerId': 'worker_id',\n",
    "    'Input.parameter': 'parameter',\n",
    "    'Input.label': 'label'\n",
    "}, inplace=True)\n",
    "\n",
    "# extra cleaning, dropping nulls, making sure all labels are ints, \n",
    "df_clean = df_clean.sort_values(by=['parameter', 'speech_id', 'worker_id']).reset_index(drop=True)\n",
    "\n",
    "# Final preview\n",
    "\n",
    "df_clean\n"
   ]
  },
  {
   "cell_type": "code",
   "execution_count": 44,
   "id": "b8aec030",
   "metadata": {},
   "outputs": [
    {
     "name": "stdout",
     "output_type": "stream",
     "text": [
      "speech_id    object\n",
      "worker_id    object\n",
      "parameter    object\n",
      "label         int64\n",
      "dtype: object\n"
     ]
    }
   ],
   "source": [
    "df_clean['label'] = pd.to_numeric(df_clean['label'], errors='coerce')  # force to float\n",
    "print(df_clean.dtypes)\n"
   ]
  },
  {
   "cell_type": "markdown",
   "id": "d3b4daa6",
   "metadata": {},
   "source": [
    "Create 10 different tables for each parameter"
   ]
  },
  {
   "cell_type": "code",
   "execution_count": 14,
   "id": "5991c48b",
   "metadata": {},
   "outputs": [],
   "source": [
    "# # Step 0: Create a compact speech ID (optional, if not already done)\n",
    "# df['speech_id'] = df['Input.text-eng'].factorize()[0]\n",
    "\n",
    "# # Step 1: Get list of unique parameters\n",
    "# parameters = df['Input.parameter'].unique()\n",
    "\n",
    "# # Step 2: Dictionary to hold each table\n",
    "# parameter_tables = {}\n",
    "\n",
    "# # Step 3: Create one table per parameter\n",
    "# for param in parameters:\n",
    "#     df_param = df[df['Input.parameter'] == param]\n",
    "\n",
    "#     # Drop duplicates just in case\n",
    "#     df_param = df_param.drop_duplicates(subset=['speech_id', 'WorkerId'])\n",
    "\n",
    "#     # Pivot: rows = speech, columns = workers, values = labels\n",
    "#     pivot = df_param.pivot(\n",
    "#         index='speech_id',\n",
    "#         columns='WorkerId',\n",
    "#         values='Input.label'\n",
    "#     )\n",
    "\n",
    "#     # Optional: attach the actual speech text back for readability\n",
    "#     pivot = pivot.merge(\n",
    "#         df[['speech_id', 'Input.text-eng']].drop_duplicates(),\n",
    "#         on='speech_id',\n",
    "#         how='left'\n",
    "#     ).set_index('speech_id')\n",
    "\n",
    "#     # Store the table\n",
    "#     parameter_tables[param] = pivot\n",
    "\n",
    "# parameters\n",
    "# # parameter_tables['Par411_Technology&Infrastructure']\n",
    " "
   ]
  },
  {
   "cell_type": "code",
   "execution_count": 89,
   "id": "16ef3045",
   "metadata": {},
   "outputs": [
    {
     "name": "stdout",
     "output_type": "stream",
     "text": [
      "Created variable: df_Par303_Governmental_and_Administrative_Efficiency\n",
      "Created variable: df_Par405_Corporatism\n",
      "Created variable: df_Par402_Incentives\n",
      "Created variable: df_Par410416_EconomicGrowthAntiGrowth\n",
      "Created variable: df_Par408_EconomicGoals\n",
      "Created variable: df_Par409_KeynesianDemandManagement\n",
      "Created variable: df_Par404_EconomicPlanning\n",
      "Created variable: df_Par401403_FreeMarket_MarketRegulation\n",
      "Created variable: df_Par701702_LabourGroups\n",
      "Created variable: df_Par411_TechnologyAndInfrastructure\n"
     ]
    }
   ],
   "source": [
    "for param in df['Input.parameter'].unique():\n",
    "    safe_name = \"df_\" + (\n",
    "        param.replace('-', '_')\n",
    "             .replace('&', 'And')\n",
    "             .replace('.', '')\n",
    "             .replace(' ', '_')\n",
    "    )\n",
    "\n",
    "    df_param = df[df['Input.parameter'] == param].drop_duplicates(subset=['HITId', 'WorkerId'])\n",
    "\n",
    "    # Pivot without altering index permanently\n",
    "    pivot = df_param.pivot(\n",
    "        index='HITId',\n",
    "        columns='WorkerId',\n",
    "        values='Input.label'\n",
    "    ).reset_index()  # <-- Keep HITId as a column\n",
    "\n",
    "    # Optionally, sort columns so HITId is first\n",
    "    cols = ['HITId'] + [col for col in pivot.columns if col != 'HITId']\n",
    "    pivot = pivot[cols]\n",
    "\n",
    "    globals()[safe_name] = pivot\n",
    "    print(f\"Created variable: {safe_name}\")\n",
    "\n"
   ]
  },
  {
   "cell_type": "markdown",
   "id": "fa0cbc0c",
   "metadata": {},
   "source": [
    "## First Try: Krippendorff’s Alpha "
   ]
  },
  {
   "cell_type": "markdown",
   "id": "41234f61",
   "metadata": {},
   "source": [
    "Handles missing data, works for nominal/ordinal; More flexible than Fleiss; can handle ordinal distance metrics too. First we will use Krippendorff's Alpha to compare agreement scores per parameter. "
   ]
  },
  {
   "cell_type": "markdown",
   "id": "9fc45494",
   "metadata": {},
   "source": [
    "*Defining the Functions*"
   ]
  },
  {
   "cell_type": "code",
   "execution_count": null,
   "id": "2583d510",
   "metadata": {},
   "outputs": [
    {
     "name": "stdout",
     "output_type": "stream",
     "text": [
      "Index(['HITId', 'A1NBQ61Y6KO3O9', 'A1X47COW2Y9SEL', 'A335R4YE2E34H6',\n",
      "       'A3GS2NTQ4XU059', 'APXGSUB250NVH'],\n",
      "      dtype='object', name='WorkerId')\n",
      "--------- WorkerId                           HITId  A1NBQ61Y6KO3O9  A1X47COW2Y9SEL  \\\n",
      "0         30OITAWPCDLG50CCUU7CG8JO8IRH99             1.0             1.0   \n",
      "1         32W3UF2E0B3ORMVKR7XKO9BS9Y8C4Z             1.0             1.0   \n",
      "2         32XN26MTYM10V27PLJ3HFPB2M8UL0M             1.0             NaN   \n",
      "3         33P2GD6NSAA0MWV3YRY16HX4JC3HK3             0.0             0.0   \n",
      "4         351S7I5UHWEXL8BWJ4T2AMUNQZCJNF             1.0             1.0   \n",
      "5         35A1YQPVG1YX08LKXMCG44F1MCB5ID             NaN             0.0   \n",
      "6         37OPIVELVHLUAJMHM0LCC3U8E09HAO             0.0             0.0   \n",
      "7         37PGLWGSKGO0IR6N49GM6TYJJ26KID             0.0             NaN   \n",
      "8         37YYO3NWI08RMQ8ZKM3277NG1BPCCC             NaN             1.0   \n",
      "9         38RHULDVALXRDR04TNZPU4SE69FIW7             0.0             NaN   \n",
      "10        391FPZIE5Z4EPS0FS523C462L30UHC             0.0             0.0   \n",
      "11        3BPP3MA3UZ2ZMSMJTQ2W0ED6GWGELN             1.0             1.0   \n",
      "12        3CVBMEMMYYYCRHOJFX9S2CSIDS3H7X             0.0             0.0   \n",
      "13        3N3WJQXEMF87RCA3067VYD4HJ6EL26             0.0             NaN   \n",
      "14        3SNR5F7RAPBXWRED8N5J8YLEZSMEI9             1.0             1.0   \n",
      "15        3TFJJUELT47EO8GXNTEWVUEUPKCC23             1.0             1.0   \n",
      "16        3VGZ74AYU3Y432O4M8ZLXY8VZ3HCGM             1.0             1.0   \n",
      "17        3WA2XVDZF9ZH37JC6MWUBVV9QEFE6T             1.0             NaN   \n",
      "18        3X878VYTJ10SDLXDK7LSZRG5XDQF7X             0.0             0.0   \n",
      "19        3Y3CZJSZA7BAT7O3N96PIWGS98U5RH             0.0             NaN   \n",
      "\n",
      "WorkerId  A335R4YE2E34H6  A3GS2NTQ4XU059  APXGSUB250NVH  \n",
      "0                    1.0             NaN            NaN  \n",
      "1                    1.0             NaN            NaN  \n",
      "2                    NaN             1.0            1.0  \n",
      "3                    0.0             NaN            NaN  \n",
      "4                    1.0             NaN            NaN  \n",
      "5                    0.0             0.0            NaN  \n",
      "6                    0.0             NaN            NaN  \n",
      "7                    0.0             NaN            0.0  \n",
      "8                    1.0             NaN            1.0  \n",
      "9                    0.0             NaN            0.0  \n",
      "10                   0.0             NaN            NaN  \n",
      "11                   1.0             NaN            NaN  \n",
      "12                   0.0             NaN            NaN  \n",
      "13                   0.0             NaN            0.0  \n",
      "14                   1.0             NaN            NaN  \n",
      "15                   1.0             NaN            NaN  \n",
      "16                   1.0             NaN            NaN  \n",
      "17                   NaN             1.0            1.0  \n",
      "18                   0.0             NaN            NaN  \n",
      "19                   NaN             0.0            0.0   ---------\n",
      "Krippendorff’s Alpha: -0.068\n"
     ]
    }
   ],
   "source": [
    "# define dataframes, workers, etc. \n",
    "param_dfs = {\n",
    "    \"Par303_Governmental_and_Administrative_Efficiency\": df_Par303_Governmental_and_Administrative_Efficiency,\n",
    "    \"Par405_Corporatism\": df_Par405_Corporatism,\n",
    "    \"Par402_Incentives\": df_Par402_Incentives,\n",
    "    \"Par410416_EconomicGrowthAntiGrowth\": df_Par410416_EconomicGrowthAntiGrowth,\n",
    "    \"Par408_EconomicGoals\": df_Par408_EconomicGoals,\n",
    "    \"Par409_KeynesianDemandManagement\": df_Par409_KeynesianDemandManagement,\n",
    "    \"Par404_EconomicPlanning\": df_Par404_EconomicPlanning,\n",
    "    \"Par401403_FreeMarket_MarketRegulation\": df_Par401403_FreeMarket_MarketRegulation,\n",
    "    \"Par701702_LabourGroups\": df_Par701702_LabourGroups,\n",
    "    \"Par411_TechnologyAndInfrastructure\": df_Par411_TechnologyAndInfrastructure\n",
    "}\n",
    "\n",
    "workers = [\n",
    "    'A1BQ37ZGUM16XI', \n",
    "    'A1NBQ61Y6KO3O9', \n",
    "    'A1X47COW2Y9SEL', \n",
    "    'A335R4YE2E34H6', \n",
    "    'A3GS2NTQ4XU059', \n",
    "    'APXGSUB250NVH'\n",
    "]\n",
    "\n",
    "# choose and prep data - will later be inside loop\n",
    "df_param = df_Par409_KeynesianDemandManagement\n",
    "ratings = df_param.drop(columns='HITId')\n",
    "\n",
    "# compute alpha - will later be in loop \n",
    "print(f'------------------')\n",
    "alpha = krippendorff.alpha(reliability_data=ratings, level_of_measurement='nominal')\n",
    "print(f\"Krippendorff’s Alpha: {alpha:.3f}\")\n"
   ]
  },
  {
   "cell_type": "markdown",
   "id": "e4e450f7",
   "metadata": {},
   "source": [
    "## Second Try: Pairwise Cohen Kappa (not working right now)"
   ]
  },
  {
   "cell_type": "markdown",
   "id": "fcd64772",
   "metadata": {},
   "source": [
    "standard model but can only compare two annotators; therefore, we take a pair-wise approach and loop through annotator pairs"
   ]
  },
  {
   "cell_type": "code",
   "execution_count": null,
   "id": "45b7290f",
   "metadata": {},
   "outputs": [],
   "source": [
    "# annotators = ratings.columns #specify annotators \n",
    "# print('-------------------')\n",
    "\n",
    "# min_overlap = 10\n",
    "\n",
    "# for a1, a2 in itertools.combinations(annotators, 2):\n",
    "#     pair = ratings[[a1, a2]].dropna()\n",
    "#     if len(pair) >= min_overlap:\n",
    "#         score = cohen_kappa_score(pair[a1], pair[a2])\n",
    "#         print(f\"{a1} vs {a2}: Cohen's Kappa = {score:.3f} (n={len(pair)})\")\n",
    "#     else:\n",
    "#         print(f\"{a1} vs {a2}: not enough overlap (n={len(pair)})\")\n"
   ]
  },
  {
   "cell_type": "code",
   "execution_count": null,
   "id": "4e179de7",
   "metadata": {},
   "outputs": [],
   "source": [
    "\n",
    "\n",
    "# kappa_matrix = pd.DataFrame(index=annotators, columns=annotators, dtype=float)\n",
    "\n",
    "# for a1, a2 in itertools.combinations(annotators, 2):\n",
    "#     pair = ratings[[a1, a2]].dropna()\n",
    "#     if not pair.empty:\n",
    "#         k = cohen_kappa_score(pair[a1], pair[a2])\n",
    "#         kappa_matrix.loc[a1, a2] = k\n",
    "#         kappa_matrix.loc[a2, a1] = k\n",
    "#     else:\n",
    "#         kappa_matrix.loc[a1, a2] = None\n",
    "#         kappa_matrix.loc[a2, a1] = None\n",
    "\n",
    "# sns.heatmap(kappa_matrix, annot=True, cmap=\"coolwarm\", center=0)\n",
    "# plt.title(\"Pairwise Cohen's Kappa\")\n",
    "# plt.show()\n"
   ]
  },
  {
   "cell_type": "markdown",
   "id": "d0e847f2",
   "metadata": {},
   "source": [
    "Cohen's Kappa will likely not work - even with a pairwise approach. It may be more benificial to do create an aggregate table "
   ]
  },
  {
   "cell_type": "markdown",
   "id": "346375c0",
   "metadata": {},
   "source": [
    "## Third Try: Fleiss' Kappa "
   ]
  },
  {
   "cell_type": "markdown",
   "id": "c53b1505",
   "metadata": {},
   "source": [
    "## Annotation Coverage - Other Statistics"
   ]
  },
  {
   "cell_type": "markdown",
   "id": "975ea802",
   "metadata": {},
   "source": [
    "How many samples each annotator labeled"
   ]
  },
  {
   "cell_type": "code",
   "execution_count": null,
   "id": "30b67cc7",
   "metadata": {},
   "outputs": [
    {
     "name": "stdout",
     "output_type": "stream",
     "text": [
      "Input.label_A1BQ37ZGUM16XI      7\n",
      "Input.label_A1NBQ61Y6KO3O9    186\n",
      "Input.label_A1X47COW2Y9SEL    128\n",
      "Input.label_A335R4YE2E34H6    152\n",
      "Input.label_A3GS2NTQ4XU059    104\n",
      "Input.label_APXGSUB250NVH      83\n",
      "dtype: int64\n"
     ]
    }
   ],
   "source": [
    "coverage = ratings.notna().sum()\n",
    "print(coverage)\n"
   ]
  },
  {
   "cell_type": "markdown",
   "id": "66c675c2",
   "metadata": {},
   "source": [
    "Which annotators skipped what?"
   ]
  },
  {
   "cell_type": "code",
   "execution_count": null,
   "id": "3262d155",
   "metadata": {},
   "outputs": [
    {
     "data": {
      "image/png": "[encoded data removed]",
      "text/plain": [
       "<Figure size 640x480 with 1 Axes>"
      ]
     },
     "metadata": {},
     "output_type": "display_data"
    }
   ],
   "source": [
    "sns.heatmap(ratings.isna(), cbar=False, cmap='gray')\n",
    "plt.title(\"Missing Annotations (White = Missing)\")\n",
    "plt.xlabel(\"Annotator\")\n",
    "plt.ylabel(\"Sample Index\")\n",
    "plt.show()"
   ]
  },
  {
   "cell_type": "markdown",
   "id": "0564d0e6",
   "metadata": {},
   "source": [
    "**Label Distribution per Annotator**\n",
    "\n"
   ]
  },
  {
   "cell_type": "code",
   "execution_count": null,
   "id": "713f52e0",
   "metadata": {},
   "outputs": [
    {
     "data": {
      "image/png": "[encoded data removed]",
      "text/plain": [
       "<Figure size 640x480 with 1 Axes>"
      ]
     },
     "metadata": {},
     "output_type": "display_data"
    }
   ],
   "source": [
    "# label_dist = {col: ratings[col].value_counts(dropna=True) for col in ratings.columns}\n",
    "# for annotator, dist in label_dist.items():\n",
    "#     print(f\"\\n{annotator}:\\n{dist}\")\n",
    "\n",
    "label_counts = ratings.apply(lambda col: col.value_counts()).fillna(0).T\n",
    "label_counts.plot(kind='bar', stacked=True)\n",
    "\n",
    "\n",
    "plt.title(\"Label Distribution per Annotator\")\n",
    "plt.xlabel(\"Annotator\")\n",
    "plt.ylabel(\"Count\")\n",
    "plt.legend(title=\"Label\")\n",
    "plt.xticks(rotation=75)\n",
    "plt.tight_layout()\n",
    "plt.show()\n"
   ]
  },
  {
   "cell_type": "code",
   "execution_count": null,
   "id": "dd8fde43",
   "metadata": {},
   "outputs": [
    {
     "data": {
      "image/png": "[encoded data removed]",
      "text/plain": [
       "<Figure size 640x480 with 1 Axes>"
      ]
     },
     "metadata": {},
     "output_type": "display_data"
    }
   ],
   "source": [
    "label_fractions = ratings.apply(lambda col: col.value_counts(normalize=True)).T\n",
    "label_fractions = label_fractions.reindex(columns=[1, 0, 2]).fillna(0)\n",
    "\n",
    "label_fractions.plot(kind='bar', stacked=True)\n",
    "plt.title(\"Fraction of Labels Used per Annotator\")\n",
    "plt.ylabel(\"Fraction\")\n",
    "plt.xlabel(\"Annotator\")\n",
    "plt.xticks(rotation=90)\n",
    "plt.legend(title=\"Label\")\n",
    "plt.tight_layout()\n",
    "plt.show()"
   ]
  },
  {
   "cell_type": "markdown",
   "id": "f3f04fa8",
   "metadata": {},
   "source": [
    "How different are annotators' distributions? *KL divergence (Kullback–Leibler divergence) is a way to measure how different one probability distribution is from another.*"
   ]
  },
  {
   "cell_type": "code",
   "execution_count": null,
   "id": "09ab4730",
   "metadata": {},
   "outputs": [
    {
     "name": "stdout",
     "output_type": "stream",
     "text": [
      "Input.label_A1BQ37ZGUM16XI vs Input.label_A1NBQ61Y6KO3O9: KL Divergence = 0.004\n",
      "Input.label_A1BQ37ZGUM16XI vs Input.label_A1X47COW2Y9SEL: KL Divergence = 0.001\n",
      "Input.label_A1BQ37ZGUM16XI vs Input.label_A335R4YE2E34H6: KL Divergence = 0.002\n",
      "Input.label_A1BQ37ZGUM16XI vs Input.label_A3GS2NTQ4XU059: KL Divergence = 0.001\n",
      "Input.label_A1BQ37ZGUM16XI vs Input.label_APXGSUB250NVH: KL Divergence = 0.006\n",
      "Input.label_A1NBQ61Y6KO3O9 vs Input.label_A1X47COW2Y9SEL: KL Divergence = 0.002\n",
      "Input.label_A1NBQ61Y6KO3O9 vs Input.label_A335R4YE2E34H6: KL Divergence = 0.001\n",
      "Input.label_A1NBQ61Y6KO3O9 vs Input.label_A3GS2NTQ4XU059: KL Divergence = 0.001\n",
      "Input.label_A1NBQ61Y6KO3O9 vs Input.label_APXGSUB250NVH: KL Divergence = 0.010\n",
      "Input.label_A1X47COW2Y9SEL vs Input.label_A335R4YE2E34H6: KL Divergence = 0.001\n",
      "Input.label_A1X47COW2Y9SEL vs Input.label_A3GS2NTQ4XU059: KL Divergence = 0.000\n",
      "Input.label_A1X47COW2Y9SEL vs Input.label_APXGSUB250NVH: KL Divergence = 0.007\n",
      "Input.label_A335R4YE2E34H6 vs Input.label_A3GS2NTQ4XU059: KL Divergence = 0.001\n",
      "Input.label_A335R4YE2E34H6 vs Input.label_APXGSUB250NVH: KL Divergence = 0.013\n",
      "Input.label_A3GS2NTQ4XU059 vs Input.label_APXGSUB250NVH: KL Divergence = 0.006\n"
     ]
    }
   ],
   "source": [
    "def kl_divergence(p, q):\n",
    "    '''kl_div helper to avoid division by 0\n",
    "    '''\n",
    "    p = np.array(p) + 1e-10\n",
    "    q = np.array(q) + 1e-10\n",
    "    return np.sum(rel_entr(p, q))\n",
    "\n",
    "label_dists = ratings.apply(lambda col: col.value_counts(normalize=True).reindex([0, 1, 2]).fillna(0))\n",
    "\n",
    "for a1, a2 in itertools.combinations(label_dists.columns, 2):\n",
    "    kl = kl_divergence(label_dists[a1], label_dists[a2])\n",
    "    print(f\"{a1} vs {a2}: KL Divergence = {kl:.3f}\")\n"
   ]
  },
  {
   "cell_type": "markdown",
   "id": "355feb4a",
   "metadata": {},
   "source": [
    "Do annotators agree with the majority ?"
   ]
  },
  {
   "cell_type": "code",
   "execution_count": null,
   "id": "00462e5f",
   "metadata": {},
   "outputs": [
    {
     "name": "stdout",
     "output_type": "stream",
     "text": [
      "Input.label_A1BQ37ZGUM16XI agreement with majority: 100.00%\n",
      "Input.label_A1NBQ61Y6KO3O9 agreement with majority: 100.00%\n",
      "Input.label_A1X47COW2Y9SEL agreement with majority: 100.00%\n",
      "Input.label_A335R4YE2E34H6 agreement with majority: 100.00%\n",
      "Input.label_A3GS2NTQ4XU059 agreement with majority: 100.00%\n",
      "Input.label_APXGSUB250NVH agreement with majority: 100.00%\n"
     ]
    }
   ],
   "source": [
    "majority_vote = ratings.mode(axis=1)[0]\n",
    "\n",
    "for annotator in ratings.columns:\n",
    "    match = (ratings[annotator] == majority_vote) & ratings[annotator].notna()\n",
    "    pct_agree = match.sum() / ratings[annotator].notna().sum()\n",
    "    print(f\"{annotator} agreement with majority: {pct_agree:.2%}\")\n"
   ]
  }
 ],
 "metadata": {
  "kernelspec": {
   "display_name": "myenv",
   "language": "python",
   "name": "python3"
  },
  "language_info": {
   "codemirror_mode": {
    "name": "ipython",
    "version": 3
   },
   "file_extension": ".py",
   "mimetype": "text/x-python",
   "name": "python",
   "nbconvert_exporter": "python",
   "pygments_lexer": "ipython3",
   "version": "3.13.1"
  }
 },
 "nbformat": 4,
 "nbformat_minor": 5
}
