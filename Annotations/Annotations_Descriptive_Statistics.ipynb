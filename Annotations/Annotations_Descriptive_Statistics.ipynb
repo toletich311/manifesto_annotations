{
 "cells": [
  {
   "cell_type": "markdown",
   "id": "1c7b80c0",
   "metadata": {},
   "source": [
    "# Annotation Statistics"
   ]
  },
  {
   "cell_type": "markdown",
   "id": "e158c9cc",
   "metadata": {},
   "source": [
    "## Step 1: Load Libraries"
   ]
  },
  {
   "cell_type": "code",
   "execution_count": 1,
   "id": "4869823d",
   "metadata": {},
   "outputs": [
    {
     "name": "stdout",
     "output_type": "stream",
     "text": [
      "Requirement already satisfied: pandas in /Users/chandinitoleti/CGR_GIT/manifesto_annotations/myenv/lib/python3.13/site-packages (2.3.0)\n",
      "Requirement already satisfied: krippendorff in /Users/chandinitoleti/CGR_GIT/manifesto_annotations/myenv/lib/python3.13/site-packages (0.8.1)\n",
      "Requirement already satisfied: statsmodels in /Users/chandinitoleti/CGR_GIT/manifesto_annotations/myenv/lib/python3.13/site-packages (0.14.4)\n",
      "Requirement already satisfied: scikit-learn in /Users/chandinitoleti/CGR_GIT/manifesto_annotations/myenv/lib/python3.13/site-packages (1.7.0)\n",
      "Requirement already satisfied: seaborn in /Users/chandinitoleti/CGR_GIT/manifesto_annotations/myenv/lib/python3.13/site-packages (0.13.2)\n",
      "Requirement already satisfied: matplotlib in /Users/chandinitoleti/CGR_GIT/manifesto_annotations/myenv/lib/python3.13/site-packages (3.10.3)\n",
      "Requirement already satisfied: numpy in /Users/chandinitoleti/CGR_GIT/manifesto_annotations/myenv/lib/python3.13/site-packages (2.3.1)\n",
      "Requirement already satisfied: python-dateutil>=2.8.2 in /Users/chandinitoleti/CGR_GIT/manifesto_annotations/myenv/lib/python3.13/site-packages (from pandas) (2.9.0.post0)\n",
      "Requirement already satisfied: pytz>=2020.1 in /Users/chandinitoleti/CGR_GIT/manifesto_annotations/myenv/lib/python3.13/site-packages (from pandas) (2025.2)\n",
      "Requirement already satisfied: tzdata>=2022.7 in /Users/chandinitoleti/CGR_GIT/manifesto_annotations/myenv/lib/python3.13/site-packages (from pandas) (2025.2)\n",
      "Requirement already satisfied: scipy!=1.9.2,>=1.8 in /Users/chandinitoleti/CGR_GIT/manifesto_annotations/myenv/lib/python3.13/site-packages (from statsmodels) (1.16.0)\n",
      "Requirement already satisfied: patsy>=0.5.6 in /Users/chandinitoleti/CGR_GIT/manifesto_annotations/myenv/lib/python3.13/site-packages (from statsmodels) (1.0.1)\n",
      "Requirement already satisfied: packaging>=21.3 in /Users/chandinitoleti/CGR_GIT/manifesto_annotations/myenv/lib/python3.13/site-packages (from statsmodels) (25.0)\n",
      "Requirement already satisfied: joblib>=1.2.0 in /Users/chandinitoleti/CGR_GIT/manifesto_annotations/myenv/lib/python3.13/site-packages (from scikit-learn) (1.5.1)\n",
      "Requirement already satisfied: threadpoolctl>=3.1.0 in /Users/chandinitoleti/CGR_GIT/manifesto_annotations/myenv/lib/python3.13/site-packages (from scikit-learn) (3.6.0)\n",
      "Requirement already satisfied: contourpy>=1.0.1 in /Users/chandinitoleti/CGR_GIT/manifesto_annotations/myenv/lib/python3.13/site-packages (from matplotlib) (1.3.2)\n",
      "Requirement already satisfied: cycler>=0.10 in /Users/chandinitoleti/CGR_GIT/manifesto_annotations/myenv/lib/python3.13/site-packages (from matplotlib) (0.12.1)\n",
      "Requirement already satisfied: fonttools>=4.22.0 in /Users/chandinitoleti/CGR_GIT/manifesto_annotations/myenv/lib/python3.13/site-packages (from matplotlib) (4.58.4)\n",
      "Requirement already satisfied: kiwisolver>=1.3.1 in /Users/chandinitoleti/CGR_GIT/manifesto_annotations/myenv/lib/python3.13/site-packages (from matplotlib) (1.4.8)\n",
      "Requirement already satisfied: pillow>=8 in /Users/chandinitoleti/CGR_GIT/manifesto_annotations/myenv/lib/python3.13/site-packages (from matplotlib) (11.2.1)\n",
      "Requirement already satisfied: pyparsing>=2.3.1 in /Users/chandinitoleti/CGR_GIT/manifesto_annotations/myenv/lib/python3.13/site-packages (from matplotlib) (3.2.3)\n",
      "Requirement already satisfied: six>=1.5 in /Users/chandinitoleti/CGR_GIT/manifesto_annotations/myenv/lib/python3.13/site-packages (from python-dateutil>=2.8.2->pandas) (1.17.0)\n",
      "\n",
      "\u001b[1m[\u001b[0m\u001b[34;49mnotice\u001b[0m\u001b[1;39;49m]\u001b[0m\u001b[39;49m A new release of pip is available: \u001b[0m\u001b[31;49m24.3.1\u001b[0m\u001b[39;49m -> \u001b[0m\u001b[32;49m25.1.1\u001b[0m\n",
      "\u001b[1m[\u001b[0m\u001b[34;49mnotice\u001b[0m\u001b[1;39;49m]\u001b[0m\u001b[39;49m To update, run: \u001b[0m\u001b[32;49mpip install --upgrade pip\u001b[0m\n"
     ]
    }
   ],
   "source": [
    "# Install all required packages\n",
    "!pip install pandas krippendorff statsmodels scikit-learn seaborn matplotlib numpy\n"
   ]
  },
  {
   "cell_type": "code",
   "execution_count": 227,
   "id": "52bb14ff",
   "metadata": {},
   "outputs": [],
   "source": [
    "import pandas as pd\n",
    "import krippendorff\n",
    "from statsmodels.stats.inter_rater import fleiss_kappa\n",
    "from sklearn.metrics import cohen_kappa_score\n",
    "import seaborn as sns\n",
    "import matplotlib.pyplot as plt\n",
    "import numpy as np\n",
    "from statsmodels.stats.inter_rater import aggregate_raters, fleiss_kappa\n",
    "import itertools\n",
    "import seaborn as sns\n",
    "from scipy.stats import entropy\n",
    "from sklearn.cluster import KMeans\n",
    "from scipy.special import rel_entr\n",
    "from scipy.stats import entropy\n",
    "import itertools\n",
    "from collections import Counter\n",
    "\n",
    "\n"
   ]
  },
  {
   "cell_type": "markdown",
   "id": "82ec29ea",
   "metadata": {},
   "source": [
    "## Step 2: Read and Prepare Data"
   ]
  },
  {
   "cell_type": "code",
   "execution_count": 5,
   "id": "b641b764",
   "metadata": {},
   "outputs": [],
   "source": [
    "df = pd.read_csv(\"./gold_dataset.csv\")"
   ]
  },
  {
   "cell_type": "code",
   "execution_count": null,
   "id": "c7834dfe",
   "metadata": {},
   "outputs": [],
   "source": []
  },
  {
   "cell_type": "markdown",
   "id": "a07832fa",
   "metadata": {},
   "source": [
    "#### **Data Cleaning**"
   ]
  },
  {
   "cell_type": "markdown",
   "id": "c2f52b94",
   "metadata": {},
   "source": [
    "<p> We are going to make changes to the dataframe, so that it follows an easy to read and use format.</p>\n",
    "\n",
    "<p> First, we note that HITId identifies speeches, WorkerId identifies workers, and Input.label is the annotation </p>\n"
   ]
  },
  {
   "cell_type": "code",
   "execution_count": null,
   "id": "bcb6e01e",
   "metadata": {},
   "outputs": [],
   "source": [
    "# only keep needed columns and rename \n",
    "df_clean = df[['HITId', 'WorkerId', 'Input.parameter', 'Input.label']].copy() #remove unnecessary columns\n",
    "df_clean.rename(columns={\n",
    "    'HITId': 'speech_id',\n",
    "    'WorkerId': 'worker_id',\n",
    "    'Input.parameter': 'parameter',\n",
    "    'Input.label': 'label'\n",
    "}, inplace=True)\n",
    "\n",
    "# extra cleaning, dropping nulls, making sure all labels are ints, \n",
    "df_clean = df_clean.sort_values(by=['parameter', 'speech_id', 'worker_id']).reset_index(drop=True)\n",
    "\n",
    "# Final preview\n",
    "\n",
    "df_clean"
   ]
  },
  {
   "cell_type": "code",
   "execution_count": 247,
   "id": "629481f1",
   "metadata": {},
   "outputs": [],
   "source": [
    "df['gov_adm_eff'] = df[\"Answer.manifesto_class.labels\"].str.contains(\"Government and administrative efficiency\")"
   ]
  },
  {
   "cell_type": "code",
   "execution_count": 248,
   "id": "fd9f9bc2",
   "metadata": {},
   "outputs": [
    {
     "data": {
      "application/vnd.microsoft.datawrangler.viewer.v0+json": {
       "columns": [
        {
         "name": "index",
         "rawType": "int64",
         "type": "integer"
        },
        {
         "name": "gov_adm_eff",
         "rawType": "bool",
         "type": "boolean"
        }
       ],
       "ref": "80b8db27-2ea8-4a41-9e6d-606a57551e57",
       "rows": [
        [
         "0",
         "False"
        ],
        [
         "1",
         "False"
        ],
        [
         "2",
         "False"
        ],
        [
         "3",
         "False"
        ],
        [
         "4",
         "True"
        ],
        [
         "5",
         "False"
        ],
        [
         "6",
         "False"
        ],
        [
         "7",
         "True"
        ],
        [
         "8",
         "False"
        ],
        [
         "9",
         "False"
        ],
        [
         "10",
         "False"
        ],
        [
         "11",
         "True"
        ],
        [
         "12",
         "False"
        ],
        [
         "13",
         "False"
        ],
        [
         "14",
         "False"
        ],
        [
         "15",
         "False"
        ],
        [
         "16",
         "False"
        ],
        [
         "17",
         "False"
        ],
        [
         "18",
         "False"
        ],
        [
         "19",
         "True"
        ],
        [
         "20",
         "False"
        ],
        [
         "21",
         "False"
        ],
        [
         "22",
         "False"
        ],
        [
         "23",
         "False"
        ],
        [
         "24",
         "True"
        ],
        [
         "25",
         "False"
        ],
        [
         "26",
         "False"
        ],
        [
         "27",
         "False"
        ],
        [
         "28",
         "False"
        ],
        [
         "29",
         "True"
        ],
        [
         "30",
         "False"
        ],
        [
         "31",
         "False"
        ],
        [
         "32",
         "False"
        ],
        [
         "33",
         "False"
        ],
        [
         "34",
         "True"
        ],
        [
         "35",
         "False"
        ],
        [
         "36",
         "False"
        ],
        [
         "37",
         "False"
        ],
        [
         "38",
         "False"
        ],
        [
         "39",
         "False"
        ],
        [
         "40",
         "False"
        ],
        [
         "41",
         "False"
        ],
        [
         "42",
         "False"
        ],
        [
         "43",
         "False"
        ],
        [
         "44",
         "False"
        ],
        [
         "45",
         "False"
        ],
        [
         "46",
         "False"
        ],
        [
         "47",
         "True"
        ],
        [
         "48",
         "False"
        ],
        [
         "49",
         "False"
        ]
       ],
       "shape": {
        "columns": 1,
        "rows": 660
       }
      },
      "text/plain": [
       "0      False\n",
       "1      False\n",
       "2      False\n",
       "3      False\n",
       "4       True\n",
       "       ...  \n",
       "655    False\n",
       "656    False\n",
       "657    False\n",
       "658    False\n",
       "659    False\n",
       "Name: gov_adm_eff, Length: 660, dtype: bool"
      ]
     },
     "execution_count": 248,
     "metadata": {},
     "output_type": "execute_result"
    }
   ],
   "source": [
    "df['gov_adm_eff']"
   ]
  },
  {
   "cell_type": "code",
   "execution_count": 159,
   "id": "329064d1",
   "metadata": {},
   "outputs": [
    {
     "data": {
      "application/vnd.microsoft.datawrangler.viewer.v0+json": {
       "columns": [
        {
         "name": "index",
         "rawType": "int64",
         "type": "integer"
        },
        {
         "name": "speech_id",
         "rawType": "object",
         "type": "string"
        },
        {
         "name": "worker_id",
         "rawType": "object",
         "type": "string"
        },
        {
         "name": "parameter",
         "rawType": "object",
         "type": "string"
        },
        {
         "name": "label",
         "rawType": "int64",
         "type": "integer"
        },
        {
         "name": "worker_label",
         "rawType": "object",
         "type": "string"
        },
        {
         "name": "presence",
         "rawType": "int64",
         "type": "integer"
        },
        {
         "name": "worker_param",
         "rawType": "object",
         "type": "string"
        }
       ],
       "ref": "ead01f6a-0583-4614-849d-09caee6e2fa9",
       "rows": [
        [
         "0",
         "31ANT7FQOVKX4DA0R4UV4SEMMZW5HK",
         "A1NBQ61Y6KO3O9",
         "Par303_Governmental and Administrative Efficiency",
         "1",
         "A1NBQ61Y6KO3O9_label_1",
         "1",
         "A1NBQ61Y6KO3O9_Par303_Governmental and Administrative Efficiency"
        ],
        [
         "1",
         "31ANT7FQOVKX4DA0R4UV4SEMMZW5HK",
         "A3GS2NTQ4XU059",
         "Par303_Governmental and Administrative Efficiency",
         "1",
         "A3GS2NTQ4XU059_label_1",
         "1",
         "A3GS2NTQ4XU059_Par303_Governmental and Administrative Efficiency"
        ],
        [
         "2",
         "31ANT7FQOVKX4DA0R4UV4SEMMZW5HK",
         "APXGSUB250NVH",
         "Par303_Governmental and Administrative Efficiency",
         "1",
         "APXGSUB250NVH_label_1",
         "1",
         "APXGSUB250NVH_Par303_Governmental and Administrative Efficiency"
        ],
        [
         "3",
         "31MBOZ6PBB9KPU25XZW1AQD3VXRLCF",
         "A1NBQ61Y6KO3O9",
         "Par303_Governmental and Administrative Efficiency",
         "0",
         "A1NBQ61Y6KO3O9_label_0",
         "1",
         "A1NBQ61Y6KO3O9_Par303_Governmental and Administrative Efficiency"
        ],
        [
         "4",
         "31MBOZ6PBB9KPU25XZW1AQD3VXRLCF",
         "A3GS2NTQ4XU059",
         "Par303_Governmental and Administrative Efficiency",
         "0",
         "A3GS2NTQ4XU059_label_0",
         "1",
         "A3GS2NTQ4XU059_Par303_Governmental and Administrative Efficiency"
        ],
        [
         "5",
         "31MBOZ6PBB9KPU25XZW1AQD3VXRLCF",
         "APXGSUB250NVH",
         "Par303_Governmental and Administrative Efficiency",
         "0",
         "APXGSUB250NVH_label_0",
         "1",
         "APXGSUB250NVH_Par303_Governmental and Administrative Efficiency"
        ],
        [
         "6",
         "35JDMRECDRRJ008IIZ5GNM8YKFUEGH",
         "A1X47COW2Y9SEL",
         "Par303_Governmental and Administrative Efficiency",
         "0",
         "A1X47COW2Y9SEL_label_0",
         "1",
         "A1X47COW2Y9SEL_Par303_Governmental and Administrative Efficiency"
        ],
        [
         "7",
         "35JDMRECDRRJ008IIZ5GNM8YKFUEGH",
         "A335R4YE2E34H6",
         "Par303_Governmental and Administrative Efficiency",
         "0",
         "A335R4YE2E34H6_label_0",
         "1",
         "A335R4YE2E34H6_Par303_Governmental and Administrative Efficiency"
        ],
        [
         "8",
         "35JDMRECDRRJ008IIZ5GNM8YKFUEGH",
         "A3GS2NTQ4XU059",
         "Par303_Governmental and Administrative Efficiency",
         "0",
         "A3GS2NTQ4XU059_label_0",
         "1",
         "A3GS2NTQ4XU059_Par303_Governmental and Administrative Efficiency"
        ],
        [
         "9",
         "36MUZ9VAFTKGOGYRG948H1517NEED7",
         "A1NBQ61Y6KO3O9",
         "Par303_Governmental and Administrative Efficiency",
         "0",
         "A1NBQ61Y6KO3O9_label_0",
         "1",
         "A1NBQ61Y6KO3O9_Par303_Governmental and Administrative Efficiency"
        ],
        [
         "10",
         "36MUZ9VAFTKGOGYRG948H1517NEED7",
         "A1X47COW2Y9SEL",
         "Par303_Governmental and Administrative Efficiency",
         "0",
         "A1X47COW2Y9SEL_label_0",
         "1",
         "A1X47COW2Y9SEL_Par303_Governmental and Administrative Efficiency"
        ],
        [
         "11",
         "36MUZ9VAFTKGOGYRG948H1517NEED7",
         "A335R4YE2E34H6",
         "Par303_Governmental and Administrative Efficiency",
         "0",
         "A335R4YE2E34H6_label_0",
         "1",
         "A335R4YE2E34H6_Par303_Governmental and Administrative Efficiency"
        ],
        [
         "12",
         "37VE3DA4ZHZZTTR9SEL87EEEWIUHBJ",
         "A1NBQ61Y6KO3O9",
         "Par303_Governmental and Administrative Efficiency",
         "1",
         "A1NBQ61Y6KO3O9_label_1",
         "1",
         "A1NBQ61Y6KO3O9_Par303_Governmental and Administrative Efficiency"
        ],
        [
         "13",
         "37VE3DA4ZHZZTTR9SEL87EEEWIUHBJ",
         "A1X47COW2Y9SEL",
         "Par303_Governmental and Administrative Efficiency",
         "1",
         "A1X47COW2Y9SEL_label_1",
         "1",
         "A1X47COW2Y9SEL_Par303_Governmental and Administrative Efficiency"
        ],
        [
         "14",
         "37VE3DA4ZHZZTTR9SEL87EEEWIUHBJ",
         "A335R4YE2E34H6",
         "Par303_Governmental and Administrative Efficiency",
         "1",
         "A335R4YE2E34H6_label_1",
         "1",
         "A335R4YE2E34H6_Par303_Governmental and Administrative Efficiency"
        ],
        [
         "15",
         "39N6W9XWS05H65P9I0HAUP0E2RZGYY",
         "A1NBQ61Y6KO3O9",
         "Par303_Governmental and Administrative Efficiency",
         "0",
         "A1NBQ61Y6KO3O9_label_0",
         "1",
         "A1NBQ61Y6KO3O9_Par303_Governmental and Administrative Efficiency"
        ],
        [
         "16",
         "39N6W9XWS05H65P9I0HAUP0E2RZGYY",
         "A1X47COW2Y9SEL",
         "Par303_Governmental and Administrative Efficiency",
         "0",
         "A1X47COW2Y9SEL_label_0",
         "1",
         "A1X47COW2Y9SEL_Par303_Governmental and Administrative Efficiency"
        ],
        [
         "17",
         "39N6W9XWS05H65P9I0HAUP0E2RZGYY",
         "A335R4YE2E34H6",
         "Par303_Governmental and Administrative Efficiency",
         "0",
         "A335R4YE2E34H6_label_0",
         "1",
         "A335R4YE2E34H6_Par303_Governmental and Administrative Efficiency"
        ],
        [
         "18",
         "3C8QQOM6KCJB2XO5P9SNLTBY82BLIH",
         "A1NBQ61Y6KO3O9",
         "Par303_Governmental and Administrative Efficiency",
         "1",
         "A1NBQ61Y6KO3O9_label_1",
         "1",
         "A1NBQ61Y6KO3O9_Par303_Governmental and Administrative Efficiency"
        ],
        [
         "19",
         "3C8QQOM6KCJB2XO5P9SNLTBY82BLIH",
         "A335R4YE2E34H6",
         "Par303_Governmental and Administrative Efficiency",
         "1",
         "A335R4YE2E34H6_label_1",
         "1",
         "A335R4YE2E34H6_Par303_Governmental and Administrative Efficiency"
        ],
        [
         "20",
         "3C8QQOM6KCJB2XO5P9SNLTBY82BLIH",
         "A3GS2NTQ4XU059",
         "Par303_Governmental and Administrative Efficiency",
         "1",
         "A3GS2NTQ4XU059_label_1",
         "1",
         "A3GS2NTQ4XU059_Par303_Governmental and Administrative Efficiency"
        ],
        [
         "21",
         "3D1TUISJX5IELNBZYNKOCG7HLT4IU8",
         "A1NBQ61Y6KO3O9",
         "Par303_Governmental and Administrative Efficiency",
         "0",
         "A1NBQ61Y6KO3O9_label_0",
         "1",
         "A1NBQ61Y6KO3O9_Par303_Governmental and Administrative Efficiency"
        ],
        [
         "22",
         "3D1TUISJX5IELNBZYNKOCG7HLT4IU8",
         "A335R4YE2E34H6",
         "Par303_Governmental and Administrative Efficiency",
         "0",
         "A335R4YE2E34H6_label_0",
         "1",
         "A335R4YE2E34H6_Par303_Governmental and Administrative Efficiency"
        ],
        [
         "23",
         "3D1TUISJX5IELNBZYNKOCG7HLT4IU8",
         "A3GS2NTQ4XU059",
         "Par303_Governmental and Administrative Efficiency",
         "0",
         "A3GS2NTQ4XU059_label_0",
         "1",
         "A3GS2NTQ4XU059_Par303_Governmental and Administrative Efficiency"
        ],
        [
         "24",
         "3E9VAUV7CJWGWEC6W0P0Y3PB4WMAYG",
         "A1NBQ61Y6KO3O9",
         "Par303_Governmental and Administrative Efficiency",
         "0",
         "A1NBQ61Y6KO3O9_label_0",
         "1",
         "A1NBQ61Y6KO3O9_Par303_Governmental and Administrative Efficiency"
        ],
        [
         "25",
         "3E9VAUV7CJWGWEC6W0P0Y3PB4WMAYG",
         "A1X47COW2Y9SEL",
         "Par303_Governmental and Administrative Efficiency",
         "0",
         "A1X47COW2Y9SEL_label_0",
         "1",
         "A1X47COW2Y9SEL_Par303_Governmental and Administrative Efficiency"
        ],
        [
         "26",
         "3E9VAUV7CJWGWEC6W0P0Y3PB4WMAYG",
         "A335R4YE2E34H6",
         "Par303_Governmental and Administrative Efficiency",
         "0",
         "A335R4YE2E34H6_label_0",
         "1",
         "A335R4YE2E34H6_Par303_Governmental and Administrative Efficiency"
        ],
        [
         "27",
         "3G9UA71JWIC8INJ93XCDEP8XQXVJ7I",
         "A1NBQ61Y6KO3O9",
         "Par303_Governmental and Administrative Efficiency",
         "0",
         "A1NBQ61Y6KO3O9_label_0",
         "1",
         "A1NBQ61Y6KO3O9_Par303_Governmental and Administrative Efficiency"
        ],
        [
         "28",
         "3G9UA71JWIC8INJ93XCDEP8XQXVJ7I",
         "A3GS2NTQ4XU059",
         "Par303_Governmental and Administrative Efficiency",
         "0",
         "A3GS2NTQ4XU059_label_0",
         "1",
         "A3GS2NTQ4XU059_Par303_Governmental and Administrative Efficiency"
        ],
        [
         "29",
         "3G9UA71JWIC8INJ93XCDEP8XQXVJ7I",
         "APXGSUB250NVH",
         "Par303_Governmental and Administrative Efficiency",
         "0",
         "APXGSUB250NVH_label_0",
         "1",
         "APXGSUB250NVH_Par303_Governmental and Administrative Efficiency"
        ],
        [
         "30",
         "3J9UN9O9KQAU0CJPIYR4ZAYAIJPJ0I",
         "A1NBQ61Y6KO3O9",
         "Par303_Governmental and Administrative Efficiency",
         "1",
         "A1NBQ61Y6KO3O9_label_1",
         "1",
         "A1NBQ61Y6KO3O9_Par303_Governmental and Administrative Efficiency"
        ],
        [
         "31",
         "3J9UN9O9KQAU0CJPIYR4ZAYAIJPJ0I",
         "A335R4YE2E34H6",
         "Par303_Governmental and Administrative Efficiency",
         "1",
         "A335R4YE2E34H6_label_1",
         "1",
         "A335R4YE2E34H6_Par303_Governmental and Administrative Efficiency"
        ],
        [
         "32",
         "3J9UN9O9KQAU0CJPIYR4ZAYAIJPJ0I",
         "APXGSUB250NVH",
         "Par303_Governmental and Administrative Efficiency",
         "1",
         "APXGSUB250NVH_label_1",
         "1",
         "APXGSUB250NVH_Par303_Governmental and Administrative Efficiency"
        ],
        [
         "33",
         "3K3G488TSPQAH693AUHPD66NDMS5QG",
         "A1NBQ61Y6KO3O9",
         "Par303_Governmental and Administrative Efficiency",
         "1",
         "A1NBQ61Y6KO3O9_label_1",
         "1",
         "A1NBQ61Y6KO3O9_Par303_Governmental and Administrative Efficiency"
        ],
        [
         "34",
         "3K3G488TSPQAH693AUHPD66NDMS5QG",
         "A335R4YE2E34H6",
         "Par303_Governmental and Administrative Efficiency",
         "1",
         "A335R4YE2E34H6_label_1",
         "1",
         "A335R4YE2E34H6_Par303_Governmental and Administrative Efficiency"
        ],
        [
         "35",
         "3K3G488TSPQAH693AUHPD66NDMS5QG",
         "A3GS2NTQ4XU059",
         "Par303_Governmental and Administrative Efficiency",
         "1",
         "A3GS2NTQ4XU059_label_1",
         "1",
         "A3GS2NTQ4XU059_Par303_Governmental and Administrative Efficiency"
        ],
        [
         "36",
         "3N2YPY1GJTG2IXYD7U42NNB87UIEV6",
         "A1NBQ61Y6KO3O9",
         "Par303_Governmental and Administrative Efficiency",
         "1",
         "A1NBQ61Y6KO3O9_label_1",
         "1",
         "A1NBQ61Y6KO3O9_Par303_Governmental and Administrative Efficiency"
        ],
        [
         "37",
         "3N2YPY1GJTG2IXYD7U42NNB87UIEV6",
         "A1X47COW2Y9SEL",
         "Par303_Governmental and Administrative Efficiency",
         "1",
         "A1X47COW2Y9SEL_label_1",
         "1",
         "A1X47COW2Y9SEL_Par303_Governmental and Administrative Efficiency"
        ],
        [
         "38",
         "3N2YPY1GJTG2IXYD7U42NNB87UIEV6",
         "A335R4YE2E34H6",
         "Par303_Governmental and Administrative Efficiency",
         "1",
         "A335R4YE2E34H6_label_1",
         "1",
         "A335R4YE2E34H6_Par303_Governmental and Administrative Efficiency"
        ],
        [
         "39",
         "3P4C70TRNEZX66IAZLSK0HYITPJLGP",
         "A1NBQ61Y6KO3O9",
         "Par303_Governmental and Administrative Efficiency",
         "0",
         "A1NBQ61Y6KO3O9_label_0",
         "1",
         "A1NBQ61Y6KO3O9_Par303_Governmental and Administrative Efficiency"
        ],
        [
         "40",
         "3P4C70TRNEZX66IAZLSK0HYITPJLGP",
         "A335R4YE2E34H6",
         "Par303_Governmental and Administrative Efficiency",
         "0",
         "A335R4YE2E34H6_label_0",
         "1",
         "A335R4YE2E34H6_Par303_Governmental and Administrative Efficiency"
        ],
        [
         "41",
         "3P4C70TRNEZX66IAZLSK0HYITPJLGP",
         "APXGSUB250NVH",
         "Par303_Governmental and Administrative Efficiency",
         "0",
         "APXGSUB250NVH_label_0",
         "1",
         "APXGSUB250NVH_Par303_Governmental and Administrative Efficiency"
        ],
        [
         "42",
         "3QXFBUZ407Y0PW548ZKLR4U163NUGD",
         "A1NBQ61Y6KO3O9",
         "Par303_Governmental and Administrative Efficiency",
         "0",
         "A1NBQ61Y6KO3O9_label_0",
         "1",
         "A1NBQ61Y6KO3O9_Par303_Governmental and Administrative Efficiency"
        ],
        [
         "43",
         "3QXFBUZ407Y0PW548ZKLR4U163NUGD",
         "A1X47COW2Y9SEL",
         "Par303_Governmental and Administrative Efficiency",
         "0",
         "A1X47COW2Y9SEL_label_0",
         "1",
         "A1X47COW2Y9SEL_Par303_Governmental and Administrative Efficiency"
        ],
        [
         "44",
         "3QXFBUZ407Y0PW548ZKLR4U163NUGD",
         "A335R4YE2E34H6",
         "Par303_Governmental and Administrative Efficiency",
         "0",
         "A335R4YE2E34H6_label_0",
         "1",
         "A335R4YE2E34H6_Par303_Governmental and Administrative Efficiency"
        ],
        [
         "45",
         "3RKHNXPHHJE5RI1NYQ50PWMUDXTKUL",
         "A1NBQ61Y6KO3O9",
         "Par303_Governmental and Administrative Efficiency",
         "1",
         "A1NBQ61Y6KO3O9_label_1",
         "1",
         "A1NBQ61Y6KO3O9_Par303_Governmental and Administrative Efficiency"
        ],
        [
         "46",
         "3RKHNXPHHJE5RI1NYQ50PWMUDXTKUL",
         "A1X47COW2Y9SEL",
         "Par303_Governmental and Administrative Efficiency",
         "1",
         "A1X47COW2Y9SEL_label_1",
         "1",
         "A1X47COW2Y9SEL_Par303_Governmental and Administrative Efficiency"
        ],
        [
         "47",
         "3RKHNXPHHJE5RI1NYQ50PWMUDXTKUL",
         "A3GS2NTQ4XU059",
         "Par303_Governmental and Administrative Efficiency",
         "1",
         "A3GS2NTQ4XU059_label_1",
         "1",
         "A3GS2NTQ4XU059_Par303_Governmental and Administrative Efficiency"
        ],
        [
         "48",
         "3SV8KD29MRAMDHVX4D486O19FF8KZA",
         "A1NBQ61Y6KO3O9",
         "Par303_Governmental and Administrative Efficiency",
         "0",
         "A1NBQ61Y6KO3O9_label_0",
         "1",
         "A1NBQ61Y6KO3O9_Par303_Governmental and Administrative Efficiency"
        ],
        [
         "49",
         "3SV8KD29MRAMDHVX4D486O19FF8KZA",
         "A3GS2NTQ4XU059",
         "Par303_Governmental and Administrative Efficiency",
         "0",
         "A3GS2NTQ4XU059_label_0",
         "1",
         "A3GS2NTQ4XU059_Par303_Governmental and Administrative Efficiency"
        ]
       ],
       "shape": {
        "columns": 7,
        "rows": 660
       }
      },
      "text/html": [
       "<div>\n",
       "<style scoped>\n",
       "    .dataframe tbody tr th:only-of-type {\n",
       "        vertical-align: middle;\n",
       "    }\n",
       "\n",
       "    .dataframe tbody tr th {\n",
       "        vertical-align: top;\n",
       "    }\n",
       "\n",
       "    .dataframe thead th {\n",
       "        text-align: right;\n",
       "    }\n",
       "</style>\n",
       "<table border=\"1\" class=\"dataframe\">\n",
       "  <thead>\n",
       "    <tr style=\"text-align: right;\">\n",
       "      <th></th>\n",
       "      <th>speech_id</th>\n",
       "      <th>worker_id</th>\n",
       "      <th>parameter</th>\n",
       "      <th>label</th>\n",
       "      <th>worker_label</th>\n",
       "      <th>presence</th>\n",
       "      <th>worker_param</th>\n",
       "    </tr>\n",
       "  </thead>\n",
       "  <tbody>\n",
       "    <tr>\n",
       "      <th>0</th>\n",
       "      <td>31ANT7FQOVKX4DA0R4UV4SEMMZW5HK</td>\n",
       "      <td>A1NBQ61Y6KO3O9</td>\n",
       "      <td>Par303_Governmental and Administrative Efficiency</td>\n",
       "      <td>1</td>\n",
       "      <td>A1NBQ61Y6KO3O9_label_1</td>\n",
       "      <td>1</td>\n",
       "      <td>A1NBQ61Y6KO3O9_Par303_Governmental and Adminis...</td>\n",
       "    </tr>\n",
       "    <tr>\n",
       "      <th>1</th>\n",
       "      <td>31ANT7FQOVKX4DA0R4UV4SEMMZW5HK</td>\n",
       "      <td>A3GS2NTQ4XU059</td>\n",
       "      <td>Par303_Governmental and Administrative Efficiency</td>\n",
       "      <td>1</td>\n",
       "      <td>A3GS2NTQ4XU059_label_1</td>\n",
       "      <td>1</td>\n",
       "      <td>A3GS2NTQ4XU059_Par303_Governmental and Adminis...</td>\n",
       "    </tr>\n",
       "    <tr>\n",
       "      <th>2</th>\n",
       "      <td>31ANT7FQOVKX4DA0R4UV4SEMMZW5HK</td>\n",
       "      <td>APXGSUB250NVH</td>\n",
       "      <td>Par303_Governmental and Administrative Efficiency</td>\n",
       "      <td>1</td>\n",
       "      <td>APXGSUB250NVH_label_1</td>\n",
       "      <td>1</td>\n",
       "      <td>APXGSUB250NVH_Par303_Governmental and Administ...</td>\n",
       "    </tr>\n",
       "    <tr>\n",
       "      <th>3</th>\n",
       "      <td>31MBOZ6PBB9KPU25XZW1AQD3VXRLCF</td>\n",
       "      <td>A1NBQ61Y6KO3O9</td>\n",
       "      <td>Par303_Governmental and Administrative Efficiency</td>\n",
       "      <td>0</td>\n",
       "      <td>A1NBQ61Y6KO3O9_label_0</td>\n",
       "      <td>1</td>\n",
       "      <td>A1NBQ61Y6KO3O9_Par303_Governmental and Adminis...</td>\n",
       "    </tr>\n",
       "    <tr>\n",
       "      <th>4</th>\n",
       "      <td>31MBOZ6PBB9KPU25XZW1AQD3VXRLCF</td>\n",
       "      <td>A3GS2NTQ4XU059</td>\n",
       "      <td>Par303_Governmental and Administrative Efficiency</td>\n",
       "      <td>0</td>\n",
       "      <td>A3GS2NTQ4XU059_label_0</td>\n",
       "      <td>1</td>\n",
       "      <td>A3GS2NTQ4XU059_Par303_Governmental and Adminis...</td>\n",
       "    </tr>\n",
       "    <tr>\n",
       "      <th>...</th>\n",
       "      <td>...</td>\n",
       "      <td>...</td>\n",
       "      <td>...</td>\n",
       "      <td>...</td>\n",
       "      <td>...</td>\n",
       "      <td>...</td>\n",
       "      <td>...</td>\n",
       "    </tr>\n",
       "    <tr>\n",
       "      <th>655</th>\n",
       "      <td>3WRKFXQBPYPV2WV48OHDF1DUHHFIY6</td>\n",
       "      <td>A1X47COW2Y9SEL</td>\n",
       "      <td>Par701702_LabourGroups</td>\n",
       "      <td>2</td>\n",
       "      <td>A1X47COW2Y9SEL_label_2</td>\n",
       "      <td>1</td>\n",
       "      <td>A1X47COW2Y9SEL_Par701702_LabourGroups</td>\n",
       "    </tr>\n",
       "    <tr>\n",
       "      <th>656</th>\n",
       "      <td>3WRKFXQBPYPV2WV48OHDF1DUHHFIY6</td>\n",
       "      <td>A335R4YE2E34H6</td>\n",
       "      <td>Par701702_LabourGroups</td>\n",
       "      <td>2</td>\n",
       "      <td>A335R4YE2E34H6_label_2</td>\n",
       "      <td>1</td>\n",
       "      <td>A335R4YE2E34H6_Par701702_LabourGroups</td>\n",
       "    </tr>\n",
       "    <tr>\n",
       "      <th>657</th>\n",
       "      <td>3ZURAPD29V5E2ZIBVR4JYHPSURQF10</td>\n",
       "      <td>A1NBQ61Y6KO3O9</td>\n",
       "      <td>Par701702_LabourGroups</td>\n",
       "      <td>2</td>\n",
       "      <td>A1NBQ61Y6KO3O9_label_2</td>\n",
       "      <td>1</td>\n",
       "      <td>A1NBQ61Y6KO3O9_Par701702_LabourGroups</td>\n",
       "    </tr>\n",
       "    <tr>\n",
       "      <th>658</th>\n",
       "      <td>3ZURAPD29V5E2ZIBVR4JYHPSURQF10</td>\n",
       "      <td>A1X47COW2Y9SEL</td>\n",
       "      <td>Par701702_LabourGroups</td>\n",
       "      <td>2</td>\n",
       "      <td>A1X47COW2Y9SEL_label_2</td>\n",
       "      <td>1</td>\n",
       "      <td>A1X47COW2Y9SEL_Par701702_LabourGroups</td>\n",
       "    </tr>\n",
       "    <tr>\n",
       "      <th>659</th>\n",
       "      <td>3ZURAPD29V5E2ZIBVR4JYHPSURQF10</td>\n",
       "      <td>A335R4YE2E34H6</td>\n",
       "      <td>Par701702_LabourGroups</td>\n",
       "      <td>2</td>\n",
       "      <td>A335R4YE2E34H6_label_2</td>\n",
       "      <td>1</td>\n",
       "      <td>A335R4YE2E34H6_Par701702_LabourGroups</td>\n",
       "    </tr>\n",
       "  </tbody>\n",
       "</table>\n",
       "<p>660 rows × 7 columns</p>\n",
       "</div>"
      ],
      "text/plain": [
       "                          speech_id       worker_id  \\\n",
       "0    31ANT7FQOVKX4DA0R4UV4SEMMZW5HK  A1NBQ61Y6KO3O9   \n",
       "1    31ANT7FQOVKX4DA0R4UV4SEMMZW5HK  A3GS2NTQ4XU059   \n",
       "2    31ANT7FQOVKX4DA0R4UV4SEMMZW5HK   APXGSUB250NVH   \n",
       "3    31MBOZ6PBB9KPU25XZW1AQD3VXRLCF  A1NBQ61Y6KO3O9   \n",
       "4    31MBOZ6PBB9KPU25XZW1AQD3VXRLCF  A3GS2NTQ4XU059   \n",
       "..                              ...             ...   \n",
       "655  3WRKFXQBPYPV2WV48OHDF1DUHHFIY6  A1X47COW2Y9SEL   \n",
       "656  3WRKFXQBPYPV2WV48OHDF1DUHHFIY6  A335R4YE2E34H6   \n",
       "657  3ZURAPD29V5E2ZIBVR4JYHPSURQF10  A1NBQ61Y6KO3O9   \n",
       "658  3ZURAPD29V5E2ZIBVR4JYHPSURQF10  A1X47COW2Y9SEL   \n",
       "659  3ZURAPD29V5E2ZIBVR4JYHPSURQF10  A335R4YE2E34H6   \n",
       "\n",
       "                                             parameter  label  \\\n",
       "0    Par303_Governmental and Administrative Efficiency      1   \n",
       "1    Par303_Governmental and Administrative Efficiency      1   \n",
       "2    Par303_Governmental and Administrative Efficiency      1   \n",
       "3    Par303_Governmental and Administrative Efficiency      0   \n",
       "4    Par303_Governmental and Administrative Efficiency      0   \n",
       "..                                                 ...    ...   \n",
       "655                             Par701702_LabourGroups      2   \n",
       "656                             Par701702_LabourGroups      2   \n",
       "657                             Par701702_LabourGroups      2   \n",
       "658                             Par701702_LabourGroups      2   \n",
       "659                             Par701702_LabourGroups      2   \n",
       "\n",
       "               worker_label  presence  \\\n",
       "0    A1NBQ61Y6KO3O9_label_1         1   \n",
       "1    A3GS2NTQ4XU059_label_1         1   \n",
       "2     APXGSUB250NVH_label_1         1   \n",
       "3    A1NBQ61Y6KO3O9_label_0         1   \n",
       "4    A3GS2NTQ4XU059_label_0         1   \n",
       "..                      ...       ...   \n",
       "655  A1X47COW2Y9SEL_label_2         1   \n",
       "656  A335R4YE2E34H6_label_2         1   \n",
       "657  A1NBQ61Y6KO3O9_label_2         1   \n",
       "658  A1X47COW2Y9SEL_label_2         1   \n",
       "659  A335R4YE2E34H6_label_2         1   \n",
       "\n",
       "                                          worker_param  \n",
       "0    A1NBQ61Y6KO3O9_Par303_Governmental and Adminis...  \n",
       "1    A3GS2NTQ4XU059_Par303_Governmental and Adminis...  \n",
       "2    APXGSUB250NVH_Par303_Governmental and Administ...  \n",
       "3    A1NBQ61Y6KO3O9_Par303_Governmental and Adminis...  \n",
       "4    A3GS2NTQ4XU059_Par303_Governmental and Adminis...  \n",
       "..                                                 ...  \n",
       "655              A1X47COW2Y9SEL_Par701702_LabourGroups  \n",
       "656              A335R4YE2E34H6_Par701702_LabourGroups  \n",
       "657              A1NBQ61Y6KO3O9_Par701702_LabourGroups  \n",
       "658              A1X47COW2Y9SEL_Par701702_LabourGroups  \n",
       "659              A335R4YE2E34H6_Par701702_LabourGroups  \n",
       "\n",
       "[660 rows x 7 columns]"
      ]
     },
     "execution_count": 159,
     "metadata": {},
     "output_type": "execute_result"
    }
   ],
   "source": [
    "df_clean"
   ]
  },
  {
   "cell_type": "markdown",
   "id": "3a0ac6c5",
   "metadata": {},
   "source": [
    "Now, I want to change the dataset to have only 1 row per speech"
   ]
  },
  {
   "cell_type": "code",
   "execution_count": null,
   "id": "f46a16a5",
   "metadata": {},
   "outputs": [],
   "source": [
    "# manipulate\n",
    "df_clean['worker_param'] = df_clean.apply(\n",
    "    lambda row: f\"{row['worker_id']}_{row['parameter']}\", axis=1\n",
    ")\n",
    "\n",
    "# pivot\n",
    "df_wide = df_clean.pivot(\n",
    "    index='speech_id',\n",
    "    columns='worker_param',\n",
    "    values='label'\n",
    ")\n",
    "\n",
    "df_wide.columns.name = None # no column name idx \n",
    "\n",
    "# Optional: reset index if needed\n",
    "# df_wide = df_wide.reset_index()\n",
    "\n",
    "# result\n",
    "pd.set_option('display.max_columns', None)\n",
    "df_wide\n",
    "\n"
   ]
  },
  {
   "cell_type": "markdown",
   "id": "f6e8d4b4",
   "metadata": {},
   "source": [
    "**Secondary Cleaning:**"
   ]
  },
  {
   "cell_type": "markdown",
   "id": "d3b4daa6",
   "metadata": {},
   "source": [
    "Create 10 different tables for each parameter"
   ]
  },
  {
   "cell_type": "code",
   "execution_count": 235,
   "id": "16ef3045",
   "metadata": {},
   "outputs": [
    {
     "name": "stdout",
     "output_type": "stream",
     "text": [
      "Created variable: df_Par303_Governmental_and_Administrative_Efficiency\n",
      "Created variable: df_Par405_Corporatism\n",
      "Created variable: df_Par402_Incentives\n",
      "Created variable: df_Par410416_EconomicGrowthAntiGrowth\n",
      "Created variable: df_Par408_EconomicGoals\n",
      "Created variable: df_Par409_KeynesianDemandManagement\n",
      "Created variable: df_Par404_EconomicPlanning\n",
      "Created variable: df_Par401403_FreeMarket_MarketRegulation\n",
      "Created variable: df_Par701702_LabourGroups\n",
      "Created variable: df_Par411_TechnologyAndInfrastructure\n"
     ]
    }
   ],
   "source": [
    "for param in df['Input.parameter'].unique():\n",
    "    safe_name = \"df_\" + (\n",
    "        param.replace('-', '_')\n",
    "             .replace('&', 'And')\n",
    "             .replace('.', '')\n",
    "             .replace(' ', '_')\n",
    "    )\n",
    "\n",
    "    df_param = df[df['Input.parameter'] == param].drop_duplicates(subset=['HITId', 'WorkerId'])\n",
    "\n",
    "    # Pivot without altering index permanently\n",
    "    pivot = df_param.pivot(\n",
    "        index='HITId',\n",
    "        columns='WorkerId',\n",
    "        values='Input.label'\n",
    "    ).reset_index()  # <-- Keep HITId as a column\n",
    "\n",
    "    pivot.columns.name = None\n",
    "\n",
    "    # Optionally, sort columns so HITId is first\n",
    "    cols = ['HITId'] + [col for col in pivot.columns if col != 'HITId']\n",
    "    pivot = pivot[cols]\n",
    "\n",
    "    globals()[safe_name] = pivot\n",
    "    print(f\"Created variable: {safe_name}\")\n",
    "\n"
   ]
  },
  {
   "cell_type": "code",
   "execution_count": 236,
   "id": "14ecb490",
   "metadata": {},
   "outputs": [
    {
     "data": {
      "application/vnd.microsoft.datawrangler.viewer.v0+json": {
       "columns": [
        {
         "name": "index",
         "rawType": "int64",
         "type": "integer"
        },
        {
         "name": "HITId",
         "rawType": "object",
         "type": "string"
        },
        {
         "name": "A1BQ37ZGUM16XI",
         "rawType": "float64",
         "type": "float"
        },
        {
         "name": "A1NBQ61Y6KO3O9",
         "rawType": "float64",
         "type": "float"
        },
        {
         "name": "A1X47COW2Y9SEL",
         "rawType": "float64",
         "type": "float"
        },
        {
         "name": "A335R4YE2E34H6",
         "rawType": "float64",
         "type": "float"
        },
        {
         "name": "A3GS2NTQ4XU059",
         "rawType": "float64",
         "type": "float"
        },
        {
         "name": "APXGSUB250NVH",
         "rawType": "float64",
         "type": "float"
        }
       ],
       "ref": "a76dee42-5deb-425e-96d1-ac791e790c87",
       "rows": [
        [
         "0",
         "302OLP89EMP3TBB1087B1CXS184CAA",
         null,
         "1.0",
         "1.0",
         null,
         null,
         "1.0"
        ],
        [
         "1",
         "3126F2F5GVLPDD1HLIV3HVMQL6HEPL",
         null,
         "2.0",
         "2.0",
         "2.0",
         null,
         null
        ],
        [
         "2",
         "31YWE12TFNU9D7OYK1RE5YGC1VA7XU",
         "0.0",
         "0.0",
         null,
         null,
         "0.0",
         null
        ],
        [
         "3",
         "3421H3BMAXZCW672IUAXSLZ3LNJJ9U",
         null,
         "1.0",
         null,
         "1.0",
         "1.0",
         null
        ],
        [
         "4",
         "34ZTTGSNKK6MXZTYBWIY239DIIVHQV",
         null,
         "2.0",
         "2.0",
         "2.0",
         null,
         null
        ],
        [
         "5",
         "3538U0YQ22CAC2WQIVI2MA4PSOSF36",
         null,
         "1.0",
         null,
         null,
         "1.0",
         "1.0"
        ],
        [
         "6",
         "35O6H0UNMFYTVJ5QF4XGG5U1ZR0J53",
         null,
         "2.0",
         null,
         "2.0",
         null,
         "2.0"
        ],
        [
         "7",
         "36AZSFEY0RI4BUMTX32CMF5N4X5BV3",
         null,
         null,
         "2.0",
         "2.0",
         null,
         "2.0"
        ],
        [
         "8",
         "37J05LC5BK1OZWKJUAFZEHITC8YJDB",
         null,
         "0.0",
         null,
         null,
         "0.0",
         "0.0"
        ],
        [
         "9",
         "389A2A305B07SYDJ86AIC6LFSMSC0J",
         null,
         "0.0",
         "0.0",
         "0.0",
         null,
         null
        ],
        [
         "10",
         "3B286OTIT1ZQ1PH7A0OXOGANR51JA9",
         null,
         null,
         "2.0",
         "2.0",
         "2.0",
         null
        ],
        [
         "11",
         "3D06DR523S1G2XNSDX1P4824VM8AMQ",
         null,
         null,
         "0.0",
         "0.0",
         null,
         "0.0"
        ],
        [
         "12",
         "3DQYSJDTZ8TUMM38795KB88TN5QEX9",
         null,
         "0.0",
         "0.0",
         "0.0",
         null,
         null
        ],
        [
         "13",
         "3EGKVCRQGJALFOHY2EPWTE9HME7BYC",
         null,
         "1.0",
         "1.0",
         "1.0",
         null,
         null
        ],
        [
         "14",
         "3EPG8DX9M78PHU8OAH20D1GD8Q65PP",
         null,
         "1.0",
         null,
         null,
         "1.0",
         "1.0"
        ],
        [
         "15",
         "3IQ9O0AYXTHZLAWAYIUE7KLF2FXITH",
         "2.0",
         "2.0",
         null,
         null,
         "2.0",
         null
        ],
        [
         "16",
         "3JTPR5MT0FUO63B8XPXSHKUEEG05KO",
         null,
         null,
         null,
         "0.0",
         "0.0",
         "0.0"
        ],
        [
         "17",
         "3KL228NDNI4MM00SELGJLHL34PEKGL",
         null,
         "0.0",
         null,
         null,
         "0.0",
         "0.0"
        ],
        [
         "18",
         "3KQC8JMJHZAUQYNWDL62PVG28QHH3S",
         null,
         null,
         "1.0",
         "1.0",
         null,
         "1.0"
        ],
        [
         "19",
         "3LG268AV4VOAPQHWYAZSMQM5MO5ERD",
         null,
         "1.0",
         "1.0",
         "1.0",
         null,
         null
        ],
        [
         "20",
         "3MD8CKRQ0M5I063OCBAJJ6ZXRW1JR3",
         null,
         "1.0",
         "1.0",
         "1.0",
         null,
         null
        ],
        [
         "21",
         "3NQUW096OTQIRWV2LFMA80CVPCOL9Y",
         null,
         "2.0",
         null,
         "2.0",
         "2.0",
         null
        ],
        [
         "22",
         "3OND0WXMIJXX0W3T25NY8MKZZF7EHG",
         null,
         "2.0",
         "2.0",
         "2.0",
         null,
         null
        ],
        [
         "23",
         "3QI9WAYOHDTIDQOU7HGZ0CZORS06S8",
         null,
         "1.0",
         "1.0",
         "1.0",
         null,
         null
        ],
        [
         "24",
         "3R4QIDVOKCULGMCRC4FSNJNM7ZFEE0",
         null,
         null,
         "2.0",
         "2.0",
         null,
         "2.0"
        ],
        [
         "25",
         "3S1WOPCJG3BTR2YJQ5QJKZ0ECKZJE4",
         null,
         "0.0",
         null,
         null,
         "0.0",
         "0.0"
        ],
        [
         "26",
         "3TL87MO8D97RS6MFO1M2IWY6SAJLFQ",
         null,
         "1.0",
         null,
         null,
         "1.0",
         "1.0"
        ],
        [
         "27",
         "3VAOOVPI4MADSYWBACP0D93QP65LLV",
         null,
         "0.0",
         "0.0",
         null,
         "0.0",
         null
        ],
        [
         "28",
         "3VGET1QS0NHUO7J8AWVS3F25ST47W1",
         null,
         null,
         "0.0",
         null,
         "0.0",
         "0.0"
        ],
        [
         "29",
         "3ZXNP4Z3AE3EDD796IOQU4LPUM0L7M",
         null,
         "2.0",
         "2.0",
         null,
         "2.0",
         null
        ]
       ],
       "shape": {
        "columns": 7,
        "rows": 30
       }
      },
      "text/html": [
       "<div>\n",
       "<style scoped>\n",
       "    .dataframe tbody tr th:only-of-type {\n",
       "        vertical-align: middle;\n",
       "    }\n",
       "\n",
       "    .dataframe tbody tr th {\n",
       "        vertical-align: top;\n",
       "    }\n",
       "\n",
       "    .dataframe thead th {\n",
       "        text-align: right;\n",
       "    }\n",
       "</style>\n",
       "<table border=\"1\" class=\"dataframe\">\n",
       "  <thead>\n",
       "    <tr style=\"text-align: right;\">\n",
       "      <th></th>\n",
       "      <th>HITId</th>\n",
       "      <th>A1BQ37ZGUM16XI</th>\n",
       "      <th>A1NBQ61Y6KO3O9</th>\n",
       "      <th>A1X47COW2Y9SEL</th>\n",
       "      <th>A335R4YE2E34H6</th>\n",
       "      <th>A3GS2NTQ4XU059</th>\n",
       "      <th>APXGSUB250NVH</th>\n",
       "    </tr>\n",
       "  </thead>\n",
       "  <tbody>\n",
       "    <tr>\n",
       "      <th>0</th>\n",
       "      <td>302OLP89EMP3TBB1087B1CXS184CAA</td>\n",
       "      <td>NaN</td>\n",
       "      <td>1.0</td>\n",
       "      <td>1.0</td>\n",
       "      <td>NaN</td>\n",
       "      <td>NaN</td>\n",
       "      <td>1.0</td>\n",
       "    </tr>\n",
       "    <tr>\n",
       "      <th>1</th>\n",
       "      <td>3126F2F5GVLPDD1HLIV3HVMQL6HEPL</td>\n",
       "      <td>NaN</td>\n",
       "      <td>2.0</td>\n",
       "      <td>2.0</td>\n",
       "      <td>2.0</td>\n",
       "      <td>NaN</td>\n",
       "      <td>NaN</td>\n",
       "    </tr>\n",
       "    <tr>\n",
       "      <th>2</th>\n",
       "      <td>31YWE12TFNU9D7OYK1RE5YGC1VA7XU</td>\n",
       "      <td>0.0</td>\n",
       "      <td>0.0</td>\n",
       "      <td>NaN</td>\n",
       "      <td>NaN</td>\n",
       "      <td>0.0</td>\n",
       "      <td>NaN</td>\n",
       "    </tr>\n",
       "    <tr>\n",
       "      <th>3</th>\n",
       "      <td>3421H3BMAXZCW672IUAXSLZ3LNJJ9U</td>\n",
       "      <td>NaN</td>\n",
       "      <td>1.0</td>\n",
       "      <td>NaN</td>\n",
       "      <td>1.0</td>\n",
       "      <td>1.0</td>\n",
       "      <td>NaN</td>\n",
       "    </tr>\n",
       "    <tr>\n",
       "      <th>4</th>\n",
       "      <td>34ZTTGSNKK6MXZTYBWIY239DIIVHQV</td>\n",
       "      <td>NaN</td>\n",
       "      <td>2.0</td>\n",
       "      <td>2.0</td>\n",
       "      <td>2.0</td>\n",
       "      <td>NaN</td>\n",
       "      <td>NaN</td>\n",
       "    </tr>\n",
       "    <tr>\n",
       "      <th>5</th>\n",
       "      <td>3538U0YQ22CAC2WQIVI2MA4PSOSF36</td>\n",
       "      <td>NaN</td>\n",
       "      <td>1.0</td>\n",
       "      <td>NaN</td>\n",
       "      <td>NaN</td>\n",
       "      <td>1.0</td>\n",
       "      <td>1.0</td>\n",
       "    </tr>\n",
       "    <tr>\n",
       "      <th>6</th>\n",
       "      <td>35O6H0UNMFYTVJ5QF4XGG5U1ZR0J53</td>\n",
       "      <td>NaN</td>\n",
       "      <td>2.0</td>\n",
       "      <td>NaN</td>\n",
       "      <td>2.0</td>\n",
       "      <td>NaN</td>\n",
       "      <td>2.0</td>\n",
       "    </tr>\n",
       "    <tr>\n",
       "      <th>7</th>\n",
       "      <td>36AZSFEY0RI4BUMTX32CMF5N4X5BV3</td>\n",
       "      <td>NaN</td>\n",
       "      <td>NaN</td>\n",
       "      <td>2.0</td>\n",
       "      <td>2.0</td>\n",
       "      <td>NaN</td>\n",
       "      <td>2.0</td>\n",
       "    </tr>\n",
       "    <tr>\n",
       "      <th>8</th>\n",
       "      <td>37J05LC5BK1OZWKJUAFZEHITC8YJDB</td>\n",
       "      <td>NaN</td>\n",
       "      <td>0.0</td>\n",
       "      <td>NaN</td>\n",
       "      <td>NaN</td>\n",
       "      <td>0.0</td>\n",
       "      <td>0.0</td>\n",
       "    </tr>\n",
       "    <tr>\n",
       "      <th>9</th>\n",
       "      <td>389A2A305B07SYDJ86AIC6LFSMSC0J</td>\n",
       "      <td>NaN</td>\n",
       "      <td>0.0</td>\n",
       "      <td>0.0</td>\n",
       "      <td>0.0</td>\n",
       "      <td>NaN</td>\n",
       "      <td>NaN</td>\n",
       "    </tr>\n",
       "    <tr>\n",
       "      <th>10</th>\n",
       "      <td>3B286OTIT1ZQ1PH7A0OXOGANR51JA9</td>\n",
       "      <td>NaN</td>\n",
       "      <td>NaN</td>\n",
       "      <td>2.0</td>\n",
       "      <td>2.0</td>\n",
       "      <td>2.0</td>\n",
       "      <td>NaN</td>\n",
       "    </tr>\n",
       "    <tr>\n",
       "      <th>11</th>\n",
       "      <td>3D06DR523S1G2XNSDX1P4824VM8AMQ</td>\n",
       "      <td>NaN</td>\n",
       "      <td>NaN</td>\n",
       "      <td>0.0</td>\n",
       "      <td>0.0</td>\n",
       "      <td>NaN</td>\n",
       "      <td>0.0</td>\n",
       "    </tr>\n",
       "    <tr>\n",
       "      <th>12</th>\n",
       "      <td>3DQYSJDTZ8TUMM38795KB88TN5QEX9</td>\n",
       "      <td>NaN</td>\n",
       "      <td>0.0</td>\n",
       "      <td>0.0</td>\n",
       "      <td>0.0</td>\n",
       "      <td>NaN</td>\n",
       "      <td>NaN</td>\n",
       "    </tr>\n",
       "    <tr>\n",
       "      <th>13</th>\n",
       "      <td>3EGKVCRQGJALFOHY2EPWTE9HME7BYC</td>\n",
       "      <td>NaN</td>\n",
       "      <td>1.0</td>\n",
       "      <td>1.0</td>\n",
       "      <td>1.0</td>\n",
       "      <td>NaN</td>\n",
       "      <td>NaN</td>\n",
       "    </tr>\n",
       "    <tr>\n",
       "      <th>14</th>\n",
       "      <td>3EPG8DX9M78PHU8OAH20D1GD8Q65PP</td>\n",
       "      <td>NaN</td>\n",
       "      <td>1.0</td>\n",
       "      <td>NaN</td>\n",
       "      <td>NaN</td>\n",
       "      <td>1.0</td>\n",
       "      <td>1.0</td>\n",
       "    </tr>\n",
       "    <tr>\n",
       "      <th>15</th>\n",
       "      <td>3IQ9O0AYXTHZLAWAYIUE7KLF2FXITH</td>\n",
       "      <td>2.0</td>\n",
       "      <td>2.0</td>\n",
       "      <td>NaN</td>\n",
       "      <td>NaN</td>\n",
       "      <td>2.0</td>\n",
       "      <td>NaN</td>\n",
       "    </tr>\n",
       "    <tr>\n",
       "      <th>16</th>\n",
       "      <td>3JTPR5MT0FUO63B8XPXSHKUEEG05KO</td>\n",
       "      <td>NaN</td>\n",
       "      <td>NaN</td>\n",
       "      <td>NaN</td>\n",
       "      <td>0.0</td>\n",
       "      <td>0.0</td>\n",
       "      <td>0.0</td>\n",
       "    </tr>\n",
       "    <tr>\n",
       "      <th>17</th>\n",
       "      <td>3KL228NDNI4MM00SELGJLHL34PEKGL</td>\n",
       "      <td>NaN</td>\n",
       "      <td>0.0</td>\n",
       "      <td>NaN</td>\n",
       "      <td>NaN</td>\n",
       "      <td>0.0</td>\n",
       "      <td>0.0</td>\n",
       "    </tr>\n",
       "    <tr>\n",
       "      <th>18</th>\n",
       "      <td>3KQC8JMJHZAUQYNWDL62PVG28QHH3S</td>\n",
       "      <td>NaN</td>\n",
       "      <td>NaN</td>\n",
       "      <td>1.0</td>\n",
       "      <td>1.0</td>\n",
       "      <td>NaN</td>\n",
       "      <td>1.0</td>\n",
       "    </tr>\n",
       "    <tr>\n",
       "      <th>19</th>\n",
       "      <td>3LG268AV4VOAPQHWYAZSMQM5MO5ERD</td>\n",
       "      <td>NaN</td>\n",
       "      <td>1.0</td>\n",
       "      <td>1.0</td>\n",
       "      <td>1.0</td>\n",
       "      <td>NaN</td>\n",
       "      <td>NaN</td>\n",
       "    </tr>\n",
       "    <tr>\n",
       "      <th>20</th>\n",
       "      <td>3MD8CKRQ0M5I063OCBAJJ6ZXRW1JR3</td>\n",
       "      <td>NaN</td>\n",
       "      <td>1.0</td>\n",
       "      <td>1.0</td>\n",
       "      <td>1.0</td>\n",
       "      <td>NaN</td>\n",
       "      <td>NaN</td>\n",
       "    </tr>\n",
       "    <tr>\n",
       "      <th>21</th>\n",
       "      <td>3NQUW096OTQIRWV2LFMA80CVPCOL9Y</td>\n",
       "      <td>NaN</td>\n",
       "      <td>2.0</td>\n",
       "      <td>NaN</td>\n",
       "      <td>2.0</td>\n",
       "      <td>2.0</td>\n",
       "      <td>NaN</td>\n",
       "    </tr>\n",
       "    <tr>\n",
       "      <th>22</th>\n",
       "      <td>3OND0WXMIJXX0W3T25NY8MKZZF7EHG</td>\n",
       "      <td>NaN</td>\n",
       "      <td>2.0</td>\n",
       "      <td>2.0</td>\n",
       "      <td>2.0</td>\n",
       "      <td>NaN</td>\n",
       "      <td>NaN</td>\n",
       "    </tr>\n",
       "    <tr>\n",
       "      <th>23</th>\n",
       "      <td>3QI9WAYOHDTIDQOU7HGZ0CZORS06S8</td>\n",
       "      <td>NaN</td>\n",
       "      <td>1.0</td>\n",
       "      <td>1.0</td>\n",
       "      <td>1.0</td>\n",
       "      <td>NaN</td>\n",
       "      <td>NaN</td>\n",
       "    </tr>\n",
       "    <tr>\n",
       "      <th>24</th>\n",
       "      <td>3R4QIDVOKCULGMCRC4FSNJNM7ZFEE0</td>\n",
       "      <td>NaN</td>\n",
       "      <td>NaN</td>\n",
       "      <td>2.0</td>\n",
       "      <td>2.0</td>\n",
       "      <td>NaN</td>\n",
       "      <td>2.0</td>\n",
       "    </tr>\n",
       "    <tr>\n",
       "      <th>25</th>\n",
       "      <td>3S1WOPCJG3BTR2YJQ5QJKZ0ECKZJE4</td>\n",
       "      <td>NaN</td>\n",
       "      <td>0.0</td>\n",
       "      <td>NaN</td>\n",
       "      <td>NaN</td>\n",
       "      <td>0.0</td>\n",
       "      <td>0.0</td>\n",
       "    </tr>\n",
       "    <tr>\n",
       "      <th>26</th>\n",
       "      <td>3TL87MO8D97RS6MFO1M2IWY6SAJLFQ</td>\n",
       "      <td>NaN</td>\n",
       "      <td>1.0</td>\n",
       "      <td>NaN</td>\n",
       "      <td>NaN</td>\n",
       "      <td>1.0</td>\n",
       "      <td>1.0</td>\n",
       "    </tr>\n",
       "    <tr>\n",
       "      <th>27</th>\n",
       "      <td>3VAOOVPI4MADSYWBACP0D93QP65LLV</td>\n",
       "      <td>NaN</td>\n",
       "      <td>0.0</td>\n",
       "      <td>0.0</td>\n",
       "      <td>NaN</td>\n",
       "      <td>0.0</td>\n",
       "      <td>NaN</td>\n",
       "    </tr>\n",
       "    <tr>\n",
       "      <th>28</th>\n",
       "      <td>3VGET1QS0NHUO7J8AWVS3F25ST47W1</td>\n",
       "      <td>NaN</td>\n",
       "      <td>NaN</td>\n",
       "      <td>0.0</td>\n",
       "      <td>NaN</td>\n",
       "      <td>0.0</td>\n",
       "      <td>0.0</td>\n",
       "    </tr>\n",
       "    <tr>\n",
       "      <th>29</th>\n",
       "      <td>3ZXNP4Z3AE3EDD796IOQU4LPUM0L7M</td>\n",
       "      <td>NaN</td>\n",
       "      <td>2.0</td>\n",
       "      <td>2.0</td>\n",
       "      <td>NaN</td>\n",
       "      <td>2.0</td>\n",
       "      <td>NaN</td>\n",
       "    </tr>\n",
       "  </tbody>\n",
       "</table>\n",
       "</div>"
      ],
      "text/plain": [
       "                             HITId  A1BQ37ZGUM16XI  A1NBQ61Y6KO3O9  \\\n",
       "0   302OLP89EMP3TBB1087B1CXS184CAA             NaN             1.0   \n",
       "1   3126F2F5GVLPDD1HLIV3HVMQL6HEPL             NaN             2.0   \n",
       "2   31YWE12TFNU9D7OYK1RE5YGC1VA7XU             0.0             0.0   \n",
       "3   3421H3BMAXZCW672IUAXSLZ3LNJJ9U             NaN             1.0   \n",
       "4   34ZTTGSNKK6MXZTYBWIY239DIIVHQV             NaN             2.0   \n",
       "5   3538U0YQ22CAC2WQIVI2MA4PSOSF36             NaN             1.0   \n",
       "6   35O6H0UNMFYTVJ5QF4XGG5U1ZR0J53             NaN             2.0   \n",
       "7   36AZSFEY0RI4BUMTX32CMF5N4X5BV3             NaN             NaN   \n",
       "8   37J05LC5BK1OZWKJUAFZEHITC8YJDB             NaN             0.0   \n",
       "9   389A2A305B07SYDJ86AIC6LFSMSC0J             NaN             0.0   \n",
       "10  3B286OTIT1ZQ1PH7A0OXOGANR51JA9             NaN             NaN   \n",
       "11  3D06DR523S1G2XNSDX1P4824VM8AMQ             NaN             NaN   \n",
       "12  3DQYSJDTZ8TUMM38795KB88TN5QEX9             NaN             0.0   \n",
       "13  3EGKVCRQGJALFOHY2EPWTE9HME7BYC             NaN             1.0   \n",
       "14  3EPG8DX9M78PHU8OAH20D1GD8Q65PP             NaN             1.0   \n",
       "15  3IQ9O0AYXTHZLAWAYIUE7KLF2FXITH             2.0             2.0   \n",
       "16  3JTPR5MT0FUO63B8XPXSHKUEEG05KO             NaN             NaN   \n",
       "17  3KL228NDNI4MM00SELGJLHL34PEKGL             NaN             0.0   \n",
       "18  3KQC8JMJHZAUQYNWDL62PVG28QHH3S             NaN             NaN   \n",
       "19  3LG268AV4VOAPQHWYAZSMQM5MO5ERD             NaN             1.0   \n",
       "20  3MD8CKRQ0M5I063OCBAJJ6ZXRW1JR3             NaN             1.0   \n",
       "21  3NQUW096OTQIRWV2LFMA80CVPCOL9Y             NaN             2.0   \n",
       "22  3OND0WXMIJXX0W3T25NY8MKZZF7EHG             NaN             2.0   \n",
       "23  3QI9WAYOHDTIDQOU7HGZ0CZORS06S8             NaN             1.0   \n",
       "24  3R4QIDVOKCULGMCRC4FSNJNM7ZFEE0             NaN             NaN   \n",
       "25  3S1WOPCJG3BTR2YJQ5QJKZ0ECKZJE4             NaN             0.0   \n",
       "26  3TL87MO8D97RS6MFO1M2IWY6SAJLFQ             NaN             1.0   \n",
       "27  3VAOOVPI4MADSYWBACP0D93QP65LLV             NaN             0.0   \n",
       "28  3VGET1QS0NHUO7J8AWVS3F25ST47W1             NaN             NaN   \n",
       "29  3ZXNP4Z3AE3EDD796IOQU4LPUM0L7M             NaN             2.0   \n",
       "\n",
       "    A1X47COW2Y9SEL  A335R4YE2E34H6  A3GS2NTQ4XU059  APXGSUB250NVH  \n",
       "0              1.0             NaN             NaN            1.0  \n",
       "1              2.0             2.0             NaN            NaN  \n",
       "2              NaN             NaN             0.0            NaN  \n",
       "3              NaN             1.0             1.0            NaN  \n",
       "4              2.0             2.0             NaN            NaN  \n",
       "5              NaN             NaN             1.0            1.0  \n",
       "6              NaN             2.0             NaN            2.0  \n",
       "7              2.0             2.0             NaN            2.0  \n",
       "8              NaN             NaN             0.0            0.0  \n",
       "9              0.0             0.0             NaN            NaN  \n",
       "10             2.0             2.0             2.0            NaN  \n",
       "11             0.0             0.0             NaN            0.0  \n",
       "12             0.0             0.0             NaN            NaN  \n",
       "13             1.0             1.0             NaN            NaN  \n",
       "14             NaN             NaN             1.0            1.0  \n",
       "15             NaN             NaN             2.0            NaN  \n",
       "16             NaN             0.0             0.0            0.0  \n",
       "17             NaN             NaN             0.0            0.0  \n",
       "18             1.0             1.0             NaN            1.0  \n",
       "19             1.0             1.0             NaN            NaN  \n",
       "20             1.0             1.0             NaN            NaN  \n",
       "21             NaN             2.0             2.0            NaN  \n",
       "22             2.0             2.0             NaN            NaN  \n",
       "23             1.0             1.0             NaN            NaN  \n",
       "24             2.0             2.0             NaN            2.0  \n",
       "25             NaN             NaN             0.0            0.0  \n",
       "26             NaN             NaN             1.0            1.0  \n",
       "27             0.0             NaN             0.0            NaN  \n",
       "28             0.0             NaN             0.0            0.0  \n",
       "29             2.0             NaN             2.0            NaN  "
      ]
     },
     "execution_count": 236,
     "metadata": {},
     "output_type": "execute_result"
    }
   ],
   "source": [
    "df_Par410416_EconomicGrowthAntiGrowth"
   ]
  },
  {
   "cell_type": "markdown",
   "id": "d6873055",
   "metadata": {},
   "source": [
    "Save Param and workers DF's in a dictionary "
   ]
  },
  {
   "cell_type": "code",
   "execution_count": null,
   "id": "15a2f9c5",
   "metadata": {},
   "outputs": [],
   "source": [
    "# define dataframes, workers, etc. \n",
    "\n",
    "param_dfs = {\n",
    "    \"Par303_Governmental_and_Administrative_Efficiency\": df_Par303_Governmental_and_Administrative_Efficiency,\n",
    "    \"Par405_Corporatism\": df_Par405_Corporatism,\n",
    "    \"Par402_Incentives\": df_Par402_Incentives,\n",
    "    \"Par410416_EconomicGrowthAntiGrowth\": df_Par410416_EconomicGrowthAntiGrowth,\n",
    "    \"Par408_EconomicGoals\": df_Par408_EconomicGoals,\n",
    "    \"Par409_KeynesianDemandManagement\": df_Par409_KeynesianDemandManagement,\n",
    "    \"Par404_EconomicPlanning\": df_Par404_EconomicPlanning,\n",
    "    \"Par401403_FreeMarket_MarketRegulation\": df_Par401403_FreeMarket_MarketRegulation,\n",
    "    \"Par701702_LabourGroups\": df_Par701702_LabourGroups,\n",
    "    \"Par411_TechnologyAndInfrastructure\": df_Par411_TechnologyAndInfrastructure\n",
    "}\n",
    "\n",
    "workers = [\n",
    "    'A1BQ37ZGUM16XI', \n",
    "    'A1NBQ61Y6KO3O9', \n",
    "    'A1X47COW2Y9SEL', \n",
    "    'A335R4YE2E34H6', \n",
    "    'A3GS2NTQ4XU059', \n",
    "    'APXGSUB250NVH'\n",
    "]"
   ]
  },
  {
   "cell_type": "markdown",
   "id": "7c663a47",
   "metadata": {},
   "source": [
    "Save a list of unique speech Id's "
   ]
  },
  {
   "cell_type": "code",
   "execution_count": null,
   "id": "8add57de",
   "metadata": {},
   "outputs": [
    {
     "data": {
      "application/vnd.microsoft.datawrangler.viewer.v0+json": {
       "columns": [
        {
         "name": "index",
         "rawType": "int64",
         "type": "integer"
        },
        {
         "name": "speech_id",
         "rawType": "object",
         "type": "string"
        }
       ],
       "ref": "3cd64071-cdc2-4c78-96e4-8f0f82ed85a1",
       "rows": [
        [
         "0",
         "31ANT7FQOVKX4DA0R4UV4SEMMZW5HK"
        ],
        [
         "3",
         "31MBOZ6PBB9KPU25XZW1AQD3VXRLCF"
        ],
        [
         "6",
         "35JDMRECDRRJ008IIZ5GNM8YKFUEGH"
        ],
        [
         "9",
         "36MUZ9VAFTKGOGYRG948H1517NEED7"
        ],
        [
         "12",
         "37VE3DA4ZHZZTTR9SEL87EEEWIUHBJ"
        ],
        [
         "15",
         "39N6W9XWS05H65P9I0HAUP0E2RZGYY"
        ],
        [
         "18",
         "3C8QQOM6KCJB2XO5P9SNLTBY82BLIH"
        ],
        [
         "21",
         "3D1TUISJX5IELNBZYNKOCG7HLT4IU8"
        ],
        [
         "24",
         "3E9VAUV7CJWGWEC6W0P0Y3PB4WMAYG"
        ],
        [
         "27",
         "3G9UA71JWIC8INJ93XCDEP8XQXVJ7I"
        ],
        [
         "30",
         "3J9UN9O9KQAU0CJPIYR4ZAYAIJPJ0I"
        ],
        [
         "33",
         "3K3G488TSPQAH693AUHPD66NDMS5QG"
        ],
        [
         "36",
         "3N2YPY1GJTG2IXYD7U42NNB87UIEV6"
        ],
        [
         "39",
         "3P4C70TRNEZX66IAZLSK0HYITPJLGP"
        ],
        [
         "42",
         "3QXFBUZ407Y0PW548ZKLR4U163NUGD"
        ],
        [
         "45",
         "3RKHNXPHHJE5RI1NYQ50PWMUDXTKUL"
        ],
        [
         "48",
         "3SV8KD29MRAMDHVX4D486O19FF8KZA"
        ],
        [
         "51",
         "3UUIU9GZDSNN9M1VRYBKIBHAXTR5TU"
        ],
        [
         "54",
         "3UV0D2KX291VUYFUI9NLWFWV6B0F4D"
        ],
        [
         "57",
         "3X7837UUB0GPEN54KN7L8B81VMBJ6J"
        ],
        [
         "60",
         "31JUPBOOSAMIDRCSGNGW84HK566L89"
        ],
        [
         "63",
         "31KPKEKW5XVOITLDU6EN1MFXA1SB0B"
        ],
        [
         "66",
         "32204AGABYUVKAZK80DM8P5BCVMHG0"
        ],
        [
         "69",
         "344M16OZL5XPASP453IBD6HVLRGENP"
        ],
        [
         "72",
         "35O6H0UNMFYTVJ5QF4XGG5U1ZR05JP"
        ],
        [
         "75",
         "36GJS3V79I8RBGUAW0G7K2LQP0EJGL"
        ],
        [
         "78",
         "38Z7YZ2SCQKMTU4IHE0J2FASI8YIQ3"
        ],
        [
         "81",
         "39WSF6KUWP37SDPG6IIOSVH0B1LEO4"
        ],
        [
         "84",
         "3ATYLI1PSGKF3TB8KJTFPBUSG9HJOU"
        ],
        [
         "87",
         "3AXFSPQOZDGLXGYFLGAP2HLEOLEJFM"
        ],
        [
         "90",
         "3B9XR6P1X1DVKZMZGEOTJRUT9NMJB4"
        ],
        [
         "93",
         "3E6L1VR4YJ499LJ81XG0TDG9226F6Y"
        ],
        [
         "96",
         "3ECKRY5B2DEV7M594AJWT8MWNBJIZX"
        ],
        [
         "99",
         "3H781YYV7G0N55UO2Z4NM5NNA92ETQ"
        ],
        [
         "102",
         "3IVEC1GSMCHU7147EHV4DFHKNBVJ1L"
        ],
        [
         "105",
         "3IYI9285XFIEU4E5UEKOUB0BR8MJCB"
        ],
        [
         "108",
         "3M93N4X8I75U1L31R0AO9G4TDYKJSR"
        ],
        [
         "111",
         "3MNJFORX9YMDQHJUWE6V172967VF5I"
        ],
        [
         "114",
         "3P520RYKD4O29ZGKR31UN73CG7Y5UL"
        ],
        [
         "117",
         "3PKJ68EHEAE5BCPLG6YP52XR40RJHK"
        ],
        [
         "120",
         "3Q9SPIIRX64C79H6HZ7CD64VTOMAWH"
        ],
        [
         "123",
         "3QHITW7OZBR7NCLK5Q86LHM95N5AQD"
        ],
        [
         "126",
         "3QMELQS6ZST6CBOHSSGUA2US5QH6RK"
        ],
        [
         "129",
         "3RIHDBQ1O1GVCKV6J3BHLUP88HYHM8"
        ],
        [
         "132",
         "3T2HW4QDVIPPOS1W82TB5HM8VQMC9V"
        ],
        [
         "135",
         "3TKXBROM6GS57705MOGA5EY64D6JID"
        ],
        [
         "138",
         "3UZUVSO3QUDJSA44T23B0RSVG16EMP"
        ],
        [
         "141",
         "3V8JSVE8ZL8JMRTIC5RMUMF2PBKEYF"
        ],
        [
         "144",
         "3WUVMVA7PYLG14MBSMRJCAYDAQQAZ7"
        ],
        [
         "147",
         "3YLTXLH3E2O1XNSJBJ392YJ3DM9HP4"
        ]
       ],
       "shape": {
        "columns": 1,
        "rows": 220
       }
      },
      "text/plain": [
       "0      31ANT7FQOVKX4DA0R4UV4SEMMZW5HK\n",
       "3      31MBOZ6PBB9KPU25XZW1AQD3VXRLCF\n",
       "6      35JDMRECDRRJ008IIZ5GNM8YKFUEGH\n",
       "9      36MUZ9VAFTKGOGYRG948H1517NEED7\n",
       "12     37VE3DA4ZHZZTTR9SEL87EEEWIUHBJ\n",
       "                    ...              \n",
       "645    3SBNLSTU7HNEZBPNCWIL2B6JV6BDZQ\n",
       "648    3UQ1LLR27XQWWF57DL0A4VNFVU6LAD\n",
       "651    3UXQ63NLBX41FPAZJZ06Z67LDCRLB8\n",
       "654    3WRKFXQBPYPV2WV48OHDF1DUHHFIY6\n",
       "657    3ZURAPD29V5E2ZIBVR4JYHPSURQF10\n",
       "Name: speech_id, Length: 220, dtype: object"
      ]
     },
     "execution_count": 177,
     "metadata": {},
     "output_type": "execute_result"
    }
   ],
   "source": [
    "speeches = df_clean['speech_id'].drop_duplicates()\n",
    "speeches"
   ]
  },
  {
   "cell_type": "code",
   "execution_count": 245,
   "id": "e2e39fd9",
   "metadata": {},
   "outputs": [
    {
     "data": {
      "text/plain": [
       "{'Par303_Governmental_and_Administrative_Efficiency':                              HITId  0  1  2\n",
       " 0   31ANT7FQOVKX4DA0R4UV4SEMMZW5HK  2  3  0\n",
       " 1   31MBOZ6PBB9KPU25XZW1AQD3VXRLCF  5  0  0\n",
       " 2   35JDMRECDRRJ008IIZ5GNM8YKFUEGH  5  0  0\n",
       " 3   36MUZ9VAFTKGOGYRG948H1517NEED7  5  0  0\n",
       " 4   37VE3DA4ZHZZTTR9SEL87EEEWIUHBJ  2  3  0\n",
       " 5   39N6W9XWS05H65P9I0HAUP0E2RZGYY  5  0  0\n",
       " 6   3C8QQOM6KCJB2XO5P9SNLTBY82BLIH  2  3  0\n",
       " 7   3D1TUISJX5IELNBZYNKOCG7HLT4IU8  5  0  0\n",
       " 8   3E9VAUV7CJWGWEC6W0P0Y3PB4WMAYG  5  0  0\n",
       " 9   3G9UA71JWIC8INJ93XCDEP8XQXVJ7I  5  0  0\n",
       " 10  3J9UN9O9KQAU0CJPIYR4ZAYAIJPJ0I  2  3  0\n",
       " 11  3K3G488TSPQAH693AUHPD66NDMS5QG  2  3  0\n",
       " 12  3N2YPY1GJTG2IXYD7U42NNB87UIEV6  2  3  0\n",
       " 13  3P4C70TRNEZX66IAZLSK0HYITPJLGP  5  0  0\n",
       " 14  3QXFBUZ407Y0PW548ZKLR4U163NUGD  5  0  0\n",
       " 15  3RKHNXPHHJE5RI1NYQ50PWMUDXTKUL  2  3  0\n",
       " 16  3SV8KD29MRAMDHVX4D486O19FF8KZA  5  0  0\n",
       " 17  3UUIU9GZDSNN9M1VRYBKIBHAXTR5TU  2  3  0\n",
       " 18  3UV0D2KX291VUYFUI9NLWFWV6B0F4D  2  3  0\n",
       " 19  3X7837UUB0GPEN54KN7L8B81VMBJ6J  2  3  0,\n",
       " 'Par405_Corporatism':                              HITId  0  1  2\n",
       " 0   309D674SIM38CLGT6M77WNHYJQPCB5  6  0  0\n",
       " 1   363A7XIFWR4ZSKH1RP2GR4LHMFKAV7  6  0  0\n",
       " 2   3AA88CN99CLM8RLS8R2PSHS79L4KYJ  3  3  0\n",
       " 3   3D1TUISJX5IELNBZYNKOCG7HLGFUI5  3  3  0\n",
       " 4   3E9ZFLPWPLA62R5U3SVBWN6LFBLIX0  3  3  0\n",
       " 5   3ICOHX7EOZTMPWXX4XGD2ULIDBTE0S  6  0  0\n",
       " 6   3J6BHNX0VWASWSHE1PTEB1U0510KNT  3  3  0\n",
       " 7   3LEG2HW4V25LRK07EV4X30ZXMX4F2H  3  3  0\n",
       " 8   3O2Y2UIUDDCG804X31A13WLR3AEKFM  3  3  0\n",
       " 9   3O4VWC1GFJOQH4IM1L9N18WHLV9J3D  6  0  0\n",
       " 10  3OCZWXS70BPZQ9TQIP9TWK7T3G55LR  6  0  0\n",
       " 11  3P7RGTLO71VLC9NPSLO9PVA06HDAKL  3  3  0\n",
       " 12  3SX4X51T9NR42084QDG2WCR9QMNAO5  3  3  0\n",
       " 13  3UEBBGULQ26UBW99XFE39JUP5ONUFE  6  0  0\n",
       " 14  3UOMW19E70O6N5ZK5CGUT1H69U3C54  6  0  0\n",
       " 15  3UV0D2KX291VUYFUI9NLWFWV6OOF4R  3  3  0\n",
       " 16  3VQTAXTYOQ34YFXTSDS7QT34QQWBUE  6  0  0\n",
       " 17  3VW0145YMLUR3QQW73E2X75NL92JMF  6  0  0\n",
       " 18  3W1K7D6QTYZLKER3Y0RF7LIJS8BBZ3  6  0  0\n",
       " 19  3ZXV7Q5FKY6YP2S9BOT3FD8JYOHCFN  3  3  0,\n",
       " 'Par402_Incentives':                              HITId  0  1  2\n",
       " 0   30P8I9JKP532ME5KWTBZJT5VUE75VA  5  0  0\n",
       " 1   30QQTY5GN72HW3U3FWGRLRH87DT7U2  2  3  0\n",
       " 2   31N9JPQXJC01U2G6V4QHY9E8D78HN8  5  0  0\n",
       " 3   34HEO7RUHTC7ZD0KI5X6Q7WE197ARE  2  3  0\n",
       " 4   366FYU4PU37O2M418QQVLE0RR9ZKE4  2  3  0\n",
       " 5   38DCH97KI4KIO5OOZWLJEGPSVAZJQ2  5  0  0\n",
       " 6   38VTL6WC5XVJQ80P14YJQS9PCV95YJ  2  3  0\n",
       " 7   391JB9X40LQMEAWEPOEEYM500BQKMT  2  3  0\n",
       " 8   3BAWBGQGZ8HH9IJ3KMQWHDJRLK27VR  5  0  0\n",
       " 9   3CIS7GGG7S125I9D24UXR19PTN8UEW  5  0  0\n",
       " 10  3DFYDSXB3JIAGYV5G55OOHMHYV4UJH  5  0  0\n",
       " 11  3DFYDSXB3JIAGYV5G55OOHMHYV5JU7  5  0  0\n",
       " 12  3EKZL9T8ZV4I3YJF6EH3IYKWE3UHCQ  2  3  0\n",
       " 13  3FVBZG9CM6WY96OZUYOJNXIV5EXH0X  5  0  0\n",
       " 14  3HRWUH63RHKPE9WBU2P89CBI8B55NT  5  0  0\n",
       " 15  3MZ3TAMYU85M5VJIUTPJ75KXEU0IR4  2  3  0\n",
       " 16  3QGHA0EA16IHQJMYND788HO1B67BWD  2  3  0\n",
       " 17  3R868ACW5FUHBVZEEMJT8W9G8L3GZP  5  0  0\n",
       " 18  3TTPFEFXDG2TNHAEWN40WYSMIHJH6Y  2  3  0\n",
       " 19  3WRAAIUSC6HRW9MWR43YFPI22QSAXA  2  3  0,\n",
       " 'Par410416_EconomicGrowthAntiGrowth':                              HITId  0  1  2\n",
       " 0   302OLP89EMP3TBB1087B1CXS184CAA  3  3  0\n",
       " 1   3126F2F5GVLPDD1HLIV3HVMQL6HEPL  3  0  3\n",
       " 2   31YWE12TFNU9D7OYK1RE5YGC1VA7XU  6  0  0\n",
       " 3   3421H3BMAXZCW672IUAXSLZ3LNJJ9U  3  3  0\n",
       " 4   34ZTTGSNKK6MXZTYBWIY239DIIVHQV  3  0  3\n",
       " 5   3538U0YQ22CAC2WQIVI2MA4PSOSF36  3  3  0\n",
       " 6   35O6H0UNMFYTVJ5QF4XGG5U1ZR0J53  3  0  3\n",
       " 7   36AZSFEY0RI4BUMTX32CMF5N4X5BV3  3  0  3\n",
       " 8   37J05LC5BK1OZWKJUAFZEHITC8YJDB  6  0  0\n",
       " 9   389A2A305B07SYDJ86AIC6LFSMSC0J  6  0  0\n",
       " 10  3B286OTIT1ZQ1PH7A0OXOGANR51JA9  3  0  3\n",
       " 11  3D06DR523S1G2XNSDX1P4824VM8AMQ  6  0  0\n",
       " 12  3DQYSJDTZ8TUMM38795KB88TN5QEX9  6  0  0\n",
       " 13  3EGKVCRQGJALFOHY2EPWTE9HME7BYC  3  3  0\n",
       " 14  3EPG8DX9M78PHU8OAH20D1GD8Q65PP  3  3  0\n",
       " 15  3IQ9O0AYXTHZLAWAYIUE7KLF2FXITH  3  0  3\n",
       " 16  3JTPR5MT0FUO63B8XPXSHKUEEG05KO  6  0  0\n",
       " 17  3KL228NDNI4MM00SELGJLHL34PEKGL  6  0  0\n",
       " 18  3KQC8JMJHZAUQYNWDL62PVG28QHH3S  3  3  0\n",
       " 19  3LG268AV4VOAPQHWYAZSMQM5MO5ERD  3  3  0\n",
       " 20  3MD8CKRQ0M5I063OCBAJJ6ZXRW1JR3  3  3  0\n",
       " 21  3NQUW096OTQIRWV2LFMA80CVPCOL9Y  3  0  3\n",
       " 22  3OND0WXMIJXX0W3T25NY8MKZZF7EHG  3  0  3\n",
       " 23  3QI9WAYOHDTIDQOU7HGZ0CZORS06S8  3  3  0\n",
       " 24  3R4QIDVOKCULGMCRC4FSNJNM7ZFEE0  3  0  3\n",
       " 25  3S1WOPCJG3BTR2YJQ5QJKZ0ECKZJE4  6  0  0\n",
       " 26  3TL87MO8D97RS6MFO1M2IWY6SAJLFQ  3  3  0\n",
       " 27  3VAOOVPI4MADSYWBACP0D93QP65LLV  6  0  0\n",
       " 28  3VGET1QS0NHUO7J8AWVS3F25ST47W1  6  0  0\n",
       " 29  3ZXNP4Z3AE3EDD796IOQU4LPUM0L7M  3  0  3,\n",
       " 'Par408_EconomicGoals':                              HITId  0  1  2\n",
       " 0   301KG0KXAZ355GRD9LSX6LBA2CHH2H  3  3  0\n",
       " 1   308KJXFUKEOKFSDCMU21QMXWPU4ATR  6  0  0\n",
       " 2   31ANT7FQOVKX4DA0R4UV4SEMMM8H5I  3  3  0\n",
       " 3   34F34TZU8JH1WMM3XLVIIYRPFH9J22  6  0  0\n",
       " 4   373L46LKQUOWD2QTMR1MIUDJWHVJKO  6  0  0\n",
       " 5   373L46LKQUOWD2QTMR1MIUDJWHVKJP  6  0  0\n",
       " 6   37G6BXQPMD3ADP2WLVASH0C0Q23EQC  6  0  0\n",
       " 7   3909MD9T3MZDM0CN7FZY518MJ0UEFI  3  3  0\n",
       " 8   3CMV9YRYQQJ7X88B7RDNXUQYLH0JLR  6  0  0\n",
       " 9   3CMV9YRYQQJ7X88B7RDNXUQYLH0LJT  3  3  0\n",
       " 10  3EHIMLB7GUHGRVT2P21YGCODOC9H8K  3  3  0\n",
       " 11  3EKTG13I0HLXYGEWAOQFDMIFPBVLMX  6  0  0\n",
       " 12  3GV1I4SEPW7V9DT4N8JYOQLTZBGL6N  3  3  0\n",
       " 13  3I6NF2WGJ3EJ4HFP7YCDJS2L7ZJ5GL  6  0  0\n",
       " 14  3IV1AEQ4EEVCI1OSD24JSP4S1H1J85  3  3  0\n",
       " 15  3L84EBDQ4UKROMWB4C1YJ9DWB6VKKO  6  0  0\n",
       " 16  3N5YJ55YY3LMKF8SPYGPHNR40CIANQ  3  3  0\n",
       " 17  3QREJ3J44QF28SETPCDZY9QB060KLR  3  3  0\n",
       " 18  3WKGUBL7TM4HUQPQ4KQJRS1F3KAL42  3  3  0\n",
       " 19  3X878VYTJ10SDLXDK7LSZRG5XQEF7B  6  0  0,\n",
       " 'Par409_KeynesianDemandManagement':                              HITId  0  1  2\n",
       " 0   30OITAWPCDLG50CCUU7CG8JO8IRH99  2  3  0\n",
       " 1   32W3UF2E0B3ORMVKR7XKO9BS9Y8C4Z  2  3  0\n",
       " 2   32XN26MTYM10V27PLJ3HFPB2M8UL0M  2  3  0\n",
       " 3   33P2GD6NSAA0MWV3YRY16HX4JC3HK3  5  0  0\n",
       " 4   351S7I5UHWEXL8BWJ4T2AMUNQZCJNF  2  3  0\n",
       " 5   35A1YQPVG1YX08LKXMCG44F1MCB5ID  5  0  0\n",
       " 6   37OPIVELVHLUAJMHM0LCC3U8E09HAO  5  0  0\n",
       " 7   37PGLWGSKGO0IR6N49GM6TYJJ26KID  5  0  0\n",
       " 8   37YYO3NWI08RMQ8ZKM3277NG1BPCCC  2  3  0\n",
       " 9   38RHULDVALXRDR04TNZPU4SE69FIW7  5  0  0\n",
       " 10  391FPZIE5Z4EPS0FS523C462L30UHC  5  0  0\n",
       " 11  3BPP3MA3UZ2ZMSMJTQ2W0ED6GWGELN  2  3  0\n",
       " 12  3CVBMEMMYYYCRHOJFX9S2CSIDS3H7X  5  0  0\n",
       " 13  3N3WJQXEMF87RCA3067VYD4HJ6EL26  5  0  0\n",
       " 14  3SNR5F7RAPBXWRED8N5J8YLEZSMEI9  2  3  0\n",
       " 15  3TFJJUELT47EO8GXNTEWVUEUPKCC23  2  3  0\n",
       " 16  3VGZ74AYU3Y432O4M8ZLXY8VZ3HCGM  2  3  0\n",
       " 17  3WA2XVDZF9ZH37JC6MWUBVV9QEFE6T  2  3  0\n",
       " 18  3X878VYTJ10SDLXDK7LSZRG5XDQF7X  5  0  0\n",
       " 19  3Y3CZJSZA7BAT7O3N96PIWGS98U5RH  5  0  0,\n",
       " 'Par404_EconomicPlanning':                              HITId  0  1  2\n",
       " 0   30EMX9PEW71PC59J9LA0AV46S08KS5  2  3  0\n",
       " 1   30IRMPJWEM1DBQ96UWAVKLZA6YPKRH  5  0  0\n",
       " 2   32ZCLEW0CM2XOTN9ZJ6UEBZIQEDJPB  2  3  0\n",
       " 3   378G7J1SK8GFXMYIX49Y9PUME3KEWG  5  0  0\n",
       " 4   37M4O367W60JWRBBI1A8WXMI3LV5MT  5  0  0\n",
       " 5   37SOB9Z0TFFWCU6M46L0HN99PKEL3H  5  0  0\n",
       " 6   388CL5C1S65B62DLJRA2LHAJ8C8HL6  2  3  0\n",
       " 7   3FCO4VKO0RV077XHPW1MH9V5LPZE7S  2  3  0\n",
       " 8   3I4E7AFQ37HVGLGGG0FEJL0FFHYJTG  5  0  0\n",
       " 9   3KVQ0UJWQK3F135PM3GV5VO91N95WK  2  3  0\n",
       " 10  3MA5N0ATUZTIJMQSTQK17K7RYD4KWK  2  3  0\n",
       " 11  3MJ28H2Y21Q7WUWNVHPLO1BNYLA5O8  2  3  0\n",
       " 12  3MNJFORX9YMDQHJUWE6V17296KJ5FM  5  0  0\n",
       " 13  3P6ENY9P8WE9G15FYODPT1IRR8EHIS  5  0  0\n",
       " 14  3QREJ3J44QF28SETPCDZY9QB060LKS  5  0  0\n",
       " 15  3SSN80MU9Z6X8MVI3VGN93LY7FAKXD  2  3  0\n",
       " 16  3TY2U1TECUS12IKB461AHFD6HSVJJP  5  0  0\n",
       " 17  3WJGKMRWW5R1RIEDKIYDRD5YMB1CDC  5  0  0\n",
       " 18  3YZ7A3YHSSBMUMOG2Y6U86LOVAD5S5  2  3  0\n",
       " 19  3ZUE82NE1XJWDZ2WUCDYDRC08AKF8Y  2  3  0,\n",
       " 'Par401403_FreeMarket_MarketRegulation':                              HITId  0  1  2\n",
       " 0   31JUPBOOSAMIDRCSGNGW84HK566L89  3  3  0\n",
       " 1   31KPKEKW5XVOITLDU6EN1MFXA1SB0B  6  0  0\n",
       " 2   32204AGABYUVKAZK80DM8P5BCVMHG0  3  0  3\n",
       " 3   344M16OZL5XPASP453IBD6HVLRGENP  3  0  3\n",
       " 4   35O6H0UNMFYTVJ5QF4XGG5U1ZR05JP  6  0  0\n",
       " 5   36GJS3V79I8RBGUAW0G7K2LQP0EJGL  3  0  3\n",
       " 6   38Z7YZ2SCQKMTU4IHE0J2FASI8YIQ3  6  0  0\n",
       " 7   39WSF6KUWP37SDPG6IIOSVH0B1LEO4  3  0  3\n",
       " 8   3ATYLI1PSGKF3TB8KJTFPBUSG9HJOU  3  3  0\n",
       " 9   3AXFSPQOZDGLXGYFLGAP2HLEOLEJFM  6  0  0\n",
       " 10  3B9XR6P1X1DVKZMZGEOTJRUT9NMJB4  3  3  0\n",
       " 11  3E6L1VR4YJ499LJ81XG0TDG9226F6Y  3  0  3\n",
       " 12  3ECKRY5B2DEV7M594AJWT8MWNBJIZX  3  0  3\n",
       " 13  3H781YYV7G0N55UO2Z4NM5NNA92ETQ  6  0  0\n",
       " 14  3IVEC1GSMCHU7147EHV4DFHKNBVJ1L  3  0  3\n",
       " 15  3IYI9285XFIEU4E5UEKOUB0BR8MJCB  6  0  0\n",
       " 16  3M93N4X8I75U1L31R0AO9G4TDYKJSR  6  0  0\n",
       " 17  3MNJFORX9YMDQHJUWE6V172967VF5I  6  0  0\n",
       " 18  3P520RYKD4O29ZGKR31UN73CG7Y5UL  3  3  0\n",
       " 19  3PKJ68EHEAE5BCPLG6YP52XR40RJHK  3  3  0\n",
       " 20  3Q9SPIIRX64C79H6HZ7CD64VTOMAWH  3  0  3\n",
       " 21  3QHITW7OZBR7NCLK5Q86LHM95N5AQD  3  3  0\n",
       " 22  3QMELQS6ZST6CBOHSSGUA2US5QH6RK  3  3  0\n",
       " 23  3RIHDBQ1O1GVCKV6J3BHLUP88HYHM8  3  3  0\n",
       " 24  3T2HW4QDVIPPOS1W82TB5HM8VQMC9V  3  3  0\n",
       " 25  3TKXBROM6GS57705MOGA5EY64D6JID  6  0  0\n",
       " 26  3UZUVSO3QUDJSA44T23B0RSVG16EMP  3  0  3\n",
       " 27  3V8JSVE8ZL8JMRTIC5RMUMF2PBKEYF  3  0  3\n",
       " 28  3WUVMVA7PYLG14MBSMRJCAYDAQQAZ7  6  0  0\n",
       " 29  3YLTXLH3E2O1XNSJBJ392YJ3DM9HP4  3  3  0,\n",
       " 'Par701702_LabourGroups':                              HITId  0  1  2\n",
       " 0   306996CF7J2OPI6VQPINFRY7FTYB1E  2  3  0\n",
       " 1   3087LXLJ79YEVAXTZ80JKC6IPZKF0X  2  3  0\n",
       " 2   324N5FAHTKT54XQN3GF5LIODR42KVA  2  0  3\n",
       " 3   33P2GD6NSAA0MWV3YRY16HX4JPRKHK  2  3  0\n",
       " 4   36FFXPMSUW6JCNGIWJQUDYED3HDHON  2  0  3\n",
       " 5   3CIS7GGG7S125I9D24UXR19PTN9EUH  2  3  0\n",
       " 6   3D4BBDG704E39QCGRTS1E4JMVYCC3E  2  3  0\n",
       " 7   3G4VVJO6QMYSZDTRH466FQZV5G1KPP  2  3  0\n",
       " 8   3H1C3QRA1O16JOSDGD9XXVNJMN2CE5  2  3  0\n",
       " 9   3K3IX1W4TT9MN0K55DTHLCWZ0RJAPM  2  0  3\n",
       " 10  3MIVREZQW4GDZPU6HHLVFVP5ACNKQG  2  0  3\n",
       " 11  3MVY4USGCT5Y6AJV9IPOXFPT0WJISS  2  0  3\n",
       " 12  3OLZC0DJ96XEY20Z3DUT8290Z0DIVX  2  0  3\n",
       " 13  3Q7TKIAPPGSUUM8JXVRCUWVLGX3LDF  2  3  0\n",
       " 14  3S1WOPCJG3BTR2YJQ5QJKZ0EC7BEJL  2  0  3\n",
       " 15  3SBNLSTU7HNEZBPNCWIL2B6JV6BDZQ  2  3  0\n",
       " 16  3UQ1LLR27XQWWF57DL0A4VNFVU6LAD  2  3  0\n",
       " 17  3UXQ63NLBX41FPAZJZ06Z67LDCRLB8  2  0  3\n",
       " 18  3WRKFXQBPYPV2WV48OHDF1DUHHFIY6  2  0  3\n",
       " 19  3ZURAPD29V5E2ZIBVR4JYHPSURQF10  2  0  3,\n",
       " 'Par411_TechnologyAndInfrastructure':                              HITId  0  1  2\n",
       " 0   31J7RYEC08802RS7H27HTUUCR00L1P  3  3  0\n",
       " 1   335HHSX8D0NS8QPT6ACE242EZ36HDQ  6  0  0\n",
       " 2   34D9ZRXCZECJ0S0XXUXBGH1ANBQAS2  3  3  0\n",
       " 3   3538U0YQ22CAC2WQIVI2MA4PSB4F3S  6  0  0\n",
       " 4   359AP8GAH32LA9D3T5VRRLV200YC7J  3  3  0\n",
       " 5   366FYU4PU37O2M418QQVLE0RRWBEKK  6  0  0\n",
       " 6   36JW4WBR1T2P6A3PXG74Q45ZBGMHF1  3  3  0\n",
       " 7   37VHPF5VZZLPANIM3ANX5LRXBK4C86  3  3  0\n",
       " 8   37VUR2VJ7X77ZNY14PEIQB4PXEYC1M  3  3  0\n",
       " 9   388CL5C1S65B62DLJRA2LHAJ8PWLHO  3  3  0\n",
       " 10  3BPP3MA3UZ2ZMSMJTQ2W0ED6G94LE8  6  0  0\n",
       " 11  3CMV9YRYQQJ7X88B7RDNXUQYL4CJLD  6  0  0\n",
       " 12  3CZH926SJZW3OKFYNY3FEXBVUN9E48  3  3  0\n",
       " 13  3DWNFENNFQDBZ01Q1ZE6BDONZV5J4Y  6  0  0\n",
       " 14  3LEG2HW4V25LRK07EV4X30ZXMASF2V  6  0  0\n",
       " 15  3M7OI89LWL6269ZYAVQZL7V65PEC6K  6  0  0\n",
       " 16  3OCZWXS70BPZQ9TQIP9TWK7T3G5L57  6  0  0\n",
       " 17  3OYHVNTV6GGAEDHQ24TRQQU5VB5KO8  3  3  0\n",
       " 18  3RKHNXPHHJE5RI1NYQ50PWMUDK4UKG  3  3  0\n",
       " 19  3W9XHF7WH7DQR5MYYLFQK00SUJMKTU  6  0  0}"
      ]
     },
     "execution_count": 245,
     "metadata": {},
     "output_type": "execute_result"
    }
   ],
   "source": [
    "label_range = [0, 1, 2]  # Labels used in your task\n",
    "\n",
    "param_dfs_label_counts = {}\n",
    "\n",
    "for param_name, df_param in param_dfs.items():\n",
    "    count_rows = []\n",
    "\n",
    "    for _, row in df_param.iterrows():\n",
    "        label_counts = Counter(row.drop('HITId').astype(int))  # Count 0,1,2 in row\n",
    "        row_counts = {label: label_counts.get(label, 0) for label in label_range}\n",
    "        row_counts['HITId'] = row['HITId']\n",
    "        count_rows.append(row_counts)\n",
    "\n",
    "    df_counts = pd.DataFrame(count_rows)\n",
    "    df_counts = df_counts[['HITId'] + label_range]  # Ensure correct column order\n",
    "    param_dfs_label_counts[param_name] = df_counts\n",
    "\n",
    "param_dfs_label_counts"
   ]
  },
  {
   "cell_type": "markdown",
   "id": "fa0cbc0c",
   "metadata": {},
   "source": [
    "## First Try: Krippendorff’s Alpha "
   ]
  },
  {
   "cell_type": "markdown",
   "id": "41234f61",
   "metadata": {},
   "source": [
    "Handles missing data, works for nominal/ordinal; More flexible than Fleiss; can handle ordinal distance metrics too. First we will use Krippendorff's Alpha to compare agreement scores per parameter. "
   ]
  },
  {
   "cell_type": "markdown",
   "id": "84b58d1c",
   "metadata": {},
   "source": [
    "First, we do this on a parameter basis"
   ]
  },
  {
   "cell_type": "code",
   "execution_count": 225,
   "id": "46d88968",
   "metadata": {},
   "outputs": [
    {
     "name": "stdout",
     "output_type": "stream",
     "text": [
      "------------------\n",
      "Parameter: Par303_Governmental_and_Administrative_Efficiency\n",
      "Krippendorff’s Alpha: 0.042\n",
      "------------------\n",
      "Parameter: Par405_Corporatism\n",
      "Krippendorff’s Alpha: 0.026\n",
      "------------------\n",
      "Parameter: Par402_Incentives\n",
      "Krippendorff’s Alpha: -0.002\n",
      "------------------\n",
      "Parameter: Par410416_EconomicGrowthAntiGrowth\n",
      "Krippendorff’s Alpha: 0.060\n",
      "------------------\n",
      "Parameter: Par408_EconomicGoals\n",
      "Krippendorff’s Alpha: 0.035\n",
      "------------------\n",
      "Parameter: Par409_KeynesianDemandManagement\n",
      "Krippendorff’s Alpha: 0.062\n",
      "------------------\n",
      "Parameter: Par404_EconomicPlanning\n",
      "Krippendorff’s Alpha: 0.012\n",
      "------------------\n",
      "Parameter: Par401403_FreeMarket_MarketRegulation\n",
      "Krippendorff’s Alpha: 0.076\n",
      "------------------\n",
      "Parameter: Par701702_LabourGroups\n",
      "Krippendorff’s Alpha: 0.040\n",
      "------------------\n",
      "Parameter: Par411_TechnologyAndInfrastructure\n",
      "Krippendorff’s Alpha: 0.086\n"
     ]
    }
   ],
   "source": [
    "\n",
    "for param_name, df_param in param_dfs.items():\n",
    "    try:\n",
    "        # cprep data\n",
    "        ratings = df_param.drop(columns='HITId')\n",
    "        \n",
    "        # Compute alpha\n",
    "        print(f\"------------------\\nParameter: {param_name}\")\n",
    "        alpha = krippendorff.alpha(reliability_data=ratings, level_of_measurement='nominal')\n",
    "        print(f\"Krippendorff’s Alpha: {alpha:.3f}\")\n",
    "    except Exception as e:\n",
    "        print(f\"Error computing alpha for {param_name}: {e}\")"
   ]
  },
  {
   "cell_type": "markdown",
   "id": "64054f01",
   "metadata": {},
   "source": [
    "Now, I do this by speech--> each speech will have a multiple parameter scores"
   ]
  },
  {
   "cell_type": "code",
   "execution_count": 241,
   "id": "53ca19b8",
   "metadata": {},
   "outputs": [],
   "source": [
    "for speech in speeches: \n",
    "    results = []\n",
    "    for param_name, df_param in param_dfs.items():\n",
    "\n",
    "        # list all speeches in this parameter as an array\n",
    "        speech_array = str(df_param['HITId'].unique())\n",
    "\n",
    "        if speech in speech_array:\n",
    "            ratings = df_param.drop(columns='HITId')\n",
    "            results"
   ]
  },
  {
   "cell_type": "markdown",
   "id": "c4a9f56e",
   "metadata": {},
   "source": [
    "**Interpretation: Negative krippendorff scores**<br>\n",
    "\n",
    "This means annotators disagreed more than expected. <br>\n",
    "\n",
    "This often means: Labels were applied inconsistently; The task was unclear, or the instructions were ambiguous; There might be confusion between label values (e.g., when to use 0 vs. 2); Or raters may be labeling based on different interpretations of the same text."
   ]
  },
  {
   "cell_type": "markdown",
   "id": "e4e450f7",
   "metadata": {},
   "source": [
    "## Second Try: Pairwise Cohen Kappa (not working right now)"
   ]
  },
  {
   "cell_type": "markdown",
   "id": "fcd64772",
   "metadata": {},
   "source": [
    "standard model but can only compare two annotators; therefore, we take a pair-wise approach and loop through annotator pairs"
   ]
  },
  {
   "cell_type": "code",
   "execution_count": null,
   "id": "45b7290f",
   "metadata": {},
   "outputs": [],
   "source": [
    "# annotators = ratings.columns #specify annotators \n",
    "# print('-------------------')\n",
    "\n",
    "# min_overlap = 10\n",
    "\n",
    "# for a1, a2 in itertools.combinations(annotators, 2):\n",
    "#     pair = ratings[[a1, a2]].dropna()\n",
    "#     if len(pair) >= min_overlap:\n",
    "#         score = cohen_kappa_score(pair[a1], pair[a2])\n",
    "#         print(f\"{a1} vs {a2}: Cohen's Kappa = {score:.3f} (n={len(pair)})\")\n",
    "#     else:\n",
    "#         print(f\"{a1} vs {a2}: not enough overlap (n={len(pair)})\")\n"
   ]
  },
  {
   "cell_type": "code",
   "execution_count": null,
   "id": "4e179de7",
   "metadata": {},
   "outputs": [],
   "source": [
    "\n",
    "\n",
    "# kappa_matrix = pd.DataFrame(index=annotators, columns=annotators, dtype=float)\n",
    "\n",
    "# for a1, a2 in itertools.combinations(annotators, 2):\n",
    "#     pair = ratings[[a1, a2]].dropna()\n",
    "#     if not pair.empty:\n",
    "#         k = cohen_kappa_score(pair[a1], pair[a2])\n",
    "#         kappa_matrix.loc[a1, a2] = k\n",
    "#         kappa_matrix.loc[a2, a1] = k\n",
    "#     else:\n",
    "#         kappa_matrix.loc[a1, a2] = None\n",
    "#         kappa_matrix.loc[a2, a1] = None\n",
    "\n",
    "# sns.heatmap(kappa_matrix, annot=True, cmap=\"coolwarm\", center=0)\n",
    "# plt.title(\"Pairwise Cohen's Kappa\")\n",
    "# plt.show()\n"
   ]
  },
  {
   "cell_type": "markdown",
   "id": "d0e847f2",
   "metadata": {},
   "source": [
    "Cohen's Kappa will likely not work - even with a pairwise approach. It may be more benificial to do create an aggregate table "
   ]
  },
  {
   "cell_type": "markdown",
   "id": "346375c0",
   "metadata": {},
   "source": [
    "## Third Try: Fleiss' Kappa"
   ]
  },
  {
   "cell_type": "code",
   "execution_count": 242,
   "id": "690c8113",
   "metadata": {},
   "outputs": [
    {
     "data": {
      "text/plain": [
       "{'Par303_Governmental_and_Administrative_Efficiency':                              HITId  0  1  2\n",
       " 0   31ANT7FQOVKX4DA0R4UV4SEMMZW5HK  2  3  0\n",
       " 1   31MBOZ6PBB9KPU25XZW1AQD3VXRLCF  5  0  0\n",
       " 2   35JDMRECDRRJ008IIZ5GNM8YKFUEGH  5  0  0\n",
       " 3   36MUZ9VAFTKGOGYRG948H1517NEED7  5  0  0\n",
       " 4   37VE3DA4ZHZZTTR9SEL87EEEWIUHBJ  2  3  0\n",
       " 5   39N6W9XWS05H65P9I0HAUP0E2RZGYY  5  0  0\n",
       " 6   3C8QQOM6KCJB2XO5P9SNLTBY82BLIH  2  3  0\n",
       " 7   3D1TUISJX5IELNBZYNKOCG7HLT4IU8  5  0  0\n",
       " 8   3E9VAUV7CJWGWEC6W0P0Y3PB4WMAYG  5  0  0\n",
       " 9   3G9UA71JWIC8INJ93XCDEP8XQXVJ7I  5  0  0\n",
       " 10  3J9UN9O9KQAU0CJPIYR4ZAYAIJPJ0I  2  3  0\n",
       " 11  3K3G488TSPQAH693AUHPD66NDMS5QG  2  3  0\n",
       " 12  3N2YPY1GJTG2IXYD7U42NNB87UIEV6  2  3  0\n",
       " 13  3P4C70TRNEZX66IAZLSK0HYITPJLGP  5  0  0\n",
       " 14  3QXFBUZ407Y0PW548ZKLR4U163NUGD  5  0  0\n",
       " 15  3RKHNXPHHJE5RI1NYQ50PWMUDXTKUL  2  3  0\n",
       " 16  3SV8KD29MRAMDHVX4D486O19FF8KZA  5  0  0\n",
       " 17  3UUIU9GZDSNN9M1VRYBKIBHAXTR5TU  2  3  0\n",
       " 18  3UV0D2KX291VUYFUI9NLWFWV6B0F4D  2  3  0\n",
       " 19  3X7837UUB0GPEN54KN7L8B81VMBJ6J  2  3  0,\n",
       " 'Par405_Corporatism':                              HITId  0  1  2\n",
       " 0   309D674SIM38CLGT6M77WNHYJQPCB5  6  0  0\n",
       " 1   363A7XIFWR4ZSKH1RP2GR4LHMFKAV7  6  0  0\n",
       " 2   3AA88CN99CLM8RLS8R2PSHS79L4KYJ  3  3  0\n",
       " 3   3D1TUISJX5IELNBZYNKOCG7HLGFUI5  3  3  0\n",
       " 4   3E9ZFLPWPLA62R5U3SVBWN6LFBLIX0  3  3  0\n",
       " 5   3ICOHX7EOZTMPWXX4XGD2ULIDBTE0S  6  0  0\n",
       " 6   3J6BHNX0VWASWSHE1PTEB1U0510KNT  3  3  0\n",
       " 7   3LEG2HW4V25LRK07EV4X30ZXMX4F2H  3  3  0\n",
       " 8   3O2Y2UIUDDCG804X31A13WLR3AEKFM  3  3  0\n",
       " 9   3O4VWC1GFJOQH4IM1L9N18WHLV9J3D  6  0  0\n",
       " 10  3OCZWXS70BPZQ9TQIP9TWK7T3G55LR  6  0  0\n",
       " 11  3P7RGTLO71VLC9NPSLO9PVA06HDAKL  3  3  0\n",
       " 12  3SX4X51T9NR42084QDG2WCR9QMNAO5  3  3  0\n",
       " 13  3UEBBGULQ26UBW99XFE39JUP5ONUFE  6  0  0\n",
       " 14  3UOMW19E70O6N5ZK5CGUT1H69U3C54  6  0  0\n",
       " 15  3UV0D2KX291VUYFUI9NLWFWV6OOF4R  3  3  0\n",
       " 16  3VQTAXTYOQ34YFXTSDS7QT34QQWBUE  6  0  0\n",
       " 17  3VW0145YMLUR3QQW73E2X75NL92JMF  6  0  0\n",
       " 18  3W1K7D6QTYZLKER3Y0RF7LIJS8BBZ3  6  0  0\n",
       " 19  3ZXV7Q5FKY6YP2S9BOT3FD8JYOHCFN  3  3  0,\n",
       " 'Par402_Incentives':                              HITId  0  1  2\n",
       " 0   30P8I9JKP532ME5KWTBZJT5VUE75VA  5  0  0\n",
       " 1   30QQTY5GN72HW3U3FWGRLRH87DT7U2  2  3  0\n",
       " 2   31N9JPQXJC01U2G6V4QHY9E8D78HN8  5  0  0\n",
       " 3   34HEO7RUHTC7ZD0KI5X6Q7WE197ARE  2  3  0\n",
       " 4   366FYU4PU37O2M418QQVLE0RR9ZKE4  2  3  0\n",
       " 5   38DCH97KI4KIO5OOZWLJEGPSVAZJQ2  5  0  0\n",
       " 6   38VTL6WC5XVJQ80P14YJQS9PCV95YJ  2  3  0\n",
       " 7   391JB9X40LQMEAWEPOEEYM500BQKMT  2  3  0\n",
       " 8   3BAWBGQGZ8HH9IJ3KMQWHDJRLK27VR  5  0  0\n",
       " 9   3CIS7GGG7S125I9D24UXR19PTN8UEW  5  0  0\n",
       " 10  3DFYDSXB3JIAGYV5G55OOHMHYV4UJH  5  0  0\n",
       " 11  3DFYDSXB3JIAGYV5G55OOHMHYV5JU7  5  0  0\n",
       " 12  3EKZL9T8ZV4I3YJF6EH3IYKWE3UHCQ  2  3  0\n",
       " 13  3FVBZG9CM6WY96OZUYOJNXIV5EXH0X  5  0  0\n",
       " 14  3HRWUH63RHKPE9WBU2P89CBI8B55NT  5  0  0\n",
       " 15  3MZ3TAMYU85M5VJIUTPJ75KXEU0IR4  2  3  0\n",
       " 16  3QGHA0EA16IHQJMYND788HO1B67BWD  2  3  0\n",
       " 17  3R868ACW5FUHBVZEEMJT8W9G8L3GZP  5  0  0\n",
       " 18  3TTPFEFXDG2TNHAEWN40WYSMIHJH6Y  2  3  0\n",
       " 19  3WRAAIUSC6HRW9MWR43YFPI22QSAXA  2  3  0,\n",
       " 'Par410416_EconomicGrowthAntiGrowth':                              HITId  0  1  2\n",
       " 0   302OLP89EMP3TBB1087B1CXS184CAA  3  3  0\n",
       " 1   3126F2F5GVLPDD1HLIV3HVMQL6HEPL  3  0  3\n",
       " 2   31YWE12TFNU9D7OYK1RE5YGC1VA7XU  6  0  0\n",
       " 3   3421H3BMAXZCW672IUAXSLZ3LNJJ9U  3  3  0\n",
       " 4   34ZTTGSNKK6MXZTYBWIY239DIIVHQV  3  0  3\n",
       " 5   3538U0YQ22CAC2WQIVI2MA4PSOSF36  3  3  0\n",
       " 6   35O6H0UNMFYTVJ5QF4XGG5U1ZR0J53  3  0  3\n",
       " 7   36AZSFEY0RI4BUMTX32CMF5N4X5BV3  3  0  3\n",
       " 8   37J05LC5BK1OZWKJUAFZEHITC8YJDB  6  0  0\n",
       " 9   389A2A305B07SYDJ86AIC6LFSMSC0J  6  0  0\n",
       " 10  3B286OTIT1ZQ1PH7A0OXOGANR51JA9  3  0  3\n",
       " 11  3D06DR523S1G2XNSDX1P4824VM8AMQ  6  0  0\n",
       " 12  3DQYSJDTZ8TUMM38795KB88TN5QEX9  6  0  0\n",
       " 13  3EGKVCRQGJALFOHY2EPWTE9HME7BYC  3  3  0\n",
       " 14  3EPG8DX9M78PHU8OAH20D1GD8Q65PP  3  3  0\n",
       " 15  3IQ9O0AYXTHZLAWAYIUE7KLF2FXITH  3  0  3\n",
       " 16  3JTPR5MT0FUO63B8XPXSHKUEEG05KO  6  0  0\n",
       " 17  3KL228NDNI4MM00SELGJLHL34PEKGL  6  0  0\n",
       " 18  3KQC8JMJHZAUQYNWDL62PVG28QHH3S  3  3  0\n",
       " 19  3LG268AV4VOAPQHWYAZSMQM5MO5ERD  3  3  0\n",
       " 20  3MD8CKRQ0M5I063OCBAJJ6ZXRW1JR3  3  3  0\n",
       " 21  3NQUW096OTQIRWV2LFMA80CVPCOL9Y  3  0  3\n",
       " 22  3OND0WXMIJXX0W3T25NY8MKZZF7EHG  3  0  3\n",
       " 23  3QI9WAYOHDTIDQOU7HGZ0CZORS06S8  3  3  0\n",
       " 24  3R4QIDVOKCULGMCRC4FSNJNM7ZFEE0  3  0  3\n",
       " 25  3S1WOPCJG3BTR2YJQ5QJKZ0ECKZJE4  6  0  0\n",
       " 26  3TL87MO8D97RS6MFO1M2IWY6SAJLFQ  3  3  0\n",
       " 27  3VAOOVPI4MADSYWBACP0D93QP65LLV  6  0  0\n",
       " 28  3VGET1QS0NHUO7J8AWVS3F25ST47W1  6  0  0\n",
       " 29  3ZXNP4Z3AE3EDD796IOQU4LPUM0L7M  3  0  3,\n",
       " 'Par408_EconomicGoals':                              HITId  0  1  2\n",
       " 0   301KG0KXAZ355GRD9LSX6LBA2CHH2H  3  3  0\n",
       " 1   308KJXFUKEOKFSDCMU21QMXWPU4ATR  6  0  0\n",
       " 2   31ANT7FQOVKX4DA0R4UV4SEMMM8H5I  3  3  0\n",
       " 3   34F34TZU8JH1WMM3XLVIIYRPFH9J22  6  0  0\n",
       " 4   373L46LKQUOWD2QTMR1MIUDJWHVJKO  6  0  0\n",
       " 5   373L46LKQUOWD2QTMR1MIUDJWHVKJP  6  0  0\n",
       " 6   37G6BXQPMD3ADP2WLVASH0C0Q23EQC  6  0  0\n",
       " 7   3909MD9T3MZDM0CN7FZY518MJ0UEFI  3  3  0\n",
       " 8   3CMV9YRYQQJ7X88B7RDNXUQYLH0JLR  6  0  0\n",
       " 9   3CMV9YRYQQJ7X88B7RDNXUQYLH0LJT  3  3  0\n",
       " 10  3EHIMLB7GUHGRVT2P21YGCODOC9H8K  3  3  0\n",
       " 11  3EKTG13I0HLXYGEWAOQFDMIFPBVLMX  6  0  0\n",
       " 12  3GV1I4SEPW7V9DT4N8JYOQLTZBGL6N  3  3  0\n",
       " 13  3I6NF2WGJ3EJ4HFP7YCDJS2L7ZJ5GL  6  0  0\n",
       " 14  3IV1AEQ4EEVCI1OSD24JSP4S1H1J85  3  3  0\n",
       " 15  3L84EBDQ4UKROMWB4C1YJ9DWB6VKKO  6  0  0\n",
       " 16  3N5YJ55YY3LMKF8SPYGPHNR40CIANQ  3  3  0\n",
       " 17  3QREJ3J44QF28SETPCDZY9QB060KLR  3  3  0\n",
       " 18  3WKGUBL7TM4HUQPQ4KQJRS1F3KAL42  3  3  0\n",
       " 19  3X878VYTJ10SDLXDK7LSZRG5XQEF7B  6  0  0,\n",
       " 'Par409_KeynesianDemandManagement':                              HITId  0  1  2\n",
       " 0   30OITAWPCDLG50CCUU7CG8JO8IRH99  2  3  0\n",
       " 1   32W3UF2E0B3ORMVKR7XKO9BS9Y8C4Z  2  3  0\n",
       " 2   32XN26MTYM10V27PLJ3HFPB2M8UL0M  2  3  0\n",
       " 3   33P2GD6NSAA0MWV3YRY16HX4JC3HK3  5  0  0\n",
       " 4   351S7I5UHWEXL8BWJ4T2AMUNQZCJNF  2  3  0\n",
       " 5   35A1YQPVG1YX08LKXMCG44F1MCB5ID  5  0  0\n",
       " 6   37OPIVELVHLUAJMHM0LCC3U8E09HAO  5  0  0\n",
       " 7   37PGLWGSKGO0IR6N49GM6TYJJ26KID  5  0  0\n",
       " 8   37YYO3NWI08RMQ8ZKM3277NG1BPCCC  2  3  0\n",
       " 9   38RHULDVALXRDR04TNZPU4SE69FIW7  5  0  0\n",
       " 10  391FPZIE5Z4EPS0FS523C462L30UHC  5  0  0\n",
       " 11  3BPP3MA3UZ2ZMSMJTQ2W0ED6GWGELN  2  3  0\n",
       " 12  3CVBMEMMYYYCRHOJFX9S2CSIDS3H7X  5  0  0\n",
       " 13  3N3WJQXEMF87RCA3067VYD4HJ6EL26  5  0  0\n",
       " 14  3SNR5F7RAPBXWRED8N5J8YLEZSMEI9  2  3  0\n",
       " 15  3TFJJUELT47EO8GXNTEWVUEUPKCC23  2  3  0\n",
       " 16  3VGZ74AYU3Y432O4M8ZLXY8VZ3HCGM  2  3  0\n",
       " 17  3WA2XVDZF9ZH37JC6MWUBVV9QEFE6T  2  3  0\n",
       " 18  3X878VYTJ10SDLXDK7LSZRG5XDQF7X  5  0  0\n",
       " 19  3Y3CZJSZA7BAT7O3N96PIWGS98U5RH  5  0  0,\n",
       " 'Par404_EconomicPlanning':                              HITId  0  1  2\n",
       " 0   30EMX9PEW71PC59J9LA0AV46S08KS5  2  3  0\n",
       " 1   30IRMPJWEM1DBQ96UWAVKLZA6YPKRH  5  0  0\n",
       " 2   32ZCLEW0CM2XOTN9ZJ6UEBZIQEDJPB  2  3  0\n",
       " 3   378G7J1SK8GFXMYIX49Y9PUME3KEWG  5  0  0\n",
       " 4   37M4O367W60JWRBBI1A8WXMI3LV5MT  5  0  0\n",
       " 5   37SOB9Z0TFFWCU6M46L0HN99PKEL3H  5  0  0\n",
       " 6   388CL5C1S65B62DLJRA2LHAJ8C8HL6  2  3  0\n",
       " 7   3FCO4VKO0RV077XHPW1MH9V5LPZE7S  2  3  0\n",
       " 8   3I4E7AFQ37HVGLGGG0FEJL0FFHYJTG  5  0  0\n",
       " 9   3KVQ0UJWQK3F135PM3GV5VO91N95WK  2  3  0\n",
       " 10  3MA5N0ATUZTIJMQSTQK17K7RYD4KWK  2  3  0\n",
       " 11  3MJ28H2Y21Q7WUWNVHPLO1BNYLA5O8  2  3  0\n",
       " 12  3MNJFORX9YMDQHJUWE6V17296KJ5FM  5  0  0\n",
       " 13  3P6ENY9P8WE9G15FYODPT1IRR8EHIS  5  0  0\n",
       " 14  3QREJ3J44QF28SETPCDZY9QB060LKS  5  0  0\n",
       " 15  3SSN80MU9Z6X8MVI3VGN93LY7FAKXD  2  3  0\n",
       " 16  3TY2U1TECUS12IKB461AHFD6HSVJJP  5  0  0\n",
       " 17  3WJGKMRWW5R1RIEDKIYDRD5YMB1CDC  5  0  0\n",
       " 18  3YZ7A3YHSSBMUMOG2Y6U86LOVAD5S5  2  3  0\n",
       " 19  3ZUE82NE1XJWDZ2WUCDYDRC08AKF8Y  2  3  0,\n",
       " 'Par401403_FreeMarket_MarketRegulation':                              HITId  0  1  2\n",
       " 0   31JUPBOOSAMIDRCSGNGW84HK566L89  3  3  0\n",
       " 1   31KPKEKW5XVOITLDU6EN1MFXA1SB0B  6  0  0\n",
       " 2   32204AGABYUVKAZK80DM8P5BCVMHG0  3  0  3\n",
       " 3   344M16OZL5XPASP453IBD6HVLRGENP  3  0  3\n",
       " 4   35O6H0UNMFYTVJ5QF4XGG5U1ZR05JP  6  0  0\n",
       " 5   36GJS3V79I8RBGUAW0G7K2LQP0EJGL  3  0  3\n",
       " 6   38Z7YZ2SCQKMTU4IHE0J2FASI8YIQ3  6  0  0\n",
       " 7   39WSF6KUWP37SDPG6IIOSVH0B1LEO4  3  0  3\n",
       " 8   3ATYLI1PSGKF3TB8KJTFPBUSG9HJOU  3  3  0\n",
       " 9   3AXFSPQOZDGLXGYFLGAP2HLEOLEJFM  6  0  0\n",
       " 10  3B9XR6P1X1DVKZMZGEOTJRUT9NMJB4  3  3  0\n",
       " 11  3E6L1VR4YJ499LJ81XG0TDG9226F6Y  3  0  3\n",
       " 12  3ECKRY5B2DEV7M594AJWT8MWNBJIZX  3  0  3\n",
       " 13  3H781YYV7G0N55UO2Z4NM5NNA92ETQ  6  0  0\n",
       " 14  3IVEC1GSMCHU7147EHV4DFHKNBVJ1L  3  0  3\n",
       " 15  3IYI9285XFIEU4E5UEKOUB0BR8MJCB  6  0  0\n",
       " 16  3M93N4X8I75U1L31R0AO9G4TDYKJSR  6  0  0\n",
       " 17  3MNJFORX9YMDQHJUWE6V172967VF5I  6  0  0\n",
       " 18  3P520RYKD4O29ZGKR31UN73CG7Y5UL  3  3  0\n",
       " 19  3PKJ68EHEAE5BCPLG6YP52XR40RJHK  3  3  0\n",
       " 20  3Q9SPIIRX64C79H6HZ7CD64VTOMAWH  3  0  3\n",
       " 21  3QHITW7OZBR7NCLK5Q86LHM95N5AQD  3  3  0\n",
       " 22  3QMELQS6ZST6CBOHSSGUA2US5QH6RK  3  3  0\n",
       " 23  3RIHDBQ1O1GVCKV6J3BHLUP88HYHM8  3  3  0\n",
       " 24  3T2HW4QDVIPPOS1W82TB5HM8VQMC9V  3  3  0\n",
       " 25  3TKXBROM6GS57705MOGA5EY64D6JID  6  0  0\n",
       " 26  3UZUVSO3QUDJSA44T23B0RSVG16EMP  3  0  3\n",
       " 27  3V8JSVE8ZL8JMRTIC5RMUMF2PBKEYF  3  0  3\n",
       " 28  3WUVMVA7PYLG14MBSMRJCAYDAQQAZ7  6  0  0\n",
       " 29  3YLTXLH3E2O1XNSJBJ392YJ3DM9HP4  3  3  0,\n",
       " 'Par701702_LabourGroups':                              HITId  0  1  2\n",
       " 0   306996CF7J2OPI6VQPINFRY7FTYB1E  2  3  0\n",
       " 1   3087LXLJ79YEVAXTZ80JKC6IPZKF0X  2  3  0\n",
       " 2   324N5FAHTKT54XQN3GF5LIODR42KVA  2  0  3\n",
       " 3   33P2GD6NSAA0MWV3YRY16HX4JPRKHK  2  3  0\n",
       " 4   36FFXPMSUW6JCNGIWJQUDYED3HDHON  2  0  3\n",
       " 5   3CIS7GGG7S125I9D24UXR19PTN9EUH  2  3  0\n",
       " 6   3D4BBDG704E39QCGRTS1E4JMVYCC3E  2  3  0\n",
       " 7   3G4VVJO6QMYSZDTRH466FQZV5G1KPP  2  3  0\n",
       " 8   3H1C3QRA1O16JOSDGD9XXVNJMN2CE5  2  3  0\n",
       " 9   3K3IX1W4TT9MN0K55DTHLCWZ0RJAPM  2  0  3\n",
       " 10  3MIVREZQW4GDZPU6HHLVFVP5ACNKQG  2  0  3\n",
       " 11  3MVY4USGCT5Y6AJV9IPOXFPT0WJISS  2  0  3\n",
       " 12  3OLZC0DJ96XEY20Z3DUT8290Z0DIVX  2  0  3\n",
       " 13  3Q7TKIAPPGSUUM8JXVRCUWVLGX3LDF  2  3  0\n",
       " 14  3S1WOPCJG3BTR2YJQ5QJKZ0EC7BEJL  2  0  3\n",
       " 15  3SBNLSTU7HNEZBPNCWIL2B6JV6BDZQ  2  3  0\n",
       " 16  3UQ1LLR27XQWWF57DL0A4VNFVU6LAD  2  3  0\n",
       " 17  3UXQ63NLBX41FPAZJZ06Z67LDCRLB8  2  0  3\n",
       " 18  3WRKFXQBPYPV2WV48OHDF1DUHHFIY6  2  0  3\n",
       " 19  3ZURAPD29V5E2ZIBVR4JYHPSURQF10  2  0  3,\n",
       " 'Par411_TechnologyAndInfrastructure':                              HITId  0  1  2\n",
       " 0   31J7RYEC08802RS7H27HTUUCR00L1P  3  3  0\n",
       " 1   335HHSX8D0NS8QPT6ACE242EZ36HDQ  6  0  0\n",
       " 2   34D9ZRXCZECJ0S0XXUXBGH1ANBQAS2  3  3  0\n",
       " 3   3538U0YQ22CAC2WQIVI2MA4PSB4F3S  6  0  0\n",
       " 4   359AP8GAH32LA9D3T5VRRLV200YC7J  3  3  0\n",
       " 5   366FYU4PU37O2M418QQVLE0RRWBEKK  6  0  0\n",
       " 6   36JW4WBR1T2P6A3PXG74Q45ZBGMHF1  3  3  0\n",
       " 7   37VHPF5VZZLPANIM3ANX5LRXBK4C86  3  3  0\n",
       " 8   37VUR2VJ7X77ZNY14PEIQB4PXEYC1M  3  3  0\n",
       " 9   388CL5C1S65B62DLJRA2LHAJ8PWLHO  3  3  0\n",
       " 10  3BPP3MA3UZ2ZMSMJTQ2W0ED6G94LE8  6  0  0\n",
       " 11  3CMV9YRYQQJ7X88B7RDNXUQYL4CJLD  6  0  0\n",
       " 12  3CZH926SJZW3OKFYNY3FEXBVUN9E48  3  3  0\n",
       " 13  3DWNFENNFQDBZ01Q1ZE6BDONZV5J4Y  6  0  0\n",
       " 14  3LEG2HW4V25LRK07EV4X30ZXMASF2V  6  0  0\n",
       " 15  3M7OI89LWL6269ZYAVQZL7V65PEC6K  6  0  0\n",
       " 16  3OCZWXS70BPZQ9TQIP9TWK7T3G5L57  6  0  0\n",
       " 17  3OYHVNTV6GGAEDHQ24TRQQU5VB5KO8  3  3  0\n",
       " 18  3RKHNXPHHJE5RI1NYQ50PWMUDK4UKG  3  3  0\n",
       " 19  3W9XHF7WH7DQR5MYYLFQK00SUJMKTU  6  0  0}"
      ]
     },
     "execution_count": 242,
     "metadata": {},
     "output_type": "execute_result"
    }
   ],
   "source": [
    "param_dfs_label_counts\n"
   ]
  },
  {
   "cell_type": "code",
   "execution_count": 244,
   "id": "924bf720",
   "metadata": {},
   "outputs": [
    {
     "name": "stdout",
     "output_type": "stream",
     "text": [
      "Par303_Governmental_and_Administrative_Efficiency: Fleiss' Kappa = 0.286\n",
      "Par405_Corporatism: Fleiss' Kappa = 0.200\n",
      "Par402_Incentives: Fleiss' Kappa = 0.286\n",
      "Par410416_EconomicGrowthAntiGrowth: Fleiss' Kappa = 0.200\n",
      "Par408_EconomicGoals: Fleiss' Kappa = 0.200\n",
      "Par409_KeynesianDemandManagement: Fleiss' Kappa = 0.286\n",
      "Par404_EconomicPlanning: Fleiss' Kappa = 0.286\n",
      "Par401403_FreeMarket_MarketRegulation: Fleiss' Kappa = 0.200\n",
      "Par701702_LabourGroups: Fleiss' Kappa = 0.091\n",
      "Par411_TechnologyAndInfrastructure: Fleiss' Kappa = 0.200\n"
     ]
    }
   ],
   "source": [
    "for param_name, df_counts in param_dfs_label_counts.items():\n",
    "    try:\n",
    "        count_matrix = df_counts[[0, 1, 2]].to_numpy()\n",
    "\n",
    "        # Optional: filter out rows with < 2 total ratings\n",
    "        count_matrix = count_matrix[count_matrix.sum(axis=1) >= 2]\n",
    "\n",
    "        kappa = fleiss_kappa(count_matrix)\n",
    "        print(f\"{param_name}: Fleiss' Kappa = {kappa:.3f}\")\n",
    "    except Exception as e:\n",
    "        print(f\"{param_name}: Error computing Fleiss' Kappa: {e}\")"
   ]
  },
  {
   "cell_type": "markdown",
   "id": "3a87b7d7",
   "metadata": {},
   "source": [
    "## Visualizing Disagreement"
   ]
  },
  {
   "cell_type": "code",
   "execution_count": null,
   "id": "204898b4",
   "metadata": {},
   "outputs": [],
   "source": []
  },
  {
   "cell_type": "markdown",
   "id": "c53b1505",
   "metadata": {},
   "source": [
    "## Annotation Coverage - Other Statistics"
   ]
  },
  {
   "cell_type": "markdown",
   "id": "975ea802",
   "metadata": {},
   "source": [
    "**How many samples each annotator labeled**"
   ]
  },
  {
   "cell_type": "code",
   "execution_count": 147,
   "id": "30b67cc7",
   "metadata": {},
   "outputs": [
    {
     "name": "stdout",
     "output_type": "stream",
     "text": [
      "WorkerId\n",
      "A1NBQ61Y6KO3O9    19\n",
      "A1X47COW2Y9SEL     9\n",
      "A335R4YE2E34H6    15\n",
      "A3GS2NTQ4XU059    10\n",
      "APXGSUB250NVH      7\n",
      "dtype: int64\n",
      "WorkerId\n",
      "A1BQ37ZGUM16XI     2\n",
      "A1NBQ61Y6KO3O9    17\n",
      "A1X47COW2Y9SEL    12\n",
      "A335R4YE2E34H6    12\n",
      "A3GS2NTQ4XU059     8\n",
      "APXGSUB250NVH      9\n",
      "dtype: int64\n",
      "WorkerId\n",
      "A1NBQ61Y6KO3O9    15\n",
      "A1X47COW2Y9SEL    14\n",
      "A335R4YE2E34H6    16\n",
      "A3GS2NTQ4XU059     9\n",
      "APXGSUB250NVH      6\n",
      "dtype: int64\n",
      "WorkerId\n",
      "A1BQ37ZGUM16XI     2\n",
      "A1NBQ61Y6KO3O9    23\n",
      "A1X47COW2Y9SEL    18\n",
      "A335R4YE2E34H6    18\n",
      "A3GS2NTQ4XU059    15\n",
      "APXGSUB250NVH     14\n",
      "dtype: int64\n",
      "WorkerId\n",
      "A1BQ37ZGUM16XI     1\n",
      "A1NBQ61Y6KO3O9    19\n",
      "A1X47COW2Y9SEL     8\n",
      "A335R4YE2E34H6     9\n",
      "A3GS2NTQ4XU059    13\n",
      "APXGSUB250NVH     10\n",
      "dtype: int64\n",
      "WorkerId\n",
      "A1NBQ61Y6KO3O9    18\n",
      "A1X47COW2Y9SEL    14\n",
      "A335R4YE2E34H6    17\n",
      "A3GS2NTQ4XU059     4\n",
      "APXGSUB250NVH      7\n",
      "dtype: int64\n",
      "WorkerId\n",
      "A1NBQ61Y6KO3O9    17\n",
      "A1X47COW2Y9SEL     9\n",
      "A335R4YE2E34H6    13\n",
      "A3GS2NTQ4XU059    11\n",
      "APXGSUB250NVH     10\n",
      "dtype: int64\n",
      "WorkerId\n",
      "A1BQ37ZGUM16XI     1\n",
      "A1NBQ61Y6KO3O9    24\n",
      "A1X47COW2Y9SEL    19\n",
      "A335R4YE2E34H6    25\n",
      "A3GS2NTQ4XU059    15\n",
      "APXGSUB250NVH      6\n",
      "dtype: int64\n",
      "WorkerId\n",
      "A1NBQ61Y6KO3O9    18\n",
      "A1X47COW2Y9SEL    12\n",
      "A335R4YE2E34H6    13\n",
      "A3GS2NTQ4XU059    10\n",
      "APXGSUB250NVH      7\n",
      "dtype: int64\n",
      "WorkerId\n",
      "A1BQ37ZGUM16XI     1\n",
      "A1NBQ61Y6KO3O9    16\n",
      "A1X47COW2Y9SEL    13\n",
      "A335R4YE2E34H6    14\n",
      "A3GS2NTQ4XU059     9\n",
      "APXGSUB250NVH      7\n",
      "dtype: int64\n"
     ]
    }
   ],
   "source": [
    "for param_name, df_param in param_dfs.items():\n",
    "    try:\n",
    "        # cprep data\n",
    "        ratings = df_param.drop(columns='HITId')\n",
    "        coverage = ratings.notna().sum()\n",
    "        print(coverage)\n",
    "    except Exception as e:\n",
    "        print(f\"Error computing coverage for {param_name}: {e}\")\n",
    "\n"
   ]
  },
  {
   "cell_type": "markdown",
   "id": "9aaa15a5",
   "metadata": {},
   "source": [
    "**Missing Annotations**"
   ]
  },
  {
   "cell_type": "markdown",
   "id": "66c675c2",
   "metadata": {},
   "source": [
    "Which annotators skipped what?"
   ]
  },
  {
   "cell_type": "code",
   "execution_count": null,
   "id": "3262d155",
   "metadata": {},
   "outputs": [
    {
     "data": {
      "image/png": "[encoded data removed]",
      "text/plain": [
       "<Figure size 640x480 with 1 Axes>"
      ]
     },
     "metadata": {},
     "output_type": "display_data"
    },
    {
     "data": {
      "image/png": "[encoded data removed]",
      "text/plain": [
       "<Figure size 640x480 with 1 Axes>"
      ]
     },
     "metadata": {},
     "output_type": "display_data"
    },
    {
     "data": {
      "image/png": "[encoded data removed]",
      "text/plain": [
       "<Figure size 640x480 with 1 Axes>"
      ]
     },
     "metadata": {},
     "output_type": "display_data"
    },
    {
     "data": {
      "image/png": "[encoded data removed]",
      "text/plain": [
       "<Figure size 640x480 with 1 Axes>"
      ]
     },
     "metadata": {},
     "output_type": "display_data"
    },
    {
     "data": {
      "image/png": "[encoded data removed]",
      "text/plain": [
       "<Figure size 640x480 with 1 Axes>"
      ]
     },
     "metadata": {},
     "output_type": "display_data"
    },
    {
     "data": {
      "image/png": "[encoded data removed]",
      "text/plain": [
       "<Figure size 640x480 with 1 Axes>"
      ]
     },
     "metadata": {},
     "output_type": "display_data"
    },
    {
     "data": {
      "image/png": "[encoded data removed]",
      "text/plain": [
       "<Figure size 640x480 with 1 Axes>"
      ]
     },
     "metadata": {},
     "output_type": "display_data"
    },
    {
     "data": {
      "image/png": "[encoded data removed]",
      "text/plain": [
       "<Figure size 640x480 with 1 Axes>"
      ]
     },
     "metadata": {},
     "output_type": "display_data"
    },
    {
     "data": {
      "image/png": "[encoded data removed]",
      "text/plain": [
       "<Figure size 640x480 with 1 Axes>"
      ]
     },
     "metadata": {},
     "output_type": "display_data"
    },
    {
     "data": {
      "image/png": "[encoded data removed]",
      "text/plain": [
       "<Figure size 640x480 with 1 Axes>"
      ]
     },
     "metadata": {},
     "output_type": "display_data"
    }
   ],
   "source": [
    "for param_name, df_param in param_dfs.items():\n",
    "    try:\n",
    "        # cprep data\n",
    "        ratings = df_param.drop(columns='HITId')\n",
    "        sns.heatmap(ratings.isna(), cbar=False, cmap='gray')\n",
    "        plt.title(\"Missing Annotations for -- (White = Missing)\")\n",
    "        plt.xlabel(\"Annotator\")\n",
    "        plt.ylabel(\"Sample Index\")\n",
    "        plt.show()\n",
    "    except Exception as e:\n",
    "        print(f\"Error computing graph for {param_name}: {e}\")"
   ]
  },
  {
   "cell_type": "markdown",
   "id": "9a26dded",
   "metadata": {},
   "source": [
    "**Divergence Overall**"
   ]
  },
  {
   "cell_type": "markdown",
   "id": "f3f04fa8",
   "metadata": {},
   "source": [
    "How different are annotators' distributions? *KL divergence (Kullback–Leibler divergence) is a way to measure how different one probability distribution is from another.*"
   ]
  },
  {
   "cell_type": "code",
   "execution_count": null,
   "id": "09ab4730",
   "metadata": {},
   "outputs": [
    {
     "name": "stdout",
     "output_type": "stream",
     "text": [
      "A1BQ37ZGUM16XI vs A1NBQ61Y6KO3O9: KL Divergence = 0.693\n",
      "A1BQ37ZGUM16XI vs A1X47COW2Y9SEL: KL Divergence = 0.773\n",
      "A1BQ37ZGUM16XI vs A335R4YE2E34H6: KL Divergence = 0.847\n",
      "A1BQ37ZGUM16XI vs A3GS2NTQ4XU059: KL Divergence = 0.811\n",
      "A1BQ37ZGUM16XI vs APXGSUB250NVH: KL Divergence = 0.336\n",
      "A1NBQ61Y6KO3O9 vs A1X47COW2Y9SEL: KL Divergence = 0.003\n",
      "A1NBQ61Y6KO3O9 vs A335R4YE2E34H6: KL Divergence = 0.010\n",
      "A1NBQ61Y6KO3O9 vs A3GS2NTQ4XU059: KL Divergence = 0.006\n",
      "A1NBQ61Y6KO3O9 vs APXGSUB250NVH: KL Divergence = 0.101\n",
      "A1X47COW2Y9SEL vs A335R4YE2E34H6: KL Divergence = 0.002\n",
      "A1X47COW2Y9SEL vs A3GS2NTQ4XU059: KL Divergence = 0.001\n",
      "A1X47COW2Y9SEL vs APXGSUB250NVH: KL Divergence = 0.140\n",
      "A335R4YE2E34H6 vs A3GS2NTQ4XU059: KL Divergence = 0.001\n",
      "A335R4YE2E34H6 vs APXGSUB250NVH: KL Divergence = 0.177\n",
      "A3GS2NTQ4XU059 vs APXGSUB250NVH: KL Divergence = 0.159\n"
     ]
    }
   ],
   "source": [
    "def kl_divergence(p, q):\n",
    "    '''kl_div helper to avoid division by 0\n",
    "    '''\n",
    "    p = np.array(p) + 1e-10\n",
    "    q = np.array(q) + 1e-10\n",
    "    return np.sum(rel_entr(p, q))\n",
    "\n",
    "label_dists = ratings.apply(lambda col: col.value_counts(normalize=True).reindex([0, 1, 2]).fillna(0))\n",
    "\n",
    "\n",
    "for a1, a2 in itertools.combinations(label_dists.columns, 2):\n",
    "    kl = kl_divergence(label_dists[a1], label_dists[a2])\n",
    "    print(f\"{a1} vs {a2}: KL Divergence = {kl:.3f}\")\n"
   ]
  },
  {
   "cell_type": "markdown",
   "id": "355feb4a",
   "metadata": {},
   "source": [
    "Do annotators agree with the majority ?"
   ]
  },
  {
   "cell_type": "code",
   "execution_count": 113,
   "id": "00462e5f",
   "metadata": {},
   "outputs": [
    {
     "name": "stdout",
     "output_type": "stream",
     "text": [
      "A1BQ37ZGUM16XI agreement with majority: 100.00%\n",
      "A1NBQ61Y6KO3O9 agreement with majority: 100.00%\n",
      "A1X47COW2Y9SEL agreement with majority: 100.00%\n",
      "A335R4YE2E34H6 agreement with majority: 100.00%\n",
      "A3GS2NTQ4XU059 agreement with majority: 100.00%\n",
      "APXGSUB250NVH agreement with majority: 100.00%\n"
     ]
    }
   ],
   "source": [
    "majority_vote = ratings.mode(axis=1)[0]\n",
    "\n",
    "for annotator in ratings.columns:\n",
    "    match = (ratings[annotator] == majority_vote) & ratings[annotator].notna()\n",
    "    pct_agree = match.sum() / ratings[annotator].notna().sum()\n",
    "    print(f\"{annotator} agreement with majority: {pct_agree:.2%}\")\n"
   ]
  }
 ],
 "metadata": {
  "kernelspec": {
   "display_name": "myenv",
   "language": "python",
   "name": "python3"
  },
  "language_info": {
   "codemirror_mode": {
    "name": "ipython",
    "version": 3
   },
   "file_extension": ".py",
   "mimetype": "text/x-python",
   "name": "python",
   "nbconvert_exporter": "python",
   "pygments_lexer": "ipython3",
   "version": "3.13.1"
  }
 },
 "nbformat": 4,
 "nbformat_minor": 5
}
